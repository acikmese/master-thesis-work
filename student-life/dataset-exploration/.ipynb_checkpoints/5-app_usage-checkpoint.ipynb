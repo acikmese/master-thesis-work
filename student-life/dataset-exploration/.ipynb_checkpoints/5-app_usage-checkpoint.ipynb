{
 "cells": [
  {
   "cell_type": "code",
   "execution_count": 1,
   "metadata": {
    "ExecuteTime": {
     "end_time": "2019-01-16T09:34:35.842391Z",
     "start_time": "2019-01-16T09:34:35.394918Z"
    }
   },
   "outputs": [],
   "source": [
    "import pandas as pd\n",
    "import numpy as np"
   ]
  },
  {
   "cell_type": "code",
   "execution_count": 2,
   "metadata": {
    "ExecuteTime": {
     "end_time": "2019-01-16T09:34:48.319246Z",
     "start_time": "2019-01-16T09:34:48.316042Z"
    }
   },
   "outputs": [],
   "source": [
    "def show_full_data(data, row_size=None, column_size=None, col_width=-1):\n",
    "    \"\"\"Shows all rows and columns instead of showing only some part and hiding other parts for large data.\n",
    "    \"\"\"\n",
    "    with pd.option_context('display.max_rows', row_size, 'display.max_columns', column_size, 'display.max_colwidth', col_width):\n",
    "        display(data)"
   ]
  },
  {
   "cell_type": "code",
   "execution_count": 4,
   "metadata": {
    "ExecuteTime": {
     "end_time": "2019-01-16T09:35:11.400524Z",
     "start_time": "2019-01-16T09:35:11.246457Z"
    }
   },
   "outputs": [],
   "source": [
    "app_usage = pd.read_csv('../../../student-life-dataset/dataset/app_usage/running_app_u00.csv')"
   ]
  },
  {
   "cell_type": "code",
   "execution_count": 5,
   "metadata": {
    "ExecuteTime": {
     "end_time": "2019-01-16T09:35:19.720734Z",
     "start_time": "2019-01-16T09:35:19.704614Z"
    }
   },
   "outputs": [
    {
     "data": {
      "text/html": [
       "<div>\n",
       "<style scoped>\n",
       "    .dataframe tbody tr th:only-of-type {\n",
       "        vertical-align: middle;\n",
       "    }\n",
       "\n",
       "    .dataframe tbody tr th {\n",
       "        vertical-align: top;\n",
       "    }\n",
       "\n",
       "    .dataframe thead th {\n",
       "        text-align: right;\n",
       "    }\n",
       "</style>\n",
       "<table border=\"1\" class=\"dataframe\">\n",
       "  <thead>\n",
       "    <tr style=\"text-align: right;\">\n",
       "      <th></th>\n",
       "      <th>id</th>\n",
       "      <th>device</th>\n",
       "      <th>timestamp</th>\n",
       "      <th>RUNNING_TASKS_baseActivity_mClass</th>\n",
       "      <th>RUNNING_TASKS_baseActivity_mPackage</th>\n",
       "      <th>RUNNING_TASKS_id</th>\n",
       "      <th>RUNNING_TASKS_numActivities</th>\n",
       "      <th>RUNNING_TASKS_numRunning</th>\n",
       "      <th>RUNNING_TASKS_topActivity_mClass</th>\n",
       "      <th>RUNNING_TASKS_topActivity_mPackage</th>\n",
       "    </tr>\n",
       "  </thead>\n",
       "  <tbody>\n",
       "    <tr>\n",
       "      <th>0</th>\n",
       "      <td>a7d09e48-5bbd-4672-9f55-ea34bf4862ee-38</td>\n",
       "      <td>1977b545-a88f-4903-a7ae-2c434de4be49</td>\n",
       "      <td>1364100683</td>\n",
       "      <td>com.google.android.gm.ConversationListActivityGmail</td>\n",
       "      <td>com.google.android.gm</td>\n",
       "      <td>256</td>\n",
       "      <td>1</td>\n",
       "      <td>1</td>\n",
       "      <td>com.google.android.gm.ConversationListActivityGmail</td>\n",
       "      <td>com.google.android.gm</td>\n",
       "    </tr>\n",
       "    <tr>\n",
       "      <th>1</th>\n",
       "      <td>a7d09e48-5bbd-4672-9f55-ea34bf4862ee-38</td>\n",
       "      <td>1977b545-a88f-4903-a7ae-2c434de4be49</td>\n",
       "      <td>1364100683</td>\n",
       "      <td>com.android.launcher2.Launcher</td>\n",
       "      <td>com.android.launcher</td>\n",
       "      <td>2</td>\n",
       "      <td>1</td>\n",
       "      <td>1</td>\n",
       "      <td>com.android.launcher2.Launcher</td>\n",
       "      <td>com.android.launcher</td>\n",
       "    </tr>\n",
       "    <tr>\n",
       "      <th>2</th>\n",
       "      <td>a7d09e48-5bbd-4672-9f55-ea34bf4862ee-38</td>\n",
       "      <td>1977b545-a88f-4903-a7ae-2c434de4be49</td>\n",
       "      <td>1364100683</td>\n",
       "      <td>com.rhmsoft.fm.FileManager</td>\n",
       "      <td>com.rhmsoft.fm</td>\n",
       "      <td>265</td>\n",
       "      <td>1</td>\n",
       "      <td>1</td>\n",
       "      <td>com.rhmsoft.fm.FileManager</td>\n",
       "      <td>com.rhmsoft.fm</td>\n",
       "    </tr>\n",
       "    <tr>\n",
       "      <th>3</th>\n",
       "      <td>a7d09e48-5bbd-4672-9f55-ea34bf4862ee-38</td>\n",
       "      <td>1977b545-a88f-4903-a7ae-2c434de4be49</td>\n",
       "      <td>1364100683</td>\n",
       "      <td>com.android.systemui.recent.RecentsActivity</td>\n",
       "      <td>com.android.systemui</td>\n",
       "      <td>260</td>\n",
       "      <td>1</td>\n",
       "      <td>1</td>\n",
       "      <td>com.android.systemui.recent.RecentsActivity</td>\n",
       "      <td>com.android.systemui</td>\n",
       "    </tr>\n",
       "    <tr>\n",
       "      <th>4</th>\n",
       "      <td>a7d09e48-5bbd-4672-9f55-ea34bf4862ee-38</td>\n",
       "      <td>1977b545-a88f-4903-a7ae-2c434de4be49</td>\n",
       "      <td>1364100683</td>\n",
       "      <td>com.google.android.apps.paco.ExperimentManagerActivity</td>\n",
       "      <td>com.google.android.apps.paco</td>\n",
       "      <td>262</td>\n",
       "      <td>1</td>\n",
       "      <td>1</td>\n",
       "      <td>com.google.android.apps.paco.ExperimentManagerActivity</td>\n",
       "      <td>com.google.android.apps.paco</td>\n",
       "    </tr>\n",
       "  </tbody>\n",
       "</table>\n",
       "</div>"
      ],
      "text/plain": [
       "                                        id  \\\n",
       "0  a7d09e48-5bbd-4672-9f55-ea34bf4862ee-38   \n",
       "1  a7d09e48-5bbd-4672-9f55-ea34bf4862ee-38   \n",
       "2  a7d09e48-5bbd-4672-9f55-ea34bf4862ee-38   \n",
       "3  a7d09e48-5bbd-4672-9f55-ea34bf4862ee-38   \n",
       "4  a7d09e48-5bbd-4672-9f55-ea34bf4862ee-38   \n",
       "\n",
       "                                 device   timestamp  \\\n",
       "0  1977b545-a88f-4903-a7ae-2c434de4be49  1364100683   \n",
       "1  1977b545-a88f-4903-a7ae-2c434de4be49  1364100683   \n",
       "2  1977b545-a88f-4903-a7ae-2c434de4be49  1364100683   \n",
       "3  1977b545-a88f-4903-a7ae-2c434de4be49  1364100683   \n",
       "4  1977b545-a88f-4903-a7ae-2c434de4be49  1364100683   \n",
       "\n",
       "                        RUNNING_TASKS_baseActivity_mClass  \\\n",
       "0  com.google.android.gm.ConversationListActivityGmail      \n",
       "1  com.android.launcher2.Launcher                           \n",
       "2  com.rhmsoft.fm.FileManager                               \n",
       "3  com.android.systemui.recent.RecentsActivity              \n",
       "4  com.google.android.apps.paco.ExperimentManagerActivity   \n",
       "\n",
       "  RUNNING_TASKS_baseActivity_mPackage  RUNNING_TASKS_id  \\\n",
       "0  com.google.android.gm               256                \n",
       "1  com.android.launcher                2                  \n",
       "2  com.rhmsoft.fm                      265                \n",
       "3  com.android.systemui                260                \n",
       "4  com.google.android.apps.paco        262                \n",
       "\n",
       "   RUNNING_TASKS_numActivities  RUNNING_TASKS_numRunning  \\\n",
       "0  1                            1                          \n",
       "1  1                            1                          \n",
       "2  1                            1                          \n",
       "3  1                            1                          \n",
       "4  1                            1                          \n",
       "\n",
       "                         RUNNING_TASKS_topActivity_mClass  \\\n",
       "0  com.google.android.gm.ConversationListActivityGmail      \n",
       "1  com.android.launcher2.Launcher                           \n",
       "2  com.rhmsoft.fm.FileManager                               \n",
       "3  com.android.systemui.recent.RecentsActivity              \n",
       "4  com.google.android.apps.paco.ExperimentManagerActivity   \n",
       "\n",
       "  RUNNING_TASKS_topActivity_mPackage  \n",
       "0  com.google.android.gm              \n",
       "1  com.android.launcher               \n",
       "2  com.rhmsoft.fm                     \n",
       "3  com.android.systemui               \n",
       "4  com.google.android.apps.paco       "
      ]
     },
     "metadata": {},
     "output_type": "display_data"
    }
   ],
   "source": [
    "show_full_data(app_usage.head())"
   ]
  },
  {
   "cell_type": "code",
   "execution_count": 6,
   "metadata": {
    "ExecuteTime": {
     "end_time": "2019-01-16T10:16:18.203055Z",
     "start_time": "2019-01-16T10:16:18.193122Z"
    }
   },
   "outputs": [
    {
     "data": {
      "text/plain": [
       "(59879, 10)"
      ]
     },
     "execution_count": 6,
     "metadata": {},
     "output_type": "execute_result"
    }
   ],
   "source": [
    "app_usage.shape"
   ]
  },
  {
   "cell_type": "code",
   "execution_count": 8,
   "metadata": {
    "ExecuteTime": {
     "end_time": "2019-01-16T10:16:30.129399Z",
     "start_time": "2019-01-16T10:16:30.123510Z"
    }
   },
   "outputs": [
    {
     "data": {
      "text/plain": [
       "(5233,)"
      ]
     },
     "execution_count": 8,
     "metadata": {},
     "output_type": "execute_result"
    }
   ],
   "source": [
    "app_usage.timestamp.unique().shape"
   ]
  },
  {
   "cell_type": "code",
   "execution_count": null,
   "metadata": {},
   "outputs": [],
   "source": []
  }
 ],
 "metadata": {
  "kernelspec": {
   "display_name": "Python [conda root]",
   "language": "python",
   "name": "conda-root-py"
  },
  "language_info": {
   "codemirror_mode": {
    "name": "ipython",
    "version": 3
   },
   "file_extension": ".py",
   "mimetype": "text/x-python",
   "name": "python",
   "nbconvert_exporter": "python",
   "pygments_lexer": "ipython3",
   "version": "3.6.5"
  },
  "toc": {
   "base_numbering": 1,
   "nav_menu": {},
   "number_sections": true,
   "sideBar": true,
   "skip_h1_title": false,
   "title_cell": "Table of Contents",
   "title_sidebar": "Contents",
   "toc_cell": false,
   "toc_position": {},
   "toc_section_display": true,
   "toc_window_display": false
  },
  "varInspector": {
   "cols": {
    "lenName": 16,
    "lenType": 16,
    "lenVar": 40
   },
   "kernels_config": {
    "python": {
     "delete_cmd_postfix": "",
     "delete_cmd_prefix": "del ",
     "library": "var_list.py",
     "varRefreshCmd": "print(var_dic_list())"
    },
    "r": {
     "delete_cmd_postfix": ") ",
     "delete_cmd_prefix": "rm(",
     "library": "var_list.r",
     "varRefreshCmd": "cat(var_dic_list()) "
    }
   },
   "types_to_exclude": [
    "module",
    "function",
    "builtin_function_or_method",
    "instance",
    "_Feature"
   ],
   "window_display": false
  }
 },
 "nbformat": 4,
 "nbformat_minor": 2
}
