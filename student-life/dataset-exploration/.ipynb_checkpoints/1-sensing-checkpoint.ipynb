{
 "cells": [
  {
   "cell_type": "code",
   "execution_count": 127,
   "metadata": {
    "ExecuteTime": {
     "end_time": "2019-01-12T11:55:17.095587Z",
     "start_time": "2019-01-12T11:55:17.092652Z"
    }
   },
   "outputs": [],
   "source": [
    "import pandas as pd\n",
    "import numpy as np\n",
    "import seaborn as sns"
   ]
  },
  {
   "cell_type": "markdown",
   "metadata": {},
   "source": [
    "# Activity"
   ]
  },
  {
   "cell_type": "code",
   "execution_count": 2,
   "metadata": {
    "ExecuteTime": {
     "end_time": "2019-01-12T10:37:13.703953Z",
     "start_time": "2019-01-12T10:37:13.440222Z"
    }
   },
   "outputs": [],
   "source": [
    "activity = pd.read_csv('../../../student-life-dataset/dataset/sensing/activity/activity_u00.csv')"
   ]
  },
  {
   "cell_type": "code",
   "execution_count": 4,
   "metadata": {
    "ExecuteTime": {
     "end_time": "2019-01-12T10:37:29.674090Z",
     "start_time": "2019-01-12T10:37:29.671329Z"
    }
   },
   "outputs": [],
   "source": [
    "activity.columns = ['timestamp', 'activity_inference']"
   ]
  },
  {
   "cell_type": "code",
   "execution_count": 5,
   "metadata": {
    "ExecuteTime": {
     "end_time": "2019-01-12T10:37:32.855014Z",
     "start_time": "2019-01-12T10:37:32.847518Z"
    }
   },
   "outputs": [
    {
     "data": {
      "text/html": [
       "<div>\n",
       "<style scoped>\n",
       "    .dataframe tbody tr th:only-of-type {\n",
       "        vertical-align: middle;\n",
       "    }\n",
       "\n",
       "    .dataframe tbody tr th {\n",
       "        vertical-align: top;\n",
       "    }\n",
       "\n",
       "    .dataframe thead th {\n",
       "        text-align: right;\n",
       "    }\n",
       "</style>\n",
       "<table border=\"1\" class=\"dataframe\">\n",
       "  <thead>\n",
       "    <tr style=\"text-align: right;\">\n",
       "      <th></th>\n",
       "      <th>timestamp</th>\n",
       "      <th>activity_inference</th>\n",
       "    </tr>\n",
       "  </thead>\n",
       "  <tbody>\n",
       "    <tr>\n",
       "      <th>0</th>\n",
       "      <td>1364356801</td>\n",
       "      <td>0</td>\n",
       "    </tr>\n",
       "    <tr>\n",
       "      <th>1</th>\n",
       "      <td>1364356804</td>\n",
       "      <td>0</td>\n",
       "    </tr>\n",
       "    <tr>\n",
       "      <th>2</th>\n",
       "      <td>1364356807</td>\n",
       "      <td>0</td>\n",
       "    </tr>\n",
       "    <tr>\n",
       "      <th>3</th>\n",
       "      <td>1364356809</td>\n",
       "      <td>0</td>\n",
       "    </tr>\n",
       "    <tr>\n",
       "      <th>4</th>\n",
       "      <td>1364356992</td>\n",
       "      <td>0</td>\n",
       "    </tr>\n",
       "  </tbody>\n",
       "</table>\n",
       "</div>"
      ],
      "text/plain": [
       "    timestamp  activity_inference\n",
       "0  1364356801                   0\n",
       "1  1364356804                   0\n",
       "2  1364356807                   0\n",
       "3  1364356809                   0\n",
       "4  1364356992                   0"
      ]
     },
     "execution_count": 5,
     "metadata": {},
     "output_type": "execute_result"
    }
   ],
   "source": [
    "activity.head()"
   ]
  },
  {
   "cell_type": "code",
   "execution_count": 6,
   "metadata": {
    "ExecuteTime": {
     "end_time": "2019-01-12T10:37:36.138895Z",
     "start_time": "2019-01-12T10:37:36.135124Z"
    }
   },
   "outputs": [
    {
     "data": {
      "text/plain": [
       "(461991, 2)"
      ]
     },
     "execution_count": 6,
     "metadata": {},
     "output_type": "execute_result"
    }
   ],
   "source": [
    "activity.shape"
   ]
  },
  {
   "cell_type": "code",
   "execution_count": 7,
   "metadata": {
    "ExecuteTime": {
     "end_time": "2019-01-12T10:37:50.302104Z",
     "start_time": "2019-01-12T10:37:50.245435Z"
    }
   },
   "outputs": [
    {
     "data": {
      "text/plain": [
       "(461751,)"
      ]
     },
     "execution_count": 7,
     "metadata": {},
     "output_type": "execute_result"
    }
   ],
   "source": [
    "activity.timestamp.unique().shape"
   ]
  },
  {
   "cell_type": "code",
   "execution_count": 8,
   "metadata": {
    "ExecuteTime": {
     "end_time": "2019-01-12T10:39:20.531162Z",
     "start_time": "2019-01-12T10:37:59.278729Z"
    }
   },
   "outputs": [],
   "source": [
    "# make timestamp unique and take the mode for different values of activity inference\n",
    "activity = activity.groupby(\"timestamp\")['activity_inference'].apply(lambda x: x.mode()[0]).reset_index()"
   ]
  },
  {
   "cell_type": "code",
   "execution_count": 9,
   "metadata": {
    "ExecuteTime": {
     "end_time": "2019-01-12T10:39:20.692639Z",
     "start_time": "2019-01-12T10:39:20.688196Z"
    }
   },
   "outputs": [
    {
     "data": {
      "text/plain": [
       "(461751, 2)"
      ]
     },
     "execution_count": 9,
     "metadata": {},
     "output_type": "execute_result"
    }
   ],
   "source": [
    "activity.shape"
   ]
  },
  {
   "cell_type": "code",
   "execution_count": 10,
   "metadata": {
    "ExecuteTime": {
     "end_time": "2019-01-12T10:39:33.725556Z",
     "start_time": "2019-01-12T10:39:33.707288Z"
    }
   },
   "outputs": [],
   "source": [
    "activity.timestamp = pd.to_datetime(activity.timestamp, unit='s')"
   ]
  },
  {
   "cell_type": "code",
   "execution_count": 11,
   "metadata": {
    "ExecuteTime": {
     "end_time": "2019-01-12T10:39:34.411272Z",
     "start_time": "2019-01-12T10:39:34.402528Z"
    }
   },
   "outputs": [
    {
     "data": {
      "text/html": [
       "<div>\n",
       "<style scoped>\n",
       "    .dataframe tbody tr th:only-of-type {\n",
       "        vertical-align: middle;\n",
       "    }\n",
       "\n",
       "    .dataframe tbody tr th {\n",
       "        vertical-align: top;\n",
       "    }\n",
       "\n",
       "    .dataframe thead th {\n",
       "        text-align: right;\n",
       "    }\n",
       "</style>\n",
       "<table border=\"1\" class=\"dataframe\">\n",
       "  <thead>\n",
       "    <tr style=\"text-align: right;\">\n",
       "      <th></th>\n",
       "      <th>timestamp</th>\n",
       "      <th>activity_inference</th>\n",
       "    </tr>\n",
       "  </thead>\n",
       "  <tbody>\n",
       "    <tr>\n",
       "      <th>0</th>\n",
       "      <td>2013-03-27 04:00:01</td>\n",
       "      <td>0</td>\n",
       "    </tr>\n",
       "    <tr>\n",
       "      <th>1</th>\n",
       "      <td>2013-03-27 04:00:04</td>\n",
       "      <td>0</td>\n",
       "    </tr>\n",
       "    <tr>\n",
       "      <th>2</th>\n",
       "      <td>2013-03-27 04:00:07</td>\n",
       "      <td>0</td>\n",
       "    </tr>\n",
       "    <tr>\n",
       "      <th>3</th>\n",
       "      <td>2013-03-27 04:00:09</td>\n",
       "      <td>0</td>\n",
       "    </tr>\n",
       "    <tr>\n",
       "      <th>4</th>\n",
       "      <td>2013-03-27 04:03:12</td>\n",
       "      <td>0</td>\n",
       "    </tr>\n",
       "  </tbody>\n",
       "</table>\n",
       "</div>"
      ],
      "text/plain": [
       "            timestamp  activity_inference\n",
       "0 2013-03-27 04:00:01                   0\n",
       "1 2013-03-27 04:00:04                   0\n",
       "2 2013-03-27 04:00:07                   0\n",
       "3 2013-03-27 04:00:09                   0\n",
       "4 2013-03-27 04:03:12                   0"
      ]
     },
     "execution_count": 11,
     "metadata": {},
     "output_type": "execute_result"
    }
   ],
   "source": [
    "activity.head()"
   ]
  },
  {
   "cell_type": "code",
   "execution_count": 12,
   "metadata": {
    "ExecuteTime": {
     "end_time": "2019-01-12T10:39:37.941094Z",
     "start_time": "2019-01-12T10:39:37.936776Z"
    }
   },
   "outputs": [],
   "source": [
    "activity = activity.set_index('timestamp')"
   ]
  },
  {
   "cell_type": "code",
   "execution_count": 13,
   "metadata": {
    "ExecuteTime": {
     "end_time": "2019-01-12T10:39:39.067857Z",
     "start_time": "2019-01-12T10:39:38.878373Z"
    }
   },
   "outputs": [],
   "source": [
    "activity = activity.asfreq('s', method='bfill')"
   ]
  },
  {
   "cell_type": "code",
   "execution_count": 14,
   "metadata": {
    "ExecuteTime": {
     "end_time": "2019-01-12T10:39:40.059824Z",
     "start_time": "2019-01-12T10:39:40.052754Z"
    }
   },
   "outputs": [
    {
     "data": {
      "text/html": [
       "<div>\n",
       "<style scoped>\n",
       "    .dataframe tbody tr th:only-of-type {\n",
       "        vertical-align: middle;\n",
       "    }\n",
       "\n",
       "    .dataframe tbody tr th {\n",
       "        vertical-align: top;\n",
       "    }\n",
       "\n",
       "    .dataframe thead th {\n",
       "        text-align: right;\n",
       "    }\n",
       "</style>\n",
       "<table border=\"1\" class=\"dataframe\">\n",
       "  <thead>\n",
       "    <tr style=\"text-align: right;\">\n",
       "      <th></th>\n",
       "      <th>activity_inference</th>\n",
       "    </tr>\n",
       "    <tr>\n",
       "      <th>timestamp</th>\n",
       "      <th></th>\n",
       "    </tr>\n",
       "  </thead>\n",
       "  <tbody>\n",
       "    <tr>\n",
       "      <th>2013-03-27 04:00:01</th>\n",
       "      <td>0</td>\n",
       "    </tr>\n",
       "    <tr>\n",
       "      <th>2013-03-27 04:00:02</th>\n",
       "      <td>0</td>\n",
       "    </tr>\n",
       "    <tr>\n",
       "      <th>2013-03-27 04:00:03</th>\n",
       "      <td>0</td>\n",
       "    </tr>\n",
       "    <tr>\n",
       "      <th>2013-03-27 04:00:04</th>\n",
       "      <td>0</td>\n",
       "    </tr>\n",
       "    <tr>\n",
       "      <th>2013-03-27 04:00:05</th>\n",
       "      <td>0</td>\n",
       "    </tr>\n",
       "  </tbody>\n",
       "</table>\n",
       "</div>"
      ],
      "text/plain": [
       "                     activity_inference\n",
       "timestamp                              \n",
       "2013-03-27 04:00:01                   0\n",
       "2013-03-27 04:00:02                   0\n",
       "2013-03-27 04:00:03                   0\n",
       "2013-03-27 04:00:04                   0\n",
       "2013-03-27 04:00:05                   0"
      ]
     },
     "execution_count": 14,
     "metadata": {},
     "output_type": "execute_result"
    }
   ],
   "source": [
    "activity.head()"
   ]
  },
  {
   "cell_type": "markdown",
   "metadata": {},
   "source": [
    "# Audio"
   ]
  },
  {
   "cell_type": "code",
   "execution_count": 15,
   "metadata": {
    "ExecuteTime": {
     "end_time": "2019-01-12T10:39:43.934604Z",
     "start_time": "2019-01-12T10:39:43.405406Z"
    }
   },
   "outputs": [],
   "source": [
    "audio = pd.read_csv('../../../student-life-dataset/dataset/sensing/audio/audio_u00.csv')"
   ]
  },
  {
   "cell_type": "code",
   "execution_count": 18,
   "metadata": {
    "ExecuteTime": {
     "end_time": "2019-01-12T10:40:05.606575Z",
     "start_time": "2019-01-12T10:40:05.603791Z"
    }
   },
   "outputs": [],
   "source": [
    "audio.columns = ['timestamp', 'audio_inference']"
   ]
  },
  {
   "cell_type": "code",
   "execution_count": 19,
   "metadata": {
    "ExecuteTime": {
     "end_time": "2019-01-12T10:40:06.263914Z",
     "start_time": "2019-01-12T10:40:06.256532Z"
    }
   },
   "outputs": [
    {
     "data": {
      "text/html": [
       "<div>\n",
       "<style scoped>\n",
       "    .dataframe tbody tr th:only-of-type {\n",
       "        vertical-align: middle;\n",
       "    }\n",
       "\n",
       "    .dataframe tbody tr th {\n",
       "        vertical-align: top;\n",
       "    }\n",
       "\n",
       "    .dataframe thead th {\n",
       "        text-align: right;\n",
       "    }\n",
       "</style>\n",
       "<table border=\"1\" class=\"dataframe\">\n",
       "  <thead>\n",
       "    <tr style=\"text-align: right;\">\n",
       "      <th></th>\n",
       "      <th>timestamp</th>\n",
       "      <th>audio_inference</th>\n",
       "    </tr>\n",
       "  </thead>\n",
       "  <tbody>\n",
       "    <tr>\n",
       "      <th>0</th>\n",
       "      <td>1364356941</td>\n",
       "      <td>0</td>\n",
       "    </tr>\n",
       "    <tr>\n",
       "      <th>1</th>\n",
       "      <td>1364356942</td>\n",
       "      <td>0</td>\n",
       "    </tr>\n",
       "    <tr>\n",
       "      <th>2</th>\n",
       "      <td>1364356943</td>\n",
       "      <td>0</td>\n",
       "    </tr>\n",
       "    <tr>\n",
       "      <th>3</th>\n",
       "      <td>1364356944</td>\n",
       "      <td>0</td>\n",
       "    </tr>\n",
       "    <tr>\n",
       "      <th>4</th>\n",
       "      <td>1364356945</td>\n",
       "      <td>0</td>\n",
       "    </tr>\n",
       "  </tbody>\n",
       "</table>\n",
       "</div>"
      ],
      "text/plain": [
       "    timestamp  audio_inference\n",
       "0  1364356941                0\n",
       "1  1364356942                0\n",
       "2  1364356943                0\n",
       "3  1364356944                0\n",
       "4  1364356945                0"
      ]
     },
     "execution_count": 19,
     "metadata": {},
     "output_type": "execute_result"
    }
   ],
   "source": [
    "audio.head()"
   ]
  },
  {
   "cell_type": "code",
   "execution_count": 20,
   "metadata": {
    "ExecuteTime": {
     "end_time": "2019-01-12T10:40:10.162671Z",
     "start_time": "2019-01-12T10:40:10.159047Z"
    }
   },
   "outputs": [
    {
     "data": {
      "text/plain": [
       "(2549558, 2)"
      ]
     },
     "execution_count": 20,
     "metadata": {},
     "output_type": "execute_result"
    }
   ],
   "source": [
    "audio.shape"
   ]
  },
  {
   "cell_type": "code",
   "execution_count": 21,
   "metadata": {
    "ExecuteTime": {
     "end_time": "2019-01-12T10:40:13.045586Z",
     "start_time": "2019-01-12T10:40:12.932538Z"
    }
   },
   "outputs": [
    {
     "data": {
      "text/plain": [
       "(2414379,)"
      ]
     },
     "execution_count": 21,
     "metadata": {},
     "output_type": "execute_result"
    }
   ],
   "source": [
    "audio.timestamp.unique().shape"
   ]
  },
  {
   "cell_type": "code",
   "execution_count": 22,
   "metadata": {
    "ExecuteTime": {
     "end_time": "2019-01-12T10:47:27.765441Z",
     "start_time": "2019-01-12T10:40:18.886745Z"
    }
   },
   "outputs": [],
   "source": [
    "# make timestamp unique and take the mode for different values of audio inference\n",
    "audio = audio.groupby(\"timestamp\")['audio_inference'].apply(lambda x: x.mode()[0]).reset_index()"
   ]
  },
  {
   "cell_type": "code",
   "execution_count": 23,
   "metadata": {
    "ExecuteTime": {
     "end_time": "2019-01-12T10:47:27.972239Z",
     "start_time": "2019-01-12T10:47:27.969091Z"
    }
   },
   "outputs": [
    {
     "data": {
      "text/plain": [
       "(2414379, 2)"
      ]
     },
     "execution_count": 23,
     "metadata": {},
     "output_type": "execute_result"
    }
   ],
   "source": [
    "audio.shape"
   ]
  },
  {
   "cell_type": "code",
   "execution_count": 24,
   "metadata": {
    "ExecuteTime": {
     "end_time": "2019-01-12T10:48:17.627052Z",
     "start_time": "2019-01-12T10:48:17.304366Z"
    }
   },
   "outputs": [],
   "source": [
    "audio.timestamp = pd.to_datetime(audio.timestamp, unit='s')\n",
    "audio = audio.set_index('timestamp')\n",
    "audio = audio.asfreq('s', method='bfill')"
   ]
  },
  {
   "cell_type": "code",
   "execution_count": 25,
   "metadata": {
    "ExecuteTime": {
     "end_time": "2019-01-12T10:48:18.590340Z",
     "start_time": "2019-01-12T10:48:18.587034Z"
    }
   },
   "outputs": [
    {
     "data": {
      "text/plain": [
       "(5691676, 1)"
      ]
     },
     "execution_count": 25,
     "metadata": {},
     "output_type": "execute_result"
    }
   ],
   "source": [
    "audio.shape"
   ]
  },
  {
   "cell_type": "code",
   "execution_count": 26,
   "metadata": {
    "ExecuteTime": {
     "end_time": "2019-01-12T10:48:19.566264Z",
     "start_time": "2019-01-12T10:48:19.560175Z"
    }
   },
   "outputs": [
    {
     "data": {
      "text/html": [
       "<div>\n",
       "<style scoped>\n",
       "    .dataframe tbody tr th:only-of-type {\n",
       "        vertical-align: middle;\n",
       "    }\n",
       "\n",
       "    .dataframe tbody tr th {\n",
       "        vertical-align: top;\n",
       "    }\n",
       "\n",
       "    .dataframe thead th {\n",
       "        text-align: right;\n",
       "    }\n",
       "</style>\n",
       "<table border=\"1\" class=\"dataframe\">\n",
       "  <thead>\n",
       "    <tr style=\"text-align: right;\">\n",
       "      <th></th>\n",
       "      <th>audio_inference</th>\n",
       "    </tr>\n",
       "    <tr>\n",
       "      <th>timestamp</th>\n",
       "      <th></th>\n",
       "    </tr>\n",
       "  </thead>\n",
       "  <tbody>\n",
       "    <tr>\n",
       "      <th>2013-03-27 04:02:21</th>\n",
       "      <td>0</td>\n",
       "    </tr>\n",
       "    <tr>\n",
       "      <th>2013-03-27 04:02:22</th>\n",
       "      <td>0</td>\n",
       "    </tr>\n",
       "    <tr>\n",
       "      <th>2013-03-27 04:02:23</th>\n",
       "      <td>0</td>\n",
       "    </tr>\n",
       "    <tr>\n",
       "      <th>2013-03-27 04:02:24</th>\n",
       "      <td>0</td>\n",
       "    </tr>\n",
       "    <tr>\n",
       "      <th>2013-03-27 04:02:25</th>\n",
       "      <td>0</td>\n",
       "    </tr>\n",
       "  </tbody>\n",
       "</table>\n",
       "</div>"
      ],
      "text/plain": [
       "                     audio_inference\n",
       "timestamp                           \n",
       "2013-03-27 04:02:21                0\n",
       "2013-03-27 04:02:22                0\n",
       "2013-03-27 04:02:23                0\n",
       "2013-03-27 04:02:24                0\n",
       "2013-03-27 04:02:25                0"
      ]
     },
     "execution_count": 26,
     "metadata": {},
     "output_type": "execute_result"
    }
   ],
   "source": [
    "audio.head()"
   ]
  },
  {
   "cell_type": "markdown",
   "metadata": {},
   "source": [
    "# Conversation"
   ]
  },
  {
   "cell_type": "code",
   "execution_count": 27,
   "metadata": {
    "ExecuteTime": {
     "end_time": "2019-01-12T10:48:25.210928Z",
     "start_time": "2019-01-12T10:48:25.200272Z"
    }
   },
   "outputs": [],
   "source": [
    "conversation = pd.read_csv('../../../student-life-dataset/dataset/sensing/conversation/conversation_u00.csv')"
   ]
  },
  {
   "cell_type": "code",
   "execution_count": 30,
   "metadata": {
    "ExecuteTime": {
     "end_time": "2019-01-12T10:48:49.658038Z",
     "start_time": "2019-01-12T10:48:49.655271Z"
    }
   },
   "outputs": [],
   "source": [
    "conversation.columns = ['start_timestamp', 'end_timestamp']"
   ]
  },
  {
   "cell_type": "code",
   "execution_count": 31,
   "metadata": {
    "ExecuteTime": {
     "end_time": "2019-01-12T10:48:50.388351Z",
     "start_time": "2019-01-12T10:48:50.381784Z"
    },
    "scrolled": true
   },
   "outputs": [
    {
     "data": {
      "text/html": [
       "<div>\n",
       "<style scoped>\n",
       "    .dataframe tbody tr th:only-of-type {\n",
       "        vertical-align: middle;\n",
       "    }\n",
       "\n",
       "    .dataframe tbody tr th {\n",
       "        vertical-align: top;\n",
       "    }\n",
       "\n",
       "    .dataframe thead th {\n",
       "        text-align: right;\n",
       "    }\n",
       "</style>\n",
       "<table border=\"1\" class=\"dataframe\">\n",
       "  <thead>\n",
       "    <tr style=\"text-align: right;\">\n",
       "      <th></th>\n",
       "      <th>start_timestamp</th>\n",
       "      <th>end_timestamp</th>\n",
       "    </tr>\n",
       "  </thead>\n",
       "  <tbody>\n",
       "    <tr>\n",
       "      <th>0</th>\n",
       "      <td>1364359600</td>\n",
       "      <td>1364359812</td>\n",
       "    </tr>\n",
       "    <tr>\n",
       "      <th>1</th>\n",
       "      <td>1364382621</td>\n",
       "      <td>1364383065</td>\n",
       "    </tr>\n",
       "    <tr>\n",
       "      <th>2</th>\n",
       "      <td>1364383516</td>\n",
       "      <td>1364384993</td>\n",
       "    </tr>\n",
       "    <tr>\n",
       "      <th>3</th>\n",
       "      <td>1364385033</td>\n",
       "      <td>1364385094</td>\n",
       "    </tr>\n",
       "    <tr>\n",
       "      <th>4</th>\n",
       "      <td>1364385786</td>\n",
       "      <td>1364385866</td>\n",
       "    </tr>\n",
       "  </tbody>\n",
       "</table>\n",
       "</div>"
      ],
      "text/plain": [
       "   start_timestamp  end_timestamp\n",
       "0       1364359600     1364359812\n",
       "1       1364382621     1364383065\n",
       "2       1364383516     1364384993\n",
       "3       1364385033     1364385094\n",
       "4       1364385786     1364385866"
      ]
     },
     "execution_count": 31,
     "metadata": {},
     "output_type": "execute_result"
    }
   ],
   "source": [
    "conversation.head()"
   ]
  },
  {
   "cell_type": "code",
   "execution_count": 32,
   "metadata": {
    "ExecuteTime": {
     "end_time": "2019-01-12T10:49:06.831885Z",
     "start_time": "2019-01-12T10:49:06.826645Z"
    }
   },
   "outputs": [],
   "source": [
    "conversation.start_timestamp = pd.to_datetime(conversation.start_timestamp, unit='s')\n",
    "conversation.end_timestamp = pd.to_datetime(conversation.end_timestamp, unit='s')"
   ]
  },
  {
   "cell_type": "code",
   "execution_count": 33,
   "metadata": {
    "ExecuteTime": {
     "end_time": "2019-01-12T10:49:13.616235Z",
     "start_time": "2019-01-12T10:49:13.607947Z"
    }
   },
   "outputs": [
    {
     "data": {
      "text/html": [
       "<div>\n",
       "<style scoped>\n",
       "    .dataframe tbody tr th:only-of-type {\n",
       "        vertical-align: middle;\n",
       "    }\n",
       "\n",
       "    .dataframe tbody tr th {\n",
       "        vertical-align: top;\n",
       "    }\n",
       "\n",
       "    .dataframe thead th {\n",
       "        text-align: right;\n",
       "    }\n",
       "</style>\n",
       "<table border=\"1\" class=\"dataframe\">\n",
       "  <thead>\n",
       "    <tr style=\"text-align: right;\">\n",
       "      <th></th>\n",
       "      <th>start_timestamp</th>\n",
       "      <th>end_timestamp</th>\n",
       "    </tr>\n",
       "  </thead>\n",
       "  <tbody>\n",
       "    <tr>\n",
       "      <th>0</th>\n",
       "      <td>2013-03-27 04:46:40</td>\n",
       "      <td>2013-03-27 04:50:12</td>\n",
       "    </tr>\n",
       "    <tr>\n",
       "      <th>1</th>\n",
       "      <td>2013-03-27 11:10:21</td>\n",
       "      <td>2013-03-27 11:17:45</td>\n",
       "    </tr>\n",
       "    <tr>\n",
       "      <th>2</th>\n",
       "      <td>2013-03-27 11:25:16</td>\n",
       "      <td>2013-03-27 11:49:53</td>\n",
       "    </tr>\n",
       "    <tr>\n",
       "      <th>3</th>\n",
       "      <td>2013-03-27 11:50:33</td>\n",
       "      <td>2013-03-27 11:51:34</td>\n",
       "    </tr>\n",
       "    <tr>\n",
       "      <th>4</th>\n",
       "      <td>2013-03-27 12:03:06</td>\n",
       "      <td>2013-03-27 12:04:26</td>\n",
       "    </tr>\n",
       "  </tbody>\n",
       "</table>\n",
       "</div>"
      ],
      "text/plain": [
       "      start_timestamp       end_timestamp\n",
       "0 2013-03-27 04:46:40 2013-03-27 04:50:12\n",
       "1 2013-03-27 11:10:21 2013-03-27 11:17:45\n",
       "2 2013-03-27 11:25:16 2013-03-27 11:49:53\n",
       "3 2013-03-27 11:50:33 2013-03-27 11:51:34\n",
       "4 2013-03-27 12:03:06 2013-03-27 12:04:26"
      ]
     },
     "execution_count": 33,
     "metadata": {},
     "output_type": "execute_result"
    }
   ],
   "source": [
    "conversation.head()"
   ]
  },
  {
   "cell_type": "markdown",
   "metadata": {},
   "source": [
    "NOTE:\n",
    "Conversation time will be calculated between start and end timestamp. The calculated times will be added dataset as a new feature."
   ]
  },
  {
   "cell_type": "markdown",
   "metadata": {},
   "source": [
    "# GPS"
   ]
  },
  {
   "cell_type": "code",
   "execution_count": 34,
   "metadata": {
    "ExecuteTime": {
     "end_time": "2019-01-12T10:49:22.755240Z",
     "start_time": "2019-01-12T10:49:22.725868Z"
    }
   },
   "outputs": [],
   "source": [
    "gps = pd.read_csv('../../../student-life-dataset/dataset/sensing/gps/gps_u00.csv', index_col=False)"
   ]
  },
  {
   "cell_type": "code",
   "execution_count": 35,
   "metadata": {
    "ExecuteTime": {
     "end_time": "2019-01-12T10:50:07.044728Z",
     "start_time": "2019-01-12T10:50:07.026435Z"
    }
   },
   "outputs": [
    {
     "data": {
      "text/html": [
       "<div>\n",
       "<style scoped>\n",
       "    .dataframe tbody tr th:only-of-type {\n",
       "        vertical-align: middle;\n",
       "    }\n",
       "\n",
       "    .dataframe tbody tr th {\n",
       "        vertical-align: top;\n",
       "    }\n",
       "\n",
       "    .dataframe thead th {\n",
       "        text-align: right;\n",
       "    }\n",
       "</style>\n",
       "<table border=\"1\" class=\"dataframe\">\n",
       "  <thead>\n",
       "    <tr style=\"text-align: right;\">\n",
       "      <th></th>\n",
       "      <th>time</th>\n",
       "      <th>provider</th>\n",
       "      <th>network_type</th>\n",
       "      <th>accuracy</th>\n",
       "      <th>latitude</th>\n",
       "      <th>longitude</th>\n",
       "      <th>altitude</th>\n",
       "      <th>bearing</th>\n",
       "      <th>speed</th>\n",
       "      <th>travelstate</th>\n",
       "    </tr>\n",
       "  </thead>\n",
       "  <tbody>\n",
       "    <tr>\n",
       "      <th>0</th>\n",
       "      <td>1364356963</td>\n",
       "      <td>network</td>\n",
       "      <td>wifi</td>\n",
       "      <td>24.0</td>\n",
       "      <td>43.759135</td>\n",
       "      <td>-72.329240</td>\n",
       "      <td>0.000000</td>\n",
       "      <td>0.0</td>\n",
       "      <td>0.0</td>\n",
       "      <td>stationary</td>\n",
       "    </tr>\n",
       "    <tr>\n",
       "      <th>1</th>\n",
       "      <td>1364358144</td>\n",
       "      <td>gps</td>\n",
       "      <td>NaN</td>\n",
       "      <td>22.0</td>\n",
       "      <td>43.759503</td>\n",
       "      <td>-72.329018</td>\n",
       "      <td>250.899994</td>\n",
       "      <td>0.0</td>\n",
       "      <td>0.0</td>\n",
       "      <td>NaN</td>\n",
       "    </tr>\n",
       "    <tr>\n",
       "      <th>2</th>\n",
       "      <td>1364359364</td>\n",
       "      <td>network</td>\n",
       "      <td>wifi</td>\n",
       "      <td>23.0</td>\n",
       "      <td>43.759134</td>\n",
       "      <td>-72.329238</td>\n",
       "      <td>0.000000</td>\n",
       "      <td>0.0</td>\n",
       "      <td>0.0</td>\n",
       "      <td>stationary</td>\n",
       "    </tr>\n",
       "    <tr>\n",
       "      <th>3</th>\n",
       "      <td>1364360563</td>\n",
       "      <td>network</td>\n",
       "      <td>wifi</td>\n",
       "      <td>25.0</td>\n",
       "      <td>43.759135</td>\n",
       "      <td>-72.329240</td>\n",
       "      <td>0.000000</td>\n",
       "      <td>0.0</td>\n",
       "      <td>0.0</td>\n",
       "      <td>stationary</td>\n",
       "    </tr>\n",
       "    <tr>\n",
       "      <th>4</th>\n",
       "      <td>1364361763</td>\n",
       "      <td>network</td>\n",
       "      <td>wifi</td>\n",
       "      <td>25.0</td>\n",
       "      <td>43.759135</td>\n",
       "      <td>-72.329240</td>\n",
       "      <td>0.000000</td>\n",
       "      <td>0.0</td>\n",
       "      <td>0.0</td>\n",
       "      <td>stationary</td>\n",
       "    </tr>\n",
       "  </tbody>\n",
       "</table>\n",
       "</div>"
      ],
      "text/plain": [
       "         time provider network_type  accuracy   latitude  longitude  \\\n",
       "0  1364356963  network         wifi      24.0  43.759135 -72.329240   \n",
       "1  1364358144      gps          NaN      22.0  43.759503 -72.329018   \n",
       "2  1364359364  network         wifi      23.0  43.759134 -72.329238   \n",
       "3  1364360563  network         wifi      25.0  43.759135 -72.329240   \n",
       "4  1364361763  network         wifi      25.0  43.759135 -72.329240   \n",
       "\n",
       "     altitude  bearing  speed travelstate  \n",
       "0    0.000000      0.0    0.0  stationary  \n",
       "1  250.899994      0.0    0.0         NaN  \n",
       "2    0.000000      0.0    0.0  stationary  \n",
       "3    0.000000      0.0    0.0  stationary  \n",
       "4    0.000000      0.0    0.0  stationary  "
      ]
     },
     "execution_count": 35,
     "metadata": {},
     "output_type": "execute_result"
    }
   ],
   "source": [
    "gps.head()"
   ]
  },
  {
   "cell_type": "code",
   "execution_count": 37,
   "metadata": {
    "ExecuteTime": {
     "end_time": "2019-01-12T10:50:30.077421Z",
     "start_time": "2019-01-12T10:50:30.073356Z"
    }
   },
   "outputs": [
    {
     "data": {
      "text/plain": [
       "(4316, 10)"
      ]
     },
     "execution_count": 37,
     "metadata": {},
     "output_type": "execute_result"
    }
   ],
   "source": [
    "gps.shape"
   ]
  },
  {
   "cell_type": "code",
   "execution_count": 38,
   "metadata": {
    "ExecuteTime": {
     "end_time": "2019-01-12T10:50:30.611930Z",
     "start_time": "2019-01-12T10:50:30.607583Z"
    }
   },
   "outputs": [
    {
     "data": {
      "text/plain": [
       "(4316,)"
      ]
     },
     "execution_count": 38,
     "metadata": {},
     "output_type": "execute_result"
    }
   ],
   "source": [
    "gps.time.unique().shape"
   ]
  },
  {
   "cell_type": "code",
   "execution_count": 39,
   "metadata": {
    "ExecuteTime": {
     "end_time": "2019-01-12T10:50:47.670273Z",
     "start_time": "2019-01-12T10:50:47.666049Z"
    }
   },
   "outputs": [],
   "source": [
    "gps.time = pd.to_datetime(gps.time, unit='s')"
   ]
  },
  {
   "cell_type": "code",
   "execution_count": 40,
   "metadata": {
    "ExecuteTime": {
     "end_time": "2019-01-12T10:50:54.886408Z",
     "start_time": "2019-01-12T10:50:54.870113Z"
    }
   },
   "outputs": [
    {
     "data": {
      "text/html": [
       "<div>\n",
       "<style scoped>\n",
       "    .dataframe tbody tr th:only-of-type {\n",
       "        vertical-align: middle;\n",
       "    }\n",
       "\n",
       "    .dataframe tbody tr th {\n",
       "        vertical-align: top;\n",
       "    }\n",
       "\n",
       "    .dataframe thead th {\n",
       "        text-align: right;\n",
       "    }\n",
       "</style>\n",
       "<table border=\"1\" class=\"dataframe\">\n",
       "  <thead>\n",
       "    <tr style=\"text-align: right;\">\n",
       "      <th></th>\n",
       "      <th>time</th>\n",
       "      <th>provider</th>\n",
       "      <th>network_type</th>\n",
       "      <th>accuracy</th>\n",
       "      <th>latitude</th>\n",
       "      <th>longitude</th>\n",
       "      <th>altitude</th>\n",
       "      <th>bearing</th>\n",
       "      <th>speed</th>\n",
       "      <th>travelstate</th>\n",
       "    </tr>\n",
       "  </thead>\n",
       "  <tbody>\n",
       "    <tr>\n",
       "      <th>0</th>\n",
       "      <td>2013-03-27 04:02:43</td>\n",
       "      <td>network</td>\n",
       "      <td>wifi</td>\n",
       "      <td>24.0</td>\n",
       "      <td>43.759135</td>\n",
       "      <td>-72.329240</td>\n",
       "      <td>0.000000</td>\n",
       "      <td>0.0</td>\n",
       "      <td>0.0</td>\n",
       "      <td>stationary</td>\n",
       "    </tr>\n",
       "    <tr>\n",
       "      <th>1</th>\n",
       "      <td>2013-03-27 04:22:24</td>\n",
       "      <td>gps</td>\n",
       "      <td>NaN</td>\n",
       "      <td>22.0</td>\n",
       "      <td>43.759503</td>\n",
       "      <td>-72.329018</td>\n",
       "      <td>250.899994</td>\n",
       "      <td>0.0</td>\n",
       "      <td>0.0</td>\n",
       "      <td>NaN</td>\n",
       "    </tr>\n",
       "    <tr>\n",
       "      <th>2</th>\n",
       "      <td>2013-03-27 04:42:44</td>\n",
       "      <td>network</td>\n",
       "      <td>wifi</td>\n",
       "      <td>23.0</td>\n",
       "      <td>43.759134</td>\n",
       "      <td>-72.329238</td>\n",
       "      <td>0.000000</td>\n",
       "      <td>0.0</td>\n",
       "      <td>0.0</td>\n",
       "      <td>stationary</td>\n",
       "    </tr>\n",
       "    <tr>\n",
       "      <th>3</th>\n",
       "      <td>2013-03-27 05:02:43</td>\n",
       "      <td>network</td>\n",
       "      <td>wifi</td>\n",
       "      <td>25.0</td>\n",
       "      <td>43.759135</td>\n",
       "      <td>-72.329240</td>\n",
       "      <td>0.000000</td>\n",
       "      <td>0.0</td>\n",
       "      <td>0.0</td>\n",
       "      <td>stationary</td>\n",
       "    </tr>\n",
       "    <tr>\n",
       "      <th>4</th>\n",
       "      <td>2013-03-27 05:22:43</td>\n",
       "      <td>network</td>\n",
       "      <td>wifi</td>\n",
       "      <td>25.0</td>\n",
       "      <td>43.759135</td>\n",
       "      <td>-72.329240</td>\n",
       "      <td>0.000000</td>\n",
       "      <td>0.0</td>\n",
       "      <td>0.0</td>\n",
       "      <td>stationary</td>\n",
       "    </tr>\n",
       "  </tbody>\n",
       "</table>\n",
       "</div>"
      ],
      "text/plain": [
       "                 time provider network_type  accuracy   latitude  longitude  \\\n",
       "0 2013-03-27 04:02:43  network         wifi      24.0  43.759135 -72.329240   \n",
       "1 2013-03-27 04:22:24      gps          NaN      22.0  43.759503 -72.329018   \n",
       "2 2013-03-27 04:42:44  network         wifi      23.0  43.759134 -72.329238   \n",
       "3 2013-03-27 05:02:43  network         wifi      25.0  43.759135 -72.329240   \n",
       "4 2013-03-27 05:22:43  network         wifi      25.0  43.759135 -72.329240   \n",
       "\n",
       "     altitude  bearing  speed travelstate  \n",
       "0    0.000000      0.0    0.0  stationary  \n",
       "1  250.899994      0.0    0.0         NaN  \n",
       "2    0.000000      0.0    0.0  stationary  \n",
       "3    0.000000      0.0    0.0  stationary  \n",
       "4    0.000000      0.0    0.0  stationary  "
      ]
     },
     "execution_count": 40,
     "metadata": {},
     "output_type": "execute_result"
    }
   ],
   "source": [
    "gps.head()"
   ]
  },
  {
   "cell_type": "markdown",
   "metadata": {},
   "source": [
    "# Bluetooth"
   ]
  },
  {
   "cell_type": "code",
   "execution_count": 157,
   "metadata": {
    "ExecuteTime": {
     "end_time": "2019-01-12T12:07:49.493437Z",
     "start_time": "2019-01-12T12:07:49.439797Z"
    }
   },
   "outputs": [],
   "source": [
    "bluetooth = pd.read_csv('../../../student-life-dataset/dataset/sensing/bluetooth/bt_u00.csv', index_col=False)"
   ]
  },
  {
   "cell_type": "code",
   "execution_count": 158,
   "metadata": {
    "ExecuteTime": {
     "end_time": "2019-01-12T12:07:50.924378Z",
     "start_time": "2019-01-12T12:07:50.916892Z"
    }
   },
   "outputs": [
    {
     "data": {
      "text/html": [
       "<div>\n",
       "<style scoped>\n",
       "    .dataframe tbody tr th:only-of-type {\n",
       "        vertical-align: middle;\n",
       "    }\n",
       "\n",
       "    .dataframe tbody tr th {\n",
       "        vertical-align: top;\n",
       "    }\n",
       "\n",
       "    .dataframe thead th {\n",
       "        text-align: right;\n",
       "    }\n",
       "</style>\n",
       "<table border=\"1\" class=\"dataframe\">\n",
       "  <thead>\n",
       "    <tr style=\"text-align: right;\">\n",
       "      <th></th>\n",
       "      <th>time</th>\n",
       "      <th>MAC</th>\n",
       "      <th>class_id</th>\n",
       "      <th>level</th>\n",
       "    </tr>\n",
       "  </thead>\n",
       "  <tbody>\n",
       "    <tr>\n",
       "      <th>0</th>\n",
       "      <td>1364385773</td>\n",
       "      <td>68:A3:C4:49:61:9E</td>\n",
       "      <td>4063500</td>\n",
       "      <td>-88</td>\n",
       "    </tr>\n",
       "    <tr>\n",
       "      <th>1</th>\n",
       "      <td>1364386979</td>\n",
       "      <td>00:1E:C2:94:87:2B</td>\n",
       "      <td>3670276</td>\n",
       "      <td>-82</td>\n",
       "    </tr>\n",
       "    <tr>\n",
       "      <th>2</th>\n",
       "      <td>1364386979</td>\n",
       "      <td>40:A6:D9:FB:47:70</td>\n",
       "      <td>3801348</td>\n",
       "      <td>-90</td>\n",
       "    </tr>\n",
       "    <tr>\n",
       "      <th>3</th>\n",
       "      <td>1364386979</td>\n",
       "      <td>40:A6:D9:FB:48:54</td>\n",
       "      <td>3801348</td>\n",
       "      <td>-95</td>\n",
       "    </tr>\n",
       "    <tr>\n",
       "      <th>4</th>\n",
       "      <td>1364386979</td>\n",
       "      <td>44:2A:60:D7:4D:E3</td>\n",
       "      <td>3670276</td>\n",
       "      <td>-86</td>\n",
       "    </tr>\n",
       "  </tbody>\n",
       "</table>\n",
       "</div>"
      ],
      "text/plain": [
       "         time                MAC  class_id  level\n",
       "0  1364385773  68:A3:C4:49:61:9E   4063500    -88\n",
       "1  1364386979  00:1E:C2:94:87:2B   3670276    -82\n",
       "2  1364386979  40:A6:D9:FB:47:70   3801348    -90\n",
       "3  1364386979  40:A6:D9:FB:48:54   3801348    -95\n",
       "4  1364386979  44:2A:60:D7:4D:E3   3670276    -86"
      ]
     },
     "execution_count": 158,
     "metadata": {},
     "output_type": "execute_result"
    }
   ],
   "source": [
    "bluetooth.head()"
   ]
  },
  {
   "cell_type": "code",
   "execution_count": 159,
   "metadata": {
    "ExecuteTime": {
     "end_time": "2019-01-12T12:07:52.353700Z",
     "start_time": "2019-01-12T12:07:52.350445Z"
    }
   },
   "outputs": [
    {
     "data": {
      "text/plain": [
       "(7322, 4)"
      ]
     },
     "execution_count": 159,
     "metadata": {},
     "output_type": "execute_result"
    }
   ],
   "source": [
    "bluetooth.shape"
   ]
  },
  {
   "cell_type": "code",
   "execution_count": 160,
   "metadata": {
    "ExecuteTime": {
     "end_time": "2019-01-12T12:07:53.851986Z",
     "start_time": "2019-01-12T12:07:53.847799Z"
    }
   },
   "outputs": [
    {
     "data": {
      "text/plain": [
       "(1303,)"
      ]
     },
     "execution_count": 160,
     "metadata": {},
     "output_type": "execute_result"
    }
   ],
   "source": [
    "bluetooth.time.unique().shape"
   ]
  },
  {
   "cell_type": "code",
   "execution_count": 161,
   "metadata": {
    "ExecuteTime": {
     "end_time": "2019-01-12T12:07:55.381795Z",
     "start_time": "2019-01-12T12:07:55.377669Z"
    }
   },
   "outputs": [],
   "source": [
    "bluetooth.time = pd.to_datetime(bluetooth.time, unit='s')"
   ]
  },
  {
   "cell_type": "markdown",
   "metadata": {
    "ExecuteTime": {
     "end_time": "2019-01-10T13:32:07.904165Z",
     "start_time": "2019-01-10T13:32:07.890550Z"
    }
   },
   "source": [
    "class_id: describes class types. but, it only have ids, so we cannot understand the device is android or any other device.\n",
    "\n",
    "level: desbribes the signal strength. -100 (lowest), -37 (highest).\n",
    "\n",
    "to create feature, count number of devices in specific time and find out how many people around the person. also, look at the strength of the signal and find out how much closer the people are."
   ]
  },
  {
   "cell_type": "markdown",
   "metadata": {},
   "source": [
    "# Wi-Fi"
   ]
  },
  {
   "cell_type": "code",
   "execution_count": 47,
   "metadata": {
    "ExecuteTime": {
     "end_time": "2019-01-12T10:52:42.013789Z",
     "start_time": "2019-01-12T10:52:41.728115Z"
    }
   },
   "outputs": [],
   "source": [
    "wifi = pd.read_csv('../../../student-life-dataset/dataset/sensing/wifi/wifi_u00.csv', index_col=False)"
   ]
  },
  {
   "cell_type": "code",
   "execution_count": 48,
   "metadata": {
    "ExecuteTime": {
     "end_time": "2019-01-12T10:52:42.686561Z",
     "start_time": "2019-01-12T10:52:42.678377Z"
    }
   },
   "outputs": [
    {
     "data": {
      "text/html": [
       "<div>\n",
       "<style scoped>\n",
       "    .dataframe tbody tr th:only-of-type {\n",
       "        vertical-align: middle;\n",
       "    }\n",
       "\n",
       "    .dataframe tbody tr th {\n",
       "        vertical-align: top;\n",
       "    }\n",
       "\n",
       "    .dataframe thead th {\n",
       "        text-align: right;\n",
       "    }\n",
       "</style>\n",
       "<table border=\"1\" class=\"dataframe\">\n",
       "  <thead>\n",
       "    <tr style=\"text-align: right;\">\n",
       "      <th></th>\n",
       "      <th>time</th>\n",
       "      <th>BSSID</th>\n",
       "      <th>freq</th>\n",
       "      <th>level</th>\n",
       "    </tr>\n",
       "  </thead>\n",
       "  <tbody>\n",
       "    <tr>\n",
       "      <th>0</th>\n",
       "      <td>1364356963</td>\n",
       "      <td>00:60:b3:07:1d:27</td>\n",
       "      <td>2427</td>\n",
       "      <td>-90</td>\n",
       "    </tr>\n",
       "    <tr>\n",
       "      <th>1</th>\n",
       "      <td>1364356963</td>\n",
       "      <td>f8:1e:df:fd:4a:4b</td>\n",
       "      <td>2417</td>\n",
       "      <td>-64</td>\n",
       "    </tr>\n",
       "    <tr>\n",
       "      <th>2</th>\n",
       "      <td>1364358163</td>\n",
       "      <td>f8:1e:df:fd:4a:4b</td>\n",
       "      <td>2417</td>\n",
       "      <td>-69</td>\n",
       "    </tr>\n",
       "    <tr>\n",
       "      <th>3</th>\n",
       "      <td>1364358320</td>\n",
       "      <td>f8:1e:df:fd:4a:4b</td>\n",
       "      <td>2417</td>\n",
       "      <td>-74</td>\n",
       "    </tr>\n",
       "    <tr>\n",
       "      <th>4</th>\n",
       "      <td>1364359364</td>\n",
       "      <td>f8:1e:df:fd:4a:4b</td>\n",
       "      <td>2417</td>\n",
       "      <td>-62</td>\n",
       "    </tr>\n",
       "  </tbody>\n",
       "</table>\n",
       "</div>"
      ],
      "text/plain": [
       "         time              BSSID  freq  level\n",
       "0  1364356963  00:60:b3:07:1d:27  2427    -90\n",
       "1  1364356963  f8:1e:df:fd:4a:4b  2417    -64\n",
       "2  1364358163  f8:1e:df:fd:4a:4b  2417    -69\n",
       "3  1364358320  f8:1e:df:fd:4a:4b  2417    -74\n",
       "4  1364359364  f8:1e:df:fd:4a:4b  2417    -62"
      ]
     },
     "execution_count": 48,
     "metadata": {},
     "output_type": "execute_result"
    }
   ],
   "source": [
    "wifi.head()"
   ]
  },
  {
   "cell_type": "code",
   "execution_count": 50,
   "metadata": {
    "ExecuteTime": {
     "end_time": "2019-01-12T10:52:53.756188Z",
     "start_time": "2019-01-12T10:52:53.752765Z"
    }
   },
   "outputs": [
    {
     "data": {
      "text/plain": [
       "(446110, 4)"
      ]
     },
     "execution_count": 50,
     "metadata": {},
     "output_type": "execute_result"
    }
   ],
   "source": [
    "wifi.shape"
   ]
  },
  {
   "cell_type": "code",
   "execution_count": 51,
   "metadata": {
    "ExecuteTime": {
     "end_time": "2019-01-12T10:52:54.444225Z",
     "start_time": "2019-01-12T10:52:54.436061Z"
    }
   },
   "outputs": [
    {
     "data": {
      "text/plain": [
       "(61119,)"
      ]
     },
     "execution_count": 51,
     "metadata": {},
     "output_type": "execute_result"
    }
   ],
   "source": [
    "wifi.time.unique().shape"
   ]
  },
  {
   "cell_type": "code",
   "execution_count": 52,
   "metadata": {
    "ExecuteTime": {
     "end_time": "2019-01-12T10:53:34.870718Z",
     "start_time": "2019-01-12T10:53:34.856154Z"
    }
   },
   "outputs": [],
   "source": [
    "wifi.time = pd.to_datetime(wifi.time, unit='s')"
   ]
  },
  {
   "cell_type": "markdown",
   "metadata": {},
   "source": [
    "Note: rows that share same timestamp belong to a single WiFi scan."
   ]
  },
  {
   "cell_type": "markdown",
   "metadata": {},
   "source": [
    "# Wi-Fi Location"
   ]
  },
  {
   "cell_type": "code",
   "execution_count": 53,
   "metadata": {
    "ExecuteTime": {
     "end_time": "2019-01-12T10:53:37.497058Z",
     "start_time": "2019-01-12T10:53:37.479673Z"
    }
   },
   "outputs": [],
   "source": [
    "wifi_loc = pd.read_csv('../../../student-life-dataset/dataset/sensing/wifi_location/wifi_location_u00.csv', index_col=False)"
   ]
  },
  {
   "cell_type": "code",
   "execution_count": 54,
   "metadata": {
    "ExecuteTime": {
     "end_time": "2019-01-12T10:53:39.724488Z",
     "start_time": "2019-01-12T10:53:39.716850Z"
    }
   },
   "outputs": [
    {
     "data": {
      "text/html": [
       "<div>\n",
       "<style scoped>\n",
       "    .dataframe tbody tr th:only-of-type {\n",
       "        vertical-align: middle;\n",
       "    }\n",
       "\n",
       "    .dataframe tbody tr th {\n",
       "        vertical-align: top;\n",
       "    }\n",
       "\n",
       "    .dataframe thead th {\n",
       "        text-align: right;\n",
       "    }\n",
       "</style>\n",
       "<table border=\"1\" class=\"dataframe\">\n",
       "  <thead>\n",
       "    <tr style=\"text-align: right;\">\n",
       "      <th></th>\n",
       "      <th>time</th>\n",
       "      <th>location</th>\n",
       "    </tr>\n",
       "  </thead>\n",
       "  <tbody>\n",
       "    <tr>\n",
       "      <th>0</th>\n",
       "      <td>1364384540</td>\n",
       "      <td>in[east-wheelock]</td>\n",
       "    </tr>\n",
       "    <tr>\n",
       "      <th>1</th>\n",
       "      <td>1364384555</td>\n",
       "      <td>in[east-wheelock]</td>\n",
       "    </tr>\n",
       "    <tr>\n",
       "      <th>2</th>\n",
       "      <td>1364384579</td>\n",
       "      <td>in[east-wheelock]</td>\n",
       "    </tr>\n",
       "    <tr>\n",
       "      <th>3</th>\n",
       "      <td>1364384641</td>\n",
       "      <td>in[east-wheelock]</td>\n",
       "    </tr>\n",
       "    <tr>\n",
       "      <th>4</th>\n",
       "      <td>1364384659</td>\n",
       "      <td>in[east-wheelock]</td>\n",
       "    </tr>\n",
       "  </tbody>\n",
       "</table>\n",
       "</div>"
      ],
      "text/plain": [
       "         time           location\n",
       "0  1364384540  in[east-wheelock]\n",
       "1  1364384555  in[east-wheelock]\n",
       "2  1364384579  in[east-wheelock]\n",
       "3  1364384641  in[east-wheelock]\n",
       "4  1364384659  in[east-wheelock]"
      ]
     },
     "execution_count": 54,
     "metadata": {},
     "output_type": "execute_result"
    }
   ],
   "source": [
    "wifi_loc.head()"
   ]
  },
  {
   "cell_type": "code",
   "execution_count": 55,
   "metadata": {
    "ExecuteTime": {
     "end_time": "2019-01-12T10:53:42.462001Z",
     "start_time": "2019-01-12T10:53:42.458474Z"
    }
   },
   "outputs": [
    {
     "data": {
      "text/plain": [
       "(11221, 2)"
      ]
     },
     "execution_count": 55,
     "metadata": {},
     "output_type": "execute_result"
    }
   ],
   "source": [
    "wifi_loc.shape"
   ]
  },
  {
   "cell_type": "code",
   "execution_count": 56,
   "metadata": {
    "ExecuteTime": {
     "end_time": "2019-01-12T10:53:43.234643Z",
     "start_time": "2019-01-12T10:53:43.230368Z"
    }
   },
   "outputs": [
    {
     "data": {
      "text/plain": [
       "(11221,)"
      ]
     },
     "execution_count": 56,
     "metadata": {},
     "output_type": "execute_result"
    }
   ],
   "source": [
    "wifi_loc.time.unique().shape"
   ]
  },
  {
   "cell_type": "code",
   "execution_count": 57,
   "metadata": {
    "ExecuteTime": {
     "end_time": "2019-01-12T10:53:58.336985Z",
     "start_time": "2019-01-12T10:53:58.333393Z"
    }
   },
   "outputs": [],
   "source": [
    "wifi_loc.time = pd.to_datetime(wifi_loc.time, unit='s')"
   ]
  },
  {
   "cell_type": "markdown",
   "metadata": {},
   "source": [
    "this data may not be used, because of location specific features. However, maybe near or inside differences can be used as a feature."
   ]
  },
  {
   "cell_type": "markdown",
   "metadata": {},
   "source": [
    "# Dark"
   ]
  },
  {
   "cell_type": "code",
   "execution_count": 58,
   "metadata": {
    "ExecuteTime": {
     "end_time": "2019-01-12T10:54:01.441165Z",
     "start_time": "2019-01-12T10:54:01.431917Z"
    }
   },
   "outputs": [],
   "source": [
    "dark = pd.read_csv('../../../student-life-dataset/dataset/sensing/dark/dark_u00.csv', index_col=False)"
   ]
  },
  {
   "cell_type": "code",
   "execution_count": 59,
   "metadata": {
    "ExecuteTime": {
     "end_time": "2019-01-12T10:54:02.273408Z",
     "start_time": "2019-01-12T10:54:02.266556Z"
    },
    "scrolled": true
   },
   "outputs": [
    {
     "data": {
      "text/html": [
       "<div>\n",
       "<style scoped>\n",
       "    .dataframe tbody tr th:only-of-type {\n",
       "        vertical-align: middle;\n",
       "    }\n",
       "\n",
       "    .dataframe tbody tr th {\n",
       "        vertical-align: top;\n",
       "    }\n",
       "\n",
       "    .dataframe thead th {\n",
       "        text-align: right;\n",
       "    }\n",
       "</style>\n",
       "<table border=\"1\" class=\"dataframe\">\n",
       "  <thead>\n",
       "    <tr style=\"text-align: right;\">\n",
       "      <th></th>\n",
       "      <th>start</th>\n",
       "      <th>end</th>\n",
       "    </tr>\n",
       "  </thead>\n",
       "  <tbody>\n",
       "    <tr>\n",
       "      <th>0</th>\n",
       "      <td>1364365266</td>\n",
       "      <td>1364385049</td>\n",
       "    </tr>\n",
       "    <tr>\n",
       "      <th>1</th>\n",
       "      <td>1364386302</td>\n",
       "      <td>1364391007</td>\n",
       "    </tr>\n",
       "    <tr>\n",
       "      <th>2</th>\n",
       "      <td>1364406347</td>\n",
       "      <td>1364411324</td>\n",
       "    </tr>\n",
       "    <tr>\n",
       "      <th>3</th>\n",
       "      <td>1364425558</td>\n",
       "      <td>1364429485</td>\n",
       "    </tr>\n",
       "    <tr>\n",
       "      <th>4</th>\n",
       "      <td>1364497400</td>\n",
       "      <td>1364502343</td>\n",
       "    </tr>\n",
       "  </tbody>\n",
       "</table>\n",
       "</div>"
      ],
      "text/plain": [
       "        start         end\n",
       "0  1364365266  1364385049\n",
       "1  1364386302  1364391007\n",
       "2  1364406347  1364411324\n",
       "3  1364425558  1364429485\n",
       "4  1364497400  1364502343"
      ]
     },
     "execution_count": 59,
     "metadata": {},
     "output_type": "execute_result"
    }
   ],
   "source": [
    "dark.head()"
   ]
  },
  {
   "cell_type": "code",
   "execution_count": 60,
   "metadata": {
    "ExecuteTime": {
     "end_time": "2019-01-12T10:54:38.480867Z",
     "start_time": "2019-01-12T10:54:38.475537Z"
    }
   },
   "outputs": [],
   "source": [
    "dark.start = pd.to_datetime(dark.start, unit='s')\n",
    "dark.end = pd.to_datetime(dark.end, unit='s')"
   ]
  },
  {
   "cell_type": "code",
   "execution_count": 62,
   "metadata": {
    "ExecuteTime": {
     "end_time": "2019-01-12T10:54:48.422209Z",
     "start_time": "2019-01-12T10:54:48.413128Z"
    }
   },
   "outputs": [
    {
     "data": {
      "text/html": [
       "<div>\n",
       "<style scoped>\n",
       "    .dataframe tbody tr th:only-of-type {\n",
       "        vertical-align: middle;\n",
       "    }\n",
       "\n",
       "    .dataframe tbody tr th {\n",
       "        vertical-align: top;\n",
       "    }\n",
       "\n",
       "    .dataframe thead th {\n",
       "        text-align: right;\n",
       "    }\n",
       "</style>\n",
       "<table border=\"1\" class=\"dataframe\">\n",
       "  <thead>\n",
       "    <tr style=\"text-align: right;\">\n",
       "      <th></th>\n",
       "      <th>start</th>\n",
       "      <th>end</th>\n",
       "    </tr>\n",
       "  </thead>\n",
       "  <tbody>\n",
       "    <tr>\n",
       "      <th>0</th>\n",
       "      <td>2013-03-27 06:21:06</td>\n",
       "      <td>2013-03-27 11:50:49</td>\n",
       "    </tr>\n",
       "    <tr>\n",
       "      <th>1</th>\n",
       "      <td>2013-03-27 12:11:42</td>\n",
       "      <td>2013-03-27 13:30:07</td>\n",
       "    </tr>\n",
       "    <tr>\n",
       "      <th>2</th>\n",
       "      <td>2013-03-27 17:45:47</td>\n",
       "      <td>2013-03-27 19:08:44</td>\n",
       "    </tr>\n",
       "    <tr>\n",
       "      <th>3</th>\n",
       "      <td>2013-03-27 23:05:58</td>\n",
       "      <td>2013-03-28 00:11:25</td>\n",
       "    </tr>\n",
       "    <tr>\n",
       "      <th>4</th>\n",
       "      <td>2013-03-28 19:03:20</td>\n",
       "      <td>2013-03-28 20:25:43</td>\n",
       "    </tr>\n",
       "  </tbody>\n",
       "</table>\n",
       "</div>"
      ],
      "text/plain": [
       "                start                 end\n",
       "0 2013-03-27 06:21:06 2013-03-27 11:50:49\n",
       "1 2013-03-27 12:11:42 2013-03-27 13:30:07\n",
       "2 2013-03-27 17:45:47 2013-03-27 19:08:44\n",
       "3 2013-03-27 23:05:58 2013-03-28 00:11:25\n",
       "4 2013-03-28 19:03:20 2013-03-28 20:25:43"
      ]
     },
     "execution_count": 62,
     "metadata": {},
     "output_type": "execute_result"
    }
   ],
   "source": [
    "dark.head()"
   ]
  },
  {
   "cell_type": "markdown",
   "metadata": {},
   "source": [
    "Start and end timestamp data represents the dark times for light sensor."
   ]
  },
  {
   "cell_type": "markdown",
   "metadata": {},
   "source": [
    "# Phone Charge"
   ]
  },
  {
   "cell_type": "code",
   "execution_count": 63,
   "metadata": {
    "ExecuteTime": {
     "end_time": "2019-01-12T10:54:54.568837Z",
     "start_time": "2019-01-12T10:54:54.559296Z"
    }
   },
   "outputs": [],
   "source": [
    "phonecharge = pd.read_csv('../../../student-life-dataset/dataset/sensing/phonecharge/phonecharge_u00.csv', index_col=False)"
   ]
  },
  {
   "cell_type": "code",
   "execution_count": 64,
   "metadata": {
    "ExecuteTime": {
     "end_time": "2019-01-12T10:54:56.336995Z",
     "start_time": "2019-01-12T10:54:56.328303Z"
    }
   },
   "outputs": [
    {
     "data": {
      "text/html": [
       "<div>\n",
       "<style scoped>\n",
       "    .dataframe tbody tr th:only-of-type {\n",
       "        vertical-align: middle;\n",
       "    }\n",
       "\n",
       "    .dataframe tbody tr th {\n",
       "        vertical-align: top;\n",
       "    }\n",
       "\n",
       "    .dataframe thead th {\n",
       "        text-align: right;\n",
       "    }\n",
       "</style>\n",
       "<table border=\"1\" class=\"dataframe\">\n",
       "  <thead>\n",
       "    <tr style=\"text-align: right;\">\n",
       "      <th></th>\n",
       "      <th>start</th>\n",
       "      <th>end</th>\n",
       "    </tr>\n",
       "  </thead>\n",
       "  <tbody>\n",
       "    <tr>\n",
       "      <th>0</th>\n",
       "      <td>1364358885</td>\n",
       "      <td>1364364806</td>\n",
       "    </tr>\n",
       "    <tr>\n",
       "      <th>1</th>\n",
       "      <td>1364365283</td>\n",
       "      <td>1364381933</td>\n",
       "    </tr>\n",
       "    <tr>\n",
       "      <th>2</th>\n",
       "      <td>1364472718</td>\n",
       "      <td>1364478101</td>\n",
       "    </tr>\n",
       "    <tr>\n",
       "      <th>3</th>\n",
       "      <td>1364479796</td>\n",
       "      <td>1364485621</td>\n",
       "    </tr>\n",
       "    <tr>\n",
       "      <th>4</th>\n",
       "      <td>1364534372</td>\n",
       "      <td>1364541446</td>\n",
       "    </tr>\n",
       "  </tbody>\n",
       "</table>\n",
       "</div>"
      ],
      "text/plain": [
       "        start         end\n",
       "0  1364358885  1364364806\n",
       "1  1364365283  1364381933\n",
       "2  1364472718  1364478101\n",
       "3  1364479796  1364485621\n",
       "4  1364534372  1364541446"
      ]
     },
     "execution_count": 64,
     "metadata": {},
     "output_type": "execute_result"
    }
   ],
   "source": [
    "phonecharge.head()"
   ]
  },
  {
   "cell_type": "code",
   "execution_count": 67,
   "metadata": {
    "ExecuteTime": {
     "end_time": "2019-01-12T10:56:00.184381Z",
     "start_time": "2019-01-12T10:56:00.180176Z"
    }
   },
   "outputs": [],
   "source": [
    "phonecharge.start = pd.to_datetime(phonecharge.start, unit='s')\n",
    "phonecharge.end = pd.to_datetime(phonecharge.end, unit='s')"
   ]
  },
  {
   "cell_type": "code",
   "execution_count": 68,
   "metadata": {
    "ExecuteTime": {
     "end_time": "2019-01-12T10:56:06.233933Z",
     "start_time": "2019-01-12T10:56:06.226813Z"
    }
   },
   "outputs": [
    {
     "data": {
      "text/html": [
       "<div>\n",
       "<style scoped>\n",
       "    .dataframe tbody tr th:only-of-type {\n",
       "        vertical-align: middle;\n",
       "    }\n",
       "\n",
       "    .dataframe tbody tr th {\n",
       "        vertical-align: top;\n",
       "    }\n",
       "\n",
       "    .dataframe thead th {\n",
       "        text-align: right;\n",
       "    }\n",
       "</style>\n",
       "<table border=\"1\" class=\"dataframe\">\n",
       "  <thead>\n",
       "    <tr style=\"text-align: right;\">\n",
       "      <th></th>\n",
       "      <th>start</th>\n",
       "      <th>end</th>\n",
       "    </tr>\n",
       "  </thead>\n",
       "  <tbody>\n",
       "    <tr>\n",
       "      <th>0</th>\n",
       "      <td>2013-03-27 04:34:45</td>\n",
       "      <td>2013-03-27 06:13:26</td>\n",
       "    </tr>\n",
       "    <tr>\n",
       "      <th>1</th>\n",
       "      <td>2013-03-27 06:21:23</td>\n",
       "      <td>2013-03-27 10:58:53</td>\n",
       "    </tr>\n",
       "    <tr>\n",
       "      <th>2</th>\n",
       "      <td>2013-03-28 12:11:58</td>\n",
       "      <td>2013-03-28 13:41:41</td>\n",
       "    </tr>\n",
       "    <tr>\n",
       "      <th>3</th>\n",
       "      <td>2013-03-28 14:09:56</td>\n",
       "      <td>2013-03-28 15:47:01</td>\n",
       "    </tr>\n",
       "    <tr>\n",
       "      <th>4</th>\n",
       "      <td>2013-03-29 05:19:32</td>\n",
       "      <td>2013-03-29 07:17:26</td>\n",
       "    </tr>\n",
       "  </tbody>\n",
       "</table>\n",
       "</div>"
      ],
      "text/plain": [
       "                start                 end\n",
       "0 2013-03-27 04:34:45 2013-03-27 06:13:26\n",
       "1 2013-03-27 06:21:23 2013-03-27 10:58:53\n",
       "2 2013-03-28 12:11:58 2013-03-28 13:41:41\n",
       "3 2013-03-28 14:09:56 2013-03-28 15:47:01\n",
       "4 2013-03-29 05:19:32 2013-03-29 07:17:26"
      ]
     },
     "execution_count": 68,
     "metadata": {},
     "output_type": "execute_result"
    }
   ],
   "source": [
    "phonecharge.head()"
   ]
  },
  {
   "cell_type": "markdown",
   "metadata": {},
   "source": [
    "# Phone Lock"
   ]
  },
  {
   "cell_type": "code",
   "execution_count": 69,
   "metadata": {
    "ExecuteTime": {
     "end_time": "2019-01-12T10:56:16.983832Z",
     "start_time": "2019-01-12T10:56:16.974334Z"
    }
   },
   "outputs": [],
   "source": [
    "phonelock = pd.read_csv('../../../student-life-dataset/dataset/sensing/phonelock/phonelock_u00.csv', index_col=False)"
   ]
  },
  {
   "cell_type": "code",
   "execution_count": 70,
   "metadata": {
    "ExecuteTime": {
     "end_time": "2019-01-12T10:56:17.933156Z",
     "start_time": "2019-01-12T10:56:17.926192Z"
    },
    "scrolled": true
   },
   "outputs": [
    {
     "data": {
      "text/html": [
       "<div>\n",
       "<style scoped>\n",
       "    .dataframe tbody tr th:only-of-type {\n",
       "        vertical-align: middle;\n",
       "    }\n",
       "\n",
       "    .dataframe tbody tr th {\n",
       "        vertical-align: top;\n",
       "    }\n",
       "\n",
       "    .dataframe thead th {\n",
       "        text-align: right;\n",
       "    }\n",
       "</style>\n",
       "<table border=\"1\" class=\"dataframe\">\n",
       "  <thead>\n",
       "    <tr style=\"text-align: right;\">\n",
       "      <th></th>\n",
       "      <th>start</th>\n",
       "      <th>end</th>\n",
       "    </tr>\n",
       "  </thead>\n",
       "  <tbody>\n",
       "    <tr>\n",
       "      <th>0</th>\n",
       "      <td>1364358992</td>\n",
       "      <td>1364364807</td>\n",
       "    </tr>\n",
       "    <tr>\n",
       "      <th>1</th>\n",
       "      <td>1364365565</td>\n",
       "      <td>1364381933</td>\n",
       "    </tr>\n",
       "    <tr>\n",
       "      <th>2</th>\n",
       "      <td>1364386333</td>\n",
       "      <td>1364391008</td>\n",
       "    </tr>\n",
       "    <tr>\n",
       "      <th>3</th>\n",
       "      <td>1364406378</td>\n",
       "      <td>1364411049</td>\n",
       "    </tr>\n",
       "    <tr>\n",
       "      <th>4</th>\n",
       "      <td>1364425558</td>\n",
       "      <td>1364429471</td>\n",
       "    </tr>\n",
       "  </tbody>\n",
       "</table>\n",
       "</div>"
      ],
      "text/plain": [
       "        start         end\n",
       "0  1364358992  1364364807\n",
       "1  1364365565  1364381933\n",
       "2  1364386333  1364391008\n",
       "3  1364406378  1364411049\n",
       "4  1364425558  1364429471"
      ]
     },
     "execution_count": 70,
     "metadata": {},
     "output_type": "execute_result"
    }
   ],
   "source": [
    "phonelock.head()"
   ]
  },
  {
   "cell_type": "code",
   "execution_count": 71,
   "metadata": {
    "ExecuteTime": {
     "end_time": "2019-01-12T10:56:33.096497Z",
     "start_time": "2019-01-12T10:56:33.092143Z"
    }
   },
   "outputs": [],
   "source": [
    "phonelock.start = pd.to_datetime(phonelock.start, unit='s')\n",
    "phonelock.end = pd.to_datetime(phonelock.end, unit='s')"
   ]
  },
  {
   "cell_type": "code",
   "execution_count": 72,
   "metadata": {
    "ExecuteTime": {
     "end_time": "2019-01-12T10:56:38.496961Z",
     "start_time": "2019-01-12T10:56:38.487955Z"
    }
   },
   "outputs": [
    {
     "data": {
      "text/html": [
       "<div>\n",
       "<style scoped>\n",
       "    .dataframe tbody tr th:only-of-type {\n",
       "        vertical-align: middle;\n",
       "    }\n",
       "\n",
       "    .dataframe tbody tr th {\n",
       "        vertical-align: top;\n",
       "    }\n",
       "\n",
       "    .dataframe thead th {\n",
       "        text-align: right;\n",
       "    }\n",
       "</style>\n",
       "<table border=\"1\" class=\"dataframe\">\n",
       "  <thead>\n",
       "    <tr style=\"text-align: right;\">\n",
       "      <th></th>\n",
       "      <th>start</th>\n",
       "      <th>end</th>\n",
       "    </tr>\n",
       "  </thead>\n",
       "  <tbody>\n",
       "    <tr>\n",
       "      <th>0</th>\n",
       "      <td>2013-03-27 04:36:32</td>\n",
       "      <td>2013-03-27 06:13:27</td>\n",
       "    </tr>\n",
       "    <tr>\n",
       "      <th>1</th>\n",
       "      <td>2013-03-27 06:26:05</td>\n",
       "      <td>2013-03-27 10:58:53</td>\n",
       "    </tr>\n",
       "    <tr>\n",
       "      <th>2</th>\n",
       "      <td>2013-03-27 12:12:13</td>\n",
       "      <td>2013-03-27 13:30:08</td>\n",
       "    </tr>\n",
       "    <tr>\n",
       "      <th>3</th>\n",
       "      <td>2013-03-27 17:46:18</td>\n",
       "      <td>2013-03-27 19:04:09</td>\n",
       "    </tr>\n",
       "    <tr>\n",
       "      <th>4</th>\n",
       "      <td>2013-03-27 23:05:58</td>\n",
       "      <td>2013-03-28 00:11:11</td>\n",
       "    </tr>\n",
       "  </tbody>\n",
       "</table>\n",
       "</div>"
      ],
      "text/plain": [
       "                start                 end\n",
       "0 2013-03-27 04:36:32 2013-03-27 06:13:27\n",
       "1 2013-03-27 06:26:05 2013-03-27 10:58:53\n",
       "2 2013-03-27 12:12:13 2013-03-27 13:30:08\n",
       "3 2013-03-27 17:46:18 2013-03-27 19:04:09\n",
       "4 2013-03-27 23:05:58 2013-03-28 00:11:11"
      ]
     },
     "execution_count": 72,
     "metadata": {},
     "output_type": "execute_result"
    }
   ],
   "source": [
    "phonelock.head()"
   ]
  },
  {
   "cell_type": "markdown",
   "metadata": {},
   "source": [
    "# Dataset Creation"
   ]
  },
  {
   "cell_type": "markdown",
   "metadata": {},
   "source": [
    "## Activity and Audio"
   ]
  },
  {
   "cell_type": "code",
   "execution_count": 76,
   "metadata": {
    "ExecuteTime": {
     "end_time": "2019-01-12T11:01:27.353365Z",
     "start_time": "2019-01-12T11:01:27.153316Z"
    }
   },
   "outputs": [],
   "source": [
    "df = pd.merge(activity, audio, left_index=True, right_index=True, how='outer')"
   ]
  },
  {
   "cell_type": "code",
   "execution_count": 77,
   "metadata": {
    "ExecuteTime": {
     "end_time": "2019-01-12T11:01:32.930541Z",
     "start_time": "2019-01-12T11:01:32.922251Z"
    }
   },
   "outputs": [
    {
     "data": {
      "text/html": [
       "<div>\n",
       "<style scoped>\n",
       "    .dataframe tbody tr th:only-of-type {\n",
       "        vertical-align: middle;\n",
       "    }\n",
       "\n",
       "    .dataframe tbody tr th {\n",
       "        vertical-align: top;\n",
       "    }\n",
       "\n",
       "    .dataframe thead th {\n",
       "        text-align: right;\n",
       "    }\n",
       "</style>\n",
       "<table border=\"1\" class=\"dataframe\">\n",
       "  <thead>\n",
       "    <tr style=\"text-align: right;\">\n",
       "      <th></th>\n",
       "      <th>activity_inference</th>\n",
       "      <th>audio_inference</th>\n",
       "    </tr>\n",
       "    <tr>\n",
       "      <th>timestamp</th>\n",
       "      <th></th>\n",
       "      <th></th>\n",
       "    </tr>\n",
       "  </thead>\n",
       "  <tbody>\n",
       "    <tr>\n",
       "      <th>2013-03-27 04:00:01</th>\n",
       "      <td>0.0</td>\n",
       "      <td>NaN</td>\n",
       "    </tr>\n",
       "    <tr>\n",
       "      <th>2013-03-27 04:00:02</th>\n",
       "      <td>0.0</td>\n",
       "      <td>NaN</td>\n",
       "    </tr>\n",
       "    <tr>\n",
       "      <th>2013-03-27 04:00:03</th>\n",
       "      <td>0.0</td>\n",
       "      <td>NaN</td>\n",
       "    </tr>\n",
       "    <tr>\n",
       "      <th>2013-03-27 04:00:04</th>\n",
       "      <td>0.0</td>\n",
       "      <td>NaN</td>\n",
       "    </tr>\n",
       "    <tr>\n",
       "      <th>2013-03-27 04:00:05</th>\n",
       "      <td>0.0</td>\n",
       "      <td>NaN</td>\n",
       "    </tr>\n",
       "  </tbody>\n",
       "</table>\n",
       "</div>"
      ],
      "text/plain": [
       "                     activity_inference  audio_inference\n",
       "timestamp                                               \n",
       "2013-03-27 04:00:01                 0.0              NaN\n",
       "2013-03-27 04:00:02                 0.0              NaN\n",
       "2013-03-27 04:00:03                 0.0              NaN\n",
       "2013-03-27 04:00:04                 0.0              NaN\n",
       "2013-03-27 04:00:05                 0.0              NaN"
      ]
     },
     "execution_count": 77,
     "metadata": {},
     "output_type": "execute_result"
    }
   ],
   "source": [
    "df.head()"
   ]
  },
  {
   "cell_type": "code",
   "execution_count": 78,
   "metadata": {
    "ExecuteTime": {
     "end_time": "2019-01-12T11:01:35.614473Z",
     "start_time": "2019-01-12T11:01:35.611085Z"
    }
   },
   "outputs": [
    {
     "data": {
      "text/plain": [
       "(5691816, 2)"
      ]
     },
     "execution_count": 78,
     "metadata": {},
     "output_type": "execute_result"
    }
   ],
   "source": [
    "df.shape"
   ]
  },
  {
   "cell_type": "code",
   "execution_count": 80,
   "metadata": {
    "ExecuteTime": {
     "end_time": "2019-01-12T11:01:41.669174Z",
     "start_time": "2019-01-12T11:01:41.250106Z"
    }
   },
   "outputs": [
    {
     "data": {
      "text/plain": [
       "(5691816,)"
      ]
     },
     "execution_count": 80,
     "metadata": {},
     "output_type": "execute_result"
    }
   ],
   "source": [
    "df.index.unique().shape"
   ]
  },
  {
   "cell_type": "markdown",
   "metadata": {},
   "source": [
    "## Conversation"
   ]
  },
  {
   "cell_type": "code",
   "execution_count": 81,
   "metadata": {
    "ExecuteTime": {
     "end_time": "2019-01-12T11:01:45.693760Z",
     "start_time": "2019-01-12T11:01:45.634188Z"
    }
   },
   "outputs": [],
   "source": [
    "df['conversation'] = np.nan"
   ]
  },
  {
   "cell_type": "code",
   "execution_count": 82,
   "metadata": {
    "ExecuteTime": {
     "end_time": "2019-01-12T11:01:47.473780Z",
     "start_time": "2019-01-12T11:01:47.465505Z"
    }
   },
   "outputs": [
    {
     "data": {
      "text/html": [
       "<div>\n",
       "<style scoped>\n",
       "    .dataframe tbody tr th:only-of-type {\n",
       "        vertical-align: middle;\n",
       "    }\n",
       "\n",
       "    .dataframe tbody tr th {\n",
       "        vertical-align: top;\n",
       "    }\n",
       "\n",
       "    .dataframe thead th {\n",
       "        text-align: right;\n",
       "    }\n",
       "</style>\n",
       "<table border=\"1\" class=\"dataframe\">\n",
       "  <thead>\n",
       "    <tr style=\"text-align: right;\">\n",
       "      <th></th>\n",
       "      <th>activity_inference</th>\n",
       "      <th>audio_inference</th>\n",
       "      <th>conversation</th>\n",
       "    </tr>\n",
       "    <tr>\n",
       "      <th>timestamp</th>\n",
       "      <th></th>\n",
       "      <th></th>\n",
       "      <th></th>\n",
       "    </tr>\n",
       "  </thead>\n",
       "  <tbody>\n",
       "    <tr>\n",
       "      <th>2013-03-27 04:00:01</th>\n",
       "      <td>0.0</td>\n",
       "      <td>NaN</td>\n",
       "      <td>NaN</td>\n",
       "    </tr>\n",
       "    <tr>\n",
       "      <th>2013-03-27 04:00:02</th>\n",
       "      <td>0.0</td>\n",
       "      <td>NaN</td>\n",
       "      <td>NaN</td>\n",
       "    </tr>\n",
       "    <tr>\n",
       "      <th>2013-03-27 04:00:03</th>\n",
       "      <td>0.0</td>\n",
       "      <td>NaN</td>\n",
       "      <td>NaN</td>\n",
       "    </tr>\n",
       "    <tr>\n",
       "      <th>2013-03-27 04:00:04</th>\n",
       "      <td>0.0</td>\n",
       "      <td>NaN</td>\n",
       "      <td>NaN</td>\n",
       "    </tr>\n",
       "    <tr>\n",
       "      <th>2013-03-27 04:00:05</th>\n",
       "      <td>0.0</td>\n",
       "      <td>NaN</td>\n",
       "      <td>NaN</td>\n",
       "    </tr>\n",
       "  </tbody>\n",
       "</table>\n",
       "</div>"
      ],
      "text/plain": [
       "                     activity_inference  audio_inference  conversation\n",
       "timestamp                                                             \n",
       "2013-03-27 04:00:01                 0.0              NaN           NaN\n",
       "2013-03-27 04:00:02                 0.0              NaN           NaN\n",
       "2013-03-27 04:00:03                 0.0              NaN           NaN\n",
       "2013-03-27 04:00:04                 0.0              NaN           NaN\n",
       "2013-03-27 04:00:05                 0.0              NaN           NaN"
      ]
     },
     "execution_count": 82,
     "metadata": {},
     "output_type": "execute_result"
    }
   ],
   "source": [
    "df.head()"
   ]
  },
  {
   "cell_type": "code",
   "execution_count": 84,
   "metadata": {
    "ExecuteTime": {
     "end_time": "2019-01-12T11:03:32.999788Z",
     "start_time": "2019-01-12T11:02:45.970329Z"
    }
   },
   "outputs": [],
   "source": [
    "for i in range(conversation.shape[0]):\n",
    "    start = conversation.iloc[i, 0]\n",
    "    end = conversation.iloc[i, 1]\n",
    "    df.loc[(df.index >= start) & (df.index <= end), 'conversation'] = 1"
   ]
  },
  {
   "cell_type": "code",
   "execution_count": 85,
   "metadata": {
    "ExecuteTime": {
     "end_time": "2019-01-12T11:04:55.924631Z",
     "start_time": "2019-01-12T11:04:55.914428Z"
    }
   },
   "outputs": [
    {
     "data": {
      "text/html": [
       "<div>\n",
       "<style scoped>\n",
       "    .dataframe tbody tr th:only-of-type {\n",
       "        vertical-align: middle;\n",
       "    }\n",
       "\n",
       "    .dataframe tbody tr th {\n",
       "        vertical-align: top;\n",
       "    }\n",
       "\n",
       "    .dataframe thead th {\n",
       "        text-align: right;\n",
       "    }\n",
       "</style>\n",
       "<table border=\"1\" class=\"dataframe\">\n",
       "  <thead>\n",
       "    <tr style=\"text-align: right;\">\n",
       "      <th></th>\n",
       "      <th>activity_inference</th>\n",
       "      <th>audio_inference</th>\n",
       "      <th>conversation</th>\n",
       "    </tr>\n",
       "    <tr>\n",
       "      <th>timestamp</th>\n",
       "      <th></th>\n",
       "      <th></th>\n",
       "      <th></th>\n",
       "    </tr>\n",
       "  </thead>\n",
       "  <tbody>\n",
       "    <tr>\n",
       "      <th>2013-03-27 04:00:01</th>\n",
       "      <td>0.0</td>\n",
       "      <td>NaN</td>\n",
       "      <td>NaN</td>\n",
       "    </tr>\n",
       "    <tr>\n",
       "      <th>2013-03-27 04:00:02</th>\n",
       "      <td>0.0</td>\n",
       "      <td>NaN</td>\n",
       "      <td>NaN</td>\n",
       "    </tr>\n",
       "    <tr>\n",
       "      <th>2013-03-27 04:00:03</th>\n",
       "      <td>0.0</td>\n",
       "      <td>NaN</td>\n",
       "      <td>NaN</td>\n",
       "    </tr>\n",
       "    <tr>\n",
       "      <th>2013-03-27 04:00:04</th>\n",
       "      <td>0.0</td>\n",
       "      <td>NaN</td>\n",
       "      <td>NaN</td>\n",
       "    </tr>\n",
       "    <tr>\n",
       "      <th>2013-03-27 04:00:05</th>\n",
       "      <td>0.0</td>\n",
       "      <td>NaN</td>\n",
       "      <td>NaN</td>\n",
       "    </tr>\n",
       "  </tbody>\n",
       "</table>\n",
       "</div>"
      ],
      "text/plain": [
       "                     activity_inference  audio_inference  conversation\n",
       "timestamp                                                             \n",
       "2013-03-27 04:00:01                 0.0              NaN           NaN\n",
       "2013-03-27 04:00:02                 0.0              NaN           NaN\n",
       "2013-03-27 04:00:03                 0.0              NaN           NaN\n",
       "2013-03-27 04:00:04                 0.0              NaN           NaN\n",
       "2013-03-27 04:00:05                 0.0              NaN           NaN"
      ]
     },
     "execution_count": 85,
     "metadata": {},
     "output_type": "execute_result"
    }
   ],
   "source": [
    "df.head()"
   ]
  },
  {
   "cell_type": "markdown",
   "metadata": {},
   "source": [
    "## GPS"
   ]
  },
  {
   "cell_type": "code",
   "execution_count": 88,
   "metadata": {
    "ExecuteTime": {
     "end_time": "2019-01-12T11:09:16.214755Z",
     "start_time": "2019-01-12T11:09:16.199935Z"
    }
   },
   "outputs": [
    {
     "data": {
      "text/html": [
       "<div>\n",
       "<style scoped>\n",
       "    .dataframe tbody tr th:only-of-type {\n",
       "        vertical-align: middle;\n",
       "    }\n",
       "\n",
       "    .dataframe tbody tr th {\n",
       "        vertical-align: top;\n",
       "    }\n",
       "\n",
       "    .dataframe thead th {\n",
       "        text-align: right;\n",
       "    }\n",
       "</style>\n",
       "<table border=\"1\" class=\"dataframe\">\n",
       "  <thead>\n",
       "    <tr style=\"text-align: right;\">\n",
       "      <th></th>\n",
       "      <th>time</th>\n",
       "      <th>provider</th>\n",
       "      <th>network_type</th>\n",
       "      <th>accuracy</th>\n",
       "      <th>latitude</th>\n",
       "      <th>longitude</th>\n",
       "      <th>altitude</th>\n",
       "      <th>bearing</th>\n",
       "      <th>speed</th>\n",
       "      <th>travelstate</th>\n",
       "    </tr>\n",
       "  </thead>\n",
       "  <tbody>\n",
       "    <tr>\n",
       "      <th>0</th>\n",
       "      <td>2013-03-27 04:02:43</td>\n",
       "      <td>network</td>\n",
       "      <td>wifi</td>\n",
       "      <td>24.0</td>\n",
       "      <td>43.759135</td>\n",
       "      <td>-72.329240</td>\n",
       "      <td>0.000000</td>\n",
       "      <td>0.0</td>\n",
       "      <td>0.0</td>\n",
       "      <td>stationary</td>\n",
       "    </tr>\n",
       "    <tr>\n",
       "      <th>1</th>\n",
       "      <td>2013-03-27 04:22:24</td>\n",
       "      <td>gps</td>\n",
       "      <td>NaN</td>\n",
       "      <td>22.0</td>\n",
       "      <td>43.759503</td>\n",
       "      <td>-72.329018</td>\n",
       "      <td>250.899994</td>\n",
       "      <td>0.0</td>\n",
       "      <td>0.0</td>\n",
       "      <td>NaN</td>\n",
       "    </tr>\n",
       "    <tr>\n",
       "      <th>2</th>\n",
       "      <td>2013-03-27 04:42:44</td>\n",
       "      <td>network</td>\n",
       "      <td>wifi</td>\n",
       "      <td>23.0</td>\n",
       "      <td>43.759134</td>\n",
       "      <td>-72.329238</td>\n",
       "      <td>0.000000</td>\n",
       "      <td>0.0</td>\n",
       "      <td>0.0</td>\n",
       "      <td>stationary</td>\n",
       "    </tr>\n",
       "    <tr>\n",
       "      <th>3</th>\n",
       "      <td>2013-03-27 05:02:43</td>\n",
       "      <td>network</td>\n",
       "      <td>wifi</td>\n",
       "      <td>25.0</td>\n",
       "      <td>43.759135</td>\n",
       "      <td>-72.329240</td>\n",
       "      <td>0.000000</td>\n",
       "      <td>0.0</td>\n",
       "      <td>0.0</td>\n",
       "      <td>stationary</td>\n",
       "    </tr>\n",
       "    <tr>\n",
       "      <th>4</th>\n",
       "      <td>2013-03-27 05:22:43</td>\n",
       "      <td>network</td>\n",
       "      <td>wifi</td>\n",
       "      <td>25.0</td>\n",
       "      <td>43.759135</td>\n",
       "      <td>-72.329240</td>\n",
       "      <td>0.000000</td>\n",
       "      <td>0.0</td>\n",
       "      <td>0.0</td>\n",
       "      <td>stationary</td>\n",
       "    </tr>\n",
       "  </tbody>\n",
       "</table>\n",
       "</div>"
      ],
      "text/plain": [
       "                 time provider network_type  accuracy   latitude  longitude  \\\n",
       "0 2013-03-27 04:02:43  network         wifi      24.0  43.759135 -72.329240   \n",
       "1 2013-03-27 04:22:24      gps          NaN      22.0  43.759503 -72.329018   \n",
       "2 2013-03-27 04:42:44  network         wifi      23.0  43.759134 -72.329238   \n",
       "3 2013-03-27 05:02:43  network         wifi      25.0  43.759135 -72.329240   \n",
       "4 2013-03-27 05:22:43  network         wifi      25.0  43.759135 -72.329240   \n",
       "\n",
       "     altitude  bearing  speed travelstate  \n",
       "0    0.000000      0.0    0.0  stationary  \n",
       "1  250.899994      0.0    0.0         NaN  \n",
       "2    0.000000      0.0    0.0  stationary  \n",
       "3    0.000000      0.0    0.0  stationary  \n",
       "4    0.000000      0.0    0.0  stationary  "
      ]
     },
     "execution_count": 88,
     "metadata": {},
     "output_type": "execute_result"
    }
   ],
   "source": [
    "gps.head()"
   ]
  },
  {
   "cell_type": "code",
   "execution_count": null,
   "metadata": {},
   "outputs": [],
   "source": [
    "gps.columns = ['gps_' + i for i in gps.columns]"
   ]
  },
  {
   "cell_type": "code",
   "execution_count": 95,
   "metadata": {
    "ExecuteTime": {
     "end_time": "2019-01-12T11:10:40.440512Z",
     "start_time": "2019-01-12T11:10:40.374123Z"
    }
   },
   "outputs": [],
   "source": [
    "df = df.reset_index()"
   ]
  },
  {
   "cell_type": "code",
   "execution_count": 103,
   "metadata": {
    "ExecuteTime": {
     "end_time": "2019-01-12T11:15:08.841181Z",
     "start_time": "2019-01-12T11:15:07.308863Z"
    }
   },
   "outputs": [],
   "source": [
    "df = pd.merge(df, gps, left_on='timestamp', right_on='gps_time', how='outer')"
   ]
  },
  {
   "cell_type": "code",
   "execution_count": 104,
   "metadata": {
    "ExecuteTime": {
     "end_time": "2019-01-12T11:15:10.283356Z",
     "start_time": "2019-01-12T11:15:10.279481Z"
    }
   },
   "outputs": [
    {
     "data": {
      "text/plain": [
       "(5691817, 14)"
      ]
     },
     "execution_count": 104,
     "metadata": {},
     "output_type": "execute_result"
    }
   ],
   "source": [
    "df.shape"
   ]
  },
  {
   "cell_type": "code",
   "execution_count": 106,
   "metadata": {
    "ExecuteTime": {
     "end_time": "2019-01-12T11:15:40.387976Z",
     "start_time": "2019-01-12T11:15:38.603218Z"
    }
   },
   "outputs": [],
   "source": [
    "df.drop(columns=['time'], inplace=True)"
   ]
  },
  {
   "cell_type": "code",
   "execution_count": 108,
   "metadata": {
    "ExecuteTime": {
     "end_time": "2019-01-12T11:15:50.514711Z",
     "start_time": "2019-01-12T11:15:50.509668Z"
    },
    "scrolled": false
   },
   "outputs": [
    {
     "data": {
      "text/plain": [
       "(5691817, 13)"
      ]
     },
     "execution_count": 108,
     "metadata": {},
     "output_type": "execute_result"
    }
   ],
   "source": [
    "df.shape"
   ]
  },
  {
   "cell_type": "markdown",
   "metadata": {},
   "source": [
    "## Bluetooth"
   ]
  },
  {
   "cell_type": "code",
   "execution_count": 162,
   "metadata": {
    "ExecuteTime": {
     "end_time": "2019-01-12T12:07:59.154041Z",
     "start_time": "2019-01-12T12:07:59.141672Z"
    }
   },
   "outputs": [
    {
     "data": {
      "text/html": [
       "<div>\n",
       "<style scoped>\n",
       "    .dataframe tbody tr th:only-of-type {\n",
       "        vertical-align: middle;\n",
       "    }\n",
       "\n",
       "    .dataframe tbody tr th {\n",
       "        vertical-align: top;\n",
       "    }\n",
       "\n",
       "    .dataframe thead th {\n",
       "        text-align: right;\n",
       "    }\n",
       "</style>\n",
       "<table border=\"1\" class=\"dataframe\">\n",
       "  <thead>\n",
       "    <tr style=\"text-align: right;\">\n",
       "      <th></th>\n",
       "      <th>time</th>\n",
       "      <th>MAC</th>\n",
       "      <th>class_id</th>\n",
       "      <th>level</th>\n",
       "    </tr>\n",
       "  </thead>\n",
       "  <tbody>\n",
       "    <tr>\n",
       "      <th>0</th>\n",
       "      <td>2013-03-27 12:02:53</td>\n",
       "      <td>68:A3:C4:49:61:9E</td>\n",
       "      <td>4063500</td>\n",
       "      <td>-88</td>\n",
       "    </tr>\n",
       "    <tr>\n",
       "      <th>1</th>\n",
       "      <td>2013-03-27 12:22:59</td>\n",
       "      <td>00:1E:C2:94:87:2B</td>\n",
       "      <td>3670276</td>\n",
       "      <td>-82</td>\n",
       "    </tr>\n",
       "    <tr>\n",
       "      <th>2</th>\n",
       "      <td>2013-03-27 12:22:59</td>\n",
       "      <td>40:A6:D9:FB:47:70</td>\n",
       "      <td>3801348</td>\n",
       "      <td>-90</td>\n",
       "    </tr>\n",
       "    <tr>\n",
       "      <th>3</th>\n",
       "      <td>2013-03-27 12:22:59</td>\n",
       "      <td>40:A6:D9:FB:48:54</td>\n",
       "      <td>3801348</td>\n",
       "      <td>-95</td>\n",
       "    </tr>\n",
       "    <tr>\n",
       "      <th>4</th>\n",
       "      <td>2013-03-27 12:22:59</td>\n",
       "      <td>44:2A:60:D7:4D:E3</td>\n",
       "      <td>3670276</td>\n",
       "      <td>-86</td>\n",
       "    </tr>\n",
       "  </tbody>\n",
       "</table>\n",
       "</div>"
      ],
      "text/plain": [
       "                 time                MAC  class_id  level\n",
       "0 2013-03-27 12:02:53  68:A3:C4:49:61:9E   4063500    -88\n",
       "1 2013-03-27 12:22:59  00:1E:C2:94:87:2B   3670276    -82\n",
       "2 2013-03-27 12:22:59  40:A6:D9:FB:47:70   3801348    -90\n",
       "3 2013-03-27 12:22:59  40:A6:D9:FB:48:54   3801348    -95\n",
       "4 2013-03-27 12:22:59  44:2A:60:D7:4D:E3   3670276    -86"
      ]
     },
     "execution_count": 162,
     "metadata": {},
     "output_type": "execute_result"
    }
   ],
   "source": [
    "bluetooth.head()"
   ]
  },
  {
   "cell_type": "code",
   "execution_count": 163,
   "metadata": {
    "ExecuteTime": {
     "end_time": "2019-01-12T12:08:00.868623Z",
     "start_time": "2019-01-12T12:08:00.743367Z"
    }
   },
   "outputs": [
    {
     "name": "stderr",
     "output_type": "stream",
     "text": [
      "/Users/acikmese/anaconda3/lib/python3.6/site-packages/matplotlib/axes/_axes.py:6462: UserWarning: The 'normed' kwarg is deprecated, and has been replaced by the 'density' kwarg.\n",
      "  warnings.warn(\"The 'normed' kwarg is deprecated, and has been \"\n"
     ]
    },
    {
     "data": {
      "text/plain": [
       "<matplotlib.axes._subplots.AxesSubplot at 0x11cf1a080>"
      ]
     },
     "execution_count": 163,
     "metadata": {},
     "output_type": "execute_result"
    },
    {
     "data": {
      "image/png": "[encoded data removed]",
      "text/plain": [
       "<Figure size 432x288 with 1 Axes>"
      ]
     },
     "metadata": {},
     "output_type": "display_data"
    }
   ],
   "source": [
    "sns.distplot(bluetooth.level, bins=10)"
   ]
  },
  {
   "cell_type": "code",
   "execution_count": 164,
   "metadata": {
    "ExecuteTime": {
     "end_time": "2019-01-12T12:08:02.373044Z",
     "start_time": "2019-01-12T12:08:02.370282Z"
    }
   },
   "outputs": [],
   "source": [
    "bluetooth_new = pd.DataFrame()"
   ]
  },
  {
   "cell_type": "code",
   "execution_count": 165,
   "metadata": {
    "ExecuteTime": {
     "end_time": "2019-01-12T12:08:20.534129Z",
     "start_time": "2019-01-12T12:08:13.112674Z"
    }
   },
   "outputs": [],
   "source": [
    "for time in bluetooth.time.unique():\n",
    "    data = {'timestamp': time}\n",
    "    item = bluetooth[bluetooth.time == time]\n",
    "    data['total_devices_around'] = item.shape[0]\n",
    "    data['total_nearer'] = item[item.level >= -70].shape[0]\n",
    "    data['total_near'] = item[(item.level >= -80) & (item.level < -70)].shape[0]\n",
    "    data['total_far'] = item[(item.level >= -90) & (item.level < -80)].shape[0]\n",
    "    data['total_farther'] = item[(item.level >= -100) & (item.level < -90)].shape[0]\n",
    "    data['level_avg'] = round(item.level.mean())\n",
    "    data['level_std'] = item.level.std()\n",
    "    bluetooth_new = bluetooth_new.append(data, ignore_index=True)"
   ]
  },
  {
   "cell_type": "code",
   "execution_count": 166,
   "metadata": {
    "ExecuteTime": {
     "end_time": "2019-01-12T12:08:22.345501Z",
     "start_time": "2019-01-12T12:08:22.328544Z"
    }
   },
   "outputs": [
    {
     "data": {
      "text/html": [
       "<div>\n",
       "<style scoped>\n",
       "    .dataframe tbody tr th:only-of-type {\n",
       "        vertical-align: middle;\n",
       "    }\n",
       "\n",
       "    .dataframe tbody tr th {\n",
       "        vertical-align: top;\n",
       "    }\n",
       "\n",
       "    .dataframe thead th {\n",
       "        text-align: right;\n",
       "    }\n",
       "</style>\n",
       "<table border=\"1\" class=\"dataframe\">\n",
       "  <thead>\n",
       "    <tr style=\"text-align: right;\">\n",
       "      <th></th>\n",
       "      <th>level_avg</th>\n",
       "      <th>level_std</th>\n",
       "      <th>timestamp</th>\n",
       "      <th>total_devices_around</th>\n",
       "      <th>total_far</th>\n",
       "      <th>total_farther</th>\n",
       "      <th>total_near</th>\n",
       "      <th>total_nearer</th>\n",
       "    </tr>\n",
       "  </thead>\n",
       "  <tbody>\n",
       "    <tr>\n",
       "      <th>0</th>\n",
       "      <td>-88.0</td>\n",
       "      <td>NaN</td>\n",
       "      <td>2013-03-27 12:02:53</td>\n",
       "      <td>1.0</td>\n",
       "      <td>1.0</td>\n",
       "      <td>0.0</td>\n",
       "      <td>0.0</td>\n",
       "      <td>0.0</td>\n",
       "    </tr>\n",
       "    <tr>\n",
       "      <th>1</th>\n",
       "      <td>-87.0</td>\n",
       "      <td>5.385165</td>\n",
       "      <td>2013-03-27 12:22:59</td>\n",
       "      <td>7.0</td>\n",
       "      <td>5.0</td>\n",
       "      <td>2.0</td>\n",
       "      <td>0.0</td>\n",
       "      <td>0.0</td>\n",
       "    </tr>\n",
       "    <tr>\n",
       "      <th>2</th>\n",
       "      <td>-89.0</td>\n",
       "      <td>7.782765</td>\n",
       "      <td>2013-03-27 12:43:09</td>\n",
       "      <td>8.0</td>\n",
       "      <td>4.0</td>\n",
       "      <td>3.0</td>\n",
       "      <td>1.0</td>\n",
       "      <td>0.0</td>\n",
       "    </tr>\n",
       "    <tr>\n",
       "      <th>3</th>\n",
       "      <td>-87.0</td>\n",
       "      <td>6.184658</td>\n",
       "      <td>2013-03-27 13:02:53</td>\n",
       "      <td>4.0</td>\n",
       "      <td>2.0</td>\n",
       "      <td>1.0</td>\n",
       "      <td>1.0</td>\n",
       "      <td>0.0</td>\n",
       "    </tr>\n",
       "    <tr>\n",
       "      <th>4</th>\n",
       "      <td>-87.0</td>\n",
       "      <td>6.748219</td>\n",
       "      <td>2013-03-27 13:22:56</td>\n",
       "      <td>14.0</td>\n",
       "      <td>9.0</td>\n",
       "      <td>3.0</td>\n",
       "      <td>2.0</td>\n",
       "      <td>0.0</td>\n",
       "    </tr>\n",
       "  </tbody>\n",
       "</table>\n",
       "</div>"
      ],
      "text/plain": [
       "   level_avg  level_std           timestamp  total_devices_around  total_far  \\\n",
       "0      -88.0        NaN 2013-03-27 12:02:53                   1.0        1.0   \n",
       "1      -87.0   5.385165 2013-03-27 12:22:59                   7.0        5.0   \n",
       "2      -89.0   7.782765 2013-03-27 12:43:09                   8.0        4.0   \n",
       "3      -87.0   6.184658 2013-03-27 13:02:53                   4.0        2.0   \n",
       "4      -87.0   6.748219 2013-03-27 13:22:56                  14.0        9.0   \n",
       "\n",
       "   total_farther  total_near  total_nearer  \n",
       "0            0.0         0.0           0.0  \n",
       "1            2.0         0.0           0.0  \n",
       "2            3.0         1.0           0.0  \n",
       "3            1.0         1.0           0.0  \n",
       "4            3.0         2.0           0.0  "
      ]
     },
     "execution_count": 166,
     "metadata": {},
     "output_type": "execute_result"
    }
   ],
   "source": [
    "bluetooth_new.head()"
   ]
  },
  {
   "cell_type": "code",
   "execution_count": 167,
   "metadata": {
    "ExecuteTime": {
     "end_time": "2019-01-12T12:08:25.185630Z",
     "start_time": "2019-01-12T12:08:25.182490Z"
    }
   },
   "outputs": [],
   "source": [
    "bluetooth_new.columns = ['bt_' + i for i in bluetooth_new.columns]"
   ]
  },
  {
   "cell_type": "code",
   "execution_count": 169,
   "metadata": {
    "ExecuteTime": {
     "end_time": "2019-01-12T12:10:24.956713Z",
     "start_time": "2019-01-12T12:10:22.671227Z"
    }
   },
   "outputs": [],
   "source": [
    "df = pd.merge(df, bluetooth_new, left_on='timestamp', right_on='bt_timestamp', how='outer')"
   ]
  },
  {
   "cell_type": "code",
   "execution_count": 171,
   "metadata": {
    "ExecuteTime": {
     "end_time": "2019-01-12T12:11:46.483563Z",
     "start_time": "2019-01-12T12:11:45.794471Z"
    }
   },
   "outputs": [],
   "source": [
    "df.drop(columns=['bt_timestamp'], inplace=True)"
   ]
  },
  {
   "cell_type": "markdown",
   "metadata": {},
   "source": [
    "## Wi-Fi"
   ]
  },
  {
   "cell_type": "code",
   "execution_count": 172,
   "metadata": {
    "ExecuteTime": {
     "end_time": "2019-01-12T12:21:48.139708Z",
     "start_time": "2019-01-12T12:21:48.129598Z"
    }
   },
   "outputs": [
    {
     "data": {
      "text/html": [
       "<div>\n",
       "<style scoped>\n",
       "    .dataframe tbody tr th:only-of-type {\n",
       "        vertical-align: middle;\n",
       "    }\n",
       "\n",
       "    .dataframe tbody tr th {\n",
       "        vertical-align: top;\n",
       "    }\n",
       "\n",
       "    .dataframe thead th {\n",
       "        text-align: right;\n",
       "    }\n",
       "</style>\n",
       "<table border=\"1\" class=\"dataframe\">\n",
       "  <thead>\n",
       "    <tr style=\"text-align: right;\">\n",
       "      <th></th>\n",
       "      <th>time</th>\n",
       "      <th>BSSID</th>\n",
       "      <th>freq</th>\n",
       "      <th>level</th>\n",
       "    </tr>\n",
       "  </thead>\n",
       "  <tbody>\n",
       "    <tr>\n",
       "      <th>0</th>\n",
       "      <td>2013-03-27 04:02:43</td>\n",
       "      <td>00:60:b3:07:1d:27</td>\n",
       "      <td>2427</td>\n",
       "      <td>-90</td>\n",
       "    </tr>\n",
       "    <tr>\n",
       "      <th>1</th>\n",
       "      <td>2013-03-27 04:02:43</td>\n",
       "      <td>f8:1e:df:fd:4a:4b</td>\n",
       "      <td>2417</td>\n",
       "      <td>-64</td>\n",
       "    </tr>\n",
       "    <tr>\n",
       "      <th>2</th>\n",
       "      <td>2013-03-27 04:22:43</td>\n",
       "      <td>f8:1e:df:fd:4a:4b</td>\n",
       "      <td>2417</td>\n",
       "      <td>-69</td>\n",
       "    </tr>\n",
       "    <tr>\n",
       "      <th>3</th>\n",
       "      <td>2013-03-27 04:25:20</td>\n",
       "      <td>f8:1e:df:fd:4a:4b</td>\n",
       "      <td>2417</td>\n",
       "      <td>-74</td>\n",
       "    </tr>\n",
       "    <tr>\n",
       "      <th>4</th>\n",
       "      <td>2013-03-27 04:42:44</td>\n",
       "      <td>f8:1e:df:fd:4a:4b</td>\n",
       "      <td>2417</td>\n",
       "      <td>-62</td>\n",
       "    </tr>\n",
       "  </tbody>\n",
       "</table>\n",
       "</div>"
      ],
      "text/plain": [
       "                 time              BSSID  freq  level\n",
       "0 2013-03-27 04:02:43  00:60:b3:07:1d:27  2427    -90\n",
       "1 2013-03-27 04:02:43  f8:1e:df:fd:4a:4b  2417    -64\n",
       "2 2013-03-27 04:22:43  f8:1e:df:fd:4a:4b  2417    -69\n",
       "3 2013-03-27 04:25:20  f8:1e:df:fd:4a:4b  2417    -74\n",
       "4 2013-03-27 04:42:44  f8:1e:df:fd:4a:4b  2417    -62"
      ]
     },
     "execution_count": 172,
     "metadata": {},
     "output_type": "execute_result"
    }
   ],
   "source": [
    "wifi.head()"
   ]
  },
  {
   "cell_type": "code",
   "execution_count": 175,
   "metadata": {
    "ExecuteTime": {
     "end_time": "2019-01-12T12:23:24.060530Z",
     "start_time": "2019-01-12T12:23:23.877484Z"
    }
   },
   "outputs": [
    {
     "name": "stderr",
     "output_type": "stream",
     "text": [
      "/Users/acikmese/anaconda3/lib/python3.6/site-packages/matplotlib/axes/_axes.py:6462: UserWarning: The 'normed' kwarg is deprecated, and has been replaced by the 'density' kwarg.\n",
      "  warnings.warn(\"The 'normed' kwarg is deprecated, and has been \"\n"
     ]
    },
    {
     "data": {
      "text/plain": [
       "<matplotlib.axes._subplots.AxesSubplot at 0x11f0345f8>"
      ]
     },
     "execution_count": 175,
     "metadata": {},
     "output_type": "execute_result"
    },
    {
     "data": {
      "image/png": "[encoded data removed]",
      "text/plain": [
       "<Figure size 432x288 with 1 Axes>"
      ]
     },
     "metadata": {},
     "output_type": "display_data"
    }
   ],
   "source": [
    "sns.distplot(wifi.level, bins=5)"
   ]
  },
  {
   "cell_type": "code",
   "execution_count": 174,
   "metadata": {
    "ExecuteTime": {
     "end_time": "2019-01-12T12:22:45.480835Z",
     "start_time": "2019-01-12T12:22:45.478193Z"
    }
   },
   "outputs": [],
   "source": [
    "wifi_new = pd.DataFrame()"
   ]
  },
  {
   "cell_type": "code",
   "execution_count": 176,
   "metadata": {
    "ExecuteTime": {
     "end_time": "2019-01-12T12:33:43.933887Z",
     "start_time": "2019-01-12T12:26:34.684571Z"
    }
   },
   "outputs": [],
   "source": [
    "for time in wifi.time.unique():\n",
    "    data = {'timestamp': time}\n",
    "    item = wifi[wifi.time == time]\n",
    "    data['total_devices_around'] = item.shape[0]\n",
    "    data['total_nearer'] = item[item.level >= -60].shape[0]\n",
    "    data['total_near'] = item[(item.level >= -80) & (item.level < -60)].shape[0]\n",
    "    data['total_far'] = item[(item.level >= -100) & (item.level < -80)].shape[0]\n",
    "    data['level_avg'] = round(item.level.mean())\n",
    "    data['level_std'] = item.level.std()\n",
    "    wifi_new = wifi_new.append(data, ignore_index=True)"
   ]
  },
  {
   "cell_type": "code",
   "execution_count": 178,
   "metadata": {
    "ExecuteTime": {
     "end_time": "2019-01-12T12:51:33.470221Z",
     "start_time": "2019-01-12T12:51:33.454852Z"
    }
   },
   "outputs": [
    {
     "data": {
      "text/html": [
       "<div>\n",
       "<style scoped>\n",
       "    .dataframe tbody tr th:only-of-type {\n",
       "        vertical-align: middle;\n",
       "    }\n",
       "\n",
       "    .dataframe tbody tr th {\n",
       "        vertical-align: top;\n",
       "    }\n",
       "\n",
       "    .dataframe thead th {\n",
       "        text-align: right;\n",
       "    }\n",
       "</style>\n",
       "<table border=\"1\" class=\"dataframe\">\n",
       "  <thead>\n",
       "    <tr style=\"text-align: right;\">\n",
       "      <th></th>\n",
       "      <th>level_avg</th>\n",
       "      <th>level_std</th>\n",
       "      <th>timestamp</th>\n",
       "      <th>total_devices_around</th>\n",
       "      <th>total_far</th>\n",
       "      <th>total_near</th>\n",
       "      <th>total_nearer</th>\n",
       "    </tr>\n",
       "  </thead>\n",
       "  <tbody>\n",
       "    <tr>\n",
       "      <th>0</th>\n",
       "      <td>-77.0</td>\n",
       "      <td>18.384776</td>\n",
       "      <td>2013-03-27 04:02:43</td>\n",
       "      <td>2.0</td>\n",
       "      <td>1.0</td>\n",
       "      <td>1.0</td>\n",
       "      <td>0.0</td>\n",
       "    </tr>\n",
       "    <tr>\n",
       "      <th>1</th>\n",
       "      <td>-69.0</td>\n",
       "      <td>NaN</td>\n",
       "      <td>2013-03-27 04:22:43</td>\n",
       "      <td>1.0</td>\n",
       "      <td>0.0</td>\n",
       "      <td>1.0</td>\n",
       "      <td>0.0</td>\n",
       "    </tr>\n",
       "    <tr>\n",
       "      <th>2</th>\n",
       "      <td>-74.0</td>\n",
       "      <td>NaN</td>\n",
       "      <td>2013-03-27 04:25:20</td>\n",
       "      <td>1.0</td>\n",
       "      <td>0.0</td>\n",
       "      <td>1.0</td>\n",
       "      <td>0.0</td>\n",
       "    </tr>\n",
       "    <tr>\n",
       "      <th>3</th>\n",
       "      <td>-62.0</td>\n",
       "      <td>NaN</td>\n",
       "      <td>2013-03-27 04:42:44</td>\n",
       "      <td>1.0</td>\n",
       "      <td>0.0</td>\n",
       "      <td>1.0</td>\n",
       "      <td>0.0</td>\n",
       "    </tr>\n",
       "    <tr>\n",
       "      <th>4</th>\n",
       "      <td>-62.0</td>\n",
       "      <td>NaN</td>\n",
       "      <td>2013-03-27 04:55:27</td>\n",
       "      <td>1.0</td>\n",
       "      <td>0.0</td>\n",
       "      <td>1.0</td>\n",
       "      <td>0.0</td>\n",
       "    </tr>\n",
       "  </tbody>\n",
       "</table>\n",
       "</div>"
      ],
      "text/plain": [
       "   level_avg  level_std           timestamp  total_devices_around  total_far  \\\n",
       "0      -77.0  18.384776 2013-03-27 04:02:43                   2.0        1.0   \n",
       "1      -69.0        NaN 2013-03-27 04:22:43                   1.0        0.0   \n",
       "2      -74.0        NaN 2013-03-27 04:25:20                   1.0        0.0   \n",
       "3      -62.0        NaN 2013-03-27 04:42:44                   1.0        0.0   \n",
       "4      -62.0        NaN 2013-03-27 04:55:27                   1.0        0.0   \n",
       "\n",
       "   total_near  total_nearer  \n",
       "0         1.0           0.0  \n",
       "1         1.0           0.0  \n",
       "2         1.0           0.0  \n",
       "3         1.0           0.0  \n",
       "4         1.0           0.0  "
      ]
     },
     "execution_count": 178,
     "metadata": {},
     "output_type": "execute_result"
    }
   ],
   "source": [
    "wifi_new.head()"
   ]
  },
  {
   "cell_type": "code",
   "execution_count": 179,
   "metadata": {
    "ExecuteTime": {
     "end_time": "2019-01-12T12:51:44.590086Z",
     "start_time": "2019-01-12T12:51:44.586969Z"
    }
   },
   "outputs": [],
   "source": [
    "wifi_new.columns = ['wifi_' + i for i in wifi_new.columns]"
   ]
  },
  {
   "cell_type": "code",
   "execution_count": 180,
   "metadata": {
    "ExecuteTime": {
     "end_time": "2019-01-12T12:52:36.399839Z",
     "start_time": "2019-01-12T12:52:31.652634Z"
    }
   },
   "outputs": [],
   "source": [
    "df = pd.merge(df, wifi_new, left_on='timestamp', right_on='wifi_timestamp', how='outer')"
   ]
  },
  {
   "cell_type": "code",
   "execution_count": 182,
   "metadata": {
    "ExecuteTime": {
     "end_time": "2019-01-12T12:53:50.822108Z",
     "start_time": "2019-01-12T12:53:48.299452Z"
    }
   },
   "outputs": [],
   "source": [
    "df.drop(columns=['wifi_timestamp'], inplace=True)"
   ]
  },
  {
   "cell_type": "markdown",
   "metadata": {},
   "source": [
    "## Dark"
   ]
  },
  {
   "cell_type": "code",
   "execution_count": 184,
   "metadata": {
    "ExecuteTime": {
     "end_time": "2019-01-12T12:57:38.299994Z",
     "start_time": "2019-01-12T12:57:38.292832Z"
    }
   },
   "outputs": [
    {
     "data": {
      "text/html": [
       "<div>\n",
       "<style scoped>\n",
       "    .dataframe tbody tr th:only-of-type {\n",
       "        vertical-align: middle;\n",
       "    }\n",
       "\n",
       "    .dataframe tbody tr th {\n",
       "        vertical-align: top;\n",
       "    }\n",
       "\n",
       "    .dataframe thead th {\n",
       "        text-align: right;\n",
       "    }\n",
       "</style>\n",
       "<table border=\"1\" class=\"dataframe\">\n",
       "  <thead>\n",
       "    <tr style=\"text-align: right;\">\n",
       "      <th></th>\n",
       "      <th>start</th>\n",
       "      <th>end</th>\n",
       "    </tr>\n",
       "  </thead>\n",
       "  <tbody>\n",
       "    <tr>\n",
       "      <th>0</th>\n",
       "      <td>2013-03-27 06:21:06</td>\n",
       "      <td>2013-03-27 11:50:49</td>\n",
       "    </tr>\n",
       "    <tr>\n",
       "      <th>1</th>\n",
       "      <td>2013-03-27 12:11:42</td>\n",
       "      <td>2013-03-27 13:30:07</td>\n",
       "    </tr>\n",
       "    <tr>\n",
       "      <th>2</th>\n",
       "      <td>2013-03-27 17:45:47</td>\n",
       "      <td>2013-03-27 19:08:44</td>\n",
       "    </tr>\n",
       "    <tr>\n",
       "      <th>3</th>\n",
       "      <td>2013-03-27 23:05:58</td>\n",
       "      <td>2013-03-28 00:11:25</td>\n",
       "    </tr>\n",
       "    <tr>\n",
       "      <th>4</th>\n",
       "      <td>2013-03-28 19:03:20</td>\n",
       "      <td>2013-03-28 20:25:43</td>\n",
       "    </tr>\n",
       "  </tbody>\n",
       "</table>\n",
       "</div>"
      ],
      "text/plain": [
       "                start                 end\n",
       "0 2013-03-27 06:21:06 2013-03-27 11:50:49\n",
       "1 2013-03-27 12:11:42 2013-03-27 13:30:07\n",
       "2 2013-03-27 17:45:47 2013-03-27 19:08:44\n",
       "3 2013-03-27 23:05:58 2013-03-28 00:11:25\n",
       "4 2013-03-28 19:03:20 2013-03-28 20:25:43"
      ]
     },
     "execution_count": 184,
     "metadata": {},
     "output_type": "execute_result"
    }
   ],
   "source": [
    "dark.head()"
   ]
  },
  {
   "cell_type": "code",
   "execution_count": 185,
   "metadata": {
    "ExecuteTime": {
     "end_time": "2019-01-12T12:58:36.006719Z",
     "start_time": "2019-01-12T12:58:35.995802Z"
    }
   },
   "outputs": [],
   "source": [
    "df['phone_in_dark'] = np.nan"
   ]
  },
  {
   "cell_type": "code",
   "execution_count": 186,
   "metadata": {
    "ExecuteTime": {
     "end_time": "2019-01-12T12:59:31.873246Z",
     "start_time": "2019-01-12T12:59:21.113668Z"
    }
   },
   "outputs": [],
   "source": [
    "for i in range(dark.shape[0]):\n",
    "    start = dark.iloc[i, 0]\n",
    "    end = dark.iloc[i, 1]\n",
    "    df.loc[(df.timestamp >= start) & (df.timestamp <= end), 'phone_in_dark'] = 1"
   ]
  },
  {
   "cell_type": "markdown",
   "metadata": {},
   "source": [
    "## Phone Charge"
   ]
  },
  {
   "cell_type": "code",
   "execution_count": 188,
   "metadata": {
    "ExecuteTime": {
     "end_time": "2019-01-12T13:00:48.521497Z",
     "start_time": "2019-01-12T13:00:48.511572Z"
    }
   },
   "outputs": [
    {
     "data": {
      "text/html": [
       "<div>\n",
       "<style scoped>\n",
       "    .dataframe tbody tr th:only-of-type {\n",
       "        vertical-align: middle;\n",
       "    }\n",
       "\n",
       "    .dataframe tbody tr th {\n",
       "        vertical-align: top;\n",
       "    }\n",
       "\n",
       "    .dataframe thead th {\n",
       "        text-align: right;\n",
       "    }\n",
       "</style>\n",
       "<table border=\"1\" class=\"dataframe\">\n",
       "  <thead>\n",
       "    <tr style=\"text-align: right;\">\n",
       "      <th></th>\n",
       "      <th>start</th>\n",
       "      <th>end</th>\n",
       "    </tr>\n",
       "  </thead>\n",
       "  <tbody>\n",
       "    <tr>\n",
       "      <th>0</th>\n",
       "      <td>2013-03-27 04:34:45</td>\n",
       "      <td>2013-03-27 06:13:26</td>\n",
       "    </tr>\n",
       "    <tr>\n",
       "      <th>1</th>\n",
       "      <td>2013-03-27 06:21:23</td>\n",
       "      <td>2013-03-27 10:58:53</td>\n",
       "    </tr>\n",
       "    <tr>\n",
       "      <th>2</th>\n",
       "      <td>2013-03-28 12:11:58</td>\n",
       "      <td>2013-03-28 13:41:41</td>\n",
       "    </tr>\n",
       "    <tr>\n",
       "      <th>3</th>\n",
       "      <td>2013-03-28 14:09:56</td>\n",
       "      <td>2013-03-28 15:47:01</td>\n",
       "    </tr>\n",
       "    <tr>\n",
       "      <th>4</th>\n",
       "      <td>2013-03-29 05:19:32</td>\n",
       "      <td>2013-03-29 07:17:26</td>\n",
       "    </tr>\n",
       "  </tbody>\n",
       "</table>\n",
       "</div>"
      ],
      "text/plain": [
       "                start                 end\n",
       "0 2013-03-27 04:34:45 2013-03-27 06:13:26\n",
       "1 2013-03-27 06:21:23 2013-03-27 10:58:53\n",
       "2 2013-03-28 12:11:58 2013-03-28 13:41:41\n",
       "3 2013-03-28 14:09:56 2013-03-28 15:47:01\n",
       "4 2013-03-29 05:19:32 2013-03-29 07:17:26"
      ]
     },
     "execution_count": 188,
     "metadata": {},
     "output_type": "execute_result"
    }
   ],
   "source": [
    "phonecharge.head()"
   ]
  },
  {
   "cell_type": "code",
   "execution_count": 189,
   "metadata": {
    "ExecuteTime": {
     "end_time": "2019-01-12T13:01:27.560916Z",
     "start_time": "2019-01-12T13:01:27.549627Z"
    }
   },
   "outputs": [],
   "source": [
    "df['phone_charging'] = np.nan"
   ]
  },
  {
   "cell_type": "code",
   "execution_count": 190,
   "metadata": {
    "ExecuteTime": {
     "end_time": "2019-01-12T13:02:05.485439Z",
     "start_time": "2019-01-12T13:02:00.791037Z"
    }
   },
   "outputs": [],
   "source": [
    "for i in range(phonecharge.shape[0]):\n",
    "    start = phonecharge.iloc[i, 0]\n",
    "    end = phonecharge.iloc[i, 1]\n",
    "    df.loc[(df.timestamp >= start) & (df.timestamp <= end), 'phone_charging'] = 1"
   ]
  },
  {
   "cell_type": "markdown",
   "metadata": {},
   "source": [
    "## Phone Lock"
   ]
  },
  {
   "cell_type": "code",
   "execution_count": 191,
   "metadata": {
    "ExecuteTime": {
     "end_time": "2019-01-12T13:02:27.043837Z",
     "start_time": "2019-01-12T13:02:27.034945Z"
    }
   },
   "outputs": [
    {
     "data": {
      "text/html": [
       "<div>\n",
       "<style scoped>\n",
       "    .dataframe tbody tr th:only-of-type {\n",
       "        vertical-align: middle;\n",
       "    }\n",
       "\n",
       "    .dataframe tbody tr th {\n",
       "        vertical-align: top;\n",
       "    }\n",
       "\n",
       "    .dataframe thead th {\n",
       "        text-align: right;\n",
       "    }\n",
       "</style>\n",
       "<table border=\"1\" class=\"dataframe\">\n",
       "  <thead>\n",
       "    <tr style=\"text-align: right;\">\n",
       "      <th></th>\n",
       "      <th>start</th>\n",
       "      <th>end</th>\n",
       "    </tr>\n",
       "  </thead>\n",
       "  <tbody>\n",
       "    <tr>\n",
       "      <th>0</th>\n",
       "      <td>2013-03-27 04:36:32</td>\n",
       "      <td>2013-03-27 06:13:27</td>\n",
       "    </tr>\n",
       "    <tr>\n",
       "      <th>1</th>\n",
       "      <td>2013-03-27 06:26:05</td>\n",
       "      <td>2013-03-27 10:58:53</td>\n",
       "    </tr>\n",
       "    <tr>\n",
       "      <th>2</th>\n",
       "      <td>2013-03-27 12:12:13</td>\n",
       "      <td>2013-03-27 13:30:08</td>\n",
       "    </tr>\n",
       "    <tr>\n",
       "      <th>3</th>\n",
       "      <td>2013-03-27 17:46:18</td>\n",
       "      <td>2013-03-27 19:04:09</td>\n",
       "    </tr>\n",
       "    <tr>\n",
       "      <th>4</th>\n",
       "      <td>2013-03-27 23:05:58</td>\n",
       "      <td>2013-03-28 00:11:11</td>\n",
       "    </tr>\n",
       "  </tbody>\n",
       "</table>\n",
       "</div>"
      ],
      "text/plain": [
       "                start                 end\n",
       "0 2013-03-27 04:36:32 2013-03-27 06:13:27\n",
       "1 2013-03-27 06:26:05 2013-03-27 10:58:53\n",
       "2 2013-03-27 12:12:13 2013-03-27 13:30:08\n",
       "3 2013-03-27 17:46:18 2013-03-27 19:04:09\n",
       "4 2013-03-27 23:05:58 2013-03-28 00:11:11"
      ]
     },
     "execution_count": 191,
     "metadata": {},
     "output_type": "execute_result"
    }
   ],
   "source": [
    "phonelock.head()"
   ]
  },
  {
   "cell_type": "code",
   "execution_count": 192,
   "metadata": {
    "ExecuteTime": {
     "end_time": "2019-01-12T13:02:46.848585Z",
     "start_time": "2019-01-12T13:02:46.838156Z"
    }
   },
   "outputs": [],
   "source": [
    "df['phone_locked'] = np.nan"
   ]
  },
  {
   "cell_type": "code",
   "execution_count": 193,
   "metadata": {
    "ExecuteTime": {
     "end_time": "2019-01-12T13:03:57.693563Z",
     "start_time": "2019-01-12T13:03:45.224382Z"
    }
   },
   "outputs": [],
   "source": [
    "for i in range(phonelock.shape[0]):\n",
    "    start = phonelock.iloc[i, 0]\n",
    "    end = phonelock.iloc[i, 1]\n",
    "    df.loc[(df.timestamp >= start) & (df.timestamp <= end), 'phone_locked'] = 1"
   ]
  },
  {
   "cell_type": "code",
   "execution_count": null,
   "metadata": {},
   "outputs": [],
   "source": []
  }
 ],
 "metadata": {
  "kernelspec": {
   "display_name": "Python [conda root]",
   "language": "python",
   "name": "conda-root-py"
  },
  "language_info": {
   "codemirror_mode": {
    "name": "ipython",
    "version": 3
   },
   "file_extension": ".py",
   "mimetype": "text/x-python",
   "name": "python",
   "nbconvert_exporter": "python",
   "pygments_lexer": "ipython3",
   "version": "3.6.5"
  },
  "toc": {
   "base_numbering": 1,
   "nav_menu": {},
   "number_sections": true,
   "sideBar": true,
   "skip_h1_title": false,
   "title_cell": "Table of Contents",
   "title_sidebar": "Contents",
   "toc_cell": false,
   "toc_position": {},
   "toc_section_display": true,
   "toc_window_display": false
  },
  "varInspector": {
   "cols": {
    "lenName": 16,
    "lenType": 16,
    "lenVar": 40
   },
   "kernels_config": {
    "python": {
     "delete_cmd_postfix": "",
     "delete_cmd_prefix": "del ",
     "library": "var_list.py",
     "varRefreshCmd": "print(var_dic_list())"
    },
    "r": {
     "delete_cmd_postfix": ") ",
     "delete_cmd_prefix": "rm(",
     "library": "var_list.r",
     "varRefreshCmd": "cat(var_dic_list()) "
    }
   },
   "types_to_exclude": [
    "module",
    "function",
    "builtin_function_or_method",
    "instance",
    "_Feature"
   ],
   "window_display": false
  }
 },
 "nbformat": 4,
 "nbformat_minor": 2
}
