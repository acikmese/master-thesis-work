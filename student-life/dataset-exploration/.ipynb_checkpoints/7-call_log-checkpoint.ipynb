{
 "cells": [
  {
   "cell_type": "code",
   "execution_count": 1,
   "metadata": {
    "ExecuteTime": {
     "end_time": "2019-01-16T10:44:03.409409Z",
     "start_time": "2019-01-16T10:44:03.001184Z"
    }
   },
   "outputs": [],
   "source": [
    "import pandas as pd"
   ]
  },
  {
   "cell_type": "code",
   "execution_count": 2,
   "metadata": {
    "ExecuteTime": {
     "end_time": "2019-01-16T10:44:09.857108Z",
     "start_time": "2019-01-16T10:44:09.853343Z"
    }
   },
   "outputs": [],
   "source": [
    "def show_full_data(data, row_size=None, column_size=None, col_width=-1):\n",
    "    \"\"\"Shows all rows and columns instead of showing only some part and hiding other parts for large data.\n",
    "    \"\"\"\n",
    "    with pd.option_context('display.max_rows', row_size, 'display.max_columns', column_size, 'display.max_colwidth', col_width):\n",
    "        display(data)"
   ]
  },
  {
   "cell_type": "code",
   "execution_count": 3,
   "metadata": {
    "ExecuteTime": {
     "end_time": "2019-01-16T10:44:45.756868Z",
     "start_time": "2019-01-16T10:44:45.737307Z"
    }
   },
   "outputs": [],
   "source": [
    "call_log = pd.read_csv('../../../student-life-dataset/dataset/call_log/call_log_u00.csv')"
   ]
  },
  {
   "cell_type": "code",
   "execution_count": 5,
   "metadata": {
    "ExecuteTime": {
     "end_time": "2019-01-16T10:45:05.321739Z",
     "start_time": "2019-01-16T10:45:05.305128Z"
    }
   },
   "outputs": [
    {
     "data": {
      "text/html": [
       "<div>\n",
       "<style scoped>\n",
       "    .dataframe tbody tr th:only-of-type {\n",
       "        vertical-align: middle;\n",
       "    }\n",
       "\n",
       "    .dataframe tbody tr th {\n",
       "        vertical-align: top;\n",
       "    }\n",
       "\n",
       "    .dataframe thead th {\n",
       "        text-align: right;\n",
       "    }\n",
       "</style>\n",
       "<table border=\"1\" class=\"dataframe\">\n",
       "  <thead>\n",
       "    <tr style=\"text-align: right;\">\n",
       "      <th></th>\n",
       "      <th>id</th>\n",
       "      <th>device</th>\n",
       "      <th>timestamp</th>\n",
       "      <th>CALLS__id</th>\n",
       "      <th>CALLS_date</th>\n",
       "      <th>CALLS_duration</th>\n",
       "      <th>CALLS_name</th>\n",
       "      <th>CALLS_number</th>\n",
       "      <th>CALLS_numberlabel</th>\n",
       "      <th>CALLS_numbertype</th>\n",
       "      <th>CALLS_type</th>\n",
       "    </tr>\n",
       "  </thead>\n",
       "  <tbody>\n",
       "    <tr>\n",
       "      <th>0</th>\n",
       "      <td>8b67cbb5-cfa2-465b-b5af-31ee2c6606a6-40</td>\n",
       "      <td>1977b545-a88f-4903-a7ae-2c434de4be49</td>\n",
       "      <td>1364099483</td>\n",
       "      <td>NaN</td>\n",
       "      <td>NaN</td>\n",
       "      <td>NaN</td>\n",
       "      <td>NaN</td>\n",
       "      <td>NaN</td>\n",
       "      <td>NaN</td>\n",
       "      <td>NaN</td>\n",
       "      <td>NaN</td>\n",
       "    </tr>\n",
       "    <tr>\n",
       "      <th>1</th>\n",
       "      <td>9c0354e8-4f4f-451a-9358-efe17df0d26c-22</td>\n",
       "      <td>1977b545-a88f-4903-a7ae-2c434de4be49</td>\n",
       "      <td>1364077455</td>\n",
       "      <td>213.0</td>\n",
       "      <td>1.364077e+12</td>\n",
       "      <td>10.0</td>\n",
       "      <td>{\"ONE_WAY_HASH\":\"70f8bb9a8a5393ef080507a89e4b98d139000d65\"}</td>\n",
       "      <td>{\"ONE_WAY_HASH\":\"c51aad31359925622a961f2082ecf1eea265f8b3\"}</td>\n",
       "      <td>NaN</td>\n",
       "      <td>{\"ONE_WAY_HASH\":\"356a192b7913b04c54574d18c28d46e6395428ab\"}</td>\n",
       "      <td>2.0</td>\n",
       "    </tr>\n",
       "    <tr>\n",
       "      <th>2</th>\n",
       "      <td>9c0354e8-4f4f-451a-9358-efe17df0d26c-22</td>\n",
       "      <td>1977b545-a88f-4903-a7ae-2c434de4be49</td>\n",
       "      <td>1364077455</td>\n",
       "      <td>212.0</td>\n",
       "      <td>1.364077e+12</td>\n",
       "      <td>13.0</td>\n",
       "      <td>{\"ONE_WAY_HASH\":\"70f8bb9a8a5393ef080507a89e4b98d139000d65\"}</td>\n",
       "      <td>{\"ONE_WAY_HASH\":\"c51aad31359925622a961f2082ecf1eea265f8b3\"}</td>\n",
       "      <td>NaN</td>\n",
       "      <td>{\"ONE_WAY_HASH\":\"356a192b7913b04c54574d18c28d46e6395428ab\"}</td>\n",
       "      <td>2.0</td>\n",
       "    </tr>\n",
       "    <tr>\n",
       "      <th>3</th>\n",
       "      <td>9c0354e8-4f4f-451a-9358-efe17df0d26c-22</td>\n",
       "      <td>1977b545-a88f-4903-a7ae-2c434de4be49</td>\n",
       "      <td>1364077455</td>\n",
       "      <td>211.0</td>\n",
       "      <td>1.364075e+12</td>\n",
       "      <td>18.0</td>\n",
       "      <td>{\"ONE_WAY_HASH\":\"70f8bb9a8a5393ef080507a89e4b98d139000d65\"}</td>\n",
       "      <td>{\"ONE_WAY_HASH\":\"c51aad31359925622a961f2082ecf1eea265f8b3\"}</td>\n",
       "      <td>NaN</td>\n",
       "      <td>{\"ONE_WAY_HASH\":\"356a192b7913b04c54574d18c28d46e6395428ab\"}</td>\n",
       "      <td>2.0</td>\n",
       "    </tr>\n",
       "    <tr>\n",
       "      <th>4</th>\n",
       "      <td>9c0354e8-4f4f-451a-9358-efe17df0d26c-22</td>\n",
       "      <td>1977b545-a88f-4903-a7ae-2c434de4be49</td>\n",
       "      <td>1364077455</td>\n",
       "      <td>210.0</td>\n",
       "      <td>1.364074e+12</td>\n",
       "      <td>438.0</td>\n",
       "      <td>{\"ONE_WAY_HASH\":\"70f8bb9a8a5393ef080507a89e4b98d139000d65\"}</td>\n",
       "      <td>{\"ONE_WAY_HASH\":\"c51aad31359925622a961f2082ecf1eea265f8b3\"}</td>\n",
       "      <td>NaN</td>\n",
       "      <td>{\"ONE_WAY_HASH\":\"356a192b7913b04c54574d18c28d46e6395428ab\"}</td>\n",
       "      <td>2.0</td>\n",
       "    </tr>\n",
       "  </tbody>\n",
       "</table>\n",
       "</div>"
      ],
      "text/plain": [
       "                                        id  \\\n",
       "0  8b67cbb5-cfa2-465b-b5af-31ee2c6606a6-40   \n",
       "1  9c0354e8-4f4f-451a-9358-efe17df0d26c-22   \n",
       "2  9c0354e8-4f4f-451a-9358-efe17df0d26c-22   \n",
       "3  9c0354e8-4f4f-451a-9358-efe17df0d26c-22   \n",
       "4  9c0354e8-4f4f-451a-9358-efe17df0d26c-22   \n",
       "\n",
       "                                 device   timestamp  CALLS__id    CALLS_date  \\\n",
       "0  1977b545-a88f-4903-a7ae-2c434de4be49  1364099483 NaN        NaN             \n",
       "1  1977b545-a88f-4903-a7ae-2c434de4be49  1364077455  213.0      1.364077e+12   \n",
       "2  1977b545-a88f-4903-a7ae-2c434de4be49  1364077455  212.0      1.364077e+12   \n",
       "3  1977b545-a88f-4903-a7ae-2c434de4be49  1364077455  211.0      1.364075e+12   \n",
       "4  1977b545-a88f-4903-a7ae-2c434de4be49  1364077455  210.0      1.364074e+12   \n",
       "\n",
       "   CALLS_duration  \\\n",
       "0 NaN               \n",
       "1  10.0             \n",
       "2  13.0             \n",
       "3  18.0             \n",
       "4  438.0            \n",
       "\n",
       "                                                    CALLS_name  \\\n",
       "0  NaN                                                           \n",
       "1  {\"ONE_WAY_HASH\":\"70f8bb9a8a5393ef080507a89e4b98d139000d65\"}   \n",
       "2  {\"ONE_WAY_HASH\":\"70f8bb9a8a5393ef080507a89e4b98d139000d65\"}   \n",
       "3  {\"ONE_WAY_HASH\":\"70f8bb9a8a5393ef080507a89e4b98d139000d65\"}   \n",
       "4  {\"ONE_WAY_HASH\":\"70f8bb9a8a5393ef080507a89e4b98d139000d65\"}   \n",
       "\n",
       "                                                  CALLS_number  \\\n",
       "0  NaN                                                           \n",
       "1  {\"ONE_WAY_HASH\":\"c51aad31359925622a961f2082ecf1eea265f8b3\"}   \n",
       "2  {\"ONE_WAY_HASH\":\"c51aad31359925622a961f2082ecf1eea265f8b3\"}   \n",
       "3  {\"ONE_WAY_HASH\":\"c51aad31359925622a961f2082ecf1eea265f8b3\"}   \n",
       "4  {\"ONE_WAY_HASH\":\"c51aad31359925622a961f2082ecf1eea265f8b3\"}   \n",
       "\n",
       "   CALLS_numberlabel  \\\n",
       "0 NaN                  \n",
       "1 NaN                  \n",
       "2 NaN                  \n",
       "3 NaN                  \n",
       "4 NaN                  \n",
       "\n",
       "                                              CALLS_numbertype  CALLS_type  \n",
       "0  NaN                                                         NaN          \n",
       "1  {\"ONE_WAY_HASH\":\"356a192b7913b04c54574d18c28d46e6395428ab\"}  2.0         \n",
       "2  {\"ONE_WAY_HASH\":\"356a192b7913b04c54574d18c28d46e6395428ab\"}  2.0         \n",
       "3  {\"ONE_WAY_HASH\":\"356a192b7913b04c54574d18c28d46e6395428ab\"}  2.0         \n",
       "4  {\"ONE_WAY_HASH\":\"356a192b7913b04c54574d18c28d46e6395428ab\"}  2.0         "
      ]
     },
     "metadata": {},
     "output_type": "display_data"
    }
   ],
   "source": [
    "show_full_data(call_log.head())"
   ]
  },
  {
   "cell_type": "code",
   "execution_count": null,
   "metadata": {},
   "outputs": [],
   "source": []
  }
 ],
 "metadata": {
  "kernelspec": {
   "display_name": "Python [conda root]",
   "language": "python",
   "name": "conda-root-py"
  },
  "language_info": {
   "codemirror_mode": {
    "name": "ipython",
    "version": 3
   },
   "file_extension": ".py",
   "mimetype": "text/x-python",
   "name": "python",
   "nbconvert_exporter": "python",
   "pygments_lexer": "ipython3",
   "version": "3.6.5"
  },
  "toc": {
   "base_numbering": 1,
   "nav_menu": {},
   "number_sections": true,
   "sideBar": true,
   "skip_h1_title": false,
   "title_cell": "Table of Contents",
   "title_sidebar": "Contents",
   "toc_cell": false,
   "toc_position": {},
   "toc_section_display": true,
   "toc_window_display": false
  },
  "varInspector": {
   "cols": {
    "lenName": 16,
    "lenType": 16,
    "lenVar": 40
   },
   "kernels_config": {
    "python": {
     "delete_cmd_postfix": "",
     "delete_cmd_prefix": "del ",
     "library": "var_list.py",
     "varRefreshCmd": "print(var_dic_list())"
    },
    "r": {
     "delete_cmd_postfix": ") ",
     "delete_cmd_prefix": "rm(",
     "library": "var_list.r",
     "varRefreshCmd": "cat(var_dic_list()) "
    }
   },
   "types_to_exclude": [
    "module",
    "function",
    "builtin_function_or_method",
    "instance",
    "_Feature"
   ],
   "window_display": false
  }
 },
 "nbformat": 4,
 "nbformat_minor": 2
}
