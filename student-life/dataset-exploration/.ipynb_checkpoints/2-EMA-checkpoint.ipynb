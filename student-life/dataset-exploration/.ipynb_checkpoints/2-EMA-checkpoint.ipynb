{
 "cells": [
  {
   "cell_type": "code",
   "execution_count": 1,
   "metadata": {
    "ExecuteTime": {
     "end_time": "2019-01-12T17:17:31.693004Z",
     "start_time": "2019-01-12T17:17:29.906664Z"
    }
   },
   "outputs": [],
   "source": [
    "import pandas as pd\n",
    "import numpy as np\n",
    "import seaborn as sns\n",
    "import json\n",
    "from pprint import pprint"
   ]
  },
  {
   "cell_type": "code",
   "execution_count": 2,
   "metadata": {
    "ExecuteTime": {
     "end_time": "2019-01-12T17:17:31.727689Z",
     "start_time": "2019-01-12T17:17:31.722240Z"
    }
   },
   "outputs": [],
   "source": [
    "with open('../../../student-life-dataset/dataset/EMA/EMA_definition.json') as f:\n",
    "    definitions = json.load(f)"
   ]
  },
  {
   "cell_type": "markdown",
   "metadata": {},
   "source": [
    "# Social"
   ]
  },
  {
   "cell_type": "code",
   "execution_count": 3,
   "metadata": {
    "ExecuteTime": {
     "end_time": "2019-01-12T17:17:32.944467Z",
     "start_time": "2019-01-12T17:17:32.938756Z"
    }
   },
   "outputs": [
    {
     "data": {
      "text/plain": [
       "{'name': 'Social',\n",
       " 'questions': [{'options': '[1]0-4 persons, [2]5-9 persons, [3]10-19 persons, [4]20-49 persons, [5]50-99 persons, [6]over 100 persons, ',\n",
       "   'question_id': 'number',\n",
       "   'question_text': 'How many people did you have contact with yesterday, including anyone you said hello to, chatted, talked or discussed matters with, whether you did it face-to-face, by telephone, by mail or on the internet, and whether you personally knew the person or not? Please select one of the following categories that best matches your estimate:'},\n",
       "  {'options': '', 'question_id': 'location', 'question_text': ''}]}"
      ]
     },
     "execution_count": 3,
     "metadata": {},
     "output_type": "execute_result"
    }
   ],
   "source": [
    "definitions[0]"
   ]
  },
  {
   "cell_type": "code",
   "execution_count": 43,
   "metadata": {
    "ExecuteTime": {
     "end_time": "2019-01-12T17:37:38.781596Z",
     "start_time": "2019-01-12T17:37:38.767045Z"
    }
   },
   "outputs": [],
   "source": [
    "social = pd.read_json('../../../student-life-dataset/dataset/EMA/response/Social/Social_u00.json')"
   ]
  },
  {
   "cell_type": "code",
   "execution_count": 46,
   "metadata": {
    "ExecuteTime": {
     "end_time": "2019-01-12T17:37:49.434103Z",
     "start_time": "2019-01-12T17:37:49.421724Z"
    }
   },
   "outputs": [
    {
     "data": {
      "text/html": [
       "<div>\n",
       "<style scoped>\n",
       "    .dataframe tbody tr th:only-of-type {\n",
       "        vertical-align: middle;\n",
       "    }\n",
       "\n",
       "    .dataframe tbody tr th {\n",
       "        vertical-align: top;\n",
       "    }\n",
       "\n",
       "    .dataframe thead th {\n",
       "        text-align: right;\n",
       "    }\n",
       "</style>\n",
       "<table border=\"1\" class=\"dataframe\">\n",
       "  <thead>\n",
       "    <tr style=\"text-align: right;\">\n",
       "      <th></th>\n",
       "      <th>location</th>\n",
       "      <th>null</th>\n",
       "      <th>number</th>\n",
       "      <th>resp_time</th>\n",
       "    </tr>\n",
       "  </thead>\n",
       "  <tbody>\n",
       "    <tr>\n",
       "      <th>0</th>\n",
       "      <td>NaN</td>\n",
       "      <td>43.75908069,-72.32885314</td>\n",
       "      <td>NaN</td>\n",
       "      <td>2013-03-24 08:39:53</td>\n",
       "    </tr>\n",
       "    <tr>\n",
       "      <th>1</th>\n",
       "      <td>NaN</td>\n",
       "      <td>43.75908069,-72.32885314</td>\n",
       "      <td>NaN</td>\n",
       "      <td>2013-03-24 08:40:55</td>\n",
       "    </tr>\n",
       "    <tr>\n",
       "      <th>2</th>\n",
       "      <td>NaN</td>\n",
       "      <td>4</td>\n",
       "      <td>NaN</td>\n",
       "      <td>2013-03-24 08:39:50</td>\n",
       "    </tr>\n",
       "    <tr>\n",
       "      <th>3</th>\n",
       "      <td>NaN</td>\n",
       "      <td>3</td>\n",
       "      <td>NaN</td>\n",
       "      <td>2013-03-25 02:16:15</td>\n",
       "    </tr>\n",
       "    <tr>\n",
       "      <th>4</th>\n",
       "      <td>NaN</td>\n",
       "      <td>43.75885953,-72.32939114</td>\n",
       "      <td>NaN</td>\n",
       "      <td>2013-03-24 22:11:35</td>\n",
       "    </tr>\n",
       "    <tr>\n",
       "      <th>5</th>\n",
       "      <td>Unknown</td>\n",
       "      <td>NaN</td>\n",
       "      <td>5.0</td>\n",
       "      <td>2013-03-26 02:21:23</td>\n",
       "    </tr>\n",
       "    <tr>\n",
       "      <th>6</th>\n",
       "      <td>43.70759062,-72.28510298</td>\n",
       "      <td>NaN</td>\n",
       "      <td>1.0</td>\n",
       "      <td>2013-03-26 22:51:41</td>\n",
       "    </tr>\n",
       "    <tr>\n",
       "      <th>7</th>\n",
       "      <td>43.70697406,-72.28758978</td>\n",
       "      <td>NaN</td>\n",
       "      <td>1.0</td>\n",
       "      <td>2013-03-26 20:13:18</td>\n",
       "    </tr>\n",
       "    <tr>\n",
       "      <th>8</th>\n",
       "      <td>43.70708859,-72.28753397</td>\n",
       "      <td>NaN</td>\n",
       "      <td>3.0</td>\n",
       "      <td>2013-04-03 21:16:37</td>\n",
       "    </tr>\n",
       "    <tr>\n",
       "      <th>9</th>\n",
       "      <td>43.70863158,-72.2842741</td>\n",
       "      <td>NaN</td>\n",
       "      <td>4.0</td>\n",
       "      <td>2013-03-27 23:09:03</td>\n",
       "    </tr>\n",
       "  </tbody>\n",
       "</table>\n",
       "</div>"
      ],
      "text/plain": [
       "                   location                      null  number  \\\n",
       "0                       NaN  43.75908069,-72.32885314     NaN   \n",
       "1                       NaN  43.75908069,-72.32885314     NaN   \n",
       "2                       NaN                         4     NaN   \n",
       "3                       NaN                         3     NaN   \n",
       "4                       NaN  43.75885953,-72.32939114     NaN   \n",
       "5                   Unknown                       NaN     5.0   \n",
       "6  43.70759062,-72.28510298                       NaN     1.0   \n",
       "7  43.70697406,-72.28758978                       NaN     1.0   \n",
       "8  43.70708859,-72.28753397                       NaN     3.0   \n",
       "9   43.70863158,-72.2842741                       NaN     4.0   \n",
       "\n",
       "            resp_time  \n",
       "0 2013-03-24 08:39:53  \n",
       "1 2013-03-24 08:40:55  \n",
       "2 2013-03-24 08:39:50  \n",
       "3 2013-03-25 02:16:15  \n",
       "4 2013-03-24 22:11:35  \n",
       "5 2013-03-26 02:21:23  \n",
       "6 2013-03-26 22:51:41  \n",
       "7 2013-03-26 20:13:18  \n",
       "8 2013-04-03 21:16:37  \n",
       "9 2013-03-27 23:09:03  "
      ]
     },
     "execution_count": 46,
     "metadata": {},
     "output_type": "execute_result"
    }
   ],
   "source": [
    "social.head(10)"
   ]
  },
  {
   "cell_type": "code",
   "execution_count": 47,
   "metadata": {
    "ExecuteTime": {
     "end_time": "2019-01-12T17:37:59.951243Z",
     "start_time": "2019-01-12T17:37:59.948007Z"
    }
   },
   "outputs": [],
   "source": [
    "social = social.drop(columns='null')"
   ]
  },
  {
   "cell_type": "code",
   "execution_count": 48,
   "metadata": {
    "ExecuteTime": {
     "end_time": "2019-01-12T17:38:00.387455Z",
     "start_time": "2019-01-12T17:38:00.384038Z"
    }
   },
   "outputs": [],
   "source": [
    "social = social.dropna(subset=['number'])"
   ]
  },
  {
   "cell_type": "code",
   "execution_count": 9,
   "metadata": {
    "ExecuteTime": {
     "end_time": "2019-01-12T17:24:46.186897Z",
     "start_time": "2019-01-12T17:24:46.178987Z"
    }
   },
   "outputs": [],
   "source": [
    "# for i in range(social.shape[0]):\n",
    "#     if pd.isnull(social.iloc[i, 1]) == False:\n",
    "#         if (',' in social.iloc[i, 1]):\n",
    "#             social.iloc[i, 0] = social.iloc[i, 1]\n",
    "#         else:\n",
    "#             social.iloc[i, 2] = social.iloc[i, 1]"
   ]
  },
  {
   "cell_type": "code",
   "execution_count": 49,
   "metadata": {
    "ExecuteTime": {
     "end_time": "2019-01-12T17:38:14.039018Z",
     "start_time": "2019-01-12T17:38:14.029567Z"
    }
   },
   "outputs": [
    {
     "data": {
      "text/html": [
       "<div>\n",
       "<style scoped>\n",
       "    .dataframe tbody tr th:only-of-type {\n",
       "        vertical-align: middle;\n",
       "    }\n",
       "\n",
       "    .dataframe tbody tr th {\n",
       "        vertical-align: top;\n",
       "    }\n",
       "\n",
       "    .dataframe thead th {\n",
       "        text-align: right;\n",
       "    }\n",
       "</style>\n",
       "<table border=\"1\" class=\"dataframe\">\n",
       "  <thead>\n",
       "    <tr style=\"text-align: right;\">\n",
       "      <th></th>\n",
       "      <th>location</th>\n",
       "      <th>number</th>\n",
       "      <th>resp_time</th>\n",
       "    </tr>\n",
       "  </thead>\n",
       "  <tbody>\n",
       "    <tr>\n",
       "      <th>5</th>\n",
       "      <td>Unknown</td>\n",
       "      <td>5.0</td>\n",
       "      <td>2013-03-26 02:21:23</td>\n",
       "    </tr>\n",
       "    <tr>\n",
       "      <th>6</th>\n",
       "      <td>43.70759062,-72.28510298</td>\n",
       "      <td>1.0</td>\n",
       "      <td>2013-03-26 22:51:41</td>\n",
       "    </tr>\n",
       "    <tr>\n",
       "      <th>7</th>\n",
       "      <td>43.70697406,-72.28758978</td>\n",
       "      <td>1.0</td>\n",
       "      <td>2013-03-26 20:13:18</td>\n",
       "    </tr>\n",
       "    <tr>\n",
       "      <th>8</th>\n",
       "      <td>43.70708859,-72.28753397</td>\n",
       "      <td>3.0</td>\n",
       "      <td>2013-04-03 21:16:37</td>\n",
       "    </tr>\n",
       "    <tr>\n",
       "      <th>9</th>\n",
       "      <td>43.70863158,-72.2842741</td>\n",
       "      <td>4.0</td>\n",
       "      <td>2013-03-27 23:09:03</td>\n",
       "    </tr>\n",
       "  </tbody>\n",
       "</table>\n",
       "</div>"
      ],
      "text/plain": [
       "                   location  number           resp_time\n",
       "5                   Unknown     5.0 2013-03-26 02:21:23\n",
       "6  43.70759062,-72.28510298     1.0 2013-03-26 22:51:41\n",
       "7  43.70697406,-72.28758978     1.0 2013-03-26 20:13:18\n",
       "8  43.70708859,-72.28753397     3.0 2013-04-03 21:16:37\n",
       "9   43.70863158,-72.2842741     4.0 2013-03-27 23:09:03"
      ]
     },
     "execution_count": 49,
     "metadata": {},
     "output_type": "execute_result"
    }
   ],
   "source": [
    "social.head()"
   ]
  },
  {
   "cell_type": "markdown",
   "metadata": {},
   "source": [
    "# Class 1"
   ]
  },
  {
   "cell_type": "code",
   "execution_count": 50,
   "metadata": {
    "ExecuteTime": {
     "end_time": "2019-01-12T17:38:27.665072Z",
     "start_time": "2019-01-12T17:38:27.659910Z"
    }
   },
   "outputs": [
    {
     "data": {
      "text/plain": [
       "{'name': 'Class',\n",
       " 'questions': [{'options': '',\n",
       "   'question_id': 'course_id',\n",
       "   'question_text': \"What's the class name? (e.g., CS65)\"},\n",
       "  {'options': '[1]neutral, [2]strongly agree, [3]agree, [4]disagree, [5]strongly disagree, ',\n",
       "   'question_id': 'experience',\n",
       "   'question_text': 'I enjoyed the class today.'},\n",
       "  {'options': '[1]0, [2]1, [3]2, [4]3, [5]4, [6]5, [7]6, [8]7, [9]8, [10]9, [11]10, [12]>10, ',\n",
       "   'question_id': 'hours',\n",
       "   'question_text': 'How many hours did you spent on coursework outside class since the last class?'},\n",
       "  {'options': '(Yes) 1 2 (No)',\n",
       "   'question_id': 'due',\n",
       "   'question_text': 'Do you have an assignment (due), quizz or exam today?'},\n",
       "  {'options': '', 'question_id': 'location', 'question_text': ''}]}"
      ]
     },
     "execution_count": 50,
     "metadata": {},
     "output_type": "execute_result"
    }
   ],
   "source": [
    "definitions[1]"
   ]
  },
  {
   "cell_type": "code",
   "execution_count": 54,
   "metadata": {
    "ExecuteTime": {
     "end_time": "2019-01-12T17:40:03.637193Z",
     "start_time": "2019-01-12T17:40:03.607520Z"
    }
   },
   "outputs": [
    {
     "data": {
      "text/html": [
       "<div>\n",
       "<style scoped>\n",
       "    .dataframe tbody tr th:only-of-type {\n",
       "        vertical-align: middle;\n",
       "    }\n",
       "\n",
       "    .dataframe tbody tr th {\n",
       "        vertical-align: top;\n",
       "    }\n",
       "\n",
       "    .dataframe thead th {\n",
       "        text-align: right;\n",
       "    }\n",
       "</style>\n",
       "<table border=\"1\" class=\"dataframe\">\n",
       "  <thead>\n",
       "    <tr style=\"text-align: right;\">\n",
       "      <th></th>\n",
       "      <th>course_id</th>\n",
       "      <th>due</th>\n",
       "      <th>experience</th>\n",
       "      <th>hours</th>\n",
       "      <th>location</th>\n",
       "      <th>null</th>\n",
       "      <th>resp_time</th>\n",
       "    </tr>\n",
       "  </thead>\n",
       "  <tbody>\n",
       "    <tr>\n",
       "      <th>0</th>\n",
       "      <td>NaN</td>\n",
       "      <td>NaN</td>\n",
       "      <td>NaN</td>\n",
       "      <td>NaN</td>\n",
       "      <td>NaN</td>\n",
       "      <td>43.75926962,-72.32909769</td>\n",
       "      <td>2013-03-24 08:34:42</td>\n",
       "    </tr>\n",
       "    <tr>\n",
       "      <th>1</th>\n",
       "      <td>NaN</td>\n",
       "      <td>NaN</td>\n",
       "      <td>NaN</td>\n",
       "      <td>NaN</td>\n",
       "      <td>NaN</td>\n",
       "      <td></td>\n",
       "      <td>2013-03-24 08:40:48</td>\n",
       "    </tr>\n",
       "    <tr>\n",
       "      <th>2</th>\n",
       "      <td></td>\n",
       "      <td>2.0</td>\n",
       "      <td>1.0</td>\n",
       "      <td>1.0</td>\n",
       "      <td>43.76243366,-72.32615434</td>\n",
       "      <td>NaN</td>\n",
       "      <td>2013-04-01 01:25:48</td>\n",
       "    </tr>\n",
       "    <tr>\n",
       "      <th>3</th>\n",
       "      <td>cs65\\n</td>\n",
       "      <td>2.0</td>\n",
       "      <td>3.0</td>\n",
       "      <td>1.0</td>\n",
       "      <td>43.70544533,-72.28679012</td>\n",
       "      <td>NaN</td>\n",
       "      <td>2013-03-26 04:26:33</td>\n",
       "    </tr>\n",
       "    <tr>\n",
       "      <th>4</th>\n",
       "      <td></td>\n",
       "      <td>1.0</td>\n",
       "      <td>1.0</td>\n",
       "      <td>1.0</td>\n",
       "      <td>43.75932116,-72.32890406</td>\n",
       "      <td>NaN</td>\n",
       "      <td>2013-03-27 04:07:51</td>\n",
       "    </tr>\n",
       "    <tr>\n",
       "      <th>5</th>\n",
       "      <td>cs65</td>\n",
       "      <td>2.0</td>\n",
       "      <td>2.0</td>\n",
       "      <td>1.0</td>\n",
       "      <td>43.70033175,-72.28949659</td>\n",
       "      <td>NaN</td>\n",
       "      <td>2013-03-28 22:19:40</td>\n",
       "    </tr>\n",
       "    <tr>\n",
       "      <th>6</th>\n",
       "      <td>c65</td>\n",
       "      <td>2.0</td>\n",
       "      <td>3.0</td>\n",
       "      <td>2.0</td>\n",
       "      <td>43.70465788,-72.2887224</td>\n",
       "      <td>NaN</td>\n",
       "      <td>2013-03-28 00:10:26</td>\n",
       "    </tr>\n",
       "    <tr>\n",
       "      <th>7</th>\n",
       "      <td>cs65</td>\n",
       "      <td>2.0</td>\n",
       "      <td>3.0</td>\n",
       "      <td>2.0</td>\n",
       "      <td>43.70688502,-72.28755706</td>\n",
       "      <td>NaN</td>\n",
       "      <td>2013-03-29 00:26:11</td>\n",
       "    </tr>\n",
       "    <tr>\n",
       "      <th>8</th>\n",
       "      <td>cs65</td>\n",
       "      <td>2.0</td>\n",
       "      <td>3.0</td>\n",
       "      <td>1.0</td>\n",
       "      <td>43.70777831,-72.28510534</td>\n",
       "      <td>NaN</td>\n",
       "      <td>2013-03-29 19:02:07</td>\n",
       "    </tr>\n",
       "    <tr>\n",
       "      <th>9</th>\n",
       "      <td>cs66</td>\n",
       "      <td>2.0</td>\n",
       "      <td>3.0</td>\n",
       "      <td>3.0</td>\n",
       "      <td>43.70587194,-72.28717655</td>\n",
       "      <td>NaN</td>\n",
       "      <td>2013-03-30 00:06:02</td>\n",
       "    </tr>\n",
       "  </tbody>\n",
       "</table>\n",
       "</div>"
      ],
      "text/plain": [
       "  course_id  due  experience  hours                  location  \\\n",
       "0       NaN  NaN         NaN    NaN                       NaN   \n",
       "1       NaN  NaN         NaN    NaN                       NaN   \n",
       "2            2.0         1.0    1.0  43.76243366,-72.32615434   \n",
       "3    cs65\\n  2.0         3.0    1.0  43.70544533,-72.28679012   \n",
       "4            1.0         1.0    1.0  43.75932116,-72.32890406   \n",
       "5      cs65  2.0         2.0    1.0  43.70033175,-72.28949659   \n",
       "6       c65  2.0         3.0    2.0   43.70465788,-72.2887224   \n",
       "7      cs65  2.0         3.0    2.0  43.70688502,-72.28755706   \n",
       "8      cs65  2.0         3.0    1.0  43.70777831,-72.28510534   \n",
       "9      cs66  2.0         3.0    3.0  43.70587194,-72.28717655   \n",
       "\n",
       "                       null           resp_time  \n",
       "0  43.75926962,-72.32909769 2013-03-24 08:34:42  \n",
       "1                           2013-03-24 08:40:48  \n",
       "2                       NaN 2013-04-01 01:25:48  \n",
       "3                       NaN 2013-03-26 04:26:33  \n",
       "4                       NaN 2013-03-27 04:07:51  \n",
       "5                       NaN 2013-03-28 22:19:40  \n",
       "6                       NaN 2013-03-28 00:10:26  \n",
       "7                       NaN 2013-03-29 00:26:11  \n",
       "8                       NaN 2013-03-29 19:02:07  \n",
       "9                       NaN 2013-03-30 00:06:02  "
      ]
     },
     "execution_count": 54,
     "metadata": {},
     "output_type": "execute_result"
    }
   ],
   "source": [
    "class1 = pd.read_json('../../../student-life-dataset/dataset/EMA/response/Class/Class_u00.json')\n",
    "class1.head(10)"
   ]
  },
  {
   "cell_type": "code",
   "execution_count": 55,
   "metadata": {
    "ExecuteTime": {
     "end_time": "2019-01-12T17:40:14.837605Z",
     "start_time": "2019-01-12T17:40:14.833097Z"
    }
   },
   "outputs": [],
   "source": [
    "class1 = class1.drop(columns='null')"
   ]
  },
  {
   "cell_type": "code",
   "execution_count": 56,
   "metadata": {
    "ExecuteTime": {
     "end_time": "2019-01-12T17:40:45.721743Z",
     "start_time": "2019-01-12T17:40:45.717515Z"
    }
   },
   "outputs": [],
   "source": [
    "class1 = class1.dropna(subset=['due', 'experience', 'hours'])"
   ]
  },
  {
   "cell_type": "code",
   "execution_count": 57,
   "metadata": {
    "ExecuteTime": {
     "end_time": "2019-01-12T17:40:51.217685Z",
     "start_time": "2019-01-12T17:40:51.206704Z"
    }
   },
   "outputs": [
    {
     "data": {
      "text/html": [
       "<div>\n",
       "<style scoped>\n",
       "    .dataframe tbody tr th:only-of-type {\n",
       "        vertical-align: middle;\n",
       "    }\n",
       "\n",
       "    .dataframe tbody tr th {\n",
       "        vertical-align: top;\n",
       "    }\n",
       "\n",
       "    .dataframe thead th {\n",
       "        text-align: right;\n",
       "    }\n",
       "</style>\n",
       "<table border=\"1\" class=\"dataframe\">\n",
       "  <thead>\n",
       "    <tr style=\"text-align: right;\">\n",
       "      <th></th>\n",
       "      <th>course_id</th>\n",
       "      <th>due</th>\n",
       "      <th>experience</th>\n",
       "      <th>hours</th>\n",
       "      <th>location</th>\n",
       "      <th>resp_time</th>\n",
       "    </tr>\n",
       "  </thead>\n",
       "  <tbody>\n",
       "    <tr>\n",
       "      <th>2</th>\n",
       "      <td></td>\n",
       "      <td>2.0</td>\n",
       "      <td>1.0</td>\n",
       "      <td>1.0</td>\n",
       "      <td>43.76243366,-72.32615434</td>\n",
       "      <td>2013-04-01 01:25:48</td>\n",
       "    </tr>\n",
       "    <tr>\n",
       "      <th>3</th>\n",
       "      <td>cs65\\n</td>\n",
       "      <td>2.0</td>\n",
       "      <td>3.0</td>\n",
       "      <td>1.0</td>\n",
       "      <td>43.70544533,-72.28679012</td>\n",
       "      <td>2013-03-26 04:26:33</td>\n",
       "    </tr>\n",
       "    <tr>\n",
       "      <th>4</th>\n",
       "      <td></td>\n",
       "      <td>1.0</td>\n",
       "      <td>1.0</td>\n",
       "      <td>1.0</td>\n",
       "      <td>43.75932116,-72.32890406</td>\n",
       "      <td>2013-03-27 04:07:51</td>\n",
       "    </tr>\n",
       "    <tr>\n",
       "      <th>5</th>\n",
       "      <td>cs65</td>\n",
       "      <td>2.0</td>\n",
       "      <td>2.0</td>\n",
       "      <td>1.0</td>\n",
       "      <td>43.70033175,-72.28949659</td>\n",
       "      <td>2013-03-28 22:19:40</td>\n",
       "    </tr>\n",
       "    <tr>\n",
       "      <th>6</th>\n",
       "      <td>c65</td>\n",
       "      <td>2.0</td>\n",
       "      <td>3.0</td>\n",
       "      <td>2.0</td>\n",
       "      <td>43.70465788,-72.2887224</td>\n",
       "      <td>2013-03-28 00:10:26</td>\n",
       "    </tr>\n",
       "  </tbody>\n",
       "</table>\n",
       "</div>"
      ],
      "text/plain": [
       "  course_id  due  experience  hours                  location  \\\n",
       "2            2.0         1.0    1.0  43.76243366,-72.32615434   \n",
       "3    cs65\\n  2.0         3.0    1.0  43.70544533,-72.28679012   \n",
       "4            1.0         1.0    1.0  43.75932116,-72.32890406   \n",
       "5      cs65  2.0         2.0    1.0  43.70033175,-72.28949659   \n",
       "6       c65  2.0         3.0    2.0   43.70465788,-72.2887224   \n",
       "\n",
       "            resp_time  \n",
       "2 2013-04-01 01:25:48  \n",
       "3 2013-03-26 04:26:33  \n",
       "4 2013-03-27 04:07:51  \n",
       "5 2013-03-28 22:19:40  \n",
       "6 2013-03-28 00:10:26  "
      ]
     },
     "execution_count": 57,
     "metadata": {},
     "output_type": "execute_result"
    }
   ],
   "source": [
    "class1.head()"
   ]
  },
  {
   "cell_type": "markdown",
   "metadata": {},
   "source": [
    "# Stress"
   ]
  },
  {
   "cell_type": "code",
   "execution_count": 58,
   "metadata": {
    "ExecuteTime": {
     "end_time": "2019-01-12T17:40:56.225337Z",
     "start_time": "2019-01-12T17:40:56.221648Z"
    }
   },
   "outputs": [
    {
     "data": {
      "text/plain": [
       "{'name': 'Stress',\n",
       " 'questions': [{'options': '[1]A little stressed, [2]Definitely stressed, [3]Stressed out, [4]Feeling good, [5]Feeling great, ',\n",
       "   'question_id': 'level',\n",
       "   'question_text': 'Right now, I am...'},\n",
       "  {'options': '', 'question_id': 'location', 'question_text': ''}]}"
      ]
     },
     "execution_count": 58,
     "metadata": {},
     "output_type": "execute_result"
    }
   ],
   "source": [
    "definitions[3]"
   ]
  },
  {
   "cell_type": "code",
   "execution_count": 59,
   "metadata": {
    "ExecuteTime": {
     "end_time": "2019-01-12T17:40:57.820175Z",
     "start_time": "2019-01-12T17:40:57.806172Z"
    }
   },
   "outputs": [],
   "source": [
    "stress = pd.read_json('../../../student-life-dataset/dataset/EMA/response/Stress/Stress_u00.json')"
   ]
  },
  {
   "cell_type": "code",
   "execution_count": 60,
   "metadata": {
    "ExecuteTime": {
     "end_time": "2019-01-12T17:41:00.999188Z",
     "start_time": "2019-01-12T17:41:00.988551Z"
    },
    "scrolled": true
   },
   "outputs": [
    {
     "data": {
      "text/html": [
       "<div>\n",
       "<style scoped>\n",
       "    .dataframe tbody tr th:only-of-type {\n",
       "        vertical-align: middle;\n",
       "    }\n",
       "\n",
       "    .dataframe tbody tr th {\n",
       "        vertical-align: top;\n",
       "    }\n",
       "\n",
       "    .dataframe thead th {\n",
       "        text-align: right;\n",
       "    }\n",
       "</style>\n",
       "<table border=\"1\" class=\"dataframe\">\n",
       "  <thead>\n",
       "    <tr style=\"text-align: right;\">\n",
       "      <th></th>\n",
       "      <th>level</th>\n",
       "      <th>location</th>\n",
       "      <th>null</th>\n",
       "      <th>resp_time</th>\n",
       "    </tr>\n",
       "  </thead>\n",
       "  <tbody>\n",
       "    <tr>\n",
       "      <th>0</th>\n",
       "      <td>NaN</td>\n",
       "      <td>NaN</td>\n",
       "      <td>43.75908069,-72.32885314</td>\n",
       "      <td>2013-03-24 08:40:01</td>\n",
       "    </tr>\n",
       "    <tr>\n",
       "      <th>1</th>\n",
       "      <td>NaN</td>\n",
       "      <td>NaN</td>\n",
       "      <td>43.75908069,-72.32885314</td>\n",
       "      <td>2013-03-24 08:40:58</td>\n",
       "    </tr>\n",
       "    <tr>\n",
       "      <th>2</th>\n",
       "      <td>NaN</td>\n",
       "      <td>NaN</td>\n",
       "      <td>43.70677151,-72.28746626</td>\n",
       "      <td>2013-03-25 02:16:45</td>\n",
       "    </tr>\n",
       "    <tr>\n",
       "      <th>3</th>\n",
       "      <td>NaN</td>\n",
       "      <td>NaN</td>\n",
       "      <td>1</td>\n",
       "      <td>2013-03-25 00:00:18</td>\n",
       "    </tr>\n",
       "    <tr>\n",
       "      <th>4</th>\n",
       "      <td>NaN</td>\n",
       "      <td>NaN</td>\n",
       "      <td>1</td>\n",
       "      <td>2013-03-25 02:16:49</td>\n",
       "    </tr>\n",
       "    <tr>\n",
       "      <th>5</th>\n",
       "      <td>2.0</td>\n",
       "      <td>43.70692415,-72.2873929</td>\n",
       "      <td>NaN</td>\n",
       "      <td>2013-03-25 18:54:56</td>\n",
       "    </tr>\n",
       "    <tr>\n",
       "      <th>6</th>\n",
       "      <td>2.0</td>\n",
       "      <td>43.70555193,-72.28704778</td>\n",
       "      <td>NaN</td>\n",
       "      <td>2013-03-26 03:33:26</td>\n",
       "    </tr>\n",
       "    <tr>\n",
       "      <th>7</th>\n",
       "      <td>2.0</td>\n",
       "      <td>43.70555193,-72.28704778</td>\n",
       "      <td>NaN</td>\n",
       "      <td>2013-03-26 03:33:34</td>\n",
       "    </tr>\n",
       "    <tr>\n",
       "      <th>8</th>\n",
       "      <td>1.0</td>\n",
       "      <td>43.70678675,-72.28732051</td>\n",
       "      <td>NaN</td>\n",
       "      <td>2013-03-27 01:12:20</td>\n",
       "    </tr>\n",
       "    <tr>\n",
       "      <th>9</th>\n",
       "      <td>4.0</td>\n",
       "      <td>43.70032217,-72.28941584</td>\n",
       "      <td>NaN</td>\n",
       "      <td>2013-03-28 22:19:12</td>\n",
       "    </tr>\n",
       "  </tbody>\n",
       "</table>\n",
       "</div>"
      ],
      "text/plain": [
       "   level                  location                      null  \\\n",
       "0    NaN                       NaN  43.75908069,-72.32885314   \n",
       "1    NaN                       NaN  43.75908069,-72.32885314   \n",
       "2    NaN                       NaN  43.70677151,-72.28746626   \n",
       "3    NaN                       NaN                         1   \n",
       "4    NaN                       NaN                         1   \n",
       "5    2.0   43.70692415,-72.2873929                       NaN   \n",
       "6    2.0  43.70555193,-72.28704778                       NaN   \n",
       "7    2.0  43.70555193,-72.28704778                       NaN   \n",
       "8    1.0  43.70678675,-72.28732051                       NaN   \n",
       "9    4.0  43.70032217,-72.28941584                       NaN   \n",
       "\n",
       "            resp_time  \n",
       "0 2013-03-24 08:40:01  \n",
       "1 2013-03-24 08:40:58  \n",
       "2 2013-03-25 02:16:45  \n",
       "3 2013-03-25 00:00:18  \n",
       "4 2013-03-25 02:16:49  \n",
       "5 2013-03-25 18:54:56  \n",
       "6 2013-03-26 03:33:26  \n",
       "7 2013-03-26 03:33:34  \n",
       "8 2013-03-27 01:12:20  \n",
       "9 2013-03-28 22:19:12  "
      ]
     },
     "execution_count": 60,
     "metadata": {},
     "output_type": "execute_result"
    }
   ],
   "source": [
    "stress.head(10)"
   ]
  },
  {
   "cell_type": "code",
   "execution_count": 61,
   "metadata": {
    "ExecuteTime": {
     "end_time": "2019-01-12T17:41:44.266065Z",
     "start_time": "2019-01-12T17:41:44.261262Z"
    }
   },
   "outputs": [],
   "source": [
    "stress = stress.drop(columns='null')\n",
    "stress = stress.dropna(subset=['level'])"
   ]
  },
  {
   "cell_type": "code",
   "execution_count": 62,
   "metadata": {
    "ExecuteTime": {
     "end_time": "2019-01-12T17:41:48.934629Z",
     "start_time": "2019-01-12T17:41:48.925052Z"
    }
   },
   "outputs": [
    {
     "data": {
      "text/html": [
       "<div>\n",
       "<style scoped>\n",
       "    .dataframe tbody tr th:only-of-type {\n",
       "        vertical-align: middle;\n",
       "    }\n",
       "\n",
       "    .dataframe tbody tr th {\n",
       "        vertical-align: top;\n",
       "    }\n",
       "\n",
       "    .dataframe thead th {\n",
       "        text-align: right;\n",
       "    }\n",
       "</style>\n",
       "<table border=\"1\" class=\"dataframe\">\n",
       "  <thead>\n",
       "    <tr style=\"text-align: right;\">\n",
       "      <th></th>\n",
       "      <th>level</th>\n",
       "      <th>location</th>\n",
       "      <th>resp_time</th>\n",
       "    </tr>\n",
       "  </thead>\n",
       "  <tbody>\n",
       "    <tr>\n",
       "      <th>5</th>\n",
       "      <td>2.0</td>\n",
       "      <td>43.70692415,-72.2873929</td>\n",
       "      <td>2013-03-25 18:54:56</td>\n",
       "    </tr>\n",
       "    <tr>\n",
       "      <th>6</th>\n",
       "      <td>2.0</td>\n",
       "      <td>43.70555193,-72.28704778</td>\n",
       "      <td>2013-03-26 03:33:26</td>\n",
       "    </tr>\n",
       "    <tr>\n",
       "      <th>7</th>\n",
       "      <td>2.0</td>\n",
       "      <td>43.70555193,-72.28704778</td>\n",
       "      <td>2013-03-26 03:33:34</td>\n",
       "    </tr>\n",
       "    <tr>\n",
       "      <th>8</th>\n",
       "      <td>1.0</td>\n",
       "      <td>43.70678675,-72.28732051</td>\n",
       "      <td>2013-03-27 01:12:20</td>\n",
       "    </tr>\n",
       "    <tr>\n",
       "      <th>9</th>\n",
       "      <td>4.0</td>\n",
       "      <td>43.70032217,-72.28941584</td>\n",
       "      <td>2013-03-28 22:19:12</td>\n",
       "    </tr>\n",
       "  </tbody>\n",
       "</table>\n",
       "</div>"
      ],
      "text/plain": [
       "   level                  location           resp_time\n",
       "5    2.0   43.70692415,-72.2873929 2013-03-25 18:54:56\n",
       "6    2.0  43.70555193,-72.28704778 2013-03-26 03:33:26\n",
       "7    2.0  43.70555193,-72.28704778 2013-03-26 03:33:34\n",
       "8    1.0  43.70678675,-72.28732051 2013-03-27 01:12:20\n",
       "9    4.0  43.70032217,-72.28941584 2013-03-28 22:19:12"
      ]
     },
     "execution_count": 62,
     "metadata": {},
     "output_type": "execute_result"
    }
   ],
   "source": [
    "stress.head()"
   ]
  },
  {
   "cell_type": "markdown",
   "metadata": {},
   "source": [
    "# Sleep"
   ]
  },
  {
   "cell_type": "code",
   "execution_count": 63,
   "metadata": {
    "ExecuteTime": {
     "end_time": "2019-01-12T17:41:52.931693Z",
     "start_time": "2019-01-12T17:41:52.927332Z"
    }
   },
   "outputs": [
    {
     "data": {
      "text/plain": [
       "{'name': 'Sleep',\n",
       " 'questions': [{'options': '[1]<3, [2]3.5, [3]4, [4]4.5, [5]5, [6]5.5, [7]6, [8]6.5, [9]7, [10]7.5, [11]8, [12]8.5, [13]9, [14]9.5, [15]10, [16]10.5, [17]11, [18]11.5, [19]12, ',\n",
       "   'question_id': 'hour',\n",
       "   'question_text': 'How many hours did you sleep last night? '},\n",
       "  {'options': '[1]Very good, [2]Fairly good, [3]Fairly bad, [4]Very bad, ',\n",
       "   'question_id': 'rate',\n",
       "   'question_text': 'How would rate your overall sleep last night?'},\n",
       "  {'options': '[1]None, [2]Once, [3]Twice, [4]Three or more times, ',\n",
       "   'question_id': 'social',\n",
       "   'question_text': 'How often did you have trouble staying awake yesterday while in class, eating meals or engaging in social activity?'},\n",
       "  {'options': '', 'question_id': 'location', 'question_text': ''}]}"
      ]
     },
     "execution_count": 63,
     "metadata": {},
     "output_type": "execute_result"
    }
   ],
   "source": [
    "definitions[4]"
   ]
  },
  {
   "cell_type": "code",
   "execution_count": 64,
   "metadata": {
    "ExecuteTime": {
     "end_time": "2019-01-12T17:41:53.297115Z",
     "start_time": "2019-01-12T17:41:53.282600Z"
    }
   },
   "outputs": [],
   "source": [
    "sleep = pd.read_json('../../../student-life-dataset/dataset/EMA/response/Sleep/Sleep_u00.json')"
   ]
  },
  {
   "cell_type": "code",
   "execution_count": 67,
   "metadata": {
    "ExecuteTime": {
     "end_time": "2019-01-12T17:42:11.673361Z",
     "start_time": "2019-01-12T17:42:11.660977Z"
    }
   },
   "outputs": [
    {
     "data": {
      "text/html": [
       "<div>\n",
       "<style scoped>\n",
       "    .dataframe tbody tr th:only-of-type {\n",
       "        vertical-align: middle;\n",
       "    }\n",
       "\n",
       "    .dataframe tbody tr th {\n",
       "        vertical-align: top;\n",
       "    }\n",
       "\n",
       "    .dataframe thead th {\n",
       "        text-align: right;\n",
       "    }\n",
       "</style>\n",
       "<table border=\"1\" class=\"dataframe\">\n",
       "  <thead>\n",
       "    <tr style=\"text-align: right;\">\n",
       "      <th></th>\n",
       "      <th>hour</th>\n",
       "      <th>location</th>\n",
       "      <th>null</th>\n",
       "      <th>rate</th>\n",
       "      <th>resp_time</th>\n",
       "      <th>social</th>\n",
       "    </tr>\n",
       "  </thead>\n",
       "  <tbody>\n",
       "    <tr>\n",
       "      <th>0</th>\n",
       "      <td>NaN</td>\n",
       "      <td>NaN</td>\n",
       "      <td>43.75908069,-72.32885314</td>\n",
       "      <td>NaN</td>\n",
       "      <td>2013-03-24 08:46:00</td>\n",
       "      <td>NaN</td>\n",
       "    </tr>\n",
       "    <tr>\n",
       "      <th>1</th>\n",
       "      <td>NaN</td>\n",
       "      <td>NaN</td>\n",
       "      <td>8</td>\n",
       "      <td>NaN</td>\n",
       "      <td>2013-03-24 08:46:05</td>\n",
       "      <td>NaN</td>\n",
       "    </tr>\n",
       "    <tr>\n",
       "      <th>2</th>\n",
       "      <td>NaN</td>\n",
       "      <td>NaN</td>\n",
       "      <td>1</td>\n",
       "      <td>NaN</td>\n",
       "      <td>2013-03-24 08:40:53</td>\n",
       "      <td>NaN</td>\n",
       "    </tr>\n",
       "    <tr>\n",
       "      <th>3</th>\n",
       "      <td>NaN</td>\n",
       "      <td>NaN</td>\n",
       "      <td>1</td>\n",
       "      <td>NaN</td>\n",
       "      <td>2013-03-24 08:46:15</td>\n",
       "      <td>NaN</td>\n",
       "    </tr>\n",
       "    <tr>\n",
       "      <th>4</th>\n",
       "      <td>NaN</td>\n",
       "      <td>NaN</td>\n",
       "      <td>3</td>\n",
       "      <td>NaN</td>\n",
       "      <td>2013-03-24 08:39:25</td>\n",
       "      <td>NaN</td>\n",
       "    </tr>\n",
       "    <tr>\n",
       "      <th>5</th>\n",
       "      <td>NaN</td>\n",
       "      <td>NaN</td>\n",
       "      <td>8</td>\n",
       "      <td>NaN</td>\n",
       "      <td>2013-03-24 08:46:01</td>\n",
       "      <td>NaN</td>\n",
       "    </tr>\n",
       "    <tr>\n",
       "      <th>6</th>\n",
       "      <td>NaN</td>\n",
       "      <td>NaN</td>\n",
       "      <td>8</td>\n",
       "      <td>NaN</td>\n",
       "      <td>2013-03-24 08:46:11</td>\n",
       "      <td>NaN</td>\n",
       "    </tr>\n",
       "    <tr>\n",
       "      <th>7</th>\n",
       "      <td>NaN</td>\n",
       "      <td>NaN</td>\n",
       "      <td>43.75885953,-72.32939114</td>\n",
       "      <td>NaN</td>\n",
       "      <td>2013-03-24 18:07:40</td>\n",
       "      <td>NaN</td>\n",
       "    </tr>\n",
       "    <tr>\n",
       "      <th>8</th>\n",
       "      <td>8.0</td>\n",
       "      <td>43.70692415,-72.2873929</td>\n",
       "      <td>NaN</td>\n",
       "      <td>1.0</td>\n",
       "      <td>2013-03-25 18:54:36</td>\n",
       "      <td>1.0</td>\n",
       "    </tr>\n",
       "    <tr>\n",
       "      <th>9</th>\n",
       "      <td>5.0</td>\n",
       "      <td>43.70708859,-72.28753397</td>\n",
       "      <td>NaN</td>\n",
       "      <td>3.0</td>\n",
       "      <td>2013-04-03 17:27:27</td>\n",
       "      <td>2.0</td>\n",
       "    </tr>\n",
       "  </tbody>\n",
       "</table>\n",
       "</div>"
      ],
      "text/plain": [
       "   hour                  location                      null  rate  \\\n",
       "0   NaN                       NaN  43.75908069,-72.32885314   NaN   \n",
       "1   NaN                       NaN                         8   NaN   \n",
       "2   NaN                       NaN                         1   NaN   \n",
       "3   NaN                       NaN                         1   NaN   \n",
       "4   NaN                       NaN                         3   NaN   \n",
       "5   NaN                       NaN                         8   NaN   \n",
       "6   NaN                       NaN                         8   NaN   \n",
       "7   NaN                       NaN  43.75885953,-72.32939114   NaN   \n",
       "8   8.0   43.70692415,-72.2873929                       NaN   1.0   \n",
       "9   5.0  43.70708859,-72.28753397                       NaN   3.0   \n",
       "\n",
       "            resp_time  social  \n",
       "0 2013-03-24 08:46:00     NaN  \n",
       "1 2013-03-24 08:46:05     NaN  \n",
       "2 2013-03-24 08:40:53     NaN  \n",
       "3 2013-03-24 08:46:15     NaN  \n",
       "4 2013-03-24 08:39:25     NaN  \n",
       "5 2013-03-24 08:46:01     NaN  \n",
       "6 2013-03-24 08:46:11     NaN  \n",
       "7 2013-03-24 18:07:40     NaN  \n",
       "8 2013-03-25 18:54:36     1.0  \n",
       "9 2013-04-03 17:27:27     2.0  "
      ]
     },
     "execution_count": 67,
     "metadata": {},
     "output_type": "execute_result"
    }
   ],
   "source": [
    "sleep.head(10)"
   ]
  },
  {
   "cell_type": "code",
   "execution_count": 68,
   "metadata": {
    "ExecuteTime": {
     "end_time": "2019-01-12T17:42:49.917746Z",
     "start_time": "2019-01-12T17:42:49.911700Z"
    }
   },
   "outputs": [],
   "source": [
    "sleep = sleep.drop(columns='null')\n",
    "sleep = sleep.dropna(subset=['hour'])"
   ]
  },
  {
   "cell_type": "code",
   "execution_count": 69,
   "metadata": {
    "ExecuteTime": {
     "end_time": "2019-01-12T17:42:53.353903Z",
     "start_time": "2019-01-12T17:42:53.341909Z"
    }
   },
   "outputs": [
    {
     "data": {
      "text/html": [
       "<div>\n",
       "<style scoped>\n",
       "    .dataframe tbody tr th:only-of-type {\n",
       "        vertical-align: middle;\n",
       "    }\n",
       "\n",
       "    .dataframe tbody tr th {\n",
       "        vertical-align: top;\n",
       "    }\n",
       "\n",
       "    .dataframe thead th {\n",
       "        text-align: right;\n",
       "    }\n",
       "</style>\n",
       "<table border=\"1\" class=\"dataframe\">\n",
       "  <thead>\n",
       "    <tr style=\"text-align: right;\">\n",
       "      <th></th>\n",
       "      <th>hour</th>\n",
       "      <th>location</th>\n",
       "      <th>rate</th>\n",
       "      <th>resp_time</th>\n",
       "      <th>social</th>\n",
       "    </tr>\n",
       "  </thead>\n",
       "  <tbody>\n",
       "    <tr>\n",
       "      <th>8</th>\n",
       "      <td>8.0</td>\n",
       "      <td>43.70692415,-72.2873929</td>\n",
       "      <td>1.0</td>\n",
       "      <td>2013-03-25 18:54:36</td>\n",
       "      <td>1.0</td>\n",
       "    </tr>\n",
       "    <tr>\n",
       "      <th>9</th>\n",
       "      <td>5.0</td>\n",
       "      <td>43.70708859,-72.28753397</td>\n",
       "      <td>3.0</td>\n",
       "      <td>2013-04-03 17:27:27</td>\n",
       "      <td>2.0</td>\n",
       "    </tr>\n",
       "    <tr>\n",
       "      <th>10</th>\n",
       "      <td>8.0</td>\n",
       "      <td>43.70759062,-72.28510298</td>\n",
       "      <td>1.0</td>\n",
       "      <td>2013-03-26 21:46:45</td>\n",
       "      <td>1.0</td>\n",
       "    </tr>\n",
       "    <tr>\n",
       "      <th>11</th>\n",
       "      <td>7.0</td>\n",
       "      <td>43.70393682,-72.30152284</td>\n",
       "      <td>2.0</td>\n",
       "      <td>2013-03-26 18:07:14</td>\n",
       "      <td>1.0</td>\n",
       "    </tr>\n",
       "    <tr>\n",
       "      <th>12</th>\n",
       "      <td>8.0</td>\n",
       "      <td>43.75932116,-72.32890406</td>\n",
       "      <td>3.0</td>\n",
       "      <td>2013-03-27 04:09:49</td>\n",
       "      <td>1.0</td>\n",
       "    </tr>\n",
       "  </tbody>\n",
       "</table>\n",
       "</div>"
      ],
      "text/plain": [
       "    hour                  location  rate           resp_time  social\n",
       "8    8.0   43.70692415,-72.2873929   1.0 2013-03-25 18:54:36     1.0\n",
       "9    5.0  43.70708859,-72.28753397   3.0 2013-04-03 17:27:27     2.0\n",
       "10   8.0  43.70759062,-72.28510298   1.0 2013-03-26 21:46:45     1.0\n",
       "11   7.0  43.70393682,-72.30152284   2.0 2013-03-26 18:07:14     1.0\n",
       "12   8.0  43.75932116,-72.32890406   3.0 2013-03-27 04:09:49     1.0"
      ]
     },
     "execution_count": 69,
     "metadata": {},
     "output_type": "execute_result"
    }
   ],
   "source": [
    "sleep.head()"
   ]
  },
  {
   "cell_type": "markdown",
   "metadata": {},
   "source": [
    "# Activity"
   ]
  },
  {
   "cell_type": "code",
   "execution_count": 70,
   "metadata": {
    "ExecuteTime": {
     "end_time": "2019-01-12T17:42:59.577563Z",
     "start_time": "2019-01-12T17:42:59.573343Z"
    }
   },
   "outputs": [
    {
     "data": {
      "text/plain": [
       "{'name': 'Activity',\n",
       " 'questions': [{'options': '[1]0-10%, [2]11-25%, [3]26-50%, [4]51-75%, [5]76-100%, ',\n",
       "   'question_id': 'working',\n",
       "   'question_text': 'alone working'},\n",
       "  {'options': '[1]0-10%, [2]11-25%, [3]26-50%, [4]51-75%, [5]76-100%, ',\n",
       "   'question_id': 'relaxing',\n",
       "   'question_text': 'alone relaxing'},\n",
       "  {'options': '[1]0-10%, [2]11-25%, [3]26-50%, [4]51-75%, [5]76-100%, ',\n",
       "   'question_id': 'other_working',\n",
       "   'question_text': 'with other people working'},\n",
       "  {'options': '[1]0-10%, [2]11-25%, [3]26-50%, [4]51-75%, [5]76-100%, ',\n",
       "   'question_id': 'other_relaxing',\n",
       "   'question_text': 'with other people relaxing'},\n",
       "  {'options': '', 'question_id': 'location', 'question_text': 'location'}]}"
      ]
     },
     "execution_count": 70,
     "metadata": {},
     "output_type": "execute_result"
    }
   ],
   "source": [
    "definitions[5]"
   ]
  },
  {
   "cell_type": "code",
   "execution_count": 90,
   "metadata": {
    "ExecuteTime": {
     "end_time": "2019-01-12T18:01:26.001606Z",
     "start_time": "2019-01-12T18:01:25.984878Z"
    }
   },
   "outputs": [],
   "source": [
    "activity = pd.read_json('../../../student-life-dataset/dataset/EMA/response/Activity/Activity_u04.json')"
   ]
  },
  {
   "cell_type": "code",
   "execution_count": 92,
   "metadata": {
    "ExecuteTime": {
     "end_time": "2019-01-12T18:07:11.622403Z",
     "start_time": "2019-01-12T18:07:11.618617Z"
    }
   },
   "outputs": [],
   "source": [
    "activity = activity.drop(columns=['null', 'Social2'])"
   ]
  },
  {
   "cell_type": "code",
   "execution_count": 93,
   "metadata": {
    "ExecuteTime": {
     "end_time": "2019-01-12T18:07:17.925064Z",
     "start_time": "2019-01-12T18:07:17.912174Z"
    }
   },
   "outputs": [
    {
     "data": {
      "text/html": [
       "<div>\n",
       "<style scoped>\n",
       "    .dataframe tbody tr th:only-of-type {\n",
       "        vertical-align: middle;\n",
       "    }\n",
       "\n",
       "    .dataframe tbody tr th {\n",
       "        vertical-align: top;\n",
       "    }\n",
       "\n",
       "    .dataframe thead th {\n",
       "        text-align: right;\n",
       "    }\n",
       "</style>\n",
       "<table border=\"1\" class=\"dataframe\">\n",
       "  <thead>\n",
       "    <tr style=\"text-align: right;\">\n",
       "      <th></th>\n",
       "      <th>location</th>\n",
       "      <th>other_relaxing</th>\n",
       "      <th>other_working</th>\n",
       "      <th>relaxing</th>\n",
       "      <th>resp_time</th>\n",
       "      <th>working</th>\n",
       "    </tr>\n",
       "  </thead>\n",
       "  <tbody>\n",
       "    <tr>\n",
       "      <th>0</th>\n",
       "      <td>NaN</td>\n",
       "      <td>NaN</td>\n",
       "      <td>NaN</td>\n",
       "      <td>NaN</td>\n",
       "      <td>2013-04-03 16:45:45</td>\n",
       "      <td>NaN</td>\n",
       "    </tr>\n",
       "    <tr>\n",
       "      <th>1</th>\n",
       "      <td>NaN</td>\n",
       "      <td>NaN</td>\n",
       "      <td>NaN</td>\n",
       "      <td>NaN</td>\n",
       "      <td>2013-03-27 01:10:09</td>\n",
       "      <td>NaN</td>\n",
       "    </tr>\n",
       "    <tr>\n",
       "      <th>2</th>\n",
       "      <td>NaN</td>\n",
       "      <td>NaN</td>\n",
       "      <td>NaN</td>\n",
       "      <td>NaN</td>\n",
       "      <td>2013-03-27 15:16:12</td>\n",
       "      <td>NaN</td>\n",
       "    </tr>\n",
       "    <tr>\n",
       "      <th>3</th>\n",
       "      <td>NaN</td>\n",
       "      <td>NaN</td>\n",
       "      <td>NaN</td>\n",
       "      <td>NaN</td>\n",
       "      <td>2013-03-30 22:35:47</td>\n",
       "      <td>NaN</td>\n",
       "    </tr>\n",
       "    <tr>\n",
       "      <th>4</th>\n",
       "      <td>NaN</td>\n",
       "      <td>NaN</td>\n",
       "      <td>NaN</td>\n",
       "      <td>NaN</td>\n",
       "      <td>2013-04-02 06:36:32</td>\n",
       "      <td>NaN</td>\n",
       "    </tr>\n",
       "  </tbody>\n",
       "</table>\n",
       "</div>"
      ],
      "text/plain": [
       "  location  other_relaxing  other_working  relaxing           resp_time  \\\n",
       "0      NaN             NaN            NaN       NaN 2013-04-03 16:45:45   \n",
       "1      NaN             NaN            NaN       NaN 2013-03-27 01:10:09   \n",
       "2      NaN             NaN            NaN       NaN 2013-03-27 15:16:12   \n",
       "3      NaN             NaN            NaN       NaN 2013-03-30 22:35:47   \n",
       "4      NaN             NaN            NaN       NaN 2013-04-02 06:36:32   \n",
       "\n",
       "   working  \n",
       "0      NaN  \n",
       "1      NaN  \n",
       "2      NaN  \n",
       "3      NaN  \n",
       "4      NaN  "
      ]
     },
     "execution_count": 93,
     "metadata": {},
     "output_type": "execute_result"
    }
   ],
   "source": [
    "activity.head()"
   ]
  },
  {
   "cell_type": "markdown",
   "metadata": {},
   "source": [
    "# Behavior"
   ]
  },
  {
   "cell_type": "code",
   "execution_count": 94,
   "metadata": {
    "ExecuteTime": {
     "end_time": "2019-01-12T18:07:26.862115Z",
     "start_time": "2019-01-12T18:07:26.856572Z"
    }
   },
   "outputs": [
    {
     "data": {
      "text/plain": [
       "{'name': 'Behavior',\n",
       " 'questions': [{'options': '(Not at all) 1 2 3 4 5 (Extremely)',\n",
       "   'question_id': 'enthusiastic',\n",
       "   'question_text': 'In the past 15 minutes, I was extraverted, enthusiastic.                (Scale: 1=Not at all; 2=A little; 3=somewhat; 4=very; 5=extremely)'},\n",
       "  {'options': '(Not at all) 1 2 3 4 5 (Extremely)',\n",
       "   'question_id': 'critical',\n",
       "   'question_text': '......, I was critical, quarrelsome.'},\n",
       "  {'options': '(Not at all) 1 2 3 4 5 (Extremely)',\n",
       "   'question_id': 'dependable',\n",
       "   'question_text': '......, I was dependable, self-disciplined.'},\n",
       "  {'options': '(Not at all) 1 2 3 4 5 (Extremely)',\n",
       "   'question_id': 'anxious',\n",
       "   'question_text': '......, I was anxious, easily upset.'},\n",
       "  {'options': '(Not at all) 1 2 3 4 5 (Extremely)',\n",
       "   'question_id': 'experiences',\n",
       "   'question_text': '......, I was open to new experiences, complex.'},\n",
       "  {'options': '(Not at all) 1 2 3 4 5 (Extremely)',\n",
       "   'question_id': 'reserved',\n",
       "   'question_text': '......, I was reserved, quiet.'},\n",
       "  {'options': '(Not at all) 1 2 3 4 5 (Extremely)',\n",
       "   'question_id': 'sympathetic',\n",
       "   'question_text': '......, I was sympathetic, warm.'},\n",
       "  {'options': '(Not at all) 1 2 3 4 5 (Extremely)',\n",
       "   'question_id': 'disorganized',\n",
       "   'question_text': '......,  I was disorganized, careless.'},\n",
       "  {'options': '(Not at all) 1 2 3 4 5 (Extremely)',\n",
       "   'question_id': 'calm',\n",
       "   'question_text': '......, I was calm, emotionally stable.'},\n",
       "  {'options': '(Not at all) 1 2 3 4 5 (Extremely)',\n",
       "   'question_id': 'conventional',\n",
       "   'question_text': '......, I was conventional, uncreative.'},\n",
       "  {'options': '', 'question_id': 'location', 'question_text': 'location'}]}"
      ]
     },
     "execution_count": 94,
     "metadata": {},
     "output_type": "execute_result"
    }
   ],
   "source": [
    "definitions[6]"
   ]
  },
  {
   "cell_type": "code",
   "execution_count": 95,
   "metadata": {
    "ExecuteTime": {
     "end_time": "2019-01-12T18:07:30.200412Z",
     "start_time": "2019-01-12T18:07:30.182349Z"
    }
   },
   "outputs": [],
   "source": [
    "behavior = pd.read_json('../../../student-life-dataset/dataset/EMA/response/Behavior/Behavior_u00.json')"
   ]
  },
  {
   "cell_type": "code",
   "execution_count": 97,
   "metadata": {
    "ExecuteTime": {
     "end_time": "2019-01-12T18:07:38.524734Z",
     "start_time": "2019-01-12T18:07:38.497452Z"
    },
    "scrolled": false
   },
   "outputs": [
    {
     "data": {
      "text/html": [
       "<div>\n",
       "<style scoped>\n",
       "    .dataframe tbody tr th:only-of-type {\n",
       "        vertical-align: middle;\n",
       "    }\n",
       "\n",
       "    .dataframe tbody tr th {\n",
       "        vertical-align: top;\n",
       "    }\n",
       "\n",
       "    .dataframe thead th {\n",
       "        text-align: right;\n",
       "    }\n",
       "</style>\n",
       "<table border=\"1\" class=\"dataframe\">\n",
       "  <thead>\n",
       "    <tr style=\"text-align: right;\">\n",
       "      <th></th>\n",
       "      <th>anxious</th>\n",
       "      <th>calm</th>\n",
       "      <th>conventional</th>\n",
       "      <th>critical</th>\n",
       "      <th>dependable</th>\n",
       "      <th>disorganized</th>\n",
       "      <th>enthusiastic</th>\n",
       "      <th>experiences</th>\n",
       "      <th>location</th>\n",
       "      <th>null</th>\n",
       "      <th>reserved</th>\n",
       "      <th>resp_time</th>\n",
       "      <th>sympathetic</th>\n",
       "    </tr>\n",
       "  </thead>\n",
       "  <tbody>\n",
       "    <tr>\n",
       "      <th>0</th>\n",
       "      <td>NaN</td>\n",
       "      <td>NaN</td>\n",
       "      <td>NaN</td>\n",
       "      <td>NaN</td>\n",
       "      <td>NaN</td>\n",
       "      <td>NaN</td>\n",
       "      <td>NaN</td>\n",
       "      <td>NaN</td>\n",
       "      <td>NaN</td>\n",
       "      <td>3</td>\n",
       "      <td>NaN</td>\n",
       "      <td>2013-03-27 08:13:34</td>\n",
       "      <td>NaN</td>\n",
       "    </tr>\n",
       "    <tr>\n",
       "      <th>1</th>\n",
       "      <td>NaN</td>\n",
       "      <td>NaN</td>\n",
       "      <td>NaN</td>\n",
       "      <td>NaN</td>\n",
       "      <td>NaN</td>\n",
       "      <td>NaN</td>\n",
       "      <td>NaN</td>\n",
       "      <td>NaN</td>\n",
       "      <td>NaN</td>\n",
       "      <td>null</td>\n",
       "      <td>NaN</td>\n",
       "      <td>2013-03-27 10:25:48</td>\n",
       "      <td>NaN</td>\n",
       "    </tr>\n",
       "    <tr>\n",
       "      <th>2</th>\n",
       "      <td>NaN</td>\n",
       "      <td>NaN</td>\n",
       "      <td>NaN</td>\n",
       "      <td>NaN</td>\n",
       "      <td>NaN</td>\n",
       "      <td>NaN</td>\n",
       "      <td>NaN</td>\n",
       "      <td>NaN</td>\n",
       "      <td>NaN</td>\n",
       "      <td>3</td>\n",
       "      <td>NaN</td>\n",
       "      <td>2013-03-28 02:24:38</td>\n",
       "      <td>NaN</td>\n",
       "    </tr>\n",
       "    <tr>\n",
       "      <th>3</th>\n",
       "      <td>NaN</td>\n",
       "      <td>NaN</td>\n",
       "      <td>NaN</td>\n",
       "      <td>NaN</td>\n",
       "      <td>NaN</td>\n",
       "      <td>NaN</td>\n",
       "      <td>NaN</td>\n",
       "      <td>NaN</td>\n",
       "      <td>NaN</td>\n",
       "      <td>3</td>\n",
       "      <td>NaN</td>\n",
       "      <td>2013-03-29 16:05:43</td>\n",
       "      <td>NaN</td>\n",
       "    </tr>\n",
       "    <tr>\n",
       "      <th>4</th>\n",
       "      <td>NaN</td>\n",
       "      <td>NaN</td>\n",
       "      <td>NaN</td>\n",
       "      <td>NaN</td>\n",
       "      <td>NaN</td>\n",
       "      <td>NaN</td>\n",
       "      <td>NaN</td>\n",
       "      <td>NaN</td>\n",
       "      <td>NaN</td>\n",
       "      <td>5</td>\n",
       "      <td>NaN</td>\n",
       "      <td>2013-04-04 00:29:00</td>\n",
       "      <td>NaN</td>\n",
       "    </tr>\n",
       "    <tr>\n",
       "      <th>5</th>\n",
       "      <td>4.0</td>\n",
       "      <td>4</td>\n",
       "      <td>5</td>\n",
       "      <td>2.0</td>\n",
       "      <td>3</td>\n",
       "      <td>3</td>\n",
       "      <td>4</td>\n",
       "      <td>4</td>\n",
       "      <td>NaN</td>\n",
       "      <td>NaN</td>\n",
       "      <td>3</td>\n",
       "      <td>2013-04-08 21:04:28</td>\n",
       "      <td>4</td>\n",
       "    </tr>\n",
       "    <tr>\n",
       "      <th>6</th>\n",
       "      <td>NaN</td>\n",
       "      <td>NaN</td>\n",
       "      <td>NaN</td>\n",
       "      <td>NaN</td>\n",
       "      <td>NaN</td>\n",
       "      <td>NaN</td>\n",
       "      <td>NaN</td>\n",
       "      <td>NaN</td>\n",
       "      <td>NaN</td>\n",
       "      <td>3</td>\n",
       "      <td>NaN</td>\n",
       "      <td>2013-04-07 21:01:46</td>\n",
       "      <td>NaN</td>\n",
       "    </tr>\n",
       "    <tr>\n",
       "      <th>7</th>\n",
       "      <td>NaN</td>\n",
       "      <td>NaN</td>\n",
       "      <td>NaN</td>\n",
       "      <td>NaN</td>\n",
       "      <td>NaN</td>\n",
       "      <td>NaN</td>\n",
       "      <td>NaN</td>\n",
       "      <td>NaN</td>\n",
       "      <td>NaN</td>\n",
       "      <td>4</td>\n",
       "      <td>NaN</td>\n",
       "      <td>2013-04-05 20:36:51</td>\n",
       "      <td>NaN</td>\n",
       "    </tr>\n",
       "    <tr>\n",
       "      <th>8</th>\n",
       "      <td>NaN</td>\n",
       "      <td>NaN</td>\n",
       "      <td>NaN</td>\n",
       "      <td>NaN</td>\n",
       "      <td>NaN</td>\n",
       "      <td>NaN</td>\n",
       "      <td>NaN</td>\n",
       "      <td>NaN</td>\n",
       "      <td>NaN</td>\n",
       "      <td>3</td>\n",
       "      <td>NaN</td>\n",
       "      <td>2013-04-06 21:28:01</td>\n",
       "      <td>NaN</td>\n",
       "    </tr>\n",
       "    <tr>\n",
       "      <th>9</th>\n",
       "      <td>5.0</td>\n",
       "      <td>3</td>\n",
       "      <td>3</td>\n",
       "      <td>1.0</td>\n",
       "      <td>4</td>\n",
       "      <td>4</td>\n",
       "      <td>4</td>\n",
       "      <td>3</td>\n",
       "      <td>NaN</td>\n",
       "      <td>NaN</td>\n",
       "      <td>1</td>\n",
       "      <td>2013-04-10 19:19:47</td>\n",
       "      <td>4</td>\n",
       "    </tr>\n",
       "    <tr>\n",
       "      <th>10</th>\n",
       "      <td>4.0</td>\n",
       "      <td>3</td>\n",
       "      <td>3</td>\n",
       "      <td>3.0</td>\n",
       "      <td>4</td>\n",
       "      <td>2</td>\n",
       "      <td>4</td>\n",
       "      <td>4</td>\n",
       "      <td>NaN</td>\n",
       "      <td>NaN</td>\n",
       "      <td>2</td>\n",
       "      <td>2013-04-16 20:58:39</td>\n",
       "      <td>4</td>\n",
       "    </tr>\n",
       "    <tr>\n",
       "      <th>11</th>\n",
       "      <td>4.0</td>\n",
       "      <td>5</td>\n",
       "      <td>2</td>\n",
       "      <td>1.0</td>\n",
       "      <td>4</td>\n",
       "      <td>3</td>\n",
       "      <td>5</td>\n",
       "      <td>3</td>\n",
       "      <td>NaN</td>\n",
       "      <td>NaN</td>\n",
       "      <td>1</td>\n",
       "      <td>2013-04-17 20:17:57</td>\n",
       "      <td>4</td>\n",
       "    </tr>\n",
       "    <tr>\n",
       "      <th>12</th>\n",
       "      <td>3.0</td>\n",
       "      <td>3</td>\n",
       "      <td>3</td>\n",
       "      <td>3.0</td>\n",
       "      <td>3</td>\n",
       "      <td>3</td>\n",
       "      <td>3</td>\n",
       "      <td>4</td>\n",
       "      <td>NaN</td>\n",
       "      <td>43.70082504,-72.28929272</td>\n",
       "      <td>3</td>\n",
       "      <td>2013-04-22 20:42:22</td>\n",
       "      <td>4</td>\n",
       "    </tr>\n",
       "    <tr>\n",
       "      <th>13</th>\n",
       "      <td>5.0</td>\n",
       "      <td>3</td>\n",
       "      <td>4</td>\n",
       "      <td>5.0</td>\n",
       "      <td>3</td>\n",
       "      <td>4</td>\n",
       "      <td>2</td>\n",
       "      <td>1</td>\n",
       "      <td>NaN</td>\n",
       "      <td>43.759114,-72.32922421</td>\n",
       "      <td>3</td>\n",
       "      <td>2013-04-25 05:26:27</td>\n",
       "      <td>4</td>\n",
       "    </tr>\n",
       "    <tr>\n",
       "      <th>14</th>\n",
       "      <td>5.0</td>\n",
       "      <td>3</td>\n",
       "      <td>4</td>\n",
       "      <td>2.0</td>\n",
       "      <td>5</td>\n",
       "      <td>1</td>\n",
       "      <td>4</td>\n",
       "      <td>3</td>\n",
       "      <td>43.7029479,-72.28940835</td>\n",
       "      <td>NaN</td>\n",
       "      <td>1</td>\n",
       "      <td>2013-04-26 20:41:51</td>\n",
       "      <td>3</td>\n",
       "    </tr>\n",
       "  </tbody>\n",
       "</table>\n",
       "</div>"
      ],
      "text/plain": [
       "    anxious calm conventional  critical dependable disorganized enthusiastic  \\\n",
       "0       NaN  NaN          NaN       NaN        NaN          NaN          NaN   \n",
       "1       NaN  NaN          NaN       NaN        NaN          NaN          NaN   \n",
       "2       NaN  NaN          NaN       NaN        NaN          NaN          NaN   \n",
       "3       NaN  NaN          NaN       NaN        NaN          NaN          NaN   \n",
       "4       NaN  NaN          NaN       NaN        NaN          NaN          NaN   \n",
       "5       4.0    4            5       2.0          3            3            4   \n",
       "6       NaN  NaN          NaN       NaN        NaN          NaN          NaN   \n",
       "7       NaN  NaN          NaN       NaN        NaN          NaN          NaN   \n",
       "8       NaN  NaN          NaN       NaN        NaN          NaN          NaN   \n",
       "9       5.0    3            3       1.0          4            4            4   \n",
       "10      4.0    3            3       3.0          4            2            4   \n",
       "11      4.0    5            2       1.0          4            3            5   \n",
       "12      3.0    3            3       3.0          3            3            3   \n",
       "13      5.0    3            4       5.0          3            4            2   \n",
       "14      5.0    3            4       2.0          5            1            4   \n",
       "\n",
       "   experiences                 location                      null reserved  \\\n",
       "0          NaN                      NaN                         3      NaN   \n",
       "1          NaN                      NaN                      null      NaN   \n",
       "2          NaN                      NaN                         3      NaN   \n",
       "3          NaN                      NaN                         3      NaN   \n",
       "4          NaN                      NaN                         5      NaN   \n",
       "5            4                      NaN                       NaN        3   \n",
       "6          NaN                      NaN                         3      NaN   \n",
       "7          NaN                      NaN                         4      NaN   \n",
       "8          NaN                      NaN                         3      NaN   \n",
       "9            3                      NaN                       NaN        1   \n",
       "10           4                      NaN                       NaN        2   \n",
       "11           3                      NaN                       NaN        1   \n",
       "12           4                      NaN  43.70082504,-72.28929272        3   \n",
       "13           1                      NaN    43.759114,-72.32922421        3   \n",
       "14           3  43.7029479,-72.28940835                       NaN        1   \n",
       "\n",
       "             resp_time sympathetic  \n",
       "0  2013-03-27 08:13:34         NaN  \n",
       "1  2013-03-27 10:25:48         NaN  \n",
       "2  2013-03-28 02:24:38         NaN  \n",
       "3  2013-03-29 16:05:43         NaN  \n",
       "4  2013-04-04 00:29:00         NaN  \n",
       "5  2013-04-08 21:04:28           4  \n",
       "6  2013-04-07 21:01:46         NaN  \n",
       "7  2013-04-05 20:36:51         NaN  \n",
       "8  2013-04-06 21:28:01         NaN  \n",
       "9  2013-04-10 19:19:47           4  \n",
       "10 2013-04-16 20:58:39           4  \n",
       "11 2013-04-17 20:17:57           4  \n",
       "12 2013-04-22 20:42:22           4  \n",
       "13 2013-04-25 05:26:27           4  \n",
       "14 2013-04-26 20:41:51           3  "
      ]
     },
     "execution_count": 97,
     "metadata": {},
     "output_type": "execute_result"
    }
   ],
   "source": [
    "behavior.head(15)"
   ]
  },
  {
   "cell_type": "code",
   "execution_count": 99,
   "metadata": {
    "ExecuteTime": {
     "end_time": "2019-01-12T18:10:59.221930Z",
     "start_time": "2019-01-12T18:10:59.218185Z"
    }
   },
   "outputs": [],
   "source": [
    "behavior = behavior.drop(columns=['null'])"
   ]
  },
  {
   "cell_type": "code",
   "execution_count": 100,
   "metadata": {
    "ExecuteTime": {
     "end_time": "2019-01-12T18:11:08.070210Z",
     "start_time": "2019-01-12T18:11:08.047574Z"
    }
   },
   "outputs": [
    {
     "data": {
      "text/html": [
       "<div>\n",
       "<style scoped>\n",
       "    .dataframe tbody tr th:only-of-type {\n",
       "        vertical-align: middle;\n",
       "    }\n",
       "\n",
       "    .dataframe tbody tr th {\n",
       "        vertical-align: top;\n",
       "    }\n",
       "\n",
       "    .dataframe thead th {\n",
       "        text-align: right;\n",
       "    }\n",
       "</style>\n",
       "<table border=\"1\" class=\"dataframe\">\n",
       "  <thead>\n",
       "    <tr style=\"text-align: right;\">\n",
       "      <th></th>\n",
       "      <th>anxious</th>\n",
       "      <th>calm</th>\n",
       "      <th>conventional</th>\n",
       "      <th>critical</th>\n",
       "      <th>dependable</th>\n",
       "      <th>disorganized</th>\n",
       "      <th>enthusiastic</th>\n",
       "      <th>experiences</th>\n",
       "      <th>location</th>\n",
       "      <th>reserved</th>\n",
       "      <th>resp_time</th>\n",
       "      <th>sympathetic</th>\n",
       "    </tr>\n",
       "  </thead>\n",
       "  <tbody>\n",
       "    <tr>\n",
       "      <th>0</th>\n",
       "      <td>NaN</td>\n",
       "      <td>NaN</td>\n",
       "      <td>NaN</td>\n",
       "      <td>NaN</td>\n",
       "      <td>NaN</td>\n",
       "      <td>NaN</td>\n",
       "      <td>NaN</td>\n",
       "      <td>NaN</td>\n",
       "      <td>NaN</td>\n",
       "      <td>NaN</td>\n",
       "      <td>2013-03-27 08:13:34</td>\n",
       "      <td>NaN</td>\n",
       "    </tr>\n",
       "    <tr>\n",
       "      <th>1</th>\n",
       "      <td>NaN</td>\n",
       "      <td>NaN</td>\n",
       "      <td>NaN</td>\n",
       "      <td>NaN</td>\n",
       "      <td>NaN</td>\n",
       "      <td>NaN</td>\n",
       "      <td>NaN</td>\n",
       "      <td>NaN</td>\n",
       "      <td>NaN</td>\n",
       "      <td>NaN</td>\n",
       "      <td>2013-03-27 10:25:48</td>\n",
       "      <td>NaN</td>\n",
       "    </tr>\n",
       "    <tr>\n",
       "      <th>2</th>\n",
       "      <td>NaN</td>\n",
       "      <td>NaN</td>\n",
       "      <td>NaN</td>\n",
       "      <td>NaN</td>\n",
       "      <td>NaN</td>\n",
       "      <td>NaN</td>\n",
       "      <td>NaN</td>\n",
       "      <td>NaN</td>\n",
       "      <td>NaN</td>\n",
       "      <td>NaN</td>\n",
       "      <td>2013-03-28 02:24:38</td>\n",
       "      <td>NaN</td>\n",
       "    </tr>\n",
       "    <tr>\n",
       "      <th>3</th>\n",
       "      <td>NaN</td>\n",
       "      <td>NaN</td>\n",
       "      <td>NaN</td>\n",
       "      <td>NaN</td>\n",
       "      <td>NaN</td>\n",
       "      <td>NaN</td>\n",
       "      <td>NaN</td>\n",
       "      <td>NaN</td>\n",
       "      <td>NaN</td>\n",
       "      <td>NaN</td>\n",
       "      <td>2013-03-29 16:05:43</td>\n",
       "      <td>NaN</td>\n",
       "    </tr>\n",
       "    <tr>\n",
       "      <th>4</th>\n",
       "      <td>NaN</td>\n",
       "      <td>NaN</td>\n",
       "      <td>NaN</td>\n",
       "      <td>NaN</td>\n",
       "      <td>NaN</td>\n",
       "      <td>NaN</td>\n",
       "      <td>NaN</td>\n",
       "      <td>NaN</td>\n",
       "      <td>NaN</td>\n",
       "      <td>NaN</td>\n",
       "      <td>2013-04-04 00:29:00</td>\n",
       "      <td>NaN</td>\n",
       "    </tr>\n",
       "  </tbody>\n",
       "</table>\n",
       "</div>"
      ],
      "text/plain": [
       "   anxious calm conventional  critical dependable disorganized enthusiastic  \\\n",
       "0      NaN  NaN          NaN       NaN        NaN          NaN          NaN   \n",
       "1      NaN  NaN          NaN       NaN        NaN          NaN          NaN   \n",
       "2      NaN  NaN          NaN       NaN        NaN          NaN          NaN   \n",
       "3      NaN  NaN          NaN       NaN        NaN          NaN          NaN   \n",
       "4      NaN  NaN          NaN       NaN        NaN          NaN          NaN   \n",
       "\n",
       "  experiences location reserved           resp_time sympathetic  \n",
       "0         NaN      NaN      NaN 2013-03-27 08:13:34         NaN  \n",
       "1         NaN      NaN      NaN 2013-03-27 10:25:48         NaN  \n",
       "2         NaN      NaN      NaN 2013-03-28 02:24:38         NaN  \n",
       "3         NaN      NaN      NaN 2013-03-29 16:05:43         NaN  \n",
       "4         NaN      NaN      NaN 2013-04-04 00:29:00         NaN  "
      ]
     },
     "execution_count": 100,
     "metadata": {},
     "output_type": "execute_result"
    }
   ],
   "source": [
    "behavior.head()"
   ]
  },
  {
   "cell_type": "markdown",
   "metadata": {},
   "source": [
    "# Exercise"
   ]
  },
  {
   "cell_type": "code",
   "execution_count": 101,
   "metadata": {
    "ExecuteTime": {
     "end_time": "2019-01-12T18:11:15.739490Z",
     "start_time": "2019-01-12T18:11:15.735000Z"
    }
   },
   "outputs": [
    {
     "data": {
      "text/plain": [
       "{'name': 'Exercise',\n",
       " 'questions': [{'options': '(Yes) 1 2 (No)',\n",
       "   'question_id': 'have',\n",
       "   'question_text': \"Did you do vigorous exercise today (don't include walking) such as run, swim, cycle, play a sport\"},\n",
       "  {'options': '(Yes) 1 2 (No)',\n",
       "   'question_id': 'schedule',\n",
       "   'question_text': \"If no did you want to but couldn't because of your schedule?\"},\n",
       "  {'options': '[1]None, [2]<30 mins, [3]30-60 mins, [4]60-90 mins, [5]>90mins, ',\n",
       "   'question_id': 'exercise',\n",
       "   'question_text': 'If you exercised how long did you exercise for?'},\n",
       "  {'options': '', 'question_id': 'location', 'question_text': ''},\n",
       "  {'options': '[1]None, [2]<30 mins, [3]30-60 mins, [4]60-90 mins, [5]>90mins, ',\n",
       "   'question_id': 'walk',\n",
       "   'question_text': 'How long did you walk for today?'}]}"
      ]
     },
     "execution_count": 101,
     "metadata": {},
     "output_type": "execute_result"
    }
   ],
   "source": [
    "definitions[7]"
   ]
  },
  {
   "cell_type": "code",
   "execution_count": 108,
   "metadata": {
    "ExecuteTime": {
     "end_time": "2019-01-12T18:11:45.750800Z",
     "start_time": "2019-01-12T18:11:45.729203Z"
    }
   },
   "outputs": [
    {
     "data": {
      "text/html": [
       "<div>\n",
       "<style scoped>\n",
       "    .dataframe tbody tr th:only-of-type {\n",
       "        vertical-align: middle;\n",
       "    }\n",
       "\n",
       "    .dataframe tbody tr th {\n",
       "        vertical-align: top;\n",
       "    }\n",
       "\n",
       "    .dataframe thead th {\n",
       "        text-align: right;\n",
       "    }\n",
       "</style>\n",
       "<table border=\"1\" class=\"dataframe\">\n",
       "  <thead>\n",
       "    <tr style=\"text-align: right;\">\n",
       "      <th></th>\n",
       "      <th>exercise</th>\n",
       "      <th>have</th>\n",
       "      <th>location</th>\n",
       "      <th>resp_time</th>\n",
       "      <th>schedule</th>\n",
       "      <th>walk</th>\n",
       "    </tr>\n",
       "  </thead>\n",
       "  <tbody>\n",
       "    <tr>\n",
       "      <th>0</th>\n",
       "      <td>4</td>\n",
       "      <td>1</td>\n",
       "      <td>NaN</td>\n",
       "      <td>2013-04-03 03:43:26</td>\n",
       "      <td>null</td>\n",
       "      <td>2</td>\n",
       "    </tr>\n",
       "    <tr>\n",
       "      <th>1</th>\n",
       "      <td>3</td>\n",
       "      <td>2</td>\n",
       "      <td>NaN</td>\n",
       "      <td>2013-04-01 14:55:38</td>\n",
       "      <td>1</td>\n",
       "      <td>2</td>\n",
       "    </tr>\n",
       "    <tr>\n",
       "      <th>2</th>\n",
       "      <td>1</td>\n",
       "      <td>2</td>\n",
       "      <td>NaN</td>\n",
       "      <td>2013-04-01 17:12:56</td>\n",
       "      <td>1</td>\n",
       "      <td>1</td>\n",
       "    </tr>\n",
       "    <tr>\n",
       "      <th>3</th>\n",
       "      <td>1</td>\n",
       "      <td>1</td>\n",
       "      <td>NaN</td>\n",
       "      <td>2013-04-02 04:03:53</td>\n",
       "      <td>null</td>\n",
       "      <td>1</td>\n",
       "    </tr>\n",
       "    <tr>\n",
       "      <th>4</th>\n",
       "      <td>1</td>\n",
       "      <td>2</td>\n",
       "      <td>NaN</td>\n",
       "      <td>2013-04-04 00:28:03</td>\n",
       "      <td>1</td>\n",
       "      <td>2</td>\n",
       "    </tr>\n",
       "    <tr>\n",
       "      <th>5</th>\n",
       "      <td>1</td>\n",
       "      <td>2</td>\n",
       "      <td>NaN</td>\n",
       "      <td>2013-04-04 02:03:44</td>\n",
       "      <td>1</td>\n",
       "      <td>3</td>\n",
       "    </tr>\n",
       "    <tr>\n",
       "      <th>6</th>\n",
       "      <td>1</td>\n",
       "      <td>2</td>\n",
       "      <td>NaN</td>\n",
       "      <td>2013-04-06 02:19:21</td>\n",
       "      <td>1</td>\n",
       "      <td>1</td>\n",
       "    </tr>\n",
       "    <tr>\n",
       "      <th>7</th>\n",
       "      <td>4</td>\n",
       "      <td>1</td>\n",
       "      <td>NaN</td>\n",
       "      <td>2013-04-05 02:39:51</td>\n",
       "      <td>2</td>\n",
       "      <td>3</td>\n",
       "    </tr>\n",
       "    <tr>\n",
       "      <th>8</th>\n",
       "      <td>4</td>\n",
       "      <td>1</td>\n",
       "      <td>NaN</td>\n",
       "      <td>2013-04-05 20:37:51</td>\n",
       "      <td>null</td>\n",
       "      <td>3</td>\n",
       "    </tr>\n",
       "    <tr>\n",
       "      <th>9</th>\n",
       "      <td>3</td>\n",
       "      <td>2</td>\n",
       "      <td>NaN</td>\n",
       "      <td>2013-04-07 18:35:08</td>\n",
       "      <td>2</td>\n",
       "      <td>3</td>\n",
       "    </tr>\n",
       "  </tbody>\n",
       "</table>\n",
       "</div>"
      ],
      "text/plain": [
       "   exercise have location           resp_time schedule  walk\n",
       "0         4    1      NaN 2013-04-03 03:43:26     null     2\n",
       "1         3    2      NaN 2013-04-01 14:55:38        1     2\n",
       "2         1    2      NaN 2013-04-01 17:12:56        1     1\n",
       "3         1    1      NaN 2013-04-02 04:03:53     null     1\n",
       "4         1    2      NaN 2013-04-04 00:28:03        1     2\n",
       "5         1    2      NaN 2013-04-04 02:03:44        1     3\n",
       "6         1    2      NaN 2013-04-06 02:19:21        1     1\n",
       "7         4    1      NaN 2013-04-05 02:39:51        2     3\n",
       "8         4    1      NaN 2013-04-05 20:37:51     null     3\n",
       "9         3    2      NaN 2013-04-07 18:35:08        2     3"
      ]
     },
     "execution_count": 108,
     "metadata": {},
     "output_type": "execute_result"
    }
   ],
   "source": [
    "exercise = pd.read_json('../../../student-life-dataset/dataset/EMA/response/Exercise/Exercise_u00.json')\n",
    "exercise.head(10)"
   ]
  },
  {
   "cell_type": "markdown",
   "metadata": {},
   "source": [
    "# Study Spaces"
   ]
  },
  {
   "cell_type": "code",
   "execution_count": 109,
   "metadata": {
    "ExecuteTime": {
     "end_time": "2019-01-12T18:12:03.339528Z",
     "start_time": "2019-01-12T18:12:03.334853Z"
    }
   },
   "outputs": [
    {
     "data": {
      "text/plain": [
       "{'name': 'Study Spaces',\n",
       " 'questions': [{'options': '',\n",
       "   'question_id': 'place',\n",
       "   'question_text': 'Where were you working (room and building)?'},\n",
       "  {'options': '[1]super distracted, [2]mildly distracted, [3]mildly productive, [4]super productive, ',\n",
       "   'question_id': 'productivity',\n",
       "   'question_text': 'Rate your productivity:'},\n",
       "  {'options': '[1]silent, [2]white noise, [3]loud, [4]distracting, ',\n",
       "   'question_id': 'noise',\n",
       "   'question_text': 'What was the ambient noise level?'},\n",
       "  {'options': '', 'question_id': 'location', 'question_text': ''}]}"
      ]
     },
     "execution_count": 109,
     "metadata": {},
     "output_type": "execute_result"
    }
   ],
   "source": [
    "definitions[8]"
   ]
  },
  {
   "cell_type": "code",
   "execution_count": 111,
   "metadata": {
    "ExecuteTime": {
     "end_time": "2019-01-12T18:12:08.910309Z",
     "start_time": "2019-01-12T18:12:08.887848Z"
    },
    "scrolled": true
   },
   "outputs": [
    {
     "data": {
      "text/html": [
       "<div>\n",
       "<style scoped>\n",
       "    .dataframe tbody tr th:only-of-type {\n",
       "        vertical-align: middle;\n",
       "    }\n",
       "\n",
       "    .dataframe tbody tr th {\n",
       "        vertical-align: top;\n",
       "    }\n",
       "\n",
       "    .dataframe thead th {\n",
       "        text-align: right;\n",
       "    }\n",
       "</style>\n",
       "<table border=\"1\" class=\"dataframe\">\n",
       "  <thead>\n",
       "    <tr style=\"text-align: right;\">\n",
       "      <th></th>\n",
       "      <th>location</th>\n",
       "      <th>noise</th>\n",
       "      <th>null</th>\n",
       "      <th>place</th>\n",
       "      <th>productivity</th>\n",
       "      <th>resp_time</th>\n",
       "    </tr>\n",
       "  </thead>\n",
       "  <tbody>\n",
       "    <tr>\n",
       "      <th>0</th>\n",
       "      <td>43.75872078,-72.32869187</td>\n",
       "      <td>NaN</td>\n",
       "      <td>1.0</td>\n",
       "      <td>sudi</td>\n",
       "      <td>3</td>\n",
       "      <td>2013-04-19 04:30:13</td>\n",
       "    </tr>\n",
       "    <tr>\n",
       "      <th>1</th>\n",
       "      <td>43.70806183,-72.28452186</td>\n",
       "      <td>NaN</td>\n",
       "      <td>1.0</td>\n",
       "      <td>king Arthur cafe\\n</td>\n",
       "      <td>4</td>\n",
       "      <td>2013-04-19 23:00:55</td>\n",
       "    </tr>\n",
       "    <tr>\n",
       "      <th>2</th>\n",
       "      <td>43.71472383,-72.30880637</td>\n",
       "      <td>NaN</td>\n",
       "      <td>1.0</td>\n",
       "      <td>library</td>\n",
       "      <td>3</td>\n",
       "      <td>2013-04-21 04:51:56</td>\n",
       "    </tr>\n",
       "    <tr>\n",
       "      <th>3</th>\n",
       "      <td>43.75957917,-72.32886943</td>\n",
       "      <td>NaN</td>\n",
       "      <td>2.0</td>\n",
       "      <td>homr</td>\n",
       "      <td>2</td>\n",
       "      <td>2013-04-22 00:17:04</td>\n",
       "    </tr>\n",
       "    <tr>\n",
       "      <th>4</th>\n",
       "      <td>43.70381516,-72.28813609</td>\n",
       "      <td>NaN</td>\n",
       "      <td>1.0</td>\n",
       "      <td>nowhere</td>\n",
       "      <td>1</td>\n",
       "      <td>2013-04-24 04:06:22</td>\n",
       "    </tr>\n",
       "    <tr>\n",
       "      <th>5</th>\n",
       "      <td>43.70411717,-72.2890889</td>\n",
       "      <td>NaN</td>\n",
       "      <td>4.0</td>\n",
       "      <td>sukdicoff room 319</td>\n",
       "      <td>1</td>\n",
       "      <td>2013-04-23 04:01:10</td>\n",
       "    </tr>\n",
       "    <tr>\n",
       "      <th>6</th>\n",
       "      <td>43.70863122,-72.28437025</td>\n",
       "      <td>1.0</td>\n",
       "      <td>NaN</td>\n",
       "      <td>office</td>\n",
       "      <td>3</td>\n",
       "      <td>2013-04-29 22:53:36</td>\n",
       "    </tr>\n",
       "    <tr>\n",
       "      <th>7</th>\n",
       "      <td>Unknown</td>\n",
       "      <td>3.0</td>\n",
       "      <td>NaN</td>\n",
       "      <td>home</td>\n",
       "      <td>2</td>\n",
       "      <td>2013-04-28 23:36:59</td>\n",
       "    </tr>\n",
       "    <tr>\n",
       "      <th>8</th>\n",
       "      <td>Unknown</td>\n",
       "      <td>3.0</td>\n",
       "      <td>NaN</td>\n",
       "      <td>pub</td>\n",
       "      <td>2</td>\n",
       "      <td>2013-05-03 23:43:41</td>\n",
       "    </tr>\n",
       "    <tr>\n",
       "      <th>9</th>\n",
       "      <td>48.84434287,2.3817956</td>\n",
       "      <td>3.0</td>\n",
       "      <td>NaN</td>\n",
       "      <td>nowhere</td>\n",
       "      <td>1</td>\n",
       "      <td>2013-05-05 19:54:43</td>\n",
       "    </tr>\n",
       "  </tbody>\n",
       "</table>\n",
       "</div>"
      ],
      "text/plain": [
       "                   location  noise  null               place  productivity  \\\n",
       "0  43.75872078,-72.32869187    NaN   1.0                sudi             3   \n",
       "1  43.70806183,-72.28452186    NaN   1.0  king Arthur cafe\\n             4   \n",
       "2  43.71472383,-72.30880637    NaN   1.0             library             3   \n",
       "3  43.75957917,-72.32886943    NaN   2.0                homr             2   \n",
       "4  43.70381516,-72.28813609    NaN   1.0             nowhere             1   \n",
       "5   43.70411717,-72.2890889    NaN   4.0  sukdicoff room 319             1   \n",
       "6  43.70863122,-72.28437025    1.0   NaN              office             3   \n",
       "7                   Unknown    3.0   NaN                home             2   \n",
       "8                   Unknown    3.0   NaN                 pub             2   \n",
       "9     48.84434287,2.3817956    3.0   NaN             nowhere             1   \n",
       "\n",
       "            resp_time  \n",
       "0 2013-04-19 04:30:13  \n",
       "1 2013-04-19 23:00:55  \n",
       "2 2013-04-21 04:51:56  \n",
       "3 2013-04-22 00:17:04  \n",
       "4 2013-04-24 04:06:22  \n",
       "5 2013-04-23 04:01:10  \n",
       "6 2013-04-29 22:53:36  \n",
       "7 2013-04-28 23:36:59  \n",
       "8 2013-05-03 23:43:41  \n",
       "9 2013-05-05 19:54:43  "
      ]
     },
     "execution_count": 111,
     "metadata": {},
     "output_type": "execute_result"
    }
   ],
   "source": [
    "study_spaces = pd.read_json('../../../student-life-dataset/dataset/EMA/response/Study Spaces/Study Spaces_u00.json')\n",
    "study_spaces.head(10)"
   ]
  },
  {
   "cell_type": "code",
   "execution_count": 112,
   "metadata": {
    "ExecuteTime": {
     "end_time": "2019-01-12T18:14:31.782360Z",
     "start_time": "2019-01-12T18:14:31.778403Z"
    }
   },
   "outputs": [],
   "source": [
    "study_spaces = study_spaces.drop(columns=['null', 'place'])"
   ]
  },
  {
   "cell_type": "code",
   "execution_count": 113,
   "metadata": {
    "ExecuteTime": {
     "end_time": "2019-01-12T18:14:37.549279Z",
     "start_time": "2019-01-12T18:14:37.537753Z"
    }
   },
   "outputs": [
    {
     "data": {
      "text/html": [
       "<div>\n",
       "<style scoped>\n",
       "    .dataframe tbody tr th:only-of-type {\n",
       "        vertical-align: middle;\n",
       "    }\n",
       "\n",
       "    .dataframe tbody tr th {\n",
       "        vertical-align: top;\n",
       "    }\n",
       "\n",
       "    .dataframe thead th {\n",
       "        text-align: right;\n",
       "    }\n",
       "</style>\n",
       "<table border=\"1\" class=\"dataframe\">\n",
       "  <thead>\n",
       "    <tr style=\"text-align: right;\">\n",
       "      <th></th>\n",
       "      <th>location</th>\n",
       "      <th>noise</th>\n",
       "      <th>productivity</th>\n",
       "      <th>resp_time</th>\n",
       "    </tr>\n",
       "  </thead>\n",
       "  <tbody>\n",
       "    <tr>\n",
       "      <th>0</th>\n",
       "      <td>43.75872078,-72.32869187</td>\n",
       "      <td>NaN</td>\n",
       "      <td>3</td>\n",
       "      <td>2013-04-19 04:30:13</td>\n",
       "    </tr>\n",
       "    <tr>\n",
       "      <th>1</th>\n",
       "      <td>43.70806183,-72.28452186</td>\n",
       "      <td>NaN</td>\n",
       "      <td>4</td>\n",
       "      <td>2013-04-19 23:00:55</td>\n",
       "    </tr>\n",
       "    <tr>\n",
       "      <th>2</th>\n",
       "      <td>43.71472383,-72.30880637</td>\n",
       "      <td>NaN</td>\n",
       "      <td>3</td>\n",
       "      <td>2013-04-21 04:51:56</td>\n",
       "    </tr>\n",
       "    <tr>\n",
       "      <th>3</th>\n",
       "      <td>43.75957917,-72.32886943</td>\n",
       "      <td>NaN</td>\n",
       "      <td>2</td>\n",
       "      <td>2013-04-22 00:17:04</td>\n",
       "    </tr>\n",
       "    <tr>\n",
       "      <th>4</th>\n",
       "      <td>43.70381516,-72.28813609</td>\n",
       "      <td>NaN</td>\n",
       "      <td>1</td>\n",
       "      <td>2013-04-24 04:06:22</td>\n",
       "    </tr>\n",
       "  </tbody>\n",
       "</table>\n",
       "</div>"
      ],
      "text/plain": [
       "                   location  noise  productivity           resp_time\n",
       "0  43.75872078,-72.32869187    NaN             3 2013-04-19 04:30:13\n",
       "1  43.70806183,-72.28452186    NaN             4 2013-04-19 23:00:55\n",
       "2  43.71472383,-72.30880637    NaN             3 2013-04-21 04:51:56\n",
       "3  43.75957917,-72.32886943    NaN             2 2013-04-22 00:17:04\n",
       "4  43.70381516,-72.28813609    NaN             1 2013-04-24 04:06:22"
      ]
     },
     "execution_count": 113,
     "metadata": {},
     "output_type": "execute_result"
    }
   ],
   "source": [
    "study_spaces.head()"
   ]
  },
  {
   "cell_type": "markdown",
   "metadata": {},
   "source": [
    "# Events"
   ]
  },
  {
   "cell_type": "code",
   "execution_count": 114,
   "metadata": {
    "ExecuteTime": {
     "end_time": "2019-01-12T18:14:44.532588Z",
     "start_time": "2019-01-12T18:14:44.527689Z"
    }
   },
   "outputs": [
    {
     "data": {
      "text/plain": [
       "{'name': 'Events',\n",
       " 'questions': [{'options': '[1]1, [2]2, [3]3, [4]4, [5]5, [6]6, [7]7, ',\n",
       "   'question_id': 'positive',\n",
       "   'question_text': \"Think About Yesterday's Events. Rate the intensity of your Most Positive Events on a scale ranging from 1 (very weak)  to 7 (very intense).\"},\n",
       "  {'options': '[1]1, [2]2, [3]3, [4]4, [5]5, [6]6, [7]7, ',\n",
       "   'question_id': 'negative',\n",
       "   'question_text': 'Rate the intensity of your Most Negative Events on a scale.'},\n",
       "  {'options': '',\n",
       "   'question_id': 'pevent',\n",
       "   'question_text': 'What was the positive event (single word or short comment)?'},\n",
       "  {'options': '',\n",
       "   'question_id': 'nevent',\n",
       "   'question_text': 'What was the negative event?'},\n",
       "  {'options': '', 'question_id': 'location', 'question_text': ''}]}"
      ]
     },
     "execution_count": 114,
     "metadata": {},
     "output_type": "execute_result"
    }
   ],
   "source": [
    "definitions[10]"
   ]
  },
  {
   "cell_type": "code",
   "execution_count": 115,
   "metadata": {
    "ExecuteTime": {
     "end_time": "2019-01-12T18:14:48.149634Z",
     "start_time": "2019-01-12T18:14:48.121897Z"
    },
    "scrolled": true
   },
   "outputs": [
    {
     "data": {
      "text/html": [
       "<div>\n",
       "<style scoped>\n",
       "    .dataframe tbody tr th:only-of-type {\n",
       "        vertical-align: middle;\n",
       "    }\n",
       "\n",
       "    .dataframe tbody tr th {\n",
       "        vertical-align: top;\n",
       "    }\n",
       "\n",
       "    .dataframe thead th {\n",
       "        text-align: right;\n",
       "    }\n",
       "</style>\n",
       "<table border=\"1\" class=\"dataframe\">\n",
       "  <thead>\n",
       "    <tr style=\"text-align: right;\">\n",
       "      <th></th>\n",
       "      <th>location</th>\n",
       "      <th>negative</th>\n",
       "      <th>nevent</th>\n",
       "      <th>pevent</th>\n",
       "      <th>positive</th>\n",
       "      <th>resp_time</th>\n",
       "    </tr>\n",
       "  </thead>\n",
       "  <tbody>\n",
       "    <tr>\n",
       "      <th>0</th>\n",
       "      <td>43.70665284,-72.28802865</td>\n",
       "      <td>5</td>\n",
       "      <td>f</td>\n",
       "      <td>birrhday</td>\n",
       "      <td>5</td>\n",
       "      <td>2013-04-19 17:56:04</td>\n",
       "    </tr>\n",
       "    <tr>\n",
       "      <th>1</th>\n",
       "      <td>43.70324408,-72.28961597</td>\n",
       "      <td>7</td>\n",
       "      <td>90 on the lab</td>\n",
       "      <td>successful crawler function</td>\n",
       "      <td>5</td>\n",
       "      <td>2013-04-25 01:22:19</td>\n",
       "    </tr>\n",
       "    <tr>\n",
       "      <th>2</th>\n",
       "      <td>43.70324408,-72.28961597</td>\n",
       "      <td>3</td>\n",
       "      <td></td>\n",
       "      <td>dinner</td>\n",
       "      <td>3</td>\n",
       "      <td>2013-04-23 01:58:20</td>\n",
       "    </tr>\n",
       "    <tr>\n",
       "      <th>3</th>\n",
       "      <td>43.70151131,-72.28813703</td>\n",
       "      <td>4</td>\n",
       "      <td>cs65 lab</td>\n",
       "      <td>fixed bug in crawler</td>\n",
       "      <td>4</td>\n",
       "      <td>2013-04-28 04:07:16</td>\n",
       "    </tr>\n",
       "    <tr>\n",
       "      <th>4</th>\n",
       "      <td>43.70330372,-72.2898598</td>\n",
       "      <td>3</td>\n",
       "      <td>discovered bug in crawler</td>\n",
       "      <td>built crawler</td>\n",
       "      <td>4</td>\n",
       "      <td>2013-04-26 07:10:25</td>\n",
       "    </tr>\n",
       "    <tr>\n",
       "      <th>5</th>\n",
       "      <td>43.70412157,-72.28527572</td>\n",
       "      <td>1</td>\n",
       "      <td></td>\n",
       "      <td></td>\n",
       "      <td>1</td>\n",
       "      <td>2013-05-01 16:27:32</td>\n",
       "    </tr>\n",
       "    <tr>\n",
       "      <th>6</th>\n",
       "      <td>43.70452075,-72.28559555</td>\n",
       "      <td>1</td>\n",
       "      <td>none</td>\n",
       "      <td>finished lab</td>\n",
       "      <td>4</td>\n",
       "      <td>2013-05-04 16:29:24</td>\n",
       "    </tr>\n",
       "    <tr>\n",
       "      <th>7</th>\n",
       "      <td>Unknown</td>\n",
       "      <td>1</td>\n",
       "      <td></td>\n",
       "      <td></td>\n",
       "      <td>1</td>\n",
       "      <td>2013-05-21 18:59:59</td>\n",
       "    </tr>\n",
       "    <tr>\n",
       "      <th>8</th>\n",
       "      <td>Unknown</td>\n",
       "      <td>1</td>\n",
       "      <td></td>\n",
       "      <td></td>\n",
       "      <td>1</td>\n",
       "      <td>2013-05-23 19:03:55</td>\n",
       "    </tr>\n",
       "  </tbody>\n",
       "</table>\n",
       "</div>"
      ],
      "text/plain": [
       "                   location  negative                     nevent  \\\n",
       "0  43.70665284,-72.28802865         5                          f   \n",
       "1  43.70324408,-72.28961597         7              90 on the lab   \n",
       "2  43.70324408,-72.28961597         3                              \n",
       "3  43.70151131,-72.28813703         4                   cs65 lab   \n",
       "4   43.70330372,-72.2898598         3  discovered bug in crawler   \n",
       "5  43.70412157,-72.28527572         1                              \n",
       "6  43.70452075,-72.28559555         1                       none   \n",
       "7                   Unknown         1                              \n",
       "8                   Unknown         1                              \n",
       "\n",
       "                        pevent  positive           resp_time  \n",
       "0                     birrhday         5 2013-04-19 17:56:04  \n",
       "1  successful crawler function         5 2013-04-25 01:22:19  \n",
       "2                       dinner         3 2013-04-23 01:58:20  \n",
       "3         fixed bug in crawler         4 2013-04-28 04:07:16  \n",
       "4                built crawler         4 2013-04-26 07:10:25  \n",
       "5                                      1 2013-05-01 16:27:32  \n",
       "6                 finished lab         4 2013-05-04 16:29:24  \n",
       "7                                      1 2013-05-21 18:59:59  \n",
       "8                                      1 2013-05-23 19:03:55  "
      ]
     },
     "execution_count": 115,
     "metadata": {},
     "output_type": "execute_result"
    }
   ],
   "source": [
    "events = pd.read_json('../../../student-life-dataset/dataset/EMA/response/Events/Events_u10.json')\n",
    "events.head(10)"
   ]
  },
  {
   "cell_type": "code",
   "execution_count": 116,
   "metadata": {
    "ExecuteTime": {
     "end_time": "2019-01-12T18:15:25.990599Z",
     "start_time": "2019-01-12T18:15:25.987027Z"
    }
   },
   "outputs": [],
   "source": [
    "events = events.drop(columns=['nevent', 'pevent'])"
   ]
  },
  {
   "cell_type": "code",
   "execution_count": 117,
   "metadata": {
    "ExecuteTime": {
     "end_time": "2019-01-12T18:15:31.113480Z",
     "start_time": "2019-01-12T18:15:31.104368Z"
    }
   },
   "outputs": [
    {
     "data": {
      "text/html": [
       "<div>\n",
       "<style scoped>\n",
       "    .dataframe tbody tr th:only-of-type {\n",
       "        vertical-align: middle;\n",
       "    }\n",
       "\n",
       "    .dataframe tbody tr th {\n",
       "        vertical-align: top;\n",
       "    }\n",
       "\n",
       "    .dataframe thead th {\n",
       "        text-align: right;\n",
       "    }\n",
       "</style>\n",
       "<table border=\"1\" class=\"dataframe\">\n",
       "  <thead>\n",
       "    <tr style=\"text-align: right;\">\n",
       "      <th></th>\n",
       "      <th>location</th>\n",
       "      <th>negative</th>\n",
       "      <th>positive</th>\n",
       "      <th>resp_time</th>\n",
       "    </tr>\n",
       "  </thead>\n",
       "  <tbody>\n",
       "    <tr>\n",
       "      <th>0</th>\n",
       "      <td>43.70665284,-72.28802865</td>\n",
       "      <td>5</td>\n",
       "      <td>5</td>\n",
       "      <td>2013-04-19 17:56:04</td>\n",
       "    </tr>\n",
       "    <tr>\n",
       "      <th>1</th>\n",
       "      <td>43.70324408,-72.28961597</td>\n",
       "      <td>7</td>\n",
       "      <td>5</td>\n",
       "      <td>2013-04-25 01:22:19</td>\n",
       "    </tr>\n",
       "    <tr>\n",
       "      <th>2</th>\n",
       "      <td>43.70324408,-72.28961597</td>\n",
       "      <td>3</td>\n",
       "      <td>3</td>\n",
       "      <td>2013-04-23 01:58:20</td>\n",
       "    </tr>\n",
       "    <tr>\n",
       "      <th>3</th>\n",
       "      <td>43.70151131,-72.28813703</td>\n",
       "      <td>4</td>\n",
       "      <td>4</td>\n",
       "      <td>2013-04-28 04:07:16</td>\n",
       "    </tr>\n",
       "    <tr>\n",
       "      <th>4</th>\n",
       "      <td>43.70330372,-72.2898598</td>\n",
       "      <td>3</td>\n",
       "      <td>4</td>\n",
       "      <td>2013-04-26 07:10:25</td>\n",
       "    </tr>\n",
       "  </tbody>\n",
       "</table>\n",
       "</div>"
      ],
      "text/plain": [
       "                   location  negative  positive           resp_time\n",
       "0  43.70665284,-72.28802865         5         5 2013-04-19 17:56:04\n",
       "1  43.70324408,-72.28961597         7         5 2013-04-25 01:22:19\n",
       "2  43.70324408,-72.28961597         3         3 2013-04-23 01:58:20\n",
       "3  43.70151131,-72.28813703         4         4 2013-04-28 04:07:16\n",
       "4   43.70330372,-72.2898598         3         4 2013-04-26 07:10:25"
      ]
     },
     "execution_count": 117,
     "metadata": {},
     "output_type": "execute_result"
    }
   ],
   "source": [
    "events.head()"
   ]
  },
  {
   "cell_type": "markdown",
   "metadata": {},
   "source": [
    "# Mood"
   ]
  },
  {
   "cell_type": "code",
   "execution_count": 118,
   "metadata": {
    "ExecuteTime": {
     "end_time": "2019-01-12T18:15:33.764280Z",
     "start_time": "2019-01-12T18:15:33.759688Z"
    }
   },
   "outputs": [
    {
     "data": {
      "text/plain": [
       "{'name': 'Mood',\n",
       " 'questions': [{'options': '(Yes) 1 2 (No)',\n",
       "   'question_id': 'happyornot',\n",
       "   'question_text': 'Do you feel AT ALL happy right now?'},\n",
       "  {'options': '[1]a little bit, [2]somewhat, [3]very much, [4]extremely, ',\n",
       "   'question_id': 'happy',\n",
       "   'question_text': 'If you answered \"Yes\" on the first question, how happy do you feel? '},\n",
       "  {'options': '(Yes) 1 2 (No)',\n",
       "   'question_id': 'sadornot',\n",
       "   'question_text': 'Do you feel AT ALL sad right now? '},\n",
       "  {'options': '[1]a little bit, [2]somewhat, [3]very much, [4]extremely, ',\n",
       "   'question_id': 'sad',\n",
       "   'question_text': 'If you answered \"Yes\" on the third question, how sad do you feel?'},\n",
       "  {'options': '', 'question_id': 'location', 'question_text': ''}]}"
      ]
     },
     "execution_count": 118,
     "metadata": {},
     "output_type": "execute_result"
    }
   ],
   "source": [
    "definitions[16]"
   ]
  },
  {
   "cell_type": "code",
   "execution_count": 119,
   "metadata": {
    "ExecuteTime": {
     "end_time": "2019-01-12T18:15:36.768980Z",
     "start_time": "2019-01-12T18:15:36.745519Z"
    }
   },
   "outputs": [
    {
     "data": {
      "text/html": [
       "<div>\n",
       "<style scoped>\n",
       "    .dataframe tbody tr th:only-of-type {\n",
       "        vertical-align: middle;\n",
       "    }\n",
       "\n",
       "    .dataframe tbody tr th {\n",
       "        vertical-align: top;\n",
       "    }\n",
       "\n",
       "    .dataframe thead th {\n",
       "        text-align: right;\n",
       "    }\n",
       "</style>\n",
       "<table border=\"1\" class=\"dataframe\">\n",
       "  <thead>\n",
       "    <tr style=\"text-align: right;\">\n",
       "      <th></th>\n",
       "      <th>happy</th>\n",
       "      <th>happyornot</th>\n",
       "      <th>location</th>\n",
       "      <th>resp_time</th>\n",
       "      <th>sad</th>\n",
       "      <th>sadornot</th>\n",
       "    </tr>\n",
       "  </thead>\n",
       "  <tbody>\n",
       "    <tr>\n",
       "      <th>0</th>\n",
       "      <td>1</td>\n",
       "      <td>2</td>\n",
       "      <td>43.75921839,-72.32919741</td>\n",
       "      <td>2013-04-25 06:09:55</td>\n",
       "      <td>3</td>\n",
       "      <td>1</td>\n",
       "    </tr>\n",
       "    <tr>\n",
       "      <th>1</th>\n",
       "      <td>2</td>\n",
       "      <td>1</td>\n",
       "      <td>Unknown</td>\n",
       "      <td>2013-04-25 02:40:33</td>\n",
       "      <td>4</td>\n",
       "      <td>1</td>\n",
       "    </tr>\n",
       "    <tr>\n",
       "      <th>2</th>\n",
       "      <td>2</td>\n",
       "      <td>1</td>\n",
       "      <td>43.71332016,-72.30876457</td>\n",
       "      <td>2013-05-16 15:43:07</td>\n",
       "      <td>1</td>\n",
       "      <td>1</td>\n",
       "    </tr>\n",
       "    <tr>\n",
       "      <th>3</th>\n",
       "      <td>3</td>\n",
       "      <td>1</td>\n",
       "      <td>43.75880824,-72.32925862</td>\n",
       "      <td>2013-05-15 15:24:22</td>\n",
       "      <td>1</td>\n",
       "      <td>2</td>\n",
       "    </tr>\n",
       "    <tr>\n",
       "      <th>4</th>\n",
       "      <td>2</td>\n",
       "      <td>1</td>\n",
       "      <td>43.75929012,-72.32904032</td>\n",
       "      <td>2013-05-17 14:59:10</td>\n",
       "      <td>1</td>\n",
       "      <td>null</td>\n",
       "    </tr>\n",
       "    <tr>\n",
       "      <th>5</th>\n",
       "      <td>1</td>\n",
       "      <td>null</td>\n",
       "      <td>43.75906255,-72.32936718</td>\n",
       "      <td>2013-05-21 02:41:36</td>\n",
       "      <td>1</td>\n",
       "      <td>null</td>\n",
       "    </tr>\n",
       "    <tr>\n",
       "      <th>6</th>\n",
       "      <td>1</td>\n",
       "      <td>2</td>\n",
       "      <td>43.70685166,-72.28720734</td>\n",
       "      <td>2013-05-22 03:57:58</td>\n",
       "      <td>1</td>\n",
       "      <td>2</td>\n",
       "    </tr>\n",
       "    <tr>\n",
       "      <th>7</th>\n",
       "      <td>1</td>\n",
       "      <td>1</td>\n",
       "      <td>43.7065519,-72.28701015</td>\n",
       "      <td>2013-05-23 02:40:11</td>\n",
       "      <td>1</td>\n",
       "      <td>1</td>\n",
       "    </tr>\n",
       "    <tr>\n",
       "      <th>8</th>\n",
       "      <td>1</td>\n",
       "      <td>null</td>\n",
       "      <td>43.70206745,-72.2892032</td>\n",
       "      <td>2013-08-07 01:47:19</td>\n",
       "      <td>1</td>\n",
       "      <td>null</td>\n",
       "    </tr>\n",
       "    <tr>\n",
       "      <th>9</th>\n",
       "      <td>1</td>\n",
       "      <td>null</td>\n",
       "      <td>43.70579481,-72.28577693</td>\n",
       "      <td>2013-08-10 03:44:09</td>\n",
       "      <td>1</td>\n",
       "      <td>null</td>\n",
       "    </tr>\n",
       "  </tbody>\n",
       "</table>\n",
       "</div>"
      ],
      "text/plain": [
       "   happy happyornot                  location           resp_time  sad  \\\n",
       "0      1          2  43.75921839,-72.32919741 2013-04-25 06:09:55    3   \n",
       "1      2          1                   Unknown 2013-04-25 02:40:33    4   \n",
       "2      2          1  43.71332016,-72.30876457 2013-05-16 15:43:07    1   \n",
       "3      3          1  43.75880824,-72.32925862 2013-05-15 15:24:22    1   \n",
       "4      2          1  43.75929012,-72.32904032 2013-05-17 14:59:10    1   \n",
       "5      1       null  43.75906255,-72.32936718 2013-05-21 02:41:36    1   \n",
       "6      1          2  43.70685166,-72.28720734 2013-05-22 03:57:58    1   \n",
       "7      1          1   43.7065519,-72.28701015 2013-05-23 02:40:11    1   \n",
       "8      1       null   43.70206745,-72.2892032 2013-08-07 01:47:19    1   \n",
       "9      1       null  43.70579481,-72.28577693 2013-08-10 03:44:09    1   \n",
       "\n",
       "  sadornot  \n",
       "0        1  \n",
       "1        1  \n",
       "2        1  \n",
       "3        2  \n",
       "4     null  \n",
       "5     null  \n",
       "6        2  \n",
       "7        1  \n",
       "8     null  \n",
       "9     null  "
      ]
     },
     "execution_count": 119,
     "metadata": {},
     "output_type": "execute_result"
    }
   ],
   "source": [
    "mood = pd.read_json('../../../student-life-dataset/dataset/EMA/response/Mood/Mood_u00.json')\n",
    "mood.head(10)"
   ]
  },
  {
   "cell_type": "markdown",
   "metadata": {},
   "source": [
    "# Mood 2"
   ]
  },
  {
   "cell_type": "code",
   "execution_count": 120,
   "metadata": {
    "ExecuteTime": {
     "end_time": "2019-01-12T18:15:49.867333Z",
     "start_time": "2019-01-12T18:15:49.862669Z"
    }
   },
   "outputs": [
    {
     "data": {
      "text/plain": [
       "{'name': 'Mood 2',\n",
       " 'questions': [{'options': '[1]happy, [2]stressed, [3]tired, ',\n",
       "   'question_id': 'how',\n",
       "   'question_text': 'How are you right now?'},\n",
       "  {'options': '', 'question_id': 'location', 'question_text': ''}]}"
      ]
     },
     "execution_count": 120,
     "metadata": {},
     "output_type": "execute_result"
    }
   ],
   "source": [
    "definitions[17]"
   ]
  },
  {
   "cell_type": "code",
   "execution_count": 121,
   "metadata": {
    "ExecuteTime": {
     "end_time": "2019-01-12T18:15:54.844544Z",
     "start_time": "2019-01-12T18:15:54.820771Z"
    }
   },
   "outputs": [
    {
     "data": {
      "text/html": [
       "<div>\n",
       "<style scoped>\n",
       "    .dataframe tbody tr th:only-of-type {\n",
       "        vertical-align: middle;\n",
       "    }\n",
       "\n",
       "    .dataframe tbody tr th {\n",
       "        vertical-align: top;\n",
       "    }\n",
       "\n",
       "    .dataframe thead th {\n",
       "        text-align: right;\n",
       "    }\n",
       "</style>\n",
       "<table border=\"1\" class=\"dataframe\">\n",
       "  <thead>\n",
       "    <tr style=\"text-align: right;\">\n",
       "      <th></th>\n",
       "      <th>how</th>\n",
       "      <th>location</th>\n",
       "      <th>resp_time</th>\n",
       "    </tr>\n",
       "  </thead>\n",
       "  <tbody>\n",
       "    <tr>\n",
       "      <th>0</th>\n",
       "      <td>1</td>\n",
       "      <td>48.84738024,2.33970511</td>\n",
       "      <td>2013-05-05 19:54:43</td>\n",
       "    </tr>\n",
       "    <tr>\n",
       "      <th>1</th>\n",
       "      <td>3</td>\n",
       "      <td>43.70511209,-72.28803398</td>\n",
       "      <td>2013-05-11 00:11:07</td>\n",
       "    </tr>\n",
       "    <tr>\n",
       "      <th>2</th>\n",
       "      <td>1</td>\n",
       "      <td>43.75921991,-72.32879322</td>\n",
       "      <td>2013-05-12 00:02:17</td>\n",
       "    </tr>\n",
       "    <tr>\n",
       "      <th>3</th>\n",
       "      <td>1</td>\n",
       "      <td>43.70587062,-72.28704848</td>\n",
       "      <td>2013-05-14 00:18:42</td>\n",
       "    </tr>\n",
       "    <tr>\n",
       "      <th>4</th>\n",
       "      <td>1</td>\n",
       "      <td>43.75887815,-72.32893078</td>\n",
       "      <td>2013-05-13 00:43:25</td>\n",
       "    </tr>\n",
       "    <tr>\n",
       "      <th>5</th>\n",
       "      <td>1</td>\n",
       "      <td>43.75923897,-72.32921506</td>\n",
       "      <td>2013-05-19 19:56:38</td>\n",
       "    </tr>\n",
       "    <tr>\n",
       "      <th>6</th>\n",
       "      <td>3</td>\n",
       "      <td>Unknown</td>\n",
       "      <td>2013-05-20 00:13:13</td>\n",
       "    </tr>\n",
       "    <tr>\n",
       "      <th>7</th>\n",
       "      <td>1</td>\n",
       "      <td>43.70001843,-72.28930482</td>\n",
       "      <td>2013-05-23 00:14:06</td>\n",
       "    </tr>\n",
       "    <tr>\n",
       "      <th>8</th>\n",
       "      <td>1</td>\n",
       "      <td>43.70659363,-72.28727549</td>\n",
       "      <td>2013-05-28 00:15:46</td>\n",
       "    </tr>\n",
       "    <tr>\n",
       "      <th>9</th>\n",
       "      <td>1</td>\n",
       "      <td>38.8547716,-77.04399257</td>\n",
       "      <td>2013-05-26 00:00:45</td>\n",
       "    </tr>\n",
       "  </tbody>\n",
       "</table>\n",
       "</div>"
      ],
      "text/plain": [
       "   how                  location           resp_time\n",
       "0    1    48.84738024,2.33970511 2013-05-05 19:54:43\n",
       "1    3  43.70511209,-72.28803398 2013-05-11 00:11:07\n",
       "2    1  43.75921991,-72.32879322 2013-05-12 00:02:17\n",
       "3    1  43.70587062,-72.28704848 2013-05-14 00:18:42\n",
       "4    1  43.75887815,-72.32893078 2013-05-13 00:43:25\n",
       "5    1  43.75923897,-72.32921506 2013-05-19 19:56:38\n",
       "6    3                   Unknown 2013-05-20 00:13:13\n",
       "7    1  43.70001843,-72.28930482 2013-05-23 00:14:06\n",
       "8    1  43.70659363,-72.28727549 2013-05-28 00:15:46\n",
       "9    1   38.8547716,-77.04399257 2013-05-26 00:00:45"
      ]
     },
     "execution_count": 121,
     "metadata": {},
     "output_type": "execute_result"
    }
   ],
   "source": [
    "mood2 = pd.read_json('../../../student-life-dataset/dataset/EMA/response/Mood 2/Mood 2_u00.json')\n",
    "mood2.head(10)"
   ]
  },
  {
   "cell_type": "markdown",
   "metadata": {},
   "source": [
    "# Mood 1"
   ]
  },
  {
   "cell_type": "code",
   "execution_count": 122,
   "metadata": {
    "ExecuteTime": {
     "end_time": "2019-01-12T18:16:00.665975Z",
     "start_time": "2019-01-12T18:16:00.661478Z"
    }
   },
   "outputs": [
    {
     "data": {
      "text/plain": [
       "{'name': 'Mood 1',\n",
       " 'questions': [{'options': '[1]happy, [2]stressed, [3]tired, ',\n",
       "   'question_id': 'tomorrow',\n",
       "   'question_text': 'How do you think you will be this time tomorrow?'},\n",
       "  {'options': '', 'question_id': 'location', 'question_text': ''}]}"
      ]
     },
     "execution_count": 122,
     "metadata": {},
     "output_type": "execute_result"
    }
   ],
   "source": [
    "definitions[20]"
   ]
  },
  {
   "cell_type": "code",
   "execution_count": 123,
   "metadata": {
    "ExecuteTime": {
     "end_time": "2019-01-12T18:16:03.915221Z",
     "start_time": "2019-01-12T18:16:03.892227Z"
    }
   },
   "outputs": [
    {
     "data": {
      "text/html": [
       "<div>\n",
       "<style scoped>\n",
       "    .dataframe tbody tr th:only-of-type {\n",
       "        vertical-align: middle;\n",
       "    }\n",
       "\n",
       "    .dataframe tbody tr th {\n",
       "        vertical-align: top;\n",
       "    }\n",
       "\n",
       "    .dataframe thead th {\n",
       "        text-align: right;\n",
       "    }\n",
       "</style>\n",
       "<table border=\"1\" class=\"dataframe\">\n",
       "  <thead>\n",
       "    <tr style=\"text-align: right;\">\n",
       "      <th></th>\n",
       "      <th>location</th>\n",
       "      <th>resp_time</th>\n",
       "      <th>tomorrow</th>\n",
       "    </tr>\n",
       "  </thead>\n",
       "  <tbody>\n",
       "    <tr>\n",
       "      <th>0</th>\n",
       "      <td>43.7069422,-72.28679881</td>\n",
       "      <td>2013-04-25 23:08:25</td>\n",
       "      <td>2</td>\n",
       "    </tr>\n",
       "    <tr>\n",
       "      <th>1</th>\n",
       "      <td>43.70674491,-72.28743434</td>\n",
       "      <td>2013-05-01 02:49:06</td>\n",
       "      <td>3</td>\n",
       "    </tr>\n",
       "    <tr>\n",
       "      <th>2</th>\n",
       "      <td>43.66395962,-72.24163402</td>\n",
       "      <td>2013-05-03 23:43:38</td>\n",
       "      <td>1</td>\n",
       "    </tr>\n",
       "    <tr>\n",
       "      <th>3</th>\n",
       "      <td>Unknown</td>\n",
       "      <td>2013-05-03 23:43:41</td>\n",
       "      <td>1</td>\n",
       "    </tr>\n",
       "    <tr>\n",
       "      <th>4</th>\n",
       "      <td>Unknown</td>\n",
       "      <td>2013-05-30 05:14:47</td>\n",
       "      <td>1</td>\n",
       "    </tr>\n",
       "    <tr>\n",
       "      <th>5</th>\n",
       "      <td>43.75915222,-72.32954385</td>\n",
       "      <td>2013-05-28 05:43:57</td>\n",
       "      <td>1</td>\n",
       "    </tr>\n",
       "    <tr>\n",
       "      <th>6</th>\n",
       "      <td>43.75929059,-72.32919777</td>\n",
       "      <td>2013-05-27 04:38:12</td>\n",
       "      <td>1</td>\n",
       "    </tr>\n",
       "    <tr>\n",
       "      <th>7</th>\n",
       "      <td>43.70434788,-72.28657033</td>\n",
       "      <td>2013-05-29 04:51:57</td>\n",
       "      <td>1</td>\n",
       "    </tr>\n",
       "    <tr>\n",
       "      <th>8</th>\n",
       "      <td>43.70647159,-72.28748884</td>\n",
       "      <td>2013-05-31 04:58:43</td>\n",
       "      <td>1</td>\n",
       "    </tr>\n",
       "    <tr>\n",
       "      <th>9</th>\n",
       "      <td>43.75936117,-72.32975719</td>\n",
       "      <td>2013-06-02 04:54:12</td>\n",
       "      <td>1</td>\n",
       "    </tr>\n",
       "  </tbody>\n",
       "</table>\n",
       "</div>"
      ],
      "text/plain": [
       "                   location           resp_time  tomorrow\n",
       "0   43.7069422,-72.28679881 2013-04-25 23:08:25         2\n",
       "1  43.70674491,-72.28743434 2013-05-01 02:49:06         3\n",
       "2  43.66395962,-72.24163402 2013-05-03 23:43:38         1\n",
       "3                   Unknown 2013-05-03 23:43:41         1\n",
       "4                   Unknown 2013-05-30 05:14:47         1\n",
       "5  43.75915222,-72.32954385 2013-05-28 05:43:57         1\n",
       "6  43.75929059,-72.32919777 2013-05-27 04:38:12         1\n",
       "7  43.70434788,-72.28657033 2013-05-29 04:51:57         1\n",
       "8  43.70647159,-72.28748884 2013-05-31 04:58:43         1\n",
       "9  43.75936117,-72.32975719 2013-06-02 04:54:12         1"
      ]
     },
     "execution_count": 123,
     "metadata": {},
     "output_type": "execute_result"
    }
   ],
   "source": [
    "mood1 = pd.read_json('../../../student-life-dataset/dataset/EMA/response/Mood 1/Mood 1_u00.json')\n",
    "mood1.head(10)"
   ]
  },
  {
   "cell_type": "markdown",
   "metadata": {},
   "source": [
    "# Class 2"
   ]
  },
  {
   "cell_type": "code",
   "execution_count": 124,
   "metadata": {
    "ExecuteTime": {
     "end_time": "2019-01-12T18:16:07.810930Z",
     "start_time": "2019-01-12T18:16:07.806614Z"
    }
   },
   "outputs": [
    {
     "data": {
      "text/plain": [
       "{'name': 'Class 2',\n",
       " 'questions': [{'options': '[1]Agree Strongly, [2]Agree Moderately, [3]Agree Slightly, [4]Disagree Slightly , [5]Disagree Moderately, [6]Disagree Strongly, ',\n",
       "   'question_id': 'challenge',\n",
       "   'question_text': \"Last week's lab was difficult and challenged me.\"},\n",
       "  {'options': '[1]Agree Strongly, [2]Agree Moderately, [3]Agree Slightly, [4]Disagree Slightly , [5]Disagree Moderately, [6]Disagree Strongly, ',\n",
       "   'question_id': 'effort',\n",
       "   'question_text': 'I put a great deal of effort into the course last week.'},\n",
       "  {'options': '[1]A, [2]A-, [3]B+, [4]B, [5]B-, [6]C+, [7]C, [8]C-, ',\n",
       "   'question_id': 'grade',\n",
       "   'question_text': 'I expect to get the following grade for this course.'},\n",
       "  {'options': '', 'question_id': 'location', 'question_text': ''}]}"
      ]
     },
     "execution_count": 124,
     "metadata": {},
     "output_type": "execute_result"
    }
   ],
   "source": [
    "definitions[21]"
   ]
  },
  {
   "cell_type": "code",
   "execution_count": 125,
   "metadata": {
    "ExecuteTime": {
     "end_time": "2019-01-12T18:16:10.695703Z",
     "start_time": "2019-01-12T18:16:10.669601Z"
    }
   },
   "outputs": [
    {
     "data": {
      "text/html": [
       "<div>\n",
       "<style scoped>\n",
       "    .dataframe tbody tr th:only-of-type {\n",
       "        vertical-align: middle;\n",
       "    }\n",
       "\n",
       "    .dataframe tbody tr th {\n",
       "        vertical-align: top;\n",
       "    }\n",
       "\n",
       "    .dataframe thead th {\n",
       "        text-align: right;\n",
       "    }\n",
       "</style>\n",
       "<table border=\"1\" class=\"dataframe\">\n",
       "  <thead>\n",
       "    <tr style=\"text-align: right;\">\n",
       "      <th></th>\n",
       "      <th>challenge</th>\n",
       "      <th>effort</th>\n",
       "      <th>grade</th>\n",
       "      <th>location</th>\n",
       "      <th>resp_time</th>\n",
       "    </tr>\n",
       "  </thead>\n",
       "  <tbody>\n",
       "    <tr>\n",
       "      <th>0</th>\n",
       "      <td>1</td>\n",
       "      <td>1</td>\n",
       "      <td>4</td>\n",
       "      <td>43.75924116,-72.32919107</td>\n",
       "      <td>2013-04-25 06:12:47</td>\n",
       "    </tr>\n",
       "    <tr>\n",
       "      <th>1</th>\n",
       "      <td>3</td>\n",
       "      <td>4</td>\n",
       "      <td>5</td>\n",
       "      <td>48.88597611,2.34306365</td>\n",
       "      <td>2013-05-06 16:51:50</td>\n",
       "    </tr>\n",
       "    <tr>\n",
       "      <th>2</th>\n",
       "      <td>1</td>\n",
       "      <td>1</td>\n",
       "      <td>1</td>\n",
       "      <td>43.75930193,-72.32937522</td>\n",
       "      <td>2013-05-20 00:16:11</td>\n",
       "    </tr>\n",
       "  </tbody>\n",
       "</table>\n",
       "</div>"
      ],
      "text/plain": [
       "   challenge  effort  grade                  location           resp_time\n",
       "0          1       1      4  43.75924116,-72.32919107 2013-04-25 06:12:47\n",
       "1          3       4      5    48.88597611,2.34306365 2013-05-06 16:51:50\n",
       "2          1       1      1  43.75930193,-72.32937522 2013-05-20 00:16:11"
      ]
     },
     "execution_count": 125,
     "metadata": {},
     "output_type": "execute_result"
    }
   ],
   "source": [
    "class2 = pd.read_json('../../../student-life-dataset/dataset/EMA/response/Class 2/Class 2_u00.json')\n",
    "class2.head(10)"
   ]
  },
  {
   "cell_type": "code",
   "execution_count": null,
   "metadata": {},
   "outputs": [],
   "source": []
  }
 ],
 "metadata": {
  "kernelspec": {
   "display_name": "Python [conda root]",
   "language": "python",
   "name": "conda-root-py"
  },
  "language_info": {
   "codemirror_mode": {
    "name": "ipython",
    "version": 3
   },
   "file_extension": ".py",
   "mimetype": "text/x-python",
   "name": "python",
   "nbconvert_exporter": "python",
   "pygments_lexer": "ipython3",
   "version": "3.6.5"
  },
  "toc": {
   "base_numbering": 1,
   "nav_menu": {},
   "number_sections": true,
   "sideBar": true,
   "skip_h1_title": false,
   "title_cell": "Table of Contents",
   "title_sidebar": "Contents",
   "toc_cell": false,
   "toc_position": {},
   "toc_section_display": true,
   "toc_window_display": false
  },
  "varInspector": {
   "cols": {
    "lenName": 16,
    "lenType": 16,
    "lenVar": 40
   },
   "kernels_config": {
    "python": {
     "delete_cmd_postfix": "",
     "delete_cmd_prefix": "del ",
     "library": "var_list.py",
     "varRefreshCmd": "print(var_dic_list())"
    },
    "r": {
     "delete_cmd_postfix": ") ",
     "delete_cmd_prefix": "rm(",
     "library": "var_list.r",
     "varRefreshCmd": "cat(var_dic_list()) "
    }
   },
   "types_to_exclude": [
    "module",
    "function",
    "builtin_function_or_method",
    "instance",
    "_Feature"
   ],
   "window_display": false
  }
 },
 "nbformat": 4,
 "nbformat_minor": 2
}
