{
 "cells": [
  {
   "cell_type": "code",
   "execution_count": 3,
   "metadata": {
    "ExecuteTime": {
     "end_time": "2019-01-16T10:34:26.972628Z",
     "start_time": "2019-01-16T10:34:26.970193Z"
    }
   },
   "outputs": [],
   "source": [
    "import pandas as pd"
   ]
  },
  {
   "cell_type": "code",
   "execution_count": 4,
   "metadata": {
    "ExecuteTime": {
     "end_time": "2019-01-16T10:34:26.983717Z",
     "start_time": "2019-01-16T10:34:26.980000Z"
    }
   },
   "outputs": [],
   "source": [
    "def show_full_data(data, row_size=None, column_size=None, col_width=-1):\n",
    "    \"\"\"Shows all rows and columns instead of showing only some part and hiding other parts for large data.\n",
    "    \"\"\"\n",
    "    with pd.option_context('display.max_rows', row_size, 'display.max_columns', column_size, 'display.max_colwidth', col_width):\n",
    "        display(data)"
   ]
  },
  {
   "cell_type": "code",
   "execution_count": 5,
   "metadata": {
    "ExecuteTime": {
     "end_time": "2019-01-16T10:34:35.863818Z",
     "start_time": "2019-01-16T10:34:35.843375Z"
    },
    "run_control": {
     "marked": false
    }
   },
   "outputs": [],
   "source": [
    "calendar = pd.read_csv('../../../student-life-dataset/dataset/calendar/calendar_u00.csv')"
   ]
  },
  {
   "cell_type": "code",
   "execution_count": 6,
   "metadata": {
    "ExecuteTime": {
     "end_time": "2019-01-16T10:34:40.194308Z",
     "start_time": "2019-01-16T10:34:40.178366Z"
    }
   },
   "outputs": [
    {
     "data": {
      "text/html": [
       "<div>\n",
       "<style scoped>\n",
       "    .dataframe tbody tr th:only-of-type {\n",
       "        vertical-align: middle;\n",
       "    }\n",
       "\n",
       "    .dataframe tbody tr th {\n",
       "        vertical-align: top;\n",
       "    }\n",
       "\n",
       "    .dataframe thead th {\n",
       "        text-align: right;\n",
       "    }\n",
       "</style>\n",
       "<table border=\"1\" class=\"dataframe\">\n",
       "  <thead>\n",
       "    <tr style=\"text-align: right;\">\n",
       "      <th></th>\n",
       "      <th>id</th>\n",
       "      <th>device</th>\n",
       "      <th>timestamp</th>\n",
       "      <th>ACCOUNT_LABEL</th>\n",
       "      <th>DATE</th>\n",
       "      <th>TIME</th>\n",
       "    </tr>\n",
       "  </thead>\n",
       "  <tbody>\n",
       "    <tr>\n",
       "      <th>0</th>\n",
       "      <td>6a9d4195-9193-47f0-a674-59e19ee5b29a-29</td>\n",
       "      <td>1977b545-a88f-4903-a7ae-2c434de4be49</td>\n",
       "      <td>1364182283</td>\n",
       "      <td>1</td>\n",
       "      <td>3/24/2013</td>\n",
       "      <td>20:00</td>\n",
       "    </tr>\n",
       "    <tr>\n",
       "      <th>1</th>\n",
       "      <td>3ade29d5-98f5-4a6c-bcbe-25e278a0bc73-55</td>\n",
       "      <td>1977b545-a88f-4903-a7ae-2c434de4be49</td>\n",
       "      <td>1364268683</td>\n",
       "      <td>1</td>\n",
       "      <td>3/25/2013</td>\n",
       "      <td>21:00</td>\n",
       "    </tr>\n",
       "    <tr>\n",
       "      <th>2</th>\n",
       "      <td>3ade29d5-98f5-4a6c-bcbe-25e278a0bc73-56</td>\n",
       "      <td>1977b545-a88f-4903-a7ae-2c434de4be49</td>\n",
       "      <td>1364268683</td>\n",
       "      <td>2</td>\n",
       "      <td>3/25/2013</td>\n",
       "      <td>22:00</td>\n",
       "    </tr>\n",
       "    <tr>\n",
       "      <th>3</th>\n",
       "      <td>3ade29d5-98f5-4a6c-bcbe-25e278a0bc73-57</td>\n",
       "      <td>1977b545-a88f-4903-a7ae-2c434de4be49</td>\n",
       "      <td>1364268683</td>\n",
       "      <td>3</td>\n",
       "      <td>3/25/2013</td>\n",
       "      <td>15:30</td>\n",
       "    </tr>\n",
       "    <tr>\n",
       "      <th>4</th>\n",
       "      <td>bea2978d-ca53-4e32-89ba-19b45e64a897-59</td>\n",
       "      <td>1977b545-a88f-4903-a7ae-2c434de4be49</td>\n",
       "      <td>1364355083</td>\n",
       "      <td>1</td>\n",
       "      <td>3/26/2013</td>\n",
       "      <td>15:30</td>\n",
       "    </tr>\n",
       "  </tbody>\n",
       "</table>\n",
       "</div>"
      ],
      "text/plain": [
       "                                        id  \\\n",
       "0  6a9d4195-9193-47f0-a674-59e19ee5b29a-29   \n",
       "1  3ade29d5-98f5-4a6c-bcbe-25e278a0bc73-55   \n",
       "2  3ade29d5-98f5-4a6c-bcbe-25e278a0bc73-56   \n",
       "3  3ade29d5-98f5-4a6c-bcbe-25e278a0bc73-57   \n",
       "4  bea2978d-ca53-4e32-89ba-19b45e64a897-59   \n",
       "\n",
       "                                 device   timestamp  ACCOUNT_LABEL       DATE  \\\n",
       "0  1977b545-a88f-4903-a7ae-2c434de4be49  1364182283              1  3/24/2013   \n",
       "1  1977b545-a88f-4903-a7ae-2c434de4be49  1364268683              1  3/25/2013   \n",
       "2  1977b545-a88f-4903-a7ae-2c434de4be49  1364268683              2  3/25/2013   \n",
       "3  1977b545-a88f-4903-a7ae-2c434de4be49  1364268683              3  3/25/2013   \n",
       "4  1977b545-a88f-4903-a7ae-2c434de4be49  1364355083              1  3/26/2013   \n",
       "\n",
       "    TIME  \n",
       "0  20:00  \n",
       "1  21:00  \n",
       "2  22:00  \n",
       "3  15:30  \n",
       "4  15:30  "
      ]
     },
     "execution_count": 6,
     "metadata": {},
     "output_type": "execute_result"
    }
   ],
   "source": [
    "calendar.head()"
   ]
  },
  {
   "cell_type": "code",
   "execution_count": 7,
   "metadata": {
    "ExecuteTime": {
     "end_time": "2019-01-16T10:35:47.525352Z",
     "start_time": "2019-01-16T10:35:47.520696Z"
    }
   },
   "outputs": [
    {
     "data": {
      "text/plain": [
       "(240, 6)"
      ]
     },
     "execution_count": 7,
     "metadata": {},
     "output_type": "execute_result"
    }
   ],
   "source": [
    "calendar.shape"
   ]
  },
  {
   "cell_type": "code",
   "execution_count": 8,
   "metadata": {
    "ExecuteTime": {
     "end_time": "2019-01-16T10:35:58.752720Z",
     "start_time": "2019-01-16T10:35:58.747216Z"
    }
   },
   "outputs": [
    {
     "data": {
      "text/plain": [
       "(73,)"
      ]
     },
     "execution_count": 8,
     "metadata": {},
     "output_type": "execute_result"
    }
   ],
   "source": [
    "calendar.timestamp.unique().shape"
   ]
  },
  {
   "cell_type": "code",
   "execution_count": 19,
   "metadata": {
    "ExecuteTime": {
     "end_time": "2019-01-16T10:37:50.212860Z",
     "start_time": "2019-01-16T10:37:50.196646Z"
    }
   },
   "outputs": [
    {
     "data": {
      "text/html": [
       "<div>\n",
       "<style scoped>\n",
       "    .dataframe tbody tr th:only-of-type {\n",
       "        vertical-align: middle;\n",
       "    }\n",
       "\n",
       "    .dataframe tbody tr th {\n",
       "        vertical-align: top;\n",
       "    }\n",
       "\n",
       "    .dataframe thead th {\n",
       "        text-align: right;\n",
       "    }\n",
       "</style>\n",
       "<table border=\"1\" class=\"dataframe\">\n",
       "  <thead>\n",
       "    <tr style=\"text-align: right;\">\n",
       "      <th></th>\n",
       "      <th>id</th>\n",
       "      <th>device</th>\n",
       "      <th>timestamp</th>\n",
       "      <th>ACCOUNT_LABEL</th>\n",
       "      <th>DATE</th>\n",
       "      <th>TIME</th>\n",
       "    </tr>\n",
       "  </thead>\n",
       "  <tbody>\n",
       "    <tr>\n",
       "      <th>191</th>\n",
       "      <td>196c024b-ddd3-4adb-8080-6bca1690db09-60</td>\n",
       "      <td>1977b545-a88f-4903-a7ae-2c434de4be49</td>\n",
       "      <td>1369789418</td>\n",
       "      <td>2</td>\n",
       "      <td>5/28/2013</td>\n",
       "      <td>1:00 PM</td>\n",
       "    </tr>\n",
       "    <tr>\n",
       "      <th>192</th>\n",
       "      <td>196c024b-ddd3-4adb-8080-6bca1690db09-61</td>\n",
       "      <td>1977b545-a88f-4903-a7ae-2c434de4be49</td>\n",
       "      <td>1369789418</td>\n",
       "      <td>3</td>\n",
       "      <td>5/28/2013</td>\n",
       "      <td>10:00 AM</td>\n",
       "    </tr>\n",
       "    <tr>\n",
       "      <th>193</th>\n",
       "      <td>196c024b-ddd3-4adb-8080-6bca1690db09-62</td>\n",
       "      <td>1977b545-a88f-4903-a7ae-2c434de4be49</td>\n",
       "      <td>1369789418</td>\n",
       "      <td>4</td>\n",
       "      <td>5/28/2013</td>\n",
       "      <td>10:30 AM</td>\n",
       "    </tr>\n",
       "    <tr>\n",
       "      <th>194</th>\n",
       "      <td>196c024b-ddd3-4adb-8080-6bca1690db09-64</td>\n",
       "      <td>1977b545-a88f-4903-a7ae-2c434de4be49</td>\n",
       "      <td>1369789418</td>\n",
       "      <td>5</td>\n",
       "      <td>5/28/2013</td>\n",
       "      <td>2:00 PM</td>\n",
       "    </tr>\n",
       "    <tr>\n",
       "      <th>195</th>\n",
       "      <td>196c024b-ddd3-4adb-8080-6bca1690db09-67</td>\n",
       "      <td>1977b545-a88f-4903-a7ae-2c434de4be49</td>\n",
       "      <td>1369789418</td>\n",
       "      <td>6</td>\n",
       "      <td>5/28/2013</td>\n",
       "      <td>8:00 AM</td>\n",
       "    </tr>\n",
       "    <tr>\n",
       "      <th>196</th>\n",
       "      <td>196c024b-ddd3-4adb-8080-6bca1690db09-68</td>\n",
       "      <td>1977b545-a88f-4903-a7ae-2c434de4be49</td>\n",
       "      <td>1369789418</td>\n",
       "      <td>7</td>\n",
       "      <td>5/28/2013</td>\n",
       "      <td>3:00 PM</td>\n",
       "    </tr>\n",
       "    <tr>\n",
       "      <th>197</th>\n",
       "      <td>196c024b-ddd3-4adb-8080-6bca1690db09-69</td>\n",
       "      <td>1977b545-a88f-4903-a7ae-2c434de4be49</td>\n",
       "      <td>1369789418</td>\n",
       "      <td>8</td>\n",
       "      <td>5/28/2013</td>\n",
       "      <td>5:00 PM</td>\n",
       "    </tr>\n",
       "    <tr>\n",
       "      <th>198</th>\n",
       "      <td>196c024b-ddd3-4adb-8080-6bca1690db09-70</td>\n",
       "      <td>1977b545-a88f-4903-a7ae-2c434de4be49</td>\n",
       "      <td>1369789418</td>\n",
       "      <td>9</td>\n",
       "      <td>5/28/2013</td>\n",
       "      <td>9:00 AM</td>\n",
       "    </tr>\n",
       "    <tr>\n",
       "      <th>199</th>\n",
       "      <td>196c024b-ddd3-4adb-8080-6bca1690db09-71</td>\n",
       "      <td>1977b545-a88f-4903-a7ae-2c434de4be49</td>\n",
       "      <td>1369789418</td>\n",
       "      <td>10</td>\n",
       "      <td>5/28/2013</td>\n",
       "      <td>11:00 AM</td>\n",
       "    </tr>\n",
       "  </tbody>\n",
       "</table>\n",
       "</div>"
      ],
      "text/plain": [
       "                                          id  \\\n",
       "191  196c024b-ddd3-4adb-8080-6bca1690db09-60   \n",
       "192  196c024b-ddd3-4adb-8080-6bca1690db09-61   \n",
       "193  196c024b-ddd3-4adb-8080-6bca1690db09-62   \n",
       "194  196c024b-ddd3-4adb-8080-6bca1690db09-64   \n",
       "195  196c024b-ddd3-4adb-8080-6bca1690db09-67   \n",
       "196  196c024b-ddd3-4adb-8080-6bca1690db09-68   \n",
       "197  196c024b-ddd3-4adb-8080-6bca1690db09-69   \n",
       "198  196c024b-ddd3-4adb-8080-6bca1690db09-70   \n",
       "199  196c024b-ddd3-4adb-8080-6bca1690db09-71   \n",
       "\n",
       "                                   device   timestamp  ACCOUNT_LABEL  \\\n",
       "191  1977b545-a88f-4903-a7ae-2c434de4be49  1369789418              2   \n",
       "192  1977b545-a88f-4903-a7ae-2c434de4be49  1369789418              3   \n",
       "193  1977b545-a88f-4903-a7ae-2c434de4be49  1369789418              4   \n",
       "194  1977b545-a88f-4903-a7ae-2c434de4be49  1369789418              5   \n",
       "195  1977b545-a88f-4903-a7ae-2c434de4be49  1369789418              6   \n",
       "196  1977b545-a88f-4903-a7ae-2c434de4be49  1369789418              7   \n",
       "197  1977b545-a88f-4903-a7ae-2c434de4be49  1369789418              8   \n",
       "198  1977b545-a88f-4903-a7ae-2c434de4be49  1369789418              9   \n",
       "199  1977b545-a88f-4903-a7ae-2c434de4be49  1369789418             10   \n",
       "\n",
       "          DATE      TIME  \n",
       "191  5/28/2013   1:00 PM  \n",
       "192  5/28/2013  10:00 AM  \n",
       "193  5/28/2013  10:30 AM  \n",
       "194  5/28/2013   2:00 PM  \n",
       "195  5/28/2013   8:00 AM  \n",
       "196  5/28/2013   3:00 PM  \n",
       "197  5/28/2013   5:00 PM  \n",
       "198  5/28/2013   9:00 AM  \n",
       "199  5/28/2013  11:00 AM  "
      ]
     },
     "execution_count": 19,
     "metadata": {},
     "output_type": "execute_result"
    }
   ],
   "source": [
    "calendar[calendar.timestamp == calendar.timestamp.value_counts().index[0]]"
   ]
  },
  {
   "cell_type": "code",
   "execution_count": null,
   "metadata": {},
   "outputs": [],
   "source": []
  }
 ],
 "metadata": {
  "kernelspec": {
   "display_name": "Python [conda root]",
   "language": "python",
   "name": "conda-root-py"
  },
  "language_info": {
   "codemirror_mode": {
    "name": "ipython",
    "version": 3
   },
   "file_extension": ".py",
   "mimetype": "text/x-python",
   "name": "python",
   "nbconvert_exporter": "python",
   "pygments_lexer": "ipython3",
   "version": "3.6.5"
  },
  "toc": {
   "base_numbering": 1,
   "nav_menu": {},
   "number_sections": true,
   "sideBar": true,
   "skip_h1_title": false,
   "title_cell": "Table of Contents",
   "title_sidebar": "Contents",
   "toc_cell": false,
   "toc_position": {},
   "toc_section_display": true,
   "toc_window_display": false
  },
  "varInspector": {
   "cols": {
    "lenName": 16,
    "lenType": 16,
    "lenVar": 40
   },
   "kernels_config": {
    "python": {
     "delete_cmd_postfix": "",
     "delete_cmd_prefix": "del ",
     "library": "var_list.py",
     "varRefreshCmd": "print(var_dic_list())"
    },
    "r": {
     "delete_cmd_postfix": ") ",
     "delete_cmd_prefix": "rm(",
     "library": "var_list.r",
     "varRefreshCmd": "cat(var_dic_list()) "
    }
   },
   "types_to_exclude": [
    "module",
    "function",
    "builtin_function_or_method",
    "instance",
    "_Feature"
   ],
   "window_display": false
  }
 },
 "nbformat": 4,
 "nbformat_minor": 2
}
