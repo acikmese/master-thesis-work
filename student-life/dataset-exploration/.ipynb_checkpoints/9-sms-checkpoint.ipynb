{
 "cells": [
  {
   "cell_type": "code",
   "execution_count": 1,
   "metadata": {
    "ExecuteTime": {
     "end_time": "2019-01-16T10:50:32.833533Z",
     "start_time": "2019-01-16T10:50:32.420490Z"
    }
   },
   "outputs": [],
   "source": [
    "import pandas as pd"
   ]
  },
  {
   "cell_type": "code",
   "execution_count": 2,
   "metadata": {
    "ExecuteTime": {
     "end_time": "2019-01-16T10:50:38.062353Z",
     "start_time": "2019-01-16T10:50:38.058567Z"
    }
   },
   "outputs": [],
   "source": [
    "def show_full_data(data, row_size=None, column_size=None, col_width=-1):\n",
    "    \"\"\"Shows all rows and columns instead of showing only some part and hiding other parts for large data.\n",
    "    \"\"\"\n",
    "    with pd.option_context('display.max_rows', row_size, 'display.max_columns', column_size, 'display.max_colwidth', col_width):\n",
    "        display(data)"
   ]
  },
  {
   "cell_type": "code",
   "execution_count": 4,
   "metadata": {
    "ExecuteTime": {
     "end_time": "2019-01-16T10:50:58.118720Z",
     "start_time": "2019-01-16T10:50:58.109182Z"
    }
   },
   "outputs": [],
   "source": [
    "sms = pd.read_csv('../../../student-life-dataset/dataset/sms/sms_u00.csv')"
   ]
  },
  {
   "cell_type": "code",
   "execution_count": 6,
   "metadata": {
    "ExecuteTime": {
     "end_time": "2019-01-16T10:51:06.908795Z",
     "start_time": "2019-01-16T10:51:06.882524Z"
    }
   },
   "outputs": [
    {
     "data": {
      "text/html": [
       "<div>\n",
       "<style scoped>\n",
       "    .dataframe tbody tr th:only-of-type {\n",
       "        vertical-align: middle;\n",
       "    }\n",
       "\n",
       "    .dataframe tbody tr th {\n",
       "        vertical-align: top;\n",
       "    }\n",
       "\n",
       "    .dataframe thead th {\n",
       "        text-align: right;\n",
       "    }\n",
       "</style>\n",
       "<table border=\"1\" class=\"dataframe\">\n",
       "  <thead>\n",
       "    <tr style=\"text-align: right;\">\n",
       "      <th></th>\n",
       "      <th>id</th>\n",
       "      <th>device</th>\n",
       "      <th>timestamp</th>\n",
       "      <th>MESSAGES_address</th>\n",
       "      <th>MESSAGES_body</th>\n",
       "      <th>MESSAGES_date</th>\n",
       "      <th>MESSAGES_locked</th>\n",
       "      <th>MESSAGES_person</th>\n",
       "      <th>MESSAGES_protocol</th>\n",
       "      <th>MESSAGES_read</th>\n",
       "      <th>MESSAGES_reply_path_present</th>\n",
       "      <th>MESSAGES_service_center</th>\n",
       "      <th>MESSAGES_status</th>\n",
       "      <th>MESSAGES_subject</th>\n",
       "      <th>MESSAGES_thread_id</th>\n",
       "      <th>MESSAGES_type</th>\n",
       "    </tr>\n",
       "  </thead>\n",
       "  <tbody>\n",
       "    <tr>\n",
       "      <th>0</th>\n",
       "      <td>8b67cbb5-cfa2-465b-b5af-31ee2c6606a6-37</td>\n",
       "      <td>1977b545-a88f-4903-a7ae-2c434de4be49</td>\n",
       "      <td>1364099482</td>\n",
       "      <td>NaN</td>\n",
       "      <td>NaN</td>\n",
       "      <td>NaN</td>\n",
       "      <td>NaN</td>\n",
       "      <td>NaN</td>\n",
       "      <td>NaN</td>\n",
       "      <td>NaN</td>\n",
       "      <td>NaN</td>\n",
       "      <td>NaN</td>\n",
       "      <td>NaN</td>\n",
       "      <td>NaN</td>\n",
       "      <td>NaN</td>\n",
       "      <td>NaN</td>\n",
       "    </tr>\n",
       "    <tr>\n",
       "      <th>1</th>\n",
       "      <td>9c0354e8-4f4f-451a-9358-efe17df0d26c-20</td>\n",
       "      <td>1977b545-a88f-4903-a7ae-2c434de4be49</td>\n",
       "      <td>1363969836</td>\n",
       "      <td>{\"ONE_WAY_HASH\":\"556038b6775eb7e9540eddc387db26a8e2f4355e\"}</td>\n",
       "      <td>{\"ONE_WAY_HASH\":\"b0a98216a32426b9e66a4ac1eb6df2e96e1b495c\"}</td>\n",
       "      <td>1.363970e+12</td>\n",
       "      <td>False</td>\n",
       "      <td>{\"ONE_WAY_HASH\":\"3cacfd9c7fb9cb4cb9e97f95107e5e56bf020c5d\"}</td>\n",
       "      <td>0.0</td>\n",
       "      <td>True</td>\n",
       "      <td>False</td>\n",
       "      <td>1.240449e+10</td>\n",
       "      <td>-1.0</td>\n",
       "      <td>NaN</td>\n",
       "      <td>2.0</td>\n",
       "      <td>1.0</td>\n",
       "    </tr>\n",
       "    <tr>\n",
       "      <th>2</th>\n",
       "      <td>9c0354e8-4f4f-451a-9358-efe17df0d26c-20</td>\n",
       "      <td>1977b545-a88f-4903-a7ae-2c434de4be49</td>\n",
       "      <td>1363969836</td>\n",
       "      <td>{\"ONE_WAY_HASH\":\"fa21dd22145635c59be360a0d9ad1f6b1c0c9989\"}</td>\n",
       "      <td>{\"ONE_WAY_HASH\":\"8e1329d6d85c8c985a8d105053200b8a4fcab326\"}</td>\n",
       "      <td>1.363969e+12</td>\n",
       "      <td>False</td>\n",
       "      <td>NaN</td>\n",
       "      <td>0.0</td>\n",
       "      <td>True</td>\n",
       "      <td>False</td>\n",
       "      <td>NaN</td>\n",
       "      <td>-1.0</td>\n",
       "      <td>NaN</td>\n",
       "      <td>2.0</td>\n",
       "      <td>2.0</td>\n",
       "    </tr>\n",
       "    <tr>\n",
       "      <th>3</th>\n",
       "      <td>9c0354e8-4f4f-451a-9358-efe17df0d26c-20</td>\n",
       "      <td>1977b545-a88f-4903-a7ae-2c434de4be49</td>\n",
       "      <td>1363969836</td>\n",
       "      <td>{\"ONE_WAY_HASH\":\"4ee0f234959253b2101d4cfcc9797174d435a8d1\"}</td>\n",
       "      <td>{\"ONE_WAY_HASH\":\"2c592ecbcb3330269fb6d58d007d314a4508f77\"}</td>\n",
       "      <td>1.363851e+12</td>\n",
       "      <td>False</td>\n",
       "      <td>{\"ONE_WAY_HASH\":\"23b180c0fc6e61f9364b6208e7018721b5ae113d\"}</td>\n",
       "      <td>0.0</td>\n",
       "      <td>True</td>\n",
       "      <td>False</td>\n",
       "      <td>1.240449e+10</td>\n",
       "      <td>-1.0</td>\n",
       "      <td>NaN</td>\n",
       "      <td>13.0</td>\n",
       "      <td>1.0</td>\n",
       "    </tr>\n",
       "    <tr>\n",
       "      <th>4</th>\n",
       "      <td>9c0354e8-4f4f-451a-9358-efe17df0d26c-20</td>\n",
       "      <td>1977b545-a88f-4903-a7ae-2c434de4be49</td>\n",
       "      <td>1363969836</td>\n",
       "      <td>{\"ONE_WAY_HASH\":\"4ee0f234959253b2101d4cfcc9797174d435a8d1\"}</td>\n",
       "      <td>{\"ONE_WAY_HASH\":\"c22b5f9178342609428d6f51b2c5af4c0bde6a42\"}</td>\n",
       "      <td>1.363851e+12</td>\n",
       "      <td>False</td>\n",
       "      <td>{\"ONE_WAY_HASH\":\"23b180c0fc6e61f9364b6208e7018721b5ae113d\"}</td>\n",
       "      <td>0.0</td>\n",
       "      <td>True</td>\n",
       "      <td>False</td>\n",
       "      <td>1.240449e+10</td>\n",
       "      <td>-1.0</td>\n",
       "      <td>NaN</td>\n",
       "      <td>13.0</td>\n",
       "      <td>1.0</td>\n",
       "    </tr>\n",
       "  </tbody>\n",
       "</table>\n",
       "</div>"
      ],
      "text/plain": [
       "                                        id  \\\n",
       "0  8b67cbb5-cfa2-465b-b5af-31ee2c6606a6-37   \n",
       "1  9c0354e8-4f4f-451a-9358-efe17df0d26c-20   \n",
       "2  9c0354e8-4f4f-451a-9358-efe17df0d26c-20   \n",
       "3  9c0354e8-4f4f-451a-9358-efe17df0d26c-20   \n",
       "4  9c0354e8-4f4f-451a-9358-efe17df0d26c-20   \n",
       "\n",
       "                                 device   timestamp  \\\n",
       "0  1977b545-a88f-4903-a7ae-2c434de4be49  1364099482   \n",
       "1  1977b545-a88f-4903-a7ae-2c434de4be49  1363969836   \n",
       "2  1977b545-a88f-4903-a7ae-2c434de4be49  1363969836   \n",
       "3  1977b545-a88f-4903-a7ae-2c434de4be49  1363969836   \n",
       "4  1977b545-a88f-4903-a7ae-2c434de4be49  1363969836   \n",
       "\n",
       "                                              MESSAGES_address  \\\n",
       "0  NaN                                                           \n",
       "1  {\"ONE_WAY_HASH\":\"556038b6775eb7e9540eddc387db26a8e2f4355e\"}   \n",
       "2  {\"ONE_WAY_HASH\":\"fa21dd22145635c59be360a0d9ad1f6b1c0c9989\"}   \n",
       "3  {\"ONE_WAY_HASH\":\"4ee0f234959253b2101d4cfcc9797174d435a8d1\"}   \n",
       "4  {\"ONE_WAY_HASH\":\"4ee0f234959253b2101d4cfcc9797174d435a8d1\"}   \n",
       "\n",
       "                                                 MESSAGES_body  MESSAGES_date  \\\n",
       "0  NaN                                                         NaN              \n",
       "1  {\"ONE_WAY_HASH\":\"b0a98216a32426b9e66a4ac1eb6df2e96e1b495c\"}  1.363970e+12    \n",
       "2  {\"ONE_WAY_HASH\":\"8e1329d6d85c8c985a8d105053200b8a4fcab326\"}  1.363969e+12    \n",
       "3  {\"ONE_WAY_HASH\":\"2c592ecbcb3330269fb6d58d007d314a4508f77\"}   1.363851e+12    \n",
       "4  {\"ONE_WAY_HASH\":\"c22b5f9178342609428d6f51b2c5af4c0bde6a42\"}  1.363851e+12    \n",
       "\n",
       "  MESSAGES_locked  \\\n",
       "0  NaN              \n",
       "1  False            \n",
       "2  False            \n",
       "3  False            \n",
       "4  False            \n",
       "\n",
       "                                               MESSAGES_person  \\\n",
       "0  NaN                                                           \n",
       "1  {\"ONE_WAY_HASH\":\"3cacfd9c7fb9cb4cb9e97f95107e5e56bf020c5d\"}   \n",
       "2  NaN                                                           \n",
       "3  {\"ONE_WAY_HASH\":\"23b180c0fc6e61f9364b6208e7018721b5ae113d\"}   \n",
       "4  {\"ONE_WAY_HASH\":\"23b180c0fc6e61f9364b6208e7018721b5ae113d\"}   \n",
       "\n",
       "   MESSAGES_protocol MESSAGES_read MESSAGES_reply_path_present  \\\n",
       "0 NaN                 NaN           NaN                          \n",
       "1  0.0                True          False                        \n",
       "2  0.0                True          False                        \n",
       "3  0.0                True          False                        \n",
       "4  0.0                True          False                        \n",
       "\n",
       "   MESSAGES_service_center  MESSAGES_status  MESSAGES_subject  \\\n",
       "0 NaN                      NaN              NaN                 \n",
       "1  1.240449e+10            -1.0             NaN                 \n",
       "2 NaN                      -1.0             NaN                 \n",
       "3  1.240449e+10            -1.0             NaN                 \n",
       "4  1.240449e+10            -1.0             NaN                 \n",
       "\n",
       "   MESSAGES_thread_id  MESSAGES_type  \n",
       "0 NaN                 NaN             \n",
       "1  2.0                 1.0            \n",
       "2  2.0                 2.0            \n",
       "3  13.0                1.0            \n",
       "4  13.0                1.0            "
      ]
     },
     "metadata": {},
     "output_type": "display_data"
    }
   ],
   "source": [
    "show_full_data(sms.head())"
   ]
  },
  {
   "cell_type": "code",
   "execution_count": null,
   "metadata": {},
   "outputs": [],
   "source": []
  }
 ],
 "metadata": {
  "kernelspec": {
   "display_name": "Python [conda root]",
   "language": "python",
   "name": "conda-root-py"
  },
  "language_info": {
   "codemirror_mode": {
    "name": "ipython",
    "version": 3
   },
   "file_extension": ".py",
   "mimetype": "text/x-python",
   "name": "python",
   "nbconvert_exporter": "python",
   "pygments_lexer": "ipython3",
   "version": "3.6.5"
  },
  "toc": {
   "base_numbering": 1,
   "nav_menu": {},
   "number_sections": true,
   "sideBar": true,
   "skip_h1_title": false,
   "title_cell": "Table of Contents",
   "title_sidebar": "Contents",
   "toc_cell": false,
   "toc_position": {},
   "toc_section_display": true,
   "toc_window_display": false
  },
  "varInspector": {
   "cols": {
    "lenName": 16,
    "lenType": 16,
    "lenVar": 40
   },
   "kernels_config": {
    "python": {
     "delete_cmd_postfix": "",
     "delete_cmd_prefix": "del ",
     "library": "var_list.py",
     "varRefreshCmd": "print(var_dic_list())"
    },
    "r": {
     "delete_cmd_postfix": ") ",
     "delete_cmd_prefix": "rm(",
     "library": "var_list.r",
     "varRefreshCmd": "cat(var_dic_list()) "
    }
   },
   "types_to_exclude": [
    "module",
    "function",
    "builtin_function_or_method",
    "instance",
    "_Feature"
   ],
   "window_display": false
  }
 },
 "nbformat": 4,
 "nbformat_minor": 2
}
