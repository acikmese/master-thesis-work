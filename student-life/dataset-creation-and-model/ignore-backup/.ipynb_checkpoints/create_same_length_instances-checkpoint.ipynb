{
 "cells": [
  {
   "cell_type": "code",
   "execution_count": 48,
   "metadata": {
    "ExecuteTime": {
     "end_time": "2019-03-18T12:05:22.660692Z",
     "start_time": "2019-03-18T12:05:22.123852Z"
    }
   },
   "outputs": [],
   "source": [
    "import pandas as pd\n",
    "import numpy as np\n",
    "import pandas_profiling\n",
    "import torch\n",
    "import random\n",
    "import matplotlib.pyplot as plt\n",
    "%matplotlib inline"
   ]
  },
  {
   "cell_type": "code",
   "execution_count": 2,
   "metadata": {},
   "outputs": [],
   "source": [
    "def show_full_data(data, row_size=None, column_size=None, col_width=-1):\n",
    "    \"\"\"\n",
    "    Shows all rows and columns instead of showing only some part \n",
    "    and hiding other parts for large data.\n",
    "    \"\"\"\n",
    "    with pd.option_context('display.max_rows', row_size, \n",
    "                           'display.max_columns', column_size, \n",
    "                           'display.max_colwidth', col_width):\n",
    "        display(data)"
   ]
  },
  {
   "cell_type": "markdown",
   "metadata": {},
   "source": [
    "# Read Data"
   ]
  },
  {
   "cell_type": "code",
   "execution_count": 3,
   "metadata": {
    "ExecuteTime": {
     "end_time": "2019-03-18T12:05:23.389317Z",
     "start_time": "2019-03-18T12:05:22.685657Z"
    }
   },
   "outputs": [],
   "source": [
    "df = pd.read_csv('combined_samples/combined_data.csv')"
   ]
  },
  {
   "cell_type": "code",
   "execution_count": 4,
   "metadata": {
    "ExecuteTime": {
     "end_time": "2019-03-18T12:05:23.918933Z",
     "start_time": "2019-03-18T12:05:23.862132Z"
    }
   },
   "outputs": [],
   "source": [
    "# Eliminate first unnecessary row.\n",
    "df = df.iloc[:, 1:]"
   ]
  },
  {
   "cell_type": "code",
   "execution_count": 5,
   "metadata": {
    "ExecuteTime": {
     "end_time": "2019-03-18T12:05:24.328852Z",
     "start_time": "2019-03-18T12:05:24.292962Z"
    }
   },
   "outputs": [
    {
     "data": {
      "text/html": [
       "<div>\n",
       "<style scoped>\n",
       "    .dataframe tbody tr th:only-of-type {\n",
       "        vertical-align: middle;\n",
       "    }\n",
       "\n",
       "    .dataframe tbody tr th {\n",
       "        vertical-align: top;\n",
       "    }\n",
       "\n",
       "    .dataframe thead th {\n",
       "        text-align: right;\n",
       "    }\n",
       "</style>\n",
       "<table border=\"1\" class=\"dataframe\">\n",
       "  <thead>\n",
       "    <tr style=\"text-align: right;\">\n",
       "      <th></th>\n",
       "      <th>timestamp</th>\n",
       "      <th>conversation</th>\n",
       "      <th>bt_level_avg</th>\n",
       "      <th>bt_level_std</th>\n",
       "      <th>bt_total_devices_around</th>\n",
       "      <th>bt_total_far</th>\n",
       "      <th>bt_total_farther</th>\n",
       "      <th>bt_total_near</th>\n",
       "      <th>bt_total_nearer</th>\n",
       "      <th>wifi_level_avg</th>\n",
       "      <th>...</th>\n",
       "      <th>phone_locked</th>\n",
       "      <th>activity_inference_0</th>\n",
       "      <th>activity_inference_1</th>\n",
       "      <th>activity_inference_2</th>\n",
       "      <th>activity_inference_3</th>\n",
       "      <th>audio_inference_0</th>\n",
       "      <th>audio_inference_1</th>\n",
       "      <th>audio_inference_2</th>\n",
       "      <th>audio_inference_3</th>\n",
       "      <th>STRESSED</th>\n",
       "    </tr>\n",
       "  </thead>\n",
       "  <tbody>\n",
       "    <tr>\n",
       "      <th>0</th>\n",
       "      <td>2013-03-27 04:00:00</td>\n",
       "      <td>0.0</td>\n",
       "      <td>NaN</td>\n",
       "      <td>NaN</td>\n",
       "      <td>NaN</td>\n",
       "      <td>NaN</td>\n",
       "      <td>NaN</td>\n",
       "      <td>NaN</td>\n",
       "      <td>NaN</td>\n",
       "      <td>-77.0</td>\n",
       "      <td>...</td>\n",
       "      <td>0.0</td>\n",
       "      <td>599.0</td>\n",
       "      <td>0.0</td>\n",
       "      <td>0.0</td>\n",
       "      <td>0.0</td>\n",
       "      <td>274.0</td>\n",
       "      <td>0.0</td>\n",
       "      <td>185.0</td>\n",
       "      <td>140.0</td>\n",
       "      <td>NaN</td>\n",
       "    </tr>\n",
       "    <tr>\n",
       "      <th>1</th>\n",
       "      <td>2013-03-27 04:10:00</td>\n",
       "      <td>0.0</td>\n",
       "      <td>NaN</td>\n",
       "      <td>NaN</td>\n",
       "      <td>NaN</td>\n",
       "      <td>NaN</td>\n",
       "      <td>NaN</td>\n",
       "      <td>NaN</td>\n",
       "      <td>NaN</td>\n",
       "      <td>NaN</td>\n",
       "      <td>...</td>\n",
       "      <td>0.0</td>\n",
       "      <td>600.0</td>\n",
       "      <td>0.0</td>\n",
       "      <td>0.0</td>\n",
       "      <td>0.0</td>\n",
       "      <td>557.0</td>\n",
       "      <td>1.0</td>\n",
       "      <td>42.0</td>\n",
       "      <td>0.0</td>\n",
       "      <td>NaN</td>\n",
       "    </tr>\n",
       "    <tr>\n",
       "      <th>2</th>\n",
       "      <td>2013-03-27 04:20:00</td>\n",
       "      <td>0.0</td>\n",
       "      <td>NaN</td>\n",
       "      <td>NaN</td>\n",
       "      <td>NaN</td>\n",
       "      <td>NaN</td>\n",
       "      <td>NaN</td>\n",
       "      <td>NaN</td>\n",
       "      <td>NaN</td>\n",
       "      <td>-71.5</td>\n",
       "      <td>...</td>\n",
       "      <td>0.0</td>\n",
       "      <td>600.0</td>\n",
       "      <td>0.0</td>\n",
       "      <td>0.0</td>\n",
       "      <td>0.0</td>\n",
       "      <td>457.0</td>\n",
       "      <td>0.0</td>\n",
       "      <td>143.0</td>\n",
       "      <td>0.0</td>\n",
       "      <td>NaN</td>\n",
       "    </tr>\n",
       "    <tr>\n",
       "      <th>3</th>\n",
       "      <td>2013-03-27 04:30:00</td>\n",
       "      <td>0.0</td>\n",
       "      <td>NaN</td>\n",
       "      <td>NaN</td>\n",
       "      <td>NaN</td>\n",
       "      <td>NaN</td>\n",
       "      <td>NaN</td>\n",
       "      <td>NaN</td>\n",
       "      <td>NaN</td>\n",
       "      <td>NaN</td>\n",
       "      <td>...</td>\n",
       "      <td>208.0</td>\n",
       "      <td>600.0</td>\n",
       "      <td>0.0</td>\n",
       "      <td>0.0</td>\n",
       "      <td>0.0</td>\n",
       "      <td>564.0</td>\n",
       "      <td>1.0</td>\n",
       "      <td>35.0</td>\n",
       "      <td>0.0</td>\n",
       "      <td>NaN</td>\n",
       "    </tr>\n",
       "    <tr>\n",
       "      <th>4</th>\n",
       "      <td>2013-03-27 04:40:00</td>\n",
       "      <td>200.0</td>\n",
       "      <td>NaN</td>\n",
       "      <td>NaN</td>\n",
       "      <td>NaN</td>\n",
       "      <td>NaN</td>\n",
       "      <td>NaN</td>\n",
       "      <td>NaN</td>\n",
       "      <td>NaN</td>\n",
       "      <td>-62.0</td>\n",
       "      <td>...</td>\n",
       "      <td>600.0</td>\n",
       "      <td>600.0</td>\n",
       "      <td>0.0</td>\n",
       "      <td>0.0</td>\n",
       "      <td>0.0</td>\n",
       "      <td>127.0</td>\n",
       "      <td>94.0</td>\n",
       "      <td>379.0</td>\n",
       "      <td>0.0</td>\n",
       "      <td>NaN</td>\n",
       "    </tr>\n",
       "  </tbody>\n",
       "</table>\n",
       "<p>5 rows × 27 columns</p>\n",
       "</div>"
      ],
      "text/plain": [
       "             timestamp  conversation  bt_level_avg  bt_level_std  \\\n",
       "0  2013-03-27 04:00:00           0.0           NaN           NaN   \n",
       "1  2013-03-27 04:10:00           0.0           NaN           NaN   \n",
       "2  2013-03-27 04:20:00           0.0           NaN           NaN   \n",
       "3  2013-03-27 04:30:00           0.0           NaN           NaN   \n",
       "4  2013-03-27 04:40:00         200.0           NaN           NaN   \n",
       "\n",
       "   bt_total_devices_around  bt_total_far  bt_total_farther  bt_total_near  \\\n",
       "0                      NaN           NaN               NaN            NaN   \n",
       "1                      NaN           NaN               NaN            NaN   \n",
       "2                      NaN           NaN               NaN            NaN   \n",
       "3                      NaN           NaN               NaN            NaN   \n",
       "4                      NaN           NaN               NaN            NaN   \n",
       "\n",
       "   bt_total_nearer  wifi_level_avg    ...     phone_locked  \\\n",
       "0              NaN           -77.0    ...              0.0   \n",
       "1              NaN             NaN    ...              0.0   \n",
       "2              NaN           -71.5    ...              0.0   \n",
       "3              NaN             NaN    ...            208.0   \n",
       "4              NaN           -62.0    ...            600.0   \n",
       "\n",
       "   activity_inference_0  activity_inference_1  activity_inference_2  \\\n",
       "0                 599.0                   0.0                   0.0   \n",
       "1                 600.0                   0.0                   0.0   \n",
       "2                 600.0                   0.0                   0.0   \n",
       "3                 600.0                   0.0                   0.0   \n",
       "4                 600.0                   0.0                   0.0   \n",
       "\n",
       "   activity_inference_3  audio_inference_0  audio_inference_1  \\\n",
       "0                   0.0              274.0                0.0   \n",
       "1                   0.0              557.0                1.0   \n",
       "2                   0.0              457.0                0.0   \n",
       "3                   0.0              564.0                1.0   \n",
       "4                   0.0              127.0               94.0   \n",
       "\n",
       "   audio_inference_2  audio_inference_3  STRESSED  \n",
       "0              185.0              140.0       NaN  \n",
       "1               42.0                0.0       NaN  \n",
       "2              143.0                0.0       NaN  \n",
       "3               35.0                0.0       NaN  \n",
       "4              379.0                0.0       NaN  \n",
       "\n",
       "[5 rows x 27 columns]"
      ]
     },
     "execution_count": 5,
     "metadata": {},
     "output_type": "execute_result"
    }
   ],
   "source": [
    "df.head()"
   ]
  },
  {
   "cell_type": "markdown",
   "metadata": {},
   "source": [
    "# Create Dataframe with Same Length Instances"
   ]
  },
  {
   "cell_type": "code",
   "execution_count": 6,
   "metadata": {
    "ExecuteTime": {
     "end_time": "2019-03-18T12:05:24.677480Z",
     "start_time": "2019-03-18T12:05:24.670806Z"
    }
   },
   "outputs": [],
   "source": [
    "def create_same_length_instances(df, length=72, label='STRESSED'):\n",
    "    df = df.drop(columns=['timestamp'])\n",
    "    full_data = pd.DataFrame()\n",
    "    indexes = list(df[df[label].notnull()].index)\n",
    "    start = 0\n",
    "    for i in indexes:\n",
    "        if i - start >= length:\n",
    "            instance = df.iloc[i-length+1:i+1, :]\n",
    "            full_data = full_data.append(instance, ignore_index=True, sort=False)\n",
    "        else:\n",
    "            index_diff = i - start\n",
    "            instance = df.iloc[i-index_diff+1:i+1, :]\n",
    "            back_fill = np.empty((length-index_diff, df.shape[1]))\n",
    "            back_fill.fill(np.nan)\n",
    "            back_fill = pd.DataFrame(back_fill, columns=df.columns)\n",
    "            instance = back_fill.append(instance, ignore_index=True, sort=False)\n",
    "            full_data = full_data.append(instance, ignore_index=True, sort=False)\n",
    "        start = i\n",
    "    return full_data"
   ]
  },
  {
   "cell_type": "code",
   "execution_count": 7,
   "metadata": {
    "ExecuteTime": {
     "end_time": "2019-03-18T12:08:02.862588Z",
     "start_time": "2019-03-18T12:07:52.075997Z"
    }
   },
   "outputs": [],
   "source": [
    "df_same = create_same_length_instances(df, length=72)"
   ]
  },
  {
   "cell_type": "code",
   "execution_count": 8,
   "metadata": {
    "ExecuteTime": {
     "end_time": "2019-03-18T12:08:03.425718Z",
     "start_time": "2019-03-18T12:08:03.422993Z"
    },
    "run_control": {
     "marked": false
    }
   },
   "outputs": [],
   "source": [
    "# def create_numpy_array(df, label='STRESSED'):\n",
    "#     indexes = list(df[df[label].notnull()].index)\n",
    "#     labels = df.loc[indexes, 'STRESSED'].values\n",
    "#     data = df.drop(columns=['STRESSED'])\n",
    "#     all_data = np.empty((np.empty((indexes[1] - indexes[0], data.shape[1])), len(indexes)))\n",
    "#     start = 0\n",
    "#     j = 0\n",
    "#     for i in indexes:\n",
    "#         instance = np.array(data.iloc[start:i+1, :].values, labels[j])\n",
    "#         if j == 0:\n",
    "#             all_data[j] = instance\n",
    "#         else:\n",
    "#             all_data.append(instance, axis=0)\n",
    "#         start = i+1\n",
    "#         j += 1\n",
    "#     return all_data, labels"
   ]
  },
  {
   "cell_type": "code",
   "execution_count": 9,
   "metadata": {
    "ExecuteTime": {
     "end_time": "2019-03-18T12:08:03.952750Z",
     "start_time": "2019-03-18T12:08:03.950429Z"
    }
   },
   "outputs": [],
   "source": [
    "# create_numpy_array(uza)"
   ]
  },
  {
   "cell_type": "code",
   "execution_count": 10,
   "metadata": {
    "ExecuteTime": {
     "end_time": "2019-03-18T12:08:04.465297Z",
     "start_time": "2019-03-18T12:08:04.456950Z"
    }
   },
   "outputs": [
    {
     "data": {
      "text/plain": [
       "(2347, 26)"
      ]
     },
     "execution_count": 10,
     "metadata": {},
     "output_type": "execute_result"
    }
   ],
   "source": [
    "df_same[df_same.STRESSED.notnull()].shape"
   ]
  },
  {
   "cell_type": "code",
   "execution_count": 11,
   "metadata": {},
   "outputs": [
    {
     "data": {
      "text/plain": [
       "1.0    1614\n",
       "0.0     733\n",
       "Name: STRESSED, dtype: int64"
      ]
     },
     "execution_count": 11,
     "metadata": {},
     "output_type": "execute_result"
    }
   ],
   "source": [
    "df_same.STRESSED.value_counts()"
   ]
  },
  {
   "cell_type": "code",
   "execution_count": 12,
   "metadata": {
    "ExecuteTime": {
     "end_time": "2019-03-18T12:08:06.094497Z",
     "start_time": "2019-03-18T12:08:06.043199Z"
    },
    "scrolled": true
   },
   "outputs": [
    {
     "data": {
      "text/html": [
       "<div>\n",
       "<style scoped>\n",
       "    .dataframe tbody tr th:only-of-type {\n",
       "        vertical-align: middle;\n",
       "    }\n",
       "\n",
       "    .dataframe tbody tr th {\n",
       "        vertical-align: top;\n",
       "    }\n",
       "\n",
       "    .dataframe thead th {\n",
       "        text-align: right;\n",
       "    }\n",
       "</style>\n",
       "<table border=\"1\" class=\"dataframe\">\n",
       "  <thead>\n",
       "    <tr style=\"text-align: right;\">\n",
       "      <th></th>\n",
       "      <th>conversation</th>\n",
       "      <th>bt_level_avg</th>\n",
       "      <th>bt_level_std</th>\n",
       "      <th>bt_total_devices_around</th>\n",
       "      <th>bt_total_far</th>\n",
       "      <th>bt_total_farther</th>\n",
       "      <th>bt_total_near</th>\n",
       "      <th>bt_total_nearer</th>\n",
       "      <th>wifi_level_avg</th>\n",
       "      <th>wifi_level_std</th>\n",
       "      <th>...</th>\n",
       "      <th>phone_locked</th>\n",
       "      <th>activity_inference_0</th>\n",
       "      <th>activity_inference_1</th>\n",
       "      <th>activity_inference_2</th>\n",
       "      <th>activity_inference_3</th>\n",
       "      <th>audio_inference_0</th>\n",
       "      <th>audio_inference_1</th>\n",
       "      <th>audio_inference_2</th>\n",
       "      <th>audio_inference_3</th>\n",
       "      <th>STRESSED</th>\n",
       "    </tr>\n",
       "  </thead>\n",
       "  <tbody>\n",
       "    <tr>\n",
       "      <th>71</th>\n",
       "      <td>0.0</td>\n",
       "      <td>NaN</td>\n",
       "      <td>NaN</td>\n",
       "      <td>NaN</td>\n",
       "      <td>NaN</td>\n",
       "      <td>NaN</td>\n",
       "      <td>NaN</td>\n",
       "      <td>NaN</td>\n",
       "      <td>-61.0</td>\n",
       "      <td>NaN</td>\n",
       "      <td>...</td>\n",
       "      <td>0.0</td>\n",
       "      <td>600.0</td>\n",
       "      <td>0.0</td>\n",
       "      <td>0.0</td>\n",
       "      <td>0.0</td>\n",
       "      <td>595.0</td>\n",
       "      <td>2.0</td>\n",
       "      <td>3.0</td>\n",
       "      <td>0.0</td>\n",
       "      <td>1.0</td>\n",
       "    </tr>\n",
       "    <tr>\n",
       "      <th>143</th>\n",
       "      <td>0.0</td>\n",
       "      <td>NaN</td>\n",
       "      <td>NaN</td>\n",
       "      <td>NaN</td>\n",
       "      <td>NaN</td>\n",
       "      <td>NaN</td>\n",
       "      <td>NaN</td>\n",
       "      <td>NaN</td>\n",
       "      <td>NaN</td>\n",
       "      <td>NaN</td>\n",
       "      <td>...</td>\n",
       "      <td>0.0</td>\n",
       "      <td>600.0</td>\n",
       "      <td>0.0</td>\n",
       "      <td>0.0</td>\n",
       "      <td>0.0</td>\n",
       "      <td>356.0</td>\n",
       "      <td>2.0</td>\n",
       "      <td>242.0</td>\n",
       "      <td>0.0</td>\n",
       "      <td>1.0</td>\n",
       "    </tr>\n",
       "    <tr>\n",
       "      <th>215</th>\n",
       "      <td>0.0</td>\n",
       "      <td>-89.0</td>\n",
       "      <td>5.618846</td>\n",
       "      <td>7.0</td>\n",
       "      <td>3.0</td>\n",
       "      <td>3.0</td>\n",
       "      <td>1.0</td>\n",
       "      <td>0.0</td>\n",
       "      <td>-84.0</td>\n",
       "      <td>8.447316</td>\n",
       "      <td>...</td>\n",
       "      <td>600.0</td>\n",
       "      <td>598.0</td>\n",
       "      <td>2.0</td>\n",
       "      <td>0.0</td>\n",
       "      <td>0.0</td>\n",
       "      <td>600.0</td>\n",
       "      <td>0.0</td>\n",
       "      <td>0.0</td>\n",
       "      <td>0.0</td>\n",
       "      <td>1.0</td>\n",
       "    </tr>\n",
       "    <tr>\n",
       "      <th>287</th>\n",
       "      <td>569.0</td>\n",
       "      <td>NaN</td>\n",
       "      <td>NaN</td>\n",
       "      <td>NaN</td>\n",
       "      <td>NaN</td>\n",
       "      <td>NaN</td>\n",
       "      <td>NaN</td>\n",
       "      <td>NaN</td>\n",
       "      <td>NaN</td>\n",
       "      <td>NaN</td>\n",
       "      <td>...</td>\n",
       "      <td>600.0</td>\n",
       "      <td>600.0</td>\n",
       "      <td>0.0</td>\n",
       "      <td>0.0</td>\n",
       "      <td>0.0</td>\n",
       "      <td>49.0</td>\n",
       "      <td>510.0</td>\n",
       "      <td>41.0</td>\n",
       "      <td>0.0</td>\n",
       "      <td>1.0</td>\n",
       "    </tr>\n",
       "    <tr>\n",
       "      <th>359</th>\n",
       "      <td>600.0</td>\n",
       "      <td>NaN</td>\n",
       "      <td>NaN</td>\n",
       "      <td>NaN</td>\n",
       "      <td>NaN</td>\n",
       "      <td>NaN</td>\n",
       "      <td>NaN</td>\n",
       "      <td>NaN</td>\n",
       "      <td>-76.0</td>\n",
       "      <td>20.126268</td>\n",
       "      <td>...</td>\n",
       "      <td>0.0</td>\n",
       "      <td>600.0</td>\n",
       "      <td>0.0</td>\n",
       "      <td>0.0</td>\n",
       "      <td>0.0</td>\n",
       "      <td>40.0</td>\n",
       "      <td>536.0</td>\n",
       "      <td>24.0</td>\n",
       "      <td>0.0</td>\n",
       "      <td>0.0</td>\n",
       "    </tr>\n",
       "  </tbody>\n",
       "</table>\n",
       "<p>5 rows × 26 columns</p>\n",
       "</div>"
      ],
      "text/plain": [
       "     conversation  bt_level_avg  bt_level_std  bt_total_devices_around  \\\n",
       "71            0.0           NaN           NaN                      NaN   \n",
       "143           0.0           NaN           NaN                      NaN   \n",
       "215           0.0         -89.0      5.618846                      7.0   \n",
       "287         569.0           NaN           NaN                      NaN   \n",
       "359         600.0           NaN           NaN                      NaN   \n",
       "\n",
       "     bt_total_far  bt_total_farther  bt_total_near  bt_total_nearer  \\\n",
       "71            NaN               NaN            NaN              NaN   \n",
       "143           NaN               NaN            NaN              NaN   \n",
       "215           3.0               3.0            1.0              0.0   \n",
       "287           NaN               NaN            NaN              NaN   \n",
       "359           NaN               NaN            NaN              NaN   \n",
       "\n",
       "     wifi_level_avg  wifi_level_std    ...     phone_locked  \\\n",
       "71            -61.0             NaN    ...              0.0   \n",
       "143             NaN             NaN    ...              0.0   \n",
       "215           -84.0        8.447316    ...            600.0   \n",
       "287             NaN             NaN    ...            600.0   \n",
       "359           -76.0       20.126268    ...              0.0   \n",
       "\n",
       "     activity_inference_0  activity_inference_1  activity_inference_2  \\\n",
       "71                  600.0                   0.0                   0.0   \n",
       "143                 600.0                   0.0                   0.0   \n",
       "215                 598.0                   2.0                   0.0   \n",
       "287                 600.0                   0.0                   0.0   \n",
       "359                 600.0                   0.0                   0.0   \n",
       "\n",
       "     activity_inference_3  audio_inference_0  audio_inference_1  \\\n",
       "71                    0.0              595.0                2.0   \n",
       "143                   0.0              356.0                2.0   \n",
       "215                   0.0              600.0                0.0   \n",
       "287                   0.0               49.0              510.0   \n",
       "359                   0.0               40.0              536.0   \n",
       "\n",
       "     audio_inference_2  audio_inference_3  STRESSED  \n",
       "71                 3.0                0.0       1.0  \n",
       "143              242.0                0.0       1.0  \n",
       "215                0.0                0.0       1.0  \n",
       "287               41.0                0.0       1.0  \n",
       "359               24.0                0.0       0.0  \n",
       "\n",
       "[5 rows x 26 columns]"
      ]
     },
     "execution_count": 12,
     "metadata": {},
     "output_type": "execute_result"
    }
   ],
   "source": [
    "df_same[df_same.STRESSED.notnull()].head()"
   ]
  },
  {
   "cell_type": "markdown",
   "metadata": {},
   "source": [
    "# Normalize Data"
   ]
  },
  {
   "cell_type": "code",
   "execution_count": 13,
   "metadata": {},
   "outputs": [],
   "source": [
    "def normalize(df, label_col='STRESSED'):\n",
    "    features = df_same.drop(columns=label_col)\n",
    "    features_norm = (features - features.mean(axis=0)) / (features.max(axis=0) - features.min(axis=0))\n",
    "    df.loc[:, df.columns != label_col] = features_norm\n",
    "    return df"
   ]
  },
  {
   "cell_type": "code",
   "execution_count": 14,
   "metadata": {},
   "outputs": [],
   "source": [
    "df_norm = normalize(df_same)"
   ]
  },
  {
   "cell_type": "code",
   "execution_count": 15,
   "metadata": {},
   "outputs": [
    {
     "data": {
      "text/html": [
       "<div>\n",
       "<style scoped>\n",
       "    .dataframe tbody tr th:only-of-type {\n",
       "        vertical-align: middle;\n",
       "    }\n",
       "\n",
       "    .dataframe tbody tr th {\n",
       "        vertical-align: top;\n",
       "    }\n",
       "\n",
       "    .dataframe thead th {\n",
       "        text-align: right;\n",
       "    }\n",
       "</style>\n",
       "<table border=\"1\" class=\"dataframe\">\n",
       "  <thead>\n",
       "    <tr style=\"text-align: right;\">\n",
       "      <th></th>\n",
       "      <th>conversation</th>\n",
       "      <th>bt_level_avg</th>\n",
       "      <th>bt_level_std</th>\n",
       "      <th>bt_total_devices_around</th>\n",
       "      <th>bt_total_far</th>\n",
       "      <th>bt_total_farther</th>\n",
       "      <th>bt_total_near</th>\n",
       "      <th>bt_total_nearer</th>\n",
       "      <th>wifi_level_avg</th>\n",
       "      <th>wifi_level_std</th>\n",
       "      <th>...</th>\n",
       "      <th>phone_locked</th>\n",
       "      <th>activity_inference_0</th>\n",
       "      <th>activity_inference_1</th>\n",
       "      <th>activity_inference_2</th>\n",
       "      <th>activity_inference_3</th>\n",
       "      <th>audio_inference_0</th>\n",
       "      <th>audio_inference_1</th>\n",
       "      <th>audio_inference_2</th>\n",
       "      <th>audio_inference_3</th>\n",
       "      <th>STRESSED</th>\n",
       "    </tr>\n",
       "  </thead>\n",
       "  <tbody>\n",
       "    <tr>\n",
       "      <th>168979</th>\n",
       "      <td>-0.242789</td>\n",
       "      <td>0.599175</td>\n",
       "      <td>NaN</td>\n",
       "      <td>-0.089087</td>\n",
       "      <td>-0.059428</td>\n",
       "      <td>-0.074681</td>\n",
       "      <td>-0.036086</td>\n",
       "      <td>0.000320</td>\n",
       "      <td>NaN</td>\n",
       "      <td>NaN</td>\n",
       "      <td>...</td>\n",
       "      <td>-0.479851</td>\n",
       "      <td>-0.602776</td>\n",
       "      <td>0.011240</td>\n",
       "      <td>0.090643</td>\n",
       "      <td>0.500928</td>\n",
       "      <td>-0.644548</td>\n",
       "      <td>-0.146252</td>\n",
       "      <td>0.790838</td>\n",
       "      <td>NaN</td>\n",
       "      <td>NaN</td>\n",
       "    </tr>\n",
       "    <tr>\n",
       "      <th>168980</th>\n",
       "      <td>-0.242789</td>\n",
       "      <td>NaN</td>\n",
       "      <td>NaN</td>\n",
       "      <td>NaN</td>\n",
       "      <td>NaN</td>\n",
       "      <td>NaN</td>\n",
       "      <td>NaN</td>\n",
       "      <td>NaN</td>\n",
       "      <td>NaN</td>\n",
       "      <td>NaN</td>\n",
       "      <td>...</td>\n",
       "      <td>-0.479851</td>\n",
       "      <td>-0.591109</td>\n",
       "      <td>0.147907</td>\n",
       "      <td>0.085643</td>\n",
       "      <td>0.357595</td>\n",
       "      <td>-0.644548</td>\n",
       "      <td>-0.146252</td>\n",
       "      <td>0.790838</td>\n",
       "      <td>NaN</td>\n",
       "      <td>NaN</td>\n",
       "    </tr>\n",
       "    <tr>\n",
       "      <th>168981</th>\n",
       "      <td>-0.037789</td>\n",
       "      <td>NaN</td>\n",
       "      <td>NaN</td>\n",
       "      <td>NaN</td>\n",
       "      <td>NaN</td>\n",
       "      <td>NaN</td>\n",
       "      <td>NaN</td>\n",
       "      <td>NaN</td>\n",
       "      <td>NaN</td>\n",
       "      <td>NaN</td>\n",
       "      <td>...</td>\n",
       "      <td>-0.479851</td>\n",
       "      <td>-0.301109</td>\n",
       "      <td>0.149573</td>\n",
       "      <td>0.092310</td>\n",
       "      <td>0.059262</td>\n",
       "      <td>-0.644548</td>\n",
       "      <td>-0.141252</td>\n",
       "      <td>0.785838</td>\n",
       "      <td>NaN</td>\n",
       "      <td>NaN</td>\n",
       "    </tr>\n",
       "    <tr>\n",
       "      <th>168982</th>\n",
       "      <td>-0.242789</td>\n",
       "      <td>NaN</td>\n",
       "      <td>NaN</td>\n",
       "      <td>NaN</td>\n",
       "      <td>NaN</td>\n",
       "      <td>NaN</td>\n",
       "      <td>NaN</td>\n",
       "      <td>NaN</td>\n",
       "      <td>NaN</td>\n",
       "      <td>NaN</td>\n",
       "      <td>...</td>\n",
       "      <td>-0.479851</td>\n",
       "      <td>-0.549442</td>\n",
       "      <td>0.356240</td>\n",
       "      <td>0.138977</td>\n",
       "      <td>0.054262</td>\n",
       "      <td>-0.644548</td>\n",
       "      <td>-0.147918</td>\n",
       "      <td>0.792504</td>\n",
       "      <td>NaN</td>\n",
       "      <td>NaN</td>\n",
       "    </tr>\n",
       "    <tr>\n",
       "      <th>168983</th>\n",
       "      <td>-0.242789</td>\n",
       "      <td>0.599175</td>\n",
       "      <td>-0.190635</td>\n",
       "      <td>-0.064087</td>\n",
       "      <td>-0.059428</td>\n",
       "      <td>-0.074681</td>\n",
       "      <td>-0.036086</td>\n",
       "      <td>0.026636</td>\n",
       "      <td>NaN</td>\n",
       "      <td>NaN</td>\n",
       "      <td>...</td>\n",
       "      <td>-0.479851</td>\n",
       "      <td>0.008891</td>\n",
       "      <td>-0.013760</td>\n",
       "      <td>-0.014357</td>\n",
       "      <td>0.019262</td>\n",
       "      <td>-0.644548</td>\n",
       "      <td>-0.144585</td>\n",
       "      <td>0.789171</td>\n",
       "      <td>NaN</td>\n",
       "      <td>0.0</td>\n",
       "    </tr>\n",
       "  </tbody>\n",
       "</table>\n",
       "<p>5 rows × 26 columns</p>\n",
       "</div>"
      ],
      "text/plain": [
       "        conversation  bt_level_avg  bt_level_std  bt_total_devices_around  \\\n",
       "168979     -0.242789      0.599175           NaN                -0.089087   \n",
       "168980     -0.242789           NaN           NaN                      NaN   \n",
       "168981     -0.037789           NaN           NaN                      NaN   \n",
       "168982     -0.242789           NaN           NaN                      NaN   \n",
       "168983     -0.242789      0.599175     -0.190635                -0.064087   \n",
       "\n",
       "        bt_total_far  bt_total_farther  bt_total_near  bt_total_nearer  \\\n",
       "168979     -0.059428         -0.074681      -0.036086         0.000320   \n",
       "168980           NaN               NaN            NaN              NaN   \n",
       "168981           NaN               NaN            NaN              NaN   \n",
       "168982           NaN               NaN            NaN              NaN   \n",
       "168983     -0.059428         -0.074681      -0.036086         0.026636   \n",
       "\n",
       "        wifi_level_avg  wifi_level_std    ...     phone_locked  \\\n",
       "168979             NaN             NaN    ...        -0.479851   \n",
       "168980             NaN             NaN    ...        -0.479851   \n",
       "168981             NaN             NaN    ...        -0.479851   \n",
       "168982             NaN             NaN    ...        -0.479851   \n",
       "168983             NaN             NaN    ...        -0.479851   \n",
       "\n",
       "        activity_inference_0  activity_inference_1  activity_inference_2  \\\n",
       "168979             -0.602776              0.011240              0.090643   \n",
       "168980             -0.591109              0.147907              0.085643   \n",
       "168981             -0.301109              0.149573              0.092310   \n",
       "168982             -0.549442              0.356240              0.138977   \n",
       "168983              0.008891             -0.013760             -0.014357   \n",
       "\n",
       "        activity_inference_3  audio_inference_0  audio_inference_1  \\\n",
       "168979              0.500928          -0.644548          -0.146252   \n",
       "168980              0.357595          -0.644548          -0.146252   \n",
       "168981              0.059262          -0.644548          -0.141252   \n",
       "168982              0.054262          -0.644548          -0.147918   \n",
       "168983              0.019262          -0.644548          -0.144585   \n",
       "\n",
       "        audio_inference_2  audio_inference_3  STRESSED  \n",
       "168979           0.790838                NaN       NaN  \n",
       "168980           0.790838                NaN       NaN  \n",
       "168981           0.785838                NaN       NaN  \n",
       "168982           0.792504                NaN       NaN  \n",
       "168983           0.789171                NaN       0.0  \n",
       "\n",
       "[5 rows x 26 columns]"
      ]
     },
     "execution_count": 15,
     "metadata": {},
     "output_type": "execute_result"
    }
   ],
   "source": [
    "df_norm.tail()"
   ]
  },
  {
   "cell_type": "markdown",
   "metadata": {},
   "source": [
    "# Fill Nan Values"
   ]
  },
  {
   "cell_type": "code",
   "execution_count": 16,
   "metadata": {},
   "outputs": [],
   "source": [
    "def fill_nulls(df, label_col='STRESSED'):\n",
    "    df.loc[:, df.columns != label_col] = df.loc[:, df.columns != label_col].fillna(0)\n",
    "    return df"
   ]
  },
  {
   "cell_type": "code",
   "execution_count": 17,
   "metadata": {},
   "outputs": [],
   "source": [
    "df_filled = fill_nulls(df_norm)"
   ]
  },
  {
   "cell_type": "code",
   "execution_count": 18,
   "metadata": {},
   "outputs": [
    {
     "data": {
      "text/html": [
       "<div>\n",
       "<style scoped>\n",
       "    .dataframe tbody tr th:only-of-type {\n",
       "        vertical-align: middle;\n",
       "    }\n",
       "\n",
       "    .dataframe tbody tr th {\n",
       "        vertical-align: top;\n",
       "    }\n",
       "\n",
       "    .dataframe thead th {\n",
       "        text-align: right;\n",
       "    }\n",
       "</style>\n",
       "<table border=\"1\" class=\"dataframe\">\n",
       "  <thead>\n",
       "    <tr style=\"text-align: right;\">\n",
       "      <th></th>\n",
       "      <th>conversation</th>\n",
       "      <th>bt_level_avg</th>\n",
       "      <th>bt_level_std</th>\n",
       "      <th>bt_total_devices_around</th>\n",
       "      <th>bt_total_far</th>\n",
       "      <th>bt_total_farther</th>\n",
       "      <th>bt_total_near</th>\n",
       "      <th>bt_total_nearer</th>\n",
       "      <th>wifi_level_avg</th>\n",
       "      <th>wifi_level_std</th>\n",
       "      <th>...</th>\n",
       "      <th>phone_locked</th>\n",
       "      <th>activity_inference_0</th>\n",
       "      <th>activity_inference_1</th>\n",
       "      <th>activity_inference_2</th>\n",
       "      <th>activity_inference_3</th>\n",
       "      <th>audio_inference_0</th>\n",
       "      <th>audio_inference_1</th>\n",
       "      <th>audio_inference_2</th>\n",
       "      <th>audio_inference_3</th>\n",
       "      <th>STRESSED</th>\n",
       "    </tr>\n",
       "  </thead>\n",
       "  <tbody>\n",
       "    <tr>\n",
       "      <th>0</th>\n",
       "      <td>0.757211</td>\n",
       "      <td>-0.059292</td>\n",
       "      <td>0.012913</td>\n",
       "      <td>0.135913</td>\n",
       "      <td>0.065572</td>\n",
       "      <td>-0.012181</td>\n",
       "      <td>0.101845</td>\n",
       "      <td>0.026636</td>\n",
       "      <td>0.050303</td>\n",
       "      <td>-0.045424</td>\n",
       "      <td>...</td>\n",
       "      <td>-0.479851</td>\n",
       "      <td>0.103891</td>\n",
       "      <td>-0.060427</td>\n",
       "      <td>-0.014357</td>\n",
       "      <td>-0.029072</td>\n",
       "      <td>-0.237882</td>\n",
       "      <td>0.385415</td>\n",
       "      <td>-0.147496</td>\n",
       "      <td>-0.000036</td>\n",
       "      <td>NaN</td>\n",
       "    </tr>\n",
       "    <tr>\n",
       "      <th>1</th>\n",
       "      <td>0.745545</td>\n",
       "      <td>0.000000</td>\n",
       "      <td>0.000000</td>\n",
       "      <td>0.000000</td>\n",
       "      <td>0.000000</td>\n",
       "      <td>0.000000</td>\n",
       "      <td>0.000000</td>\n",
       "      <td>0.000000</td>\n",
       "      <td>0.000000</td>\n",
       "      <td>0.000000</td>\n",
       "      <td>...</td>\n",
       "      <td>-0.479851</td>\n",
       "      <td>0.103891</td>\n",
       "      <td>-0.060427</td>\n",
       "      <td>-0.014357</td>\n",
       "      <td>-0.029072</td>\n",
       "      <td>-0.081215</td>\n",
       "      <td>0.243748</td>\n",
       "      <td>-0.162496</td>\n",
       "      <td>-0.000036</td>\n",
       "      <td>NaN</td>\n",
       "    </tr>\n",
       "    <tr>\n",
       "      <th>2</th>\n",
       "      <td>0.435545</td>\n",
       "      <td>-0.059324</td>\n",
       "      <td>0.057321</td>\n",
       "      <td>0.110913</td>\n",
       "      <td>0.065572</td>\n",
       "      <td>0.050319</td>\n",
       "      <td>0.067362</td>\n",
       "      <td>0.000320</td>\n",
       "      <td>0.025127</td>\n",
       "      <td>-0.041241</td>\n",
       "      <td>...</td>\n",
       "      <td>-0.479851</td>\n",
       "      <td>0.103891</td>\n",
       "      <td>-0.060427</td>\n",
       "      <td>-0.014357</td>\n",
       "      <td>-0.029072</td>\n",
       "      <td>-0.587882</td>\n",
       "      <td>0.557082</td>\n",
       "      <td>0.030838</td>\n",
       "      <td>-0.000036</td>\n",
       "      <td>NaN</td>\n",
       "    </tr>\n",
       "    <tr>\n",
       "      <th>3</th>\n",
       "      <td>0.757211</td>\n",
       "      <td>0.000000</td>\n",
       "      <td>0.000000</td>\n",
       "      <td>0.000000</td>\n",
       "      <td>0.000000</td>\n",
       "      <td>0.000000</td>\n",
       "      <td>0.000000</td>\n",
       "      <td>0.000000</td>\n",
       "      <td>-0.091883</td>\n",
       "      <td>-0.069595</td>\n",
       "      <td>...</td>\n",
       "      <td>-0.479851</td>\n",
       "      <td>-0.371109</td>\n",
       "      <td>0.414573</td>\n",
       "      <td>-0.014357</td>\n",
       "      <td>-0.029072</td>\n",
       "      <td>-0.599548</td>\n",
       "      <td>0.667082</td>\n",
       "      <td>-0.067496</td>\n",
       "      <td>-0.000036</td>\n",
       "      <td>NaN</td>\n",
       "    </tr>\n",
       "    <tr>\n",
       "      <th>4</th>\n",
       "      <td>0.147211</td>\n",
       "      <td>-0.059450</td>\n",
       "      <td>-0.108500</td>\n",
       "      <td>-0.014087</td>\n",
       "      <td>0.065572</td>\n",
       "      <td>-0.074681</td>\n",
       "      <td>-0.001603</td>\n",
       "      <td>-0.025995</td>\n",
       "      <td>-0.087937</td>\n",
       "      <td>-0.081701</td>\n",
       "      <td>...</td>\n",
       "      <td>-0.479851</td>\n",
       "      <td>-0.896109</td>\n",
       "      <td>0.939573</td>\n",
       "      <td>-0.014357</td>\n",
       "      <td>-0.029072</td>\n",
       "      <td>-0.236215</td>\n",
       "      <td>0.273748</td>\n",
       "      <td>-0.037496</td>\n",
       "      <td>-0.000036</td>\n",
       "      <td>NaN</td>\n",
       "    </tr>\n",
       "  </tbody>\n",
       "</table>\n",
       "<p>5 rows × 26 columns</p>\n",
       "</div>"
      ],
      "text/plain": [
       "   conversation  bt_level_avg  bt_level_std  bt_total_devices_around  \\\n",
       "0      0.757211     -0.059292      0.012913                 0.135913   \n",
       "1      0.745545      0.000000      0.000000                 0.000000   \n",
       "2      0.435545     -0.059324      0.057321                 0.110913   \n",
       "3      0.757211      0.000000      0.000000                 0.000000   \n",
       "4      0.147211     -0.059450     -0.108500                -0.014087   \n",
       "\n",
       "   bt_total_far  bt_total_farther  bt_total_near  bt_total_nearer  \\\n",
       "0      0.065572         -0.012181       0.101845         0.026636   \n",
       "1      0.000000          0.000000       0.000000         0.000000   \n",
       "2      0.065572          0.050319       0.067362         0.000320   \n",
       "3      0.000000          0.000000       0.000000         0.000000   \n",
       "4      0.065572         -0.074681      -0.001603        -0.025995   \n",
       "\n",
       "   wifi_level_avg  wifi_level_std    ...     phone_locked  \\\n",
       "0        0.050303       -0.045424    ...        -0.479851   \n",
       "1        0.000000        0.000000    ...        -0.479851   \n",
       "2        0.025127       -0.041241    ...        -0.479851   \n",
       "3       -0.091883       -0.069595    ...        -0.479851   \n",
       "4       -0.087937       -0.081701    ...        -0.479851   \n",
       "\n",
       "   activity_inference_0  activity_inference_1  activity_inference_2  \\\n",
       "0              0.103891             -0.060427             -0.014357   \n",
       "1              0.103891             -0.060427             -0.014357   \n",
       "2              0.103891             -0.060427             -0.014357   \n",
       "3             -0.371109              0.414573             -0.014357   \n",
       "4             -0.896109              0.939573             -0.014357   \n",
       "\n",
       "   activity_inference_3  audio_inference_0  audio_inference_1  \\\n",
       "0             -0.029072          -0.237882           0.385415   \n",
       "1             -0.029072          -0.081215           0.243748   \n",
       "2             -0.029072          -0.587882           0.557082   \n",
       "3             -0.029072          -0.599548           0.667082   \n",
       "4             -0.029072          -0.236215           0.273748   \n",
       "\n",
       "   audio_inference_2  audio_inference_3  STRESSED  \n",
       "0          -0.147496          -0.000036       NaN  \n",
       "1          -0.162496          -0.000036       NaN  \n",
       "2           0.030838          -0.000036       NaN  \n",
       "3          -0.067496          -0.000036       NaN  \n",
       "4          -0.037496          -0.000036       NaN  \n",
       "\n",
       "[5 rows x 26 columns]"
      ]
     },
     "execution_count": 18,
     "metadata": {},
     "output_type": "execute_result"
    }
   ],
   "source": [
    "df_filled.head()"
   ]
  },
  {
   "cell_type": "markdown",
   "metadata": {},
   "source": [
    "# Create Instances"
   ]
  },
  {
   "cell_type": "code",
   "execution_count": 19,
   "metadata": {
    "ExecuteTime": {
     "end_time": "2019-03-18T12:13:37.064358Z",
     "start_time": "2019-03-18T12:13:37.053825Z"
    }
   },
   "outputs": [],
   "source": [
    "def create_instances(df, length=72, label='STRESSED'):\n",
    "    indexes = list(df[df[label].notnull()].index)\n",
    "    data = df.drop(columns=[label])\n",
    "    all_data = []\n",
    "    for i in indexes:\n",
    "        start = i-length+1\n",
    "        all_data.append([torch.from_numpy(data.iloc[j, :].values) for j in range(start, i+1)])\n",
    "    return all_data"
   ]
  },
  {
   "cell_type": "code",
   "execution_count": 20,
   "metadata": {
    "ExecuteTime": {
     "end_time": "2019-03-18T12:13:57.902360Z",
     "start_time": "2019-03-18T12:13:37.791029Z"
    }
   },
   "outputs": [],
   "source": [
    "data = create_instances(df_filled)"
   ]
  },
  {
   "cell_type": "code",
   "execution_count": 21,
   "metadata": {},
   "outputs": [
    {
     "data": {
      "text/plain": [
       "2347"
      ]
     },
     "execution_count": 21,
     "metadata": {},
     "output_type": "execute_result"
    }
   ],
   "source": [
    "len(data)"
   ]
  },
  {
   "cell_type": "code",
   "execution_count": 22,
   "metadata": {
    "ExecuteTime": {
     "end_time": "2019-03-18T12:17:12.177658Z",
     "start_time": "2019-03-18T12:17:12.173303Z"
    }
   },
   "outputs": [
    {
     "data": {
      "text/plain": [
       "72"
      ]
     },
     "execution_count": 22,
     "metadata": {},
     "output_type": "execute_result"
    }
   ],
   "source": [
    "len(data[2])"
   ]
  },
  {
   "cell_type": "code",
   "execution_count": 23,
   "metadata": {},
   "outputs": [],
   "source": [
    "y = df_filled.loc[df_filled.STRESSED.notnull(), 'STRESSED'].values.tolist()"
   ]
  },
  {
   "cell_type": "code",
   "execution_count": 24,
   "metadata": {},
   "outputs": [
    {
     "data": {
      "text/plain": [
       "2347"
      ]
     },
     "execution_count": 24,
     "metadata": {},
     "output_type": "execute_result"
    }
   ],
   "source": [
    "len(y)"
   ]
  },
  {
   "cell_type": "code",
   "execution_count": null,
   "metadata": {},
   "outputs": [],
   "source": []
  },
  {
   "cell_type": "code",
   "execution_count": 120,
   "metadata": {},
   "outputs": [],
   "source": [
    "def create_random_sets(x, y, data_size=1000, seed=1):\n",
    "    random.seed(seed)\n",
    "    one_class_size = int(data_size / 2)\n",
    "    one_indexes = [i for i, x in enumerate(y) if x == 1]\n",
    "    zero_indexes = [i for i, x in enumerate(y) if x == 0]\n",
    "    ones = random.sample(one_indexes, one_class_size)\n",
    "    zeros = random.sample(zero_indexes, one_class_size)\n",
    "    train_indexes = random.sample(ones+zeros, data_size)\n",
    "    new_x = [x[i] for i in train_indexes]\n",
    "    new_y = [y[i] for i in train_indexes]\n",
    "    test_x = [x[i] for i in range(len(y)) if i not in train_indexes]\n",
    "    test_y = [y[i] for i in range(len(y)) if i not in train_indexes]\n",
    "    return new_x, new_y, test_x, test_y"
   ]
  },
  {
   "cell_type": "code",
   "execution_count": 129,
   "metadata": {},
   "outputs": [],
   "source": [
    "X_train, y_train, X_test, y_test = create_random_sets(data, y)"
   ]
  },
  {
   "cell_type": "code",
   "execution_count": null,
   "metadata": {},
   "outputs": [],
   "source": []
  },
  {
   "cell_type": "code",
   "execution_count": null,
   "metadata": {},
   "outputs": [],
   "source": []
  },
  {
   "cell_type": "code",
   "execution_count": 39,
   "metadata": {},
   "outputs": [],
   "source": [
    "i0 = data[0]; # each item in i0 is an input for each time step\n",
    "def create_input_for_LSTM(instance, device=\"cuda:0\"):\n",
    "    cat_inputs = torch.cat(instance).view(len(i0), 1, -1).to(device)\n",
    "    cat_inputs = cat_inputs.type(torch.float32)\n",
    "    return cat_inputs"
   ]
  },
  {
   "cell_type": "code",
   "execution_count": 26,
   "metadata": {},
   "outputs": [],
   "source": [
    "hidden_dim = 128\n",
    "lstm1 = torch.nn.LSTM(25, hidden_dim)\n",
    "cat_inputs = torch.cat(i0).view(len(i0), 1, -1).to(\"cuda:0\")\n",
    "cat_inputs = cat_inputs.type(torch.float32)\n",
    "lstm1.to(\"cuda:0\");\n",
    "_, state = lstm1(cat_inputs) # this is the output for lstm;\n",
    "hidden, _ = state;"
   ]
  },
  {
   "cell_type": "code",
   "execution_count": 27,
   "metadata": {},
   "outputs": [],
   "source": [
    "fc1 = torch.nn.Linear(128, 1).to(\"cuda:0\")\n",
    "output= fc1(hidden).view(1, -1)\n",
    "criterion = torch.nn.BCEWithLogitsLoss();\n",
    "output.shape\n",
    "loss = criterion(output, torch.tensor(y[0], dtype=torch.float32, device=\"cuda:0\").view(1,-1))"
   ]
  },
  {
   "cell_type": "code",
   "execution_count": 28,
   "metadata": {},
   "outputs": [],
   "source": [
    "import torch.nn as nn"
   ]
  },
  {
   "cell_type": "code",
   "execution_count": 33,
   "metadata": {},
   "outputs": [],
   "source": [
    "class LstmTester(nn.Module):\n",
    "    def __init__(self, input_dim, hidden_dim, output_dim= 1):\n",
    "        super(LstmTester, self).__init__()\n",
    "        self.lstm = nn.LSTM(input_dim, hidden_dim) \n",
    "        self.fc1 = nn.Linear(hidden_dim, 64) # fully-connected layer weights and bias\n",
    "        self.fc2 = nn.ReLU() # fully-connected layer non-linearity\n",
    "        self.fc3 = nn.Linear(64, output_dim)\n",
    "        \n",
    "    def forward(self, x):\n",
    "        _, final_state = self.lstm(x.view(len(x), 1, -1))\n",
    "        final_hidden = final_state[0]\n",
    "        output = final_hidden.view(1,-1) # since your batchsize is 1\n",
    "        unnormalized_scores = self.fc3(self.fc2(self.fc1(output)))\n",
    "        return unnormalized_scores"
   ]
  },
  {
   "cell_type": "code",
   "execution_count": 34,
   "metadata": {},
   "outputs": [
    {
     "name": "stdout",
     "output_type": "stream",
     "text": [
      "0.6328675698692046\n",
      "0.6202095730391318\n",
      "0.6188138847369867\n",
      "0.6163737343367892\n",
      "0.6182747476745729\n",
      "0.6140724856074714\n",
      "0.6136097076234281\n",
      "0.6194913712207332\n",
      "0.619909731048216\n",
      "0.618826018374145\n",
      "0.6179172423198774\n",
      "0.612250177287324\n",
      "0.6128187730873573\n",
      "0.6119350554888991\n",
      "0.6074020916843667\n",
      "0.6062063742335767\n",
      "0.602862573180762\n",
      "0.6020459184077067\n",
      "0.5975325011220075\n",
      "0.593733799256524\n",
      "0.6067163227489087\n",
      "0.5909544044413533\n",
      "0.5900878476522209\n",
      "0.5810883875783397\n",
      "0.6017944140772049\n",
      "0.5777996314935722\n",
      "0.5736657772408497\n",
      "0.5571681032483352\n"
     ]
    },
    {
     "ename": "KeyboardInterrupt",
     "evalue": "",
     "output_type": "error",
     "traceback": [
      "\u001b[0;31m---------------------------------------------------------------------------\u001b[0m",
      "\u001b[0;31mKeyboardInterrupt\u001b[0m                         Traceback (most recent call last)",
      "\u001b[0;32m<ipython-input-34-e27209cb102f>\u001b[0m in \u001b[0;36m<module>\u001b[0;34m\u001b[0m\n\u001b[1;32m     11\u001b[0m         \u001b[0mcat_inputs\u001b[0m \u001b[0;34m=\u001b[0m \u001b[0mcat_inputs\u001b[0m\u001b[0;34m.\u001b[0m\u001b[0mtype\u001b[0m\u001b[0;34m(\u001b[0m\u001b[0mtorch\u001b[0m\u001b[0;34m.\u001b[0m\u001b[0mfloat32\u001b[0m\u001b[0;34m)\u001b[0m\u001b[0;34m\u001b[0m\u001b[0;34m\u001b[0m\u001b[0m\n\u001b[1;32m     12\u001b[0m         \u001b[0moptimizer\u001b[0m\u001b[0;34m.\u001b[0m\u001b[0mzero_grad\u001b[0m\u001b[0;34m(\u001b[0m\u001b[0;34m)\u001b[0m\u001b[0;34m\u001b[0m\u001b[0;34m\u001b[0m\u001b[0m\n\u001b[0;32m---> 13\u001b[0;31m         \u001b[0mloss\u001b[0m \u001b[0;34m=\u001b[0m \u001b[0mcriterion\u001b[0m\u001b[0;34m(\u001b[0m\u001b[0mm\u001b[0m\u001b[0;34m(\u001b[0m\u001b[0mcat_inputs\u001b[0m\u001b[0;34m)\u001b[0m\u001b[0;34m,\u001b[0m \u001b[0mygold\u001b[0m\u001b[0;34m)\u001b[0m\u001b[0;34m\u001b[0m\u001b[0;34m\u001b[0m\u001b[0m\n\u001b[0m\u001b[1;32m     14\u001b[0m         \u001b[0mtot_loss\u001b[0m \u001b[0;34m+=\u001b[0m \u001b[0mloss\u001b[0m\u001b[0;34m.\u001b[0m\u001b[0mitem\u001b[0m\u001b[0;34m(\u001b[0m\u001b[0;34m)\u001b[0m\u001b[0;34m\u001b[0m\u001b[0;34m\u001b[0m\u001b[0m\n\u001b[1;32m     15\u001b[0m         \u001b[0mloss\u001b[0m\u001b[0;34m.\u001b[0m\u001b[0mbackward\u001b[0m\u001b[0;34m(\u001b[0m\u001b[0;34m)\u001b[0m\u001b[0;34m\u001b[0m\u001b[0;34m\u001b[0m\u001b[0m\n",
      "\u001b[0;32m~/anaconda3/envs/pytorch/lib/python3.6/site-packages/torch/nn/modules/module.py\u001b[0m in \u001b[0;36m__call__\u001b[0;34m(self, *input, **kwargs)\u001b[0m\n\u001b[1;32m    487\u001b[0m             \u001b[0mresult\u001b[0m \u001b[0;34m=\u001b[0m \u001b[0mself\u001b[0m\u001b[0;34m.\u001b[0m\u001b[0m_slow_forward\u001b[0m\u001b[0;34m(\u001b[0m\u001b[0;34m*\u001b[0m\u001b[0minput\u001b[0m\u001b[0;34m,\u001b[0m \u001b[0;34m**\u001b[0m\u001b[0mkwargs\u001b[0m\u001b[0;34m)\u001b[0m\u001b[0;34m\u001b[0m\u001b[0;34m\u001b[0m\u001b[0m\n\u001b[1;32m    488\u001b[0m         \u001b[0;32melse\u001b[0m\u001b[0;34m:\u001b[0m\u001b[0;34m\u001b[0m\u001b[0;34m\u001b[0m\u001b[0m\n\u001b[0;32m--> 489\u001b[0;31m             \u001b[0mresult\u001b[0m \u001b[0;34m=\u001b[0m \u001b[0mself\u001b[0m\u001b[0;34m.\u001b[0m\u001b[0mforward\u001b[0m\u001b[0;34m(\u001b[0m\u001b[0;34m*\u001b[0m\u001b[0minput\u001b[0m\u001b[0;34m,\u001b[0m \u001b[0;34m**\u001b[0m\u001b[0mkwargs\u001b[0m\u001b[0;34m)\u001b[0m\u001b[0;34m\u001b[0m\u001b[0;34m\u001b[0m\u001b[0m\n\u001b[0m\u001b[1;32m    490\u001b[0m         \u001b[0;32mfor\u001b[0m \u001b[0mhook\u001b[0m \u001b[0;32min\u001b[0m \u001b[0mself\u001b[0m\u001b[0;34m.\u001b[0m\u001b[0m_forward_hooks\u001b[0m\u001b[0;34m.\u001b[0m\u001b[0mvalues\u001b[0m\u001b[0;34m(\u001b[0m\u001b[0;34m)\u001b[0m\u001b[0;34m:\u001b[0m\u001b[0;34m\u001b[0m\u001b[0;34m\u001b[0m\u001b[0m\n\u001b[1;32m    491\u001b[0m             \u001b[0mhook_result\u001b[0m \u001b[0;34m=\u001b[0m \u001b[0mhook\u001b[0m\u001b[0;34m(\u001b[0m\u001b[0mself\u001b[0m\u001b[0;34m,\u001b[0m \u001b[0minput\u001b[0m\u001b[0;34m,\u001b[0m \u001b[0mresult\u001b[0m\u001b[0;34m)\u001b[0m\u001b[0;34m\u001b[0m\u001b[0;34m\u001b[0m\u001b[0m\n",
      "\u001b[0;32m<ipython-input-33-7249f95107d5>\u001b[0m in \u001b[0;36mforward\u001b[0;34m(self, x)\u001b[0m\n\u001b[1;32m      8\u001b[0m \u001b[0;34m\u001b[0m\u001b[0m\n\u001b[1;32m      9\u001b[0m     \u001b[0;32mdef\u001b[0m \u001b[0mforward\u001b[0m\u001b[0;34m(\u001b[0m\u001b[0mself\u001b[0m\u001b[0;34m,\u001b[0m \u001b[0mx\u001b[0m\u001b[0;34m)\u001b[0m\u001b[0;34m:\u001b[0m\u001b[0;34m\u001b[0m\u001b[0;34m\u001b[0m\u001b[0m\n\u001b[0;32m---> 10\u001b[0;31m         \u001b[0m_\u001b[0m\u001b[0;34m,\u001b[0m \u001b[0mfinal_state\u001b[0m \u001b[0;34m=\u001b[0m \u001b[0mself\u001b[0m\u001b[0;34m.\u001b[0m\u001b[0mlstm\u001b[0m\u001b[0;34m(\u001b[0m\u001b[0mx\u001b[0m\u001b[0;34m.\u001b[0m\u001b[0mview\u001b[0m\u001b[0;34m(\u001b[0m\u001b[0mlen\u001b[0m\u001b[0;34m(\u001b[0m\u001b[0mx\u001b[0m\u001b[0;34m)\u001b[0m\u001b[0;34m,\u001b[0m \u001b[0;36m1\u001b[0m\u001b[0;34m,\u001b[0m \u001b[0;34m-\u001b[0m\u001b[0;36m1\u001b[0m\u001b[0;34m)\u001b[0m\u001b[0;34m)\u001b[0m\u001b[0;34m\u001b[0m\u001b[0;34m\u001b[0m\u001b[0m\n\u001b[0m\u001b[1;32m     11\u001b[0m         \u001b[0mfinal_hidden\u001b[0m \u001b[0;34m=\u001b[0m \u001b[0mfinal_state\u001b[0m\u001b[0;34m[\u001b[0m\u001b[0;36m0\u001b[0m\u001b[0;34m]\u001b[0m\u001b[0;34m\u001b[0m\u001b[0;34m\u001b[0m\u001b[0m\n\u001b[1;32m     12\u001b[0m         \u001b[0moutput\u001b[0m \u001b[0;34m=\u001b[0m \u001b[0mfinal_hidden\u001b[0m\u001b[0;34m.\u001b[0m\u001b[0mview\u001b[0m\u001b[0;34m(\u001b[0m\u001b[0;36m1\u001b[0m\u001b[0;34m,\u001b[0m\u001b[0;34m-\u001b[0m\u001b[0;36m1\u001b[0m\u001b[0;34m)\u001b[0m \u001b[0;31m# since your batchsize is 1\u001b[0m\u001b[0;34m\u001b[0m\u001b[0;34m\u001b[0m\u001b[0m\n",
      "\u001b[0;32m~/anaconda3/envs/pytorch/lib/python3.6/site-packages/torch/nn/modules/module.py\u001b[0m in \u001b[0;36m__call__\u001b[0;34m(self, *input, **kwargs)\u001b[0m\n\u001b[1;32m    487\u001b[0m             \u001b[0mresult\u001b[0m \u001b[0;34m=\u001b[0m \u001b[0mself\u001b[0m\u001b[0;34m.\u001b[0m\u001b[0m_slow_forward\u001b[0m\u001b[0;34m(\u001b[0m\u001b[0;34m*\u001b[0m\u001b[0minput\u001b[0m\u001b[0;34m,\u001b[0m \u001b[0;34m**\u001b[0m\u001b[0mkwargs\u001b[0m\u001b[0;34m)\u001b[0m\u001b[0;34m\u001b[0m\u001b[0;34m\u001b[0m\u001b[0m\n\u001b[1;32m    488\u001b[0m         \u001b[0;32melse\u001b[0m\u001b[0;34m:\u001b[0m\u001b[0;34m\u001b[0m\u001b[0;34m\u001b[0m\u001b[0m\n\u001b[0;32m--> 489\u001b[0;31m             \u001b[0mresult\u001b[0m \u001b[0;34m=\u001b[0m \u001b[0mself\u001b[0m\u001b[0;34m.\u001b[0m\u001b[0mforward\u001b[0m\u001b[0;34m(\u001b[0m\u001b[0;34m*\u001b[0m\u001b[0minput\u001b[0m\u001b[0;34m,\u001b[0m \u001b[0;34m**\u001b[0m\u001b[0mkwargs\u001b[0m\u001b[0;34m)\u001b[0m\u001b[0;34m\u001b[0m\u001b[0;34m\u001b[0m\u001b[0m\n\u001b[0m\u001b[1;32m    490\u001b[0m         \u001b[0;32mfor\u001b[0m \u001b[0mhook\u001b[0m \u001b[0;32min\u001b[0m \u001b[0mself\u001b[0m\u001b[0;34m.\u001b[0m\u001b[0m_forward_hooks\u001b[0m\u001b[0;34m.\u001b[0m\u001b[0mvalues\u001b[0m\u001b[0;34m(\u001b[0m\u001b[0;34m)\u001b[0m\u001b[0;34m:\u001b[0m\u001b[0;34m\u001b[0m\u001b[0;34m\u001b[0m\u001b[0m\n\u001b[1;32m    491\u001b[0m             \u001b[0mhook_result\u001b[0m \u001b[0;34m=\u001b[0m \u001b[0mhook\u001b[0m\u001b[0;34m(\u001b[0m\u001b[0mself\u001b[0m\u001b[0;34m,\u001b[0m \u001b[0minput\u001b[0m\u001b[0;34m,\u001b[0m \u001b[0mresult\u001b[0m\u001b[0;34m)\u001b[0m\u001b[0;34m\u001b[0m\u001b[0;34m\u001b[0m\u001b[0m\n",
      "\u001b[0;32m~/anaconda3/envs/pytorch/lib/python3.6/site-packages/torch/nn/modules/rnn.py\u001b[0m in \u001b[0;36mforward\u001b[0;34m(self, input, hx)\u001b[0m\n\u001b[1;32m    177\u001b[0m         \u001b[0;32mif\u001b[0m \u001b[0mbatch_sizes\u001b[0m \u001b[0;32mis\u001b[0m \u001b[0;32mNone\u001b[0m\u001b[0;34m:\u001b[0m\u001b[0;34m\u001b[0m\u001b[0;34m\u001b[0m\u001b[0m\n\u001b[1;32m    178\u001b[0m             result = _impl(input, hx, self._flat_weights, self.bias, self.num_layers,\n\u001b[0;32m--> 179\u001b[0;31m                            self.dropout, self.training, self.bidirectional, self.batch_first)\n\u001b[0m\u001b[1;32m    180\u001b[0m         \u001b[0;32melse\u001b[0m\u001b[0;34m:\u001b[0m\u001b[0;34m\u001b[0m\u001b[0;34m\u001b[0m\u001b[0m\n\u001b[1;32m    181\u001b[0m             result = _impl(input, batch_sizes, hx, self._flat_weights, self.bias,\n",
      "\u001b[0;31mKeyboardInterrupt\u001b[0m: "
     ]
    }
   ],
   "source": [
    "# initialize model : \n",
    "device = \"cuda:0\"\n",
    "m = LstmTester(25,128).to(device)\n",
    "optimizer = torch.optim.Adam(m.parameters())\n",
    "for i in range(30):\n",
    "    tot_loss = 0\n",
    "    for (i, minput) in enumerate(data):\n",
    "        i0, ygold = minput, y[i]\n",
    "        ygold = torch.tensor(ygold, dtype=torch.float32, device=device).view(1,-1)\n",
    "        cat_inputs = torch.cat(i0).view(len(i0), 1, -1).to(device)\n",
    "        cat_inputs = cat_inputs.type(torch.float32)\n",
    "        optimizer.zero_grad()\n",
    "        loss = criterion(m(cat_inputs), ygold)\n",
    "        tot_loss += loss.item()\n",
    "        loss.backward()\n",
    "        optimizer.step()\n",
    "    print(tot_loss/len(data))"
   ]
  },
  {
   "cell_type": "markdown",
   "metadata": {},
   "source": [
    "m"
   ]
  },
  {
   "cell_type": "code",
   "execution_count": 35,
   "metadata": {},
   "outputs": [],
   "source": [
    "# logits = model(input)\n",
    "def acc(logits, ygolds):\n",
    "    with torch.no_grad():\n",
    "        probs = torch.sigmoid(logits)\n",
    "        ypred = probs >= 0.5\n",
    "        num_of_corrects = (ygolds.byte() == ypred).sum().item()\n",
    "        return num_of_corrects / logits.shape[0]"
   ]
  },
  {
   "cell_type": "code",
   "execution_count": 133,
   "metadata": {},
   "outputs": [
    {
     "name": "stdout",
     "output_type": "stream",
     "text": [
      "1552\n"
     ]
    }
   ],
   "source": [
    "corrects = 0\n",
    "for i in range(len(data)):\n",
    "    my_input = create_input_for_LSTM(data[i])\n",
    "    t = acc(m(my_input),torch.tensor(y[i], dtype=torch.float32, device=device).view(1,-1))\n",
    "    if t == 1.0 and y[i] == 1:\n",
    "        corrects += 1\n",
    "print(corrects)"
   ]
  },
  {
   "cell_type": "code",
   "execution_count": null,
   "metadata": {},
   "outputs": [],
   "source": []
  },
  {
   "cell_type": "code",
   "execution_count": 29,
   "metadata": {
    "ExecuteTime": {
     "end_time": "2019-03-18T12:31:10.064079Z",
     "start_time": "2019-03-18T12:31:10.057769Z"
    }
   },
   "outputs": [],
   "source": [
    "import torch\n",
    "import torch.nn as nn\n",
    "import torch.nn.functional as F\n",
    "import torch.optim as optim\n",
    "from sklearn.metrics import accuracy_score"
   ]
  },
  {
   "cell_type": "code",
   "execution_count": 30,
   "metadata": {},
   "outputs": [],
   "source": [
    "# accuracy_score(y_true, y_pred)"
   ]
  },
  {
   "cell_type": "code",
   "execution_count": 31,
   "metadata": {
    "ExecuteTime": {
     "end_time": "2019-03-18T12:34:22.031384Z",
     "start_time": "2019-03-18T12:34:22.024121Z"
    }
   },
   "outputs": [],
   "source": [
    "SEED = 1\n",
    "\n",
    "torch.manual_seed(SEED)\n",
    "torch.cuda.manual_seed(SEED)\n",
    "torch.backends.cudnn.deterministic = True"
   ]
  },
  {
   "cell_type": "code",
   "execution_count": null,
   "metadata": {},
   "outputs": [],
   "source": [
    "class YasinTagger(nn.module):\n",
    "    def __init__(self, input_dim, hidden_dim, output_dim):\n",
    "        self.lstm = nn.LSTM(input_dim, hidden_dim)\n",
    "        self.fc1 = nn.Linear(hidden_dim, 2)\n",
    "\n",
    "    def forward(self, x):\n",
    "        _, final_hidden = self.lstm(x)\n",
    "        unnormalized_scores = self.fc1(final_hidden) # TODO: check dimensions\n",
    "        return unnormalized_scores"
   ]
  },
  {
   "cell_type": "code",
   "execution_count": null,
   "metadata": {},
   "outputs": [],
   "source": [
    "def main():\n",
    "    model = YasinTagger(26, 128, 2)\n",
    "    # create your fake inputs\n",
    "    T = 72 # time sequence (length of your input)\n",
    "    B = 1 # minibatching (batchsize)\n",
    "    #inputs = [torch.randn(1, 3) for _ in range(T)]\n",
    "    cat_input = torch.cat(inputs).view(len(inputs),1, -1)\n",
    "    scores =  model(cat_input)\n",
    "    criterion = torch.nn.BCEWithLogitsLoss()\n",
    "    optimizer = torch.optim.Adam(model.parameters())\n",
    "    optimizer.zero_grad()\n",
    "    loss = criterio(scores, your_true_labels)\n",
    "    loss.backward()\n",
    "    optimizer.step()\n",
    "    # TODO:\n",
    "    # 1 make sure about dimensions\n",
    "    # 2 implement accuracy (you can convert numpy arrays and use sci-kitlearn)\n",
    "\n",
    "    # your train loop here\n",
    "    epochs = 5\n",
    "    for i in range(epochs):\n",
    "        for sample in data:\n",
    "            cat_input = torch.cat(inputs).view(len(inputs),1, -1)\n",
    "            scores = model(cat_input)\n",
    "            criterion = torch.nn.BCEWithLogitsLoss()\n",
    "            optimizer = torch.optim.Adam(model.parameters())\n",
    "            optimizer.zero_grad()\n",
    "            loss = criterion(scores, your_true_labels)"
   ]
  },
  {
   "cell_type": "code",
   "execution_count": null,
   "metadata": {},
   "outputs": [],
   "source": [
    "new_arr = df.bt_level_avg.fillna(0).values"
   ]
  },
  {
   "cell_type": "code",
   "execution_count": null,
   "metadata": {},
   "outputs": [],
   "source": [
    "plt.figure()\n",
    "plt.plot(new_arr)\n",
    "plt.show()"
   ]
  },
  {
   "cell_type": "code",
   "execution_count": null,
   "metadata": {},
   "outputs": [],
   "source": []
  }
 ],
 "metadata": {
  "kernelspec": {
   "display_name": "Python [conda env:pytorch]",
   "language": "python",
   "name": "conda-env-pytorch-py"
  },
  "language_info": {
   "codemirror_mode": {
    "name": "ipython",
    "version": 3
   },
   "file_extension": ".py",
   "mimetype": "text/x-python",
   "name": "python",
   "nbconvert_exporter": "python",
   "pygments_lexer": "ipython3",
   "version": "3.6.7"
  },
  "toc": {
   "base_numbering": 1,
   "nav_menu": {},
   "number_sections": true,
   "sideBar": true,
   "skip_h1_title": false,
   "title_cell": "Table of Contents",
   "title_sidebar": "Contents",
   "toc_cell": false,
   "toc_position": {},
   "toc_section_display": true,
   "toc_window_display": false
  },
  "varInspector": {
   "cols": {
    "lenName": 16,
    "lenType": 16,
    "lenVar": 40
   },
   "kernels_config": {
    "python": {
     "delete_cmd_postfix": "",
     "delete_cmd_prefix": "del ",
     "library": "var_list.py",
     "varRefreshCmd": "print(var_dic_list())"
    },
    "r": {
     "delete_cmd_postfix": ") ",
     "delete_cmd_prefix": "rm(",
     "library": "var_list.r",
     "varRefreshCmd": "cat(var_dic_list()) "
    }
   },
   "types_to_exclude": [
    "module",
    "function",
    "builtin_function_or_method",
    "instance",
    "_Feature"
   ],
   "window_display": false
  }
 },
 "nbformat": 4,
 "nbformat_minor": 2
}
