{
 "cells": [
  {
   "cell_type": "code",
   "execution_count": 1,
   "metadata": {
    "ExecuteTime": {
     "end_time": "2019-03-15T11:44:33.628563Z",
     "start_time": "2019-03-15T11:44:33.098117Z"
    }
   },
   "outputs": [],
   "source": [
    "import pandas as pd\n",
    "import numpy as np\n",
    "import seaborn as sns\n",
    "import os\n",
    "import scipy.stats as stats\n",
    "import missingno as msno"
   ]
  },
  {
   "cell_type": "code",
   "execution_count": 2,
   "metadata": {
    "ExecuteTime": {
     "end_time": "2019-03-15T11:44:33.642232Z",
     "start_time": "2019-03-15T11:44:33.639276Z"
    }
   },
   "outputs": [],
   "source": [
    "def show_full_data(data, row_size=None, column_size=None, col_width=-1):\n",
    "    \"\"\"Shows all rows and columns instead of showing only some part and hiding other parts for large data.\n",
    "    \"\"\"\n",
    "    with pd.option_context('display.max_rows', row_size, 'display.max_columns', column_size, 'display.max_colwidth', col_width):\n",
    "        display(data)"
   ]
  },
  {
   "cell_type": "code",
   "execution_count": 3,
   "metadata": {
    "ExecuteTime": {
     "end_time": "2019-03-15T11:44:33.980086Z",
     "start_time": "2019-03-15T11:44:33.977723Z"
    }
   },
   "outputs": [],
   "source": [
    "# Dataset directory\n",
    "dir_loc = '../../../student-life-study-data/dataset/'"
   ]
  },
  {
   "cell_type": "code",
   "execution_count": 4,
   "metadata": {
    "ExecuteTime": {
     "end_time": "2019-03-15T11:44:34.268782Z",
     "start_time": "2019-03-15T11:44:34.262538Z"
    }
   },
   "outputs": [],
   "source": [
    "# Collecting all student codes from activity folder (which represents all students)\n",
    "user_codes = []\n",
    "for x in sorted(os.listdir(dir_loc + 'sensing/activity/')):\n",
    "    # Chooses the string before \".\" and after \"_\"\n",
    "    user_codes.append(x.split('.')[0].split('_')[1])"
   ]
  },
  {
   "cell_type": "markdown",
   "metadata": {},
   "source": [
    "# Sensing"
   ]
  },
  {
   "cell_type": "code",
   "execution_count": 5,
   "metadata": {
    "ExecuteTime": {
     "end_time": "2019-03-15T11:44:36.427951Z",
     "start_time": "2019-03-15T11:44:36.400376Z"
    }
   },
   "outputs": [],
   "source": [
    "def get_activity(user):\n",
    "    activity = pd.read_csv(dir_loc + 'sensing/activity/activity_' + user + '.csv')\n",
    "    activity.columns = ['timestamp', 'activity_inference']\n",
    "    # make timestamp unique and take the mode for different values of activity inference\n",
    "    activity = activity.groupby(\"timestamp\")['activity_inference'].apply(lambda x: x.mode()[0]).reset_index()\n",
    "    activity.timestamp = pd.to_datetime(activity.timestamp, unit='s')\n",
    "    activity = activity.set_index('timestamp')\n",
    "    activity = activity.asfreq('s', method='bfill')\n",
    "    return activity\n",
    "\n",
    "def get_audio(user):\n",
    "    audio = pd.read_csv(dir_loc + 'sensing/audio/audio_' + user + '.csv')\n",
    "    audio.columns = ['timestamp', 'audio_inference']\n",
    "    # make timestamp unique and take the mode for different values of audio inference\n",
    "    audio = audio.groupby(\"timestamp\")['audio_inference'].apply(lambda x: x.mode()[0]).reset_index()\n",
    "    audio.timestamp = pd.to_datetime(audio.timestamp, unit='s')\n",
    "    audio = audio.set_index('timestamp')\n",
    "    audio = audio.asfreq('s', method='bfill')\n",
    "    return audio\n",
    "\n",
    "def get_conversation(user):\n",
    "    conversation = pd.read_csv(dir_loc + 'sensing/conversation/conversation_' + user + '.csv')\n",
    "    conversation.columns = ['start_timestamp', 'end_timestamp']\n",
    "    conversation.start_timestamp = pd.to_datetime(conversation.start_timestamp, unit='s')\n",
    "    conversation.end_timestamp = pd.to_datetime(conversation.end_timestamp, unit='s')\n",
    "    return conversation\n",
    "\n",
    "# def get_gps(user):\n",
    "#     gps = pd.read_csv(dir_loc + 'sensing/gps/gps_' + user + '.csv', index_col=False)\n",
    "#     gps.time = pd.to_datetime(gps.time, unit='s')\n",
    "#     return gps\n",
    "\n",
    "def get_bluetooth(user):\n",
    "    bluetooth = pd.read_csv(dir_loc + 'sensing/bluetooth/bt_' + user + '.csv', index_col=False)\n",
    "    bluetooth.time = pd.to_datetime(bluetooth.time, unit='s')\n",
    "    return bluetooth\n",
    "    \n",
    "def get_wifi(user):\n",
    "    wifi = pd.read_csv(dir_loc + 'sensing/wifi/wifi_' + user + '.csv', index_col=False)\n",
    "    wifi.time = pd.to_datetime(wifi.time, unit='s')\n",
    "    return wifi\n",
    "\n",
    "def get_wifi_loc(user):\n",
    "    wifi_loc = pd.read_csv(dir_loc + 'sensing/wifi_location/wifi_location_' + user + '.csv', index_col=False)\n",
    "    wifi_loc.time = pd.to_datetime(wifi_loc.time, unit='s')\n",
    "    return wifi_loc\n",
    "\n",
    "def get_dark(user):\n",
    "    dark = pd.read_csv(dir_loc + 'sensing/dark/dark_' + user + '.csv', index_col=False)\n",
    "    dark.start = pd.to_datetime(dark.start, unit='s')\n",
    "    dark.end = pd.to_datetime(dark.end, unit='s')\n",
    "    return dark\n",
    "\n",
    "def get_phone_charge(user):\n",
    "    phonecharge = pd.read_csv(dir_loc + 'sensing/phonecharge/phonecharge_' + user + '.csv', index_col=False)\n",
    "    phonecharge.start = pd.to_datetime(phonecharge.start, unit='s')\n",
    "    phonecharge.end = pd.to_datetime(phonecharge.end, unit='s')\n",
    "    return phonecharge\n",
    "\n",
    "def get_phone_lock(user):\n",
    "    phonelock = pd.read_csv(dir_loc + 'sensing/phonelock/phonelock_' + user + '.csv', index_col=False)\n",
    "    phonelock.start = pd.to_datetime(phonelock.start, unit='s')\n",
    "    phonelock.end = pd.to_datetime(phonelock.end, unit='s')\n",
    "    return phonelock"
   ]
  },
  {
   "cell_type": "code",
   "execution_count": 6,
   "metadata": {
    "ExecuteTime": {
     "end_time": "2019-03-15T11:44:38.244400Z",
     "start_time": "2019-03-15T11:44:38.239726Z"
    }
   },
   "outputs": [],
   "source": [
    "u = 'u05'"
   ]
  },
  {
   "cell_type": "code",
   "execution_count": 7,
   "metadata": {
    "ExecuteTime": {
     "end_time": "2019-03-15T11:53:17.295502Z",
     "start_time": "2019-03-15T11:44:38.406766Z"
    }
   },
   "outputs": [],
   "source": [
    "activity = get_activity(u)\n",
    "audio = get_audio(u)\n",
    "conversation = get_conversation(u)\n",
    "# gps = get_gps(u)\n",
    "bluetooth = get_bluetooth(u)\n",
    "wifi = get_wifi(u)\n",
    "wifi_loc = get_wifi_loc(u)\n",
    "dark = get_dark(u)\n",
    "phone_charge = get_phone_charge(u)\n",
    "phone_lock = get_phone_lock(u)"
   ]
  },
  {
   "cell_type": "code",
   "execution_count": 8,
   "metadata": {
    "ExecuteTime": {
     "end_time": "2019-03-15T11:53:17.931435Z",
     "start_time": "2019-03-15T11:53:17.454544Z"
    }
   },
   "outputs": [],
   "source": [
    "# activity - audio merge\n",
    "df = pd.merge(activity, audio, left_index=True, right_index=True, how='outer')\n",
    "df = df.reset_index()"
   ]
  },
  {
   "cell_type": "code",
   "execution_count": 9,
   "metadata": {
    "ExecuteTime": {
     "end_time": "2019-03-15T11:55:43.694774Z",
     "start_time": "2019-03-15T11:53:18.061289Z"
    }
   },
   "outputs": [],
   "source": [
    "# add conversation\n",
    "df['conversation'] = np.nan\n",
    "for i in range(conversation.shape[0]):\n",
    "    start = conversation.iloc[i, 0]\n",
    "    end = conversation.iloc[i, 1]\n",
    "    df.loc[(df['timestamp'] >= start) & (df['timestamp'] <= end), 'conversation'] = 1"
   ]
  },
  {
   "cell_type": "code",
   "execution_count": 10,
   "metadata": {
    "ExecuteTime": {
     "end_time": "2019-03-15T11:55:43.790047Z",
     "start_time": "2019-03-15T11:55:43.787877Z"
    }
   },
   "outputs": [],
   "source": [
    "# # add gps\n",
    "# gps.columns = ['gps_' + i for i in gps.columns]\n",
    "# df = df.reset_index()\n",
    "# df = pd.merge(df, gps, left_on='timestamp', right_on='gps_time', how='outer')\n",
    "# df.drop(columns=['gps_time'], inplace=True)"
   ]
  },
  {
   "cell_type": "code",
   "execution_count": 11,
   "metadata": {
    "ExecuteTime": {
     "end_time": "2019-03-15T11:56:38.397443Z",
     "start_time": "2019-03-15T11:55:43.926772Z"
    }
   },
   "outputs": [],
   "source": [
    "# add bluetooth\n",
    "bluetooth_new = pd.DataFrame()\n",
    "for time in bluetooth.time.unique():\n",
    "    data = {'timestamp': time}\n",
    "    item = bluetooth[bluetooth.time == time]\n",
    "    data['total_devices_around'] = item.shape[0]\n",
    "    data['total_nearer'] = item[item.level >= -70].shape[0]\n",
    "    data['total_near'] = item[(item.level >= -80) & (item.level < -70)].shape[0]\n",
    "    data['total_far'] = item[(item.level >= -90) & (item.level < -80)].shape[0]\n",
    "    data['total_farther'] = item[(item.level >= -100) & (item.level < -90)].shape[0]\n",
    "    data['level_avg'] = round(item.level.mean())\n",
    "    data['level_std'] = item.level.std()\n",
    "    bluetooth_new = bluetooth_new.append(data, ignore_index=True)\n",
    "\n",
    "bluetooth_new.columns = ['bt_' + i for i in bluetooth_new.columns]\n",
    "df = pd.merge(df, bluetooth_new, left_on='timestamp', right_on='bt_timestamp', how='outer')\n",
    "df.drop(columns=['bt_timestamp'], inplace=True)"
   ]
  },
  {
   "cell_type": "code",
   "execution_count": 12,
   "metadata": {
    "ExecuteTime": {
     "end_time": "2019-03-15T12:00:01.323057Z",
     "start_time": "2019-03-15T11:56:38.601075Z"
    }
   },
   "outputs": [],
   "source": [
    "# add wifi\n",
    "wifi_new = pd.DataFrame()\n",
    "for time in wifi.time.unique():\n",
    "    data = {'timestamp': time}\n",
    "    item = wifi[wifi.time == time]\n",
    "    data['total_devices_around'] = item.shape[0]\n",
    "    data['total_nearer'] = item[item.level >= -60].shape[0]\n",
    "    data['total_near'] = item[(item.level >= -80) & (item.level < -60)].shape[0]\n",
    "    data['total_far'] = item[(item.level >= -100) & (item.level < -80)].shape[0]\n",
    "    data['level_avg'] = round(item.level.mean())\n",
    "    data['level_std'] = item.level.std()\n",
    "    wifi_new = wifi_new.append(data, ignore_index=True)\n",
    "    \n",
    "wifi_new.columns = ['wifi_' + i for i in wifi_new.columns]\n",
    "df = pd.merge(df, wifi_new, left_on='timestamp', right_on='wifi_timestamp', how='left')\n",
    "df.drop(columns=['wifi_timestamp'], inplace=True)"
   ]
  },
  {
   "cell_type": "code",
   "execution_count": 13,
   "metadata": {
    "ExecuteTime": {
     "end_time": "2019-03-15T12:00:17.644826Z",
     "start_time": "2019-03-15T12:00:01.478399Z"
    }
   },
   "outputs": [],
   "source": [
    "# add dark\n",
    "df['phone_in_dark'] = np.nan\n",
    "for i in range(dark.shape[0]):\n",
    "    start = dark.iloc[i, 0]\n",
    "    end = dark.iloc[i, 1]\n",
    "    df.loc[(df['timestamp'] >= start) & (df['timestamp'] <= end), 'phone_in_dark'] = 1"
   ]
  },
  {
   "cell_type": "code",
   "execution_count": 14,
   "metadata": {
    "ExecuteTime": {
     "end_time": "2019-03-15T12:00:25.317250Z",
     "start_time": "2019-03-15T12:00:17.797308Z"
    }
   },
   "outputs": [],
   "source": [
    "# phone charge\n",
    "df['phone_charging'] = np.nan\n",
    "for i in range(phone_charge.shape[0]):\n",
    "    start = phone_charge.iloc[i, 0]\n",
    "    end = phone_charge.iloc[i, 1]\n",
    "    df.loc[(df['timestamp'] >= start) & (df['timestamp'] <= end), 'phone_charging'] = 1"
   ]
  },
  {
   "cell_type": "code",
   "execution_count": 15,
   "metadata": {
    "ExecuteTime": {
     "end_time": "2019-03-15T12:00:42.796924Z",
     "start_time": "2019-03-15T12:00:25.470402Z"
    }
   },
   "outputs": [],
   "source": [
    "# phone locked\n",
    "df['phone_locked'] = np.nan\n",
    "for i in range(phone_lock.shape[0]):\n",
    "    start = phone_lock.iloc[i, 0]\n",
    "    end = phone_lock.iloc[i, 1]\n",
    "    df.loc[(df['timestamp'] >= start) & (df['timestamp'] <= end), 'phone_locked'] = 1"
   ]
  },
  {
   "cell_type": "code",
   "execution_count": 16,
   "metadata": {
    "ExecuteTime": {
     "end_time": "2019-03-15T12:00:43.074689Z",
     "start_time": "2019-03-15T12:00:43.036281Z"
    }
   },
   "outputs": [
    {
     "data": {
      "text/html": [
       "<div>\n",
       "<style scoped>\n",
       "    .dataframe tbody tr th:only-of-type {\n",
       "        vertical-align: middle;\n",
       "    }\n",
       "\n",
       "    .dataframe tbody tr th {\n",
       "        vertical-align: top;\n",
       "    }\n",
       "\n",
       "    .dataframe thead th {\n",
       "        text-align: right;\n",
       "    }\n",
       "</style>\n",
       "<table border=\"1\" class=\"dataframe\">\n",
       "  <thead>\n",
       "    <tr style=\"text-align: right;\">\n",
       "      <th></th>\n",
       "      <th>timestamp</th>\n",
       "      <th>activity_inference</th>\n",
       "      <th>audio_inference</th>\n",
       "      <th>conversation</th>\n",
       "      <th>bt_level_avg</th>\n",
       "      <th>bt_level_std</th>\n",
       "      <th>bt_total_devices_around</th>\n",
       "      <th>bt_total_far</th>\n",
       "      <th>bt_total_farther</th>\n",
       "      <th>bt_total_near</th>\n",
       "      <th>bt_total_nearer</th>\n",
       "      <th>wifi_level_avg</th>\n",
       "      <th>wifi_level_std</th>\n",
       "      <th>wifi_total_devices_around</th>\n",
       "      <th>wifi_total_far</th>\n",
       "      <th>wifi_total_near</th>\n",
       "      <th>wifi_total_nearer</th>\n",
       "      <th>phone_in_dark</th>\n",
       "      <th>phone_charging</th>\n",
       "      <th>phone_locked</th>\n",
       "    </tr>\n",
       "  </thead>\n",
       "  <tbody>\n",
       "    <tr>\n",
       "      <th>0</th>\n",
       "      <td>2013-03-27 04:00:00</td>\n",
       "      <td>NaN</td>\n",
       "      <td>0.0</td>\n",
       "      <td>NaN</td>\n",
       "      <td>NaN</td>\n",
       "      <td>NaN</td>\n",
       "      <td>NaN</td>\n",
       "      <td>NaN</td>\n",
       "      <td>NaN</td>\n",
       "      <td>NaN</td>\n",
       "      <td>NaN</td>\n",
       "      <td>NaN</td>\n",
       "      <td>NaN</td>\n",
       "      <td>NaN</td>\n",
       "      <td>NaN</td>\n",
       "      <td>NaN</td>\n",
       "      <td>NaN</td>\n",
       "      <td>NaN</td>\n",
       "      <td>NaN</td>\n",
       "      <td>NaN</td>\n",
       "    </tr>\n",
       "    <tr>\n",
       "      <th>1</th>\n",
       "      <td>2013-03-27 04:00:01</td>\n",
       "      <td>NaN</td>\n",
       "      <td>0.0</td>\n",
       "      <td>NaN</td>\n",
       "      <td>NaN</td>\n",
       "      <td>NaN</td>\n",
       "      <td>NaN</td>\n",
       "      <td>NaN</td>\n",
       "      <td>NaN</td>\n",
       "      <td>NaN</td>\n",
       "      <td>NaN</td>\n",
       "      <td>NaN</td>\n",
       "      <td>NaN</td>\n",
       "      <td>NaN</td>\n",
       "      <td>NaN</td>\n",
       "      <td>NaN</td>\n",
       "      <td>NaN</td>\n",
       "      <td>NaN</td>\n",
       "      <td>NaN</td>\n",
       "      <td>NaN</td>\n",
       "    </tr>\n",
       "    <tr>\n",
       "      <th>2</th>\n",
       "      <td>2013-03-27 04:00:02</td>\n",
       "      <td>NaN</td>\n",
       "      <td>0.0</td>\n",
       "      <td>NaN</td>\n",
       "      <td>NaN</td>\n",
       "      <td>NaN</td>\n",
       "      <td>NaN</td>\n",
       "      <td>NaN</td>\n",
       "      <td>NaN</td>\n",
       "      <td>NaN</td>\n",
       "      <td>NaN</td>\n",
       "      <td>NaN</td>\n",
       "      <td>NaN</td>\n",
       "      <td>NaN</td>\n",
       "      <td>NaN</td>\n",
       "      <td>NaN</td>\n",
       "      <td>NaN</td>\n",
       "      <td>NaN</td>\n",
       "      <td>NaN</td>\n",
       "      <td>NaN</td>\n",
       "    </tr>\n",
       "    <tr>\n",
       "      <th>3</th>\n",
       "      <td>2013-03-27 04:00:03</td>\n",
       "      <td>NaN</td>\n",
       "      <td>0.0</td>\n",
       "      <td>NaN</td>\n",
       "      <td>NaN</td>\n",
       "      <td>NaN</td>\n",
       "      <td>NaN</td>\n",
       "      <td>NaN</td>\n",
       "      <td>NaN</td>\n",
       "      <td>NaN</td>\n",
       "      <td>NaN</td>\n",
       "      <td>NaN</td>\n",
       "      <td>NaN</td>\n",
       "      <td>NaN</td>\n",
       "      <td>NaN</td>\n",
       "      <td>NaN</td>\n",
       "      <td>NaN</td>\n",
       "      <td>NaN</td>\n",
       "      <td>NaN</td>\n",
       "      <td>NaN</td>\n",
       "    </tr>\n",
       "    <tr>\n",
       "      <th>4</th>\n",
       "      <td>2013-03-27 04:00:04</td>\n",
       "      <td>NaN</td>\n",
       "      <td>0.0</td>\n",
       "      <td>NaN</td>\n",
       "      <td>NaN</td>\n",
       "      <td>NaN</td>\n",
       "      <td>NaN</td>\n",
       "      <td>NaN</td>\n",
       "      <td>NaN</td>\n",
       "      <td>NaN</td>\n",
       "      <td>NaN</td>\n",
       "      <td>NaN</td>\n",
       "      <td>NaN</td>\n",
       "      <td>NaN</td>\n",
       "      <td>NaN</td>\n",
       "      <td>NaN</td>\n",
       "      <td>NaN</td>\n",
       "      <td>NaN</td>\n",
       "      <td>NaN</td>\n",
       "      <td>NaN</td>\n",
       "    </tr>\n",
       "  </tbody>\n",
       "</table>\n",
       "</div>"
      ],
      "text/plain": [
       "            timestamp  activity_inference  audio_inference  conversation  \\\n",
       "0 2013-03-27 04:00:00 NaN                  0.0             NaN             \n",
       "1 2013-03-27 04:00:01 NaN                  0.0             NaN             \n",
       "2 2013-03-27 04:00:02 NaN                  0.0             NaN             \n",
       "3 2013-03-27 04:00:03 NaN                  0.0             NaN             \n",
       "4 2013-03-27 04:00:04 NaN                  0.0             NaN             \n",
       "\n",
       "   bt_level_avg  bt_level_std  bt_total_devices_around  bt_total_far  \\\n",
       "0 NaN           NaN           NaN                      NaN             \n",
       "1 NaN           NaN           NaN                      NaN             \n",
       "2 NaN           NaN           NaN                      NaN             \n",
       "3 NaN           NaN           NaN                      NaN             \n",
       "4 NaN           NaN           NaN                      NaN             \n",
       "\n",
       "   bt_total_farther  bt_total_near  bt_total_nearer  wifi_level_avg  \\\n",
       "0 NaN               NaN            NaN              NaN               \n",
       "1 NaN               NaN            NaN              NaN               \n",
       "2 NaN               NaN            NaN              NaN               \n",
       "3 NaN               NaN            NaN              NaN               \n",
       "4 NaN               NaN            NaN              NaN               \n",
       "\n",
       "   wifi_level_std  wifi_total_devices_around  wifi_total_far  wifi_total_near  \\\n",
       "0 NaN             NaN                        NaN             NaN                \n",
       "1 NaN             NaN                        NaN             NaN                \n",
       "2 NaN             NaN                        NaN             NaN                \n",
       "3 NaN             NaN                        NaN             NaN                \n",
       "4 NaN             NaN                        NaN             NaN                \n",
       "\n",
       "   wifi_total_nearer  phone_in_dark  phone_charging  phone_locked  \n",
       "0 NaN                NaN            NaN             NaN            \n",
       "1 NaN                NaN            NaN             NaN            \n",
       "2 NaN                NaN            NaN             NaN            \n",
       "3 NaN                NaN            NaN             NaN            \n",
       "4 NaN                NaN            NaN             NaN            "
      ]
     },
     "metadata": {},
     "output_type": "display_data"
    }
   ],
   "source": [
    "show_full_data(df.head(5))"
   ]
  },
  {
   "cell_type": "code",
   "execution_count": 17,
   "metadata": {
    "ExecuteTime": {
     "end_time": "2019-03-15T12:00:45.574005Z",
     "start_time": "2019-03-15T12:00:43.303084Z"
    }
   },
   "outputs": [
    {
     "data": {
      "text/plain": [
       "<matplotlib.axes._subplots.AxesSubplot at 0x7fbd5fd820f0>"
      ]
     },
     "execution_count": 17,
     "metadata": {},
     "output_type": "execute_result"
    },
    {
     "data": {
      "image/png": "[encoded data removed]",
      "text/plain": [
       "<Figure size 1728x720 with 3 Axes>"
      ]
     },
     "metadata": {
      "needs_background": "light"
     },
     "output_type": "display_data"
    }
   ],
   "source": [
    "msno.bar(df)"
   ]
  },
  {
   "cell_type": "markdown",
   "metadata": {},
   "source": [
    "# EMA"
   ]
  },
  {
   "cell_type": "code",
   "execution_count": 18,
   "metadata": {
    "ExecuteTime": {
     "end_time": "2019-03-15T12:06:15.658390Z",
     "start_time": "2019-03-15T12:06:15.652502Z"
    }
   },
   "outputs": [],
   "source": [
    "with open(dir_loc + 'EMA/EMA_definition.json') as f:\n",
    "    definitions = json.load(f)"
   ]
  },
  {
   "cell_type": "code",
   "execution_count": 19,
   "metadata": {
    "ExecuteTime": {
     "end_time": "2019-03-15T12:06:16.388659Z",
     "start_time": "2019-03-15T12:06:16.376570Z"
    }
   },
   "outputs": [],
   "source": [
    "def ema(user, typ, cols):\n",
    "    data = pd.read_json(dir_loc + 'EMA/response/' + typ + '/' + typ + '_' + user + '.json')\n",
    "    if 'null' in data.columns:\n",
    "        data = data.drop(columns='null')\n",
    "    if 'location' in data.columns:\n",
    "        data = data.drop(columns='location')\n",
    "    if data.shape[0] != 0:\n",
    "        data = data.dropna(subset=cols)\n",
    "    return data"
   ]
  },
  {
   "cell_type": "code",
   "execution_count": 20,
   "metadata": {
    "ExecuteTime": {
     "end_time": "2019-03-15T12:06:18.969823Z",
     "start_time": "2019-03-15T12:06:18.934300Z"
    }
   },
   "outputs": [],
   "source": [
    "stress = ema(u, 'Stress', ['level'])\n",
    "mood2 = ema(u, 'Mood 2', ['how'])"
   ]
  },
  {
   "cell_type": "code",
   "execution_count": 21,
   "metadata": {
    "ExecuteTime": {
     "end_time": "2019-03-15T12:06:19.517519Z",
     "start_time": "2019-03-15T12:06:19.503238Z"
    }
   },
   "outputs": [
    {
     "data": {
      "text/html": [
       "<div>\n",
       "<style scoped>\n",
       "    .dataframe tbody tr th:only-of-type {\n",
       "        vertical-align: middle;\n",
       "    }\n",
       "\n",
       "    .dataframe tbody tr th {\n",
       "        vertical-align: top;\n",
       "    }\n",
       "\n",
       "    .dataframe thead th {\n",
       "        text-align: right;\n",
       "    }\n",
       "</style>\n",
       "<table border=\"1\" class=\"dataframe\">\n",
       "  <thead>\n",
       "    <tr style=\"text-align: right;\">\n",
       "      <th></th>\n",
       "      <th>level</th>\n",
       "      <th>resp_time</th>\n",
       "    </tr>\n",
       "  </thead>\n",
       "  <tbody>\n",
       "    <tr>\n",
       "      <th>5</th>\n",
       "      <td>4.0</td>\n",
       "      <td>2013-03-27 20:11:23</td>\n",
       "    </tr>\n",
       "    <tr>\n",
       "      <th>6</th>\n",
       "      <td>5.0</td>\n",
       "      <td>2013-03-27 23:12:02</td>\n",
       "    </tr>\n",
       "    <tr>\n",
       "      <th>7</th>\n",
       "      <td>4.0</td>\n",
       "      <td>2013-03-27 18:35:01</td>\n",
       "    </tr>\n",
       "    <tr>\n",
       "      <th>8</th>\n",
       "      <td>4.0</td>\n",
       "      <td>2013-03-28 20:08:03</td>\n",
       "    </tr>\n",
       "    <tr>\n",
       "      <th>9</th>\n",
       "      <td>1.0</td>\n",
       "      <td>2013-03-28 22:03:36</td>\n",
       "    </tr>\n",
       "  </tbody>\n",
       "</table>\n",
       "</div>"
      ],
      "text/plain": [
       "   level           resp_time\n",
       "5    4.0 2013-03-27 20:11:23\n",
       "6    5.0 2013-03-27 23:12:02\n",
       "7    4.0 2013-03-27 18:35:01\n",
       "8    4.0 2013-03-28 20:08:03\n",
       "9    1.0 2013-03-28 22:03:36"
      ]
     },
     "execution_count": 21,
     "metadata": {},
     "output_type": "execute_result"
    }
   ],
   "source": [
    "stress.head()"
   ]
  },
  {
   "cell_type": "code",
   "execution_count": 22,
   "metadata": {
    "ExecuteTime": {
     "end_time": "2019-03-15T12:06:19.882515Z",
     "start_time": "2019-03-15T12:06:19.873875Z"
    }
   },
   "outputs": [
    {
     "data": {
      "text/html": [
       "<div>\n",
       "<style scoped>\n",
       "    .dataframe tbody tr th:only-of-type {\n",
       "        vertical-align: middle;\n",
       "    }\n",
       "\n",
       "    .dataframe tbody tr th {\n",
       "        vertical-align: top;\n",
       "    }\n",
       "\n",
       "    .dataframe thead th {\n",
       "        text-align: right;\n",
       "    }\n",
       "</style>\n",
       "<table border=\"1\" class=\"dataframe\">\n",
       "  <thead>\n",
       "    <tr style=\"text-align: right;\">\n",
       "      <th></th>\n",
       "    </tr>\n",
       "  </thead>\n",
       "  <tbody>\n",
       "  </tbody>\n",
       "</table>\n",
       "</div>"
      ],
      "text/plain": [
       "Empty DataFrame\n",
       "Columns: []\n",
       "Index: []"
      ]
     },
     "execution_count": 22,
     "metadata": {},
     "output_type": "execute_result"
    }
   ],
   "source": [
    "mood2.head()"
   ]
  },
  {
   "cell_type": "code",
   "execution_count": 23,
   "metadata": {
    "ExecuteTime": {
     "end_time": "2019-03-15T12:06:22.263437Z",
     "start_time": "2019-03-15T12:06:22.256738Z"
    }
   },
   "outputs": [
    {
     "data": {
      "text/plain": [
       "{'name': 'Stress',\n",
       " 'questions': [{'options': '[1]A little stressed, [2]Definitely stressed, [3]Stressed out, [4]Feeling good, [5]Feeling great, ',\n",
       "   'question_id': 'level',\n",
       "   'question_text': 'Right now, I am...'},\n",
       "  {'options': '', 'question_id': 'location', 'question_text': ''}]}"
      ]
     },
     "execution_count": 23,
     "metadata": {},
     "output_type": "execute_result"
    }
   ],
   "source": [
    "definitions[3]"
   ]
  },
  {
   "cell_type": "code",
   "execution_count": 24,
   "metadata": {
    "ExecuteTime": {
     "end_time": "2019-03-15T12:06:22.633492Z",
     "start_time": "2019-03-15T12:06:22.568556Z"
    }
   },
   "outputs": [],
   "source": [
    "if stress.shape[0] != 0:\n",
    "    stress['level'] = stress['level'].replace([1,2,3], 1)\n",
    "    stress['level'] = stress['level'].replace([4,5], 0)\n",
    "    stress.columns = ['STRESSED', 'resp_time']"
   ]
  },
  {
   "cell_type": "code",
   "execution_count": 25,
   "metadata": {
    "ExecuteTime": {
     "end_time": "2019-03-15T12:06:23.054651Z",
     "start_time": "2019-03-15T12:06:23.041123Z"
    }
   },
   "outputs": [
    {
     "data": {
      "text/html": [
       "<div>\n",
       "<style scoped>\n",
       "    .dataframe tbody tr th:only-of-type {\n",
       "        vertical-align: middle;\n",
       "    }\n",
       "\n",
       "    .dataframe tbody tr th {\n",
       "        vertical-align: top;\n",
       "    }\n",
       "\n",
       "    .dataframe thead th {\n",
       "        text-align: right;\n",
       "    }\n",
       "</style>\n",
       "<table border=\"1\" class=\"dataframe\">\n",
       "  <thead>\n",
       "    <tr style=\"text-align: right;\">\n",
       "      <th></th>\n",
       "      <th>STRESSED</th>\n",
       "      <th>resp_time</th>\n",
       "    </tr>\n",
       "  </thead>\n",
       "  <tbody>\n",
       "    <tr>\n",
       "      <th>5</th>\n",
       "      <td>0.0</td>\n",
       "      <td>2013-03-27 20:11:23</td>\n",
       "    </tr>\n",
       "    <tr>\n",
       "      <th>6</th>\n",
       "      <td>0.0</td>\n",
       "      <td>2013-03-27 23:12:02</td>\n",
       "    </tr>\n",
       "    <tr>\n",
       "      <th>7</th>\n",
       "      <td>0.0</td>\n",
       "      <td>2013-03-27 18:35:01</td>\n",
       "    </tr>\n",
       "    <tr>\n",
       "      <th>8</th>\n",
       "      <td>0.0</td>\n",
       "      <td>2013-03-28 20:08:03</td>\n",
       "    </tr>\n",
       "    <tr>\n",
       "      <th>9</th>\n",
       "      <td>1.0</td>\n",
       "      <td>2013-03-28 22:03:36</td>\n",
       "    </tr>\n",
       "  </tbody>\n",
       "</table>\n",
       "</div>"
      ],
      "text/plain": [
       "   STRESSED           resp_time\n",
       "5       0.0 2013-03-27 20:11:23\n",
       "6       0.0 2013-03-27 23:12:02\n",
       "7       0.0 2013-03-27 18:35:01\n",
       "8       0.0 2013-03-28 20:08:03\n",
       "9       1.0 2013-03-28 22:03:36"
      ]
     },
     "execution_count": 25,
     "metadata": {},
     "output_type": "execute_result"
    }
   ],
   "source": [
    "stress.head()"
   ]
  },
  {
   "cell_type": "code",
   "execution_count": 26,
   "metadata": {
    "ExecuteTime": {
     "end_time": "2019-03-15T12:06:23.451320Z",
     "start_time": "2019-03-15T12:06:23.444700Z"
    }
   },
   "outputs": [
    {
     "data": {
      "text/plain": [
       "{'name': 'Mood 2',\n",
       " 'questions': [{'options': '[1]happy, [2]stressed, [3]tired, ',\n",
       "   'question_id': 'how',\n",
       "   'question_text': 'How are you right now?'},\n",
       "  {'options': '', 'question_id': 'location', 'question_text': ''}]}"
      ]
     },
     "execution_count": 26,
     "metadata": {},
     "output_type": "execute_result"
    }
   ],
   "source": [
    "definitions[17]"
   ]
  },
  {
   "cell_type": "code",
   "execution_count": 27,
   "metadata": {
    "ExecuteTime": {
     "end_time": "2019-03-15T12:06:23.985366Z",
     "start_time": "2019-03-15T12:06:23.979408Z"
    }
   },
   "outputs": [],
   "source": [
    "if mood2.shape[0] != 0:\n",
    "    mood2 = mood2.replace([1, 3], 0)\n",
    "    mood2 = mood2.replace([2], 1)\n",
    "    mood2.columns = ['STRESSED', 'resp_time']"
   ]
  },
  {
   "cell_type": "code",
   "execution_count": 28,
   "metadata": {
    "ExecuteTime": {
     "end_time": "2019-03-15T12:06:25.883485Z",
     "start_time": "2019-03-15T12:06:25.874071Z"
    }
   },
   "outputs": [
    {
     "data": {
      "text/html": [
       "<div>\n",
       "<style scoped>\n",
       "    .dataframe tbody tr th:only-of-type {\n",
       "        vertical-align: middle;\n",
       "    }\n",
       "\n",
       "    .dataframe tbody tr th {\n",
       "        vertical-align: top;\n",
       "    }\n",
       "\n",
       "    .dataframe thead th {\n",
       "        text-align: right;\n",
       "    }\n",
       "</style>\n",
       "<table border=\"1\" class=\"dataframe\">\n",
       "  <thead>\n",
       "    <tr style=\"text-align: right;\">\n",
       "      <th></th>\n",
       "    </tr>\n",
       "  </thead>\n",
       "  <tbody>\n",
       "  </tbody>\n",
       "</table>\n",
       "</div>"
      ],
      "text/plain": [
       "Empty DataFrame\n",
       "Columns: []\n",
       "Index: []"
      ]
     },
     "execution_count": 28,
     "metadata": {},
     "output_type": "execute_result"
    }
   ],
   "source": [
    "mood2.head()"
   ]
  },
  {
   "cell_type": "code",
   "execution_count": 29,
   "metadata": {
    "ExecuteTime": {
     "end_time": "2019-03-15T12:06:26.308729Z",
     "start_time": "2019-03-15T12:06:26.303935Z"
    }
   },
   "outputs": [],
   "source": [
    "labels = stress.append(mood2)"
   ]
  },
  {
   "cell_type": "code",
   "execution_count": 30,
   "metadata": {
    "ExecuteTime": {
     "end_time": "2019-03-15T12:06:26.866016Z",
     "start_time": "2019-03-15T12:06:26.859933Z"
    }
   },
   "outputs": [],
   "source": [
    "labels = labels.sort_values(by='resp_time', ascending=True)"
   ]
  },
  {
   "cell_type": "code",
   "execution_count": 31,
   "metadata": {
    "ExecuteTime": {
     "end_time": "2019-03-15T12:06:27.199119Z",
     "start_time": "2019-03-15T12:06:27.188432Z"
    }
   },
   "outputs": [
    {
     "data": {
      "text/html": [
       "<div>\n",
       "<style scoped>\n",
       "    .dataframe tbody tr th:only-of-type {\n",
       "        vertical-align: middle;\n",
       "    }\n",
       "\n",
       "    .dataframe tbody tr th {\n",
       "        vertical-align: top;\n",
       "    }\n",
       "\n",
       "    .dataframe thead th {\n",
       "        text-align: right;\n",
       "    }\n",
       "</style>\n",
       "<table border=\"1\" class=\"dataframe\">\n",
       "  <thead>\n",
       "    <tr style=\"text-align: right;\">\n",
       "      <th></th>\n",
       "      <th>STRESSED</th>\n",
       "      <th>resp_time</th>\n",
       "    </tr>\n",
       "  </thead>\n",
       "  <tbody>\n",
       "    <tr>\n",
       "      <th>7</th>\n",
       "      <td>0.0</td>\n",
       "      <td>2013-03-27 18:35:01</td>\n",
       "    </tr>\n",
       "    <tr>\n",
       "      <th>5</th>\n",
       "      <td>0.0</td>\n",
       "      <td>2013-03-27 20:11:23</td>\n",
       "    </tr>\n",
       "    <tr>\n",
       "      <th>6</th>\n",
       "      <td>0.0</td>\n",
       "      <td>2013-03-27 23:12:02</td>\n",
       "    </tr>\n",
       "    <tr>\n",
       "      <th>8</th>\n",
       "      <td>0.0</td>\n",
       "      <td>2013-03-28 20:08:03</td>\n",
       "    </tr>\n",
       "    <tr>\n",
       "      <th>9</th>\n",
       "      <td>1.0</td>\n",
       "      <td>2013-03-28 22:03:36</td>\n",
       "    </tr>\n",
       "  </tbody>\n",
       "</table>\n",
       "</div>"
      ],
      "text/plain": [
       "   STRESSED           resp_time\n",
       "7       0.0 2013-03-27 18:35:01\n",
       "5       0.0 2013-03-27 20:11:23\n",
       "6       0.0 2013-03-27 23:12:02\n",
       "8       0.0 2013-03-28 20:08:03\n",
       "9       1.0 2013-03-28 22:03:36"
      ]
     },
     "execution_count": 31,
     "metadata": {},
     "output_type": "execute_result"
    }
   ],
   "source": [
    "labels.head()"
   ]
  },
  {
   "cell_type": "code",
   "execution_count": 32,
   "metadata": {
    "ExecuteTime": {
     "end_time": "2019-03-15T12:06:27.587778Z",
     "start_time": "2019-03-15T12:06:27.575739Z"
    }
   },
   "outputs": [],
   "source": [
    "labels_sampled = labels.set_index('resp_time').resample('3h').max()"
   ]
  },
  {
   "cell_type": "code",
   "execution_count": 33,
   "metadata": {
    "ExecuteTime": {
     "end_time": "2019-03-15T12:06:28.195719Z",
     "start_time": "2019-03-15T12:06:28.191390Z"
    }
   },
   "outputs": [],
   "source": [
    "labels_sampled = labels_sampled[labels_sampled.STRESSED.notnull()]"
   ]
  },
  {
   "cell_type": "code",
   "execution_count": 34,
   "metadata": {
    "ExecuteTime": {
     "end_time": "2019-03-15T12:06:28.590582Z",
     "start_time": "2019-03-15T12:06:28.584652Z"
    }
   },
   "outputs": [
    {
     "data": {
      "text/plain": [
       "(7, 1)"
      ]
     },
     "execution_count": 34,
     "metadata": {},
     "output_type": "execute_result"
    }
   ],
   "source": [
    "labels_sampled.shape"
   ]
  },
  {
   "cell_type": "code",
   "execution_count": 35,
   "metadata": {
    "ExecuteTime": {
     "end_time": "2019-03-15T12:06:29.135525Z",
     "start_time": "2019-03-15T12:06:29.123718Z"
    }
   },
   "outputs": [
    {
     "data": {
      "text/html": [
       "<div>\n",
       "<style scoped>\n",
       "    .dataframe tbody tr th:only-of-type {\n",
       "        vertical-align: middle;\n",
       "    }\n",
       "\n",
       "    .dataframe tbody tr th {\n",
       "        vertical-align: top;\n",
       "    }\n",
       "\n",
       "    .dataframe thead th {\n",
       "        text-align: right;\n",
       "    }\n",
       "</style>\n",
       "<table border=\"1\" class=\"dataframe\">\n",
       "  <thead>\n",
       "    <tr style=\"text-align: right;\">\n",
       "      <th></th>\n",
       "      <th>STRESSED</th>\n",
       "    </tr>\n",
       "    <tr>\n",
       "      <th>resp_time</th>\n",
       "      <th></th>\n",
       "    </tr>\n",
       "  </thead>\n",
       "  <tbody>\n",
       "    <tr>\n",
       "      <th>2013-03-27 18:00:00</th>\n",
       "      <td>0.0</td>\n",
       "    </tr>\n",
       "    <tr>\n",
       "      <th>2013-03-27 21:00:00</th>\n",
       "      <td>0.0</td>\n",
       "    </tr>\n",
       "    <tr>\n",
       "      <th>2013-03-28 18:00:00</th>\n",
       "      <td>0.0</td>\n",
       "    </tr>\n",
       "    <tr>\n",
       "      <th>2013-03-28 21:00:00</th>\n",
       "      <td>1.0</td>\n",
       "    </tr>\n",
       "    <tr>\n",
       "      <th>2013-03-30 00:00:00</th>\n",
       "      <td>0.0</td>\n",
       "    </tr>\n",
       "  </tbody>\n",
       "</table>\n",
       "</div>"
      ],
      "text/plain": [
       "                     STRESSED\n",
       "resp_time                    \n",
       "2013-03-27 18:00:00       0.0\n",
       "2013-03-27 21:00:00       0.0\n",
       "2013-03-28 18:00:00       0.0\n",
       "2013-03-28 21:00:00       1.0\n",
       "2013-03-30 00:00:00       0.0"
      ]
     },
     "execution_count": 35,
     "metadata": {},
     "output_type": "execute_result"
    }
   ],
   "source": [
    "labels_sampled.head()"
   ]
  },
  {
   "cell_type": "markdown",
   "metadata": {},
   "source": [
    "# SENSING DATA ORGANIZE"
   ]
  },
  {
   "cell_type": "code",
   "execution_count": 36,
   "metadata": {
    "ExecuteTime": {
     "end_time": "2019-03-15T12:06:34.909974Z",
     "start_time": "2019-03-15T12:06:32.399146Z"
    }
   },
   "outputs": [
    {
     "data": {
      "text/plain": [
       "<matplotlib.axes._subplots.AxesSubplot at 0x7fbd5a36ea20>"
      ]
     },
     "execution_count": 36,
     "metadata": {},
     "output_type": "execute_result"
    },
    {
     "data": {
      "image/png": "[encoded data removed]",
      "text/plain": [
       "<Figure size 1728x720 with 3 Axes>"
      ]
     },
     "metadata": {
      "needs_background": "light"
     },
     "output_type": "display_data"
    }
   ],
   "source": [
    "msno.bar(df)"
   ]
  },
  {
   "cell_type": "code",
   "execution_count": 37,
   "metadata": {
    "ExecuteTime": {
     "end_time": "2019-03-15T12:06:38.215427Z",
     "start_time": "2019-03-15T12:06:38.211093Z"
    }
   },
   "outputs": [],
   "source": [
    "# df.drop(df.columns[[-2, -1]], axis=1, inplace=True)"
   ]
  },
  {
   "cell_type": "code",
   "execution_count": 38,
   "metadata": {
    "ExecuteTime": {
     "end_time": "2019-03-15T12:06:38.535603Z",
     "start_time": "2019-03-15T12:06:38.532921Z"
    }
   },
   "outputs": [],
   "source": [
    "# df.drop(columns=['gps_accuracy',\n",
    "#                  'gps_provider',\n",
    "#                  'gps_network_type',\n",
    "#                  'gps_latitude',\n",
    "#                  'gps_longitude',\n",
    "#                  'gps_altitude',\n",
    "#                  'gps_bearing',\n",
    "#                  'gps_speed',\n",
    "#                  'gps_travelstate'], inplace=True)"
   ]
  },
  {
   "cell_type": "code",
   "execution_count": 39,
   "metadata": {
    "ExecuteTime": {
     "end_time": "2019-03-15T12:06:39.678457Z",
     "start_time": "2019-03-15T12:06:38.809947Z"
    }
   },
   "outputs": [],
   "source": [
    "df = df.set_index('timestamp')"
   ]
  },
  {
   "cell_type": "code",
   "execution_count": 40,
   "metadata": {
    "ExecuteTime": {
     "end_time": "2019-03-15T12:06:40.924716Z",
     "start_time": "2019-03-15T12:06:40.450012Z"
    }
   },
   "outputs": [],
   "source": [
    "df[['conversation',\n",
    "    'phone_in_dark', \n",
    "    'phone_charging', \n",
    "    'phone_locked']] = df[['conversation',\n",
    "                            'phone_in_dark', \n",
    "                            'phone_charging', \n",
    "                            'phone_locked']].fillna(value=0)"
   ]
  },
  {
   "cell_type": "code",
   "execution_count": 41,
   "metadata": {
    "ExecuteTime": {
     "end_time": "2019-03-15T12:06:42.151505Z",
     "start_time": "2019-03-15T12:06:41.856363Z"
    }
   },
   "outputs": [],
   "source": [
    "# -1: Unknown, 0: Stationary, 1: Walking, 2: Running\n",
    "df['activity_inference'] = df['activity_inference'].replace([0,1,2,3], [0,1,2,-1])\n",
    "# -1: Unknown, 0: Silence, 1: Noise, 2: Voice\n",
    "df['audio_inference'] = df['audio_inference'].replace([0,1,2,3], [0,2,1,-1])"
   ]
  },
  {
   "cell_type": "code",
   "execution_count": 42,
   "metadata": {
    "ExecuteTime": {
     "end_time": "2019-03-15T12:06:44.212664Z",
     "start_time": "2019-03-15T12:06:44.207665Z"
    }
   },
   "outputs": [],
   "source": [
    "# def ar_mode(array):\n",
    "#     return stats.mode(array)[0][0]\n",
    "\n",
    "# df_sampled = df.resample('15min').agg({'acitiviy_inference': ar_mode, \n",
    "#                                       'audio_inference': ar_mode,\n",
    "#                                       'conversation': ar_mode,\n",
    "#                                       'phone_in_dark': ar_mode, \n",
    "#                                       'phone_charging': ar_mode,\n",
    "#                                       'phone_locked': ar_mode,\n",
    "#                                       'bt_level_avg': np.max,\n",
    "#                                       'bt_level_std': np.max,\n",
    "#                                       'bt_total_devices_around': np.max,\n",
    "#                                       'bt_total_far': np.max,\n",
    "#                                       'bt_total_farther': np.max,\n",
    "#                                       'bt_total_near': np.max,\n",
    "#                                       'bt_total_nearer': np.max,\n",
    "#                                       'wifi_level_avg': np.max,\n",
    "#                                       'wifi_level_std': np.max,\n",
    "#                                       'wifi_total_devices_around': np.max,\n",
    "#                                       'wifi_total_far': np.max,\n",
    "#                                       'wifi_total_farther': np.max,\n",
    "#                                       'wifi_total_near': np.max,\n",
    "#                                       'wifi_total_nearer': np.max})"
   ]
  },
  {
   "cell_type": "code",
   "execution_count": 43,
   "metadata": {
    "ExecuteTime": {
     "end_time": "2019-03-15T12:06:47.636312Z",
     "start_time": "2019-03-15T12:06:44.884297Z"
    }
   },
   "outputs": [
    {
     "data": {
      "text/plain": [
       "<matplotlib.axes._subplots.AxesSubplot at 0x7fbd60ccee48>"
      ]
     },
     "execution_count": 43,
     "metadata": {},
     "output_type": "execute_result"
    },
    {
     "data": {
      "image/png": "[encoded data removed]",
      "text/plain": [
       "<Figure size 1728x720 with 3 Axes>"
      ]
     },
     "metadata": {
      "needs_background": "light"
     },
     "output_type": "display_data"
    }
   ],
   "source": [
    "df_rs = df.resample('15min').sum()\n",
    "\n",
    "msno.bar(df_rs)"
   ]
  },
  {
   "cell_type": "code",
   "execution_count": 44,
   "metadata": {
    "ExecuteTime": {
     "end_time": "2019-03-15T12:06:50.081583Z",
     "start_time": "2019-03-15T12:06:50.072800Z"
    }
   },
   "outputs": [],
   "source": [
    "df_rs = df_rs.fillna(0)"
   ]
  },
  {
   "cell_type": "code",
   "execution_count": 45,
   "metadata": {
    "ExecuteTime": {
     "end_time": "2019-03-15T12:06:50.786471Z",
     "start_time": "2019-03-15T12:06:50.782978Z"
    }
   },
   "outputs": [],
   "source": [
    "# df_rs['activity_inference'] = df_rs.activity_inference.astype('category')\n",
    "# df_rs['audio_inference'] = df_rs.activity_inference.astype('category')"
   ]
  },
  {
   "cell_type": "code",
   "execution_count": 46,
   "metadata": {
    "ExecuteTime": {
     "end_time": "2019-03-15T12:06:51.146422Z",
     "start_time": "2019-03-15T12:06:51.139193Z"
    }
   },
   "outputs": [
    {
     "data": {
      "text/plain": [
       "activity_inference           float64\n",
       "audio_inference              float64\n",
       "conversation                 float64\n",
       "bt_level_avg                 float64\n",
       "bt_level_std                 float64\n",
       "bt_total_devices_around      float64\n",
       "bt_total_far                 float64\n",
       "bt_total_farther             float64\n",
       "bt_total_near                float64\n",
       "bt_total_nearer              float64\n",
       "wifi_level_avg               float64\n",
       "wifi_level_std               float64\n",
       "wifi_total_devices_around    float64\n",
       "wifi_total_far               float64\n",
       "wifi_total_near              float64\n",
       "wifi_total_nearer            float64\n",
       "phone_in_dark                float64\n",
       "phone_charging               float64\n",
       "phone_locked                 float64\n",
       "dtype: object"
      ]
     },
     "execution_count": 46,
     "metadata": {},
     "output_type": "execute_result"
    }
   ],
   "source": [
    "df_rs.dtypes"
   ]
  },
  {
   "cell_type": "code",
   "execution_count": 47,
   "metadata": {
    "ExecuteTime": {
     "end_time": "2019-03-15T12:06:52.209398Z",
     "start_time": "2019-03-15T12:06:52.203418Z"
    }
   },
   "outputs": [
    {
     "data": {
      "text/plain": [
       "(6091, 19)"
      ]
     },
     "execution_count": 47,
     "metadata": {},
     "output_type": "execute_result"
    }
   ],
   "source": [
    "df_rs.shape"
   ]
  },
  {
   "cell_type": "code",
   "execution_count": 48,
   "metadata": {
    "ExecuteTime": {
     "end_time": "2019-03-15T12:06:53.426435Z",
     "start_time": "2019-03-15T12:06:53.384903Z"
    }
   },
   "outputs": [
    {
     "data": {
      "text/html": [
       "<div>\n",
       "<style scoped>\n",
       "    .dataframe tbody tr th:only-of-type {\n",
       "        vertical-align: middle;\n",
       "    }\n",
       "\n",
       "    .dataframe tbody tr th {\n",
       "        vertical-align: top;\n",
       "    }\n",
       "\n",
       "    .dataframe thead th {\n",
       "        text-align: right;\n",
       "    }\n",
       "</style>\n",
       "<table border=\"1\" class=\"dataframe\">\n",
       "  <thead>\n",
       "    <tr style=\"text-align: right;\">\n",
       "      <th></th>\n",
       "      <th>activity_inference</th>\n",
       "      <th>audio_inference</th>\n",
       "      <th>conversation</th>\n",
       "      <th>bt_level_avg</th>\n",
       "      <th>bt_level_std</th>\n",
       "      <th>bt_total_devices_around</th>\n",
       "      <th>bt_total_far</th>\n",
       "      <th>bt_total_farther</th>\n",
       "      <th>bt_total_near</th>\n",
       "      <th>bt_total_nearer</th>\n",
       "      <th>wifi_level_avg</th>\n",
       "      <th>wifi_level_std</th>\n",
       "      <th>wifi_total_devices_around</th>\n",
       "      <th>wifi_total_far</th>\n",
       "      <th>wifi_total_near</th>\n",
       "      <th>wifi_total_nearer</th>\n",
       "      <th>phone_in_dark</th>\n",
       "      <th>phone_charging</th>\n",
       "      <th>phone_locked</th>\n",
       "    </tr>\n",
       "    <tr>\n",
       "      <th>timestamp</th>\n",
       "      <th></th>\n",
       "      <th></th>\n",
       "      <th></th>\n",
       "      <th></th>\n",
       "      <th></th>\n",
       "      <th></th>\n",
       "      <th></th>\n",
       "      <th></th>\n",
       "      <th></th>\n",
       "      <th></th>\n",
       "      <th></th>\n",
       "      <th></th>\n",
       "      <th></th>\n",
       "      <th></th>\n",
       "      <th></th>\n",
       "      <th></th>\n",
       "      <th></th>\n",
       "      <th></th>\n",
       "      <th></th>\n",
       "    </tr>\n",
       "  </thead>\n",
       "  <tbody>\n",
       "    <tr>\n",
       "      <th>2013-03-27 04:00:00</th>\n",
       "      <td>0.0</td>\n",
       "      <td>0.0</td>\n",
       "      <td>0.0</td>\n",
       "      <td>0.0</td>\n",
       "      <td>0.0</td>\n",
       "      <td>0.0</td>\n",
       "      <td>0.0</td>\n",
       "      <td>0.0</td>\n",
       "      <td>0.0</td>\n",
       "      <td>0.0</td>\n",
       "      <td>-324.0</td>\n",
       "      <td>28.689522</td>\n",
       "      <td>25.0</td>\n",
       "      <td>15.0</td>\n",
       "      <td>10.0</td>\n",
       "      <td>0.0</td>\n",
       "      <td>0.0</td>\n",
       "      <td>0.0</td>\n",
       "      <td>0.0</td>\n",
       "    </tr>\n",
       "    <tr>\n",
       "      <th>2013-03-27 04:15:00</th>\n",
       "      <td>0.0</td>\n",
       "      <td>118.0</td>\n",
       "      <td>0.0</td>\n",
       "      <td>-84.0</td>\n",
       "      <td>0.0</td>\n",
       "      <td>1.0</td>\n",
       "      <td>1.0</td>\n",
       "      <td>0.0</td>\n",
       "      <td>0.0</td>\n",
       "      <td>0.0</td>\n",
       "      <td>-409.0</td>\n",
       "      <td>33.554812</td>\n",
       "      <td>31.0</td>\n",
       "      <td>19.0</td>\n",
       "      <td>12.0</td>\n",
       "      <td>0.0</td>\n",
       "      <td>48.0</td>\n",
       "      <td>0.0</td>\n",
       "      <td>169.0</td>\n",
       "    </tr>\n",
       "    <tr>\n",
       "      <th>2013-03-27 04:30:00</th>\n",
       "      <td>0.0</td>\n",
       "      <td>123.0</td>\n",
       "      <td>0.0</td>\n",
       "      <td>0.0</td>\n",
       "      <td>0.0</td>\n",
       "      <td>0.0</td>\n",
       "      <td>0.0</td>\n",
       "      <td>0.0</td>\n",
       "      <td>0.0</td>\n",
       "      <td>0.0</td>\n",
       "      <td>-317.0</td>\n",
       "      <td>38.720833</td>\n",
       "      <td>26.0</td>\n",
       "      <td>19.0</td>\n",
       "      <td>6.0</td>\n",
       "      <td>1.0</td>\n",
       "      <td>900.0</td>\n",
       "      <td>0.0</td>\n",
       "      <td>900.0</td>\n",
       "    </tr>\n",
       "    <tr>\n",
       "      <th>2013-03-27 04:45:00</th>\n",
       "      <td>0.0</td>\n",
       "      <td>136.0</td>\n",
       "      <td>0.0</td>\n",
       "      <td>-82.0</td>\n",
       "      <td>0.0</td>\n",
       "      <td>1.0</td>\n",
       "      <td>1.0</td>\n",
       "      <td>0.0</td>\n",
       "      <td>0.0</td>\n",
       "      <td>0.0</td>\n",
       "      <td>-239.0</td>\n",
       "      <td>29.334114</td>\n",
       "      <td>21.0</td>\n",
       "      <td>15.0</td>\n",
       "      <td>6.0</td>\n",
       "      <td>0.0</td>\n",
       "      <td>900.0</td>\n",
       "      <td>0.0</td>\n",
       "      <td>900.0</td>\n",
       "    </tr>\n",
       "    <tr>\n",
       "      <th>2013-03-27 05:00:00</th>\n",
       "      <td>0.0</td>\n",
       "      <td>354.0</td>\n",
       "      <td>0.0</td>\n",
       "      <td>-80.0</td>\n",
       "      <td>0.0</td>\n",
       "      <td>1.0</td>\n",
       "      <td>0.0</td>\n",
       "      <td>0.0</td>\n",
       "      <td>1.0</td>\n",
       "      <td>0.0</td>\n",
       "      <td>-323.0</td>\n",
       "      <td>40.043528</td>\n",
       "      <td>33.0</td>\n",
       "      <td>25.0</td>\n",
       "      <td>7.0</td>\n",
       "      <td>1.0</td>\n",
       "      <td>900.0</td>\n",
       "      <td>0.0</td>\n",
       "      <td>900.0</td>\n",
       "    </tr>\n",
       "  </tbody>\n",
       "</table>\n",
       "</div>"
      ],
      "text/plain": [
       "                     activity_inference  audio_inference  conversation  \\\n",
       "timestamp                                                                \n",
       "2013-03-27 04:00:00                 0.0              0.0           0.0   \n",
       "2013-03-27 04:15:00                 0.0            118.0           0.0   \n",
       "2013-03-27 04:30:00                 0.0            123.0           0.0   \n",
       "2013-03-27 04:45:00                 0.0            136.0           0.0   \n",
       "2013-03-27 05:00:00                 0.0            354.0           0.0   \n",
       "\n",
       "                     bt_level_avg  bt_level_std  bt_total_devices_around  \\\n",
       "timestamp                                                                  \n",
       "2013-03-27 04:00:00           0.0           0.0                      0.0   \n",
       "2013-03-27 04:15:00         -84.0           0.0                      1.0   \n",
       "2013-03-27 04:30:00           0.0           0.0                      0.0   \n",
       "2013-03-27 04:45:00         -82.0           0.0                      1.0   \n",
       "2013-03-27 05:00:00         -80.0           0.0                      1.0   \n",
       "\n",
       "                     bt_total_far  bt_total_farther  bt_total_near  \\\n",
       "timestamp                                                            \n",
       "2013-03-27 04:00:00           0.0               0.0            0.0   \n",
       "2013-03-27 04:15:00           1.0               0.0            0.0   \n",
       "2013-03-27 04:30:00           0.0               0.0            0.0   \n",
       "2013-03-27 04:45:00           1.0               0.0            0.0   \n",
       "2013-03-27 05:00:00           0.0               0.0            1.0   \n",
       "\n",
       "                     bt_total_nearer  wifi_level_avg  wifi_level_std  \\\n",
       "timestamp                                                              \n",
       "2013-03-27 04:00:00              0.0          -324.0       28.689522   \n",
       "2013-03-27 04:15:00              0.0          -409.0       33.554812   \n",
       "2013-03-27 04:30:00              0.0          -317.0       38.720833   \n",
       "2013-03-27 04:45:00              0.0          -239.0       29.334114   \n",
       "2013-03-27 05:00:00              0.0          -323.0       40.043528   \n",
       "\n",
       "                     wifi_total_devices_around  wifi_total_far  \\\n",
       "timestamp                                                        \n",
       "2013-03-27 04:00:00                       25.0            15.0   \n",
       "2013-03-27 04:15:00                       31.0            19.0   \n",
       "2013-03-27 04:30:00                       26.0            19.0   \n",
       "2013-03-27 04:45:00                       21.0            15.0   \n",
       "2013-03-27 05:00:00                       33.0            25.0   \n",
       "\n",
       "                     wifi_total_near  wifi_total_nearer  phone_in_dark  \\\n",
       "timestamp                                                                \n",
       "2013-03-27 04:00:00             10.0                0.0            0.0   \n",
       "2013-03-27 04:15:00             12.0                0.0           48.0   \n",
       "2013-03-27 04:30:00              6.0                1.0          900.0   \n",
       "2013-03-27 04:45:00              6.0                0.0          900.0   \n",
       "2013-03-27 05:00:00              7.0                1.0          900.0   \n",
       "\n",
       "                     phone_charging  phone_locked  \n",
       "timestamp                                          \n",
       "2013-03-27 04:00:00             0.0           0.0  \n",
       "2013-03-27 04:15:00             0.0         169.0  \n",
       "2013-03-27 04:30:00             0.0         900.0  \n",
       "2013-03-27 04:45:00             0.0         900.0  \n",
       "2013-03-27 05:00:00             0.0         900.0  "
      ]
     },
     "execution_count": 48,
     "metadata": {},
     "output_type": "execute_result"
    }
   ],
   "source": [
    "df_rs.head()"
   ]
  },
  {
   "cell_type": "code",
   "execution_count": 49,
   "metadata": {
    "ExecuteTime": {
     "end_time": "2019-03-15T12:06:55.555182Z",
     "start_time": "2019-03-15T12:06:55.529734Z"
    }
   },
   "outputs": [
    {
     "data": {
      "text/plain": [
       "(6091, 19)"
      ]
     },
     "execution_count": 49,
     "metadata": {},
     "output_type": "execute_result"
    }
   ],
   "source": [
    "pd.get_dummies(df_rs).shape"
   ]
  },
  {
   "cell_type": "code",
   "execution_count": 50,
   "metadata": {
    "ExecuteTime": {
     "end_time": "2019-03-15T12:06:56.126222Z",
     "start_time": "2019-03-15T12:06:56.102492Z"
    }
   },
   "outputs": [],
   "source": [
    "df_rs_onehot = pd.get_dummies(df_rs)"
   ]
  },
  {
   "cell_type": "code",
   "execution_count": 51,
   "metadata": {
    "ExecuteTime": {
     "end_time": "2019-03-15T12:06:58.946619Z",
     "start_time": "2019-03-15T12:06:58.050307Z"
    }
   },
   "outputs": [
    {
     "data": {
      "text/plain": [
       "<matplotlib.axes._subplots.AxesSubplot at 0x7fbd6002cd30>"
      ]
     },
     "execution_count": 51,
     "metadata": {},
     "output_type": "execute_result"
    },
    {
     "data": {
      "image/png": "[encoded data removed]",
      "text/plain": [
       "<Figure size 1728x720 with 3 Axes>"
      ]
     },
     "metadata": {
      "needs_background": "light"
     },
     "output_type": "display_data"
    }
   ],
   "source": [
    "msno.bar(df_rs_onehot)"
   ]
  },
  {
   "cell_type": "code",
   "execution_count": 52,
   "metadata": {
    "ExecuteTime": {
     "end_time": "2019-03-15T12:06:59.199375Z",
     "start_time": "2019-03-15T12:06:59.193769Z"
    }
   },
   "outputs": [
    {
     "data": {
      "text/html": [
       "<div>\n",
       "<style scoped>\n",
       "    .dataframe tbody tr th:only-of-type {\n",
       "        vertical-align: middle;\n",
       "    }\n",
       "\n",
       "    .dataframe tbody tr th {\n",
       "        vertical-align: top;\n",
       "    }\n",
       "\n",
       "    .dataframe thead th {\n",
       "        text-align: right;\n",
       "    }\n",
       "</style>\n",
       "<table border=\"1\" class=\"dataframe\">\n",
       "  <thead>\n",
       "    <tr style=\"text-align: right;\">\n",
       "      <th></th>\n",
       "      <th>STRESSED</th>\n",
       "    </tr>\n",
       "    <tr>\n",
       "      <th>resp_time</th>\n",
       "      <th></th>\n",
       "    </tr>\n",
       "  </thead>\n",
       "  <tbody>\n",
       "    <tr>\n",
       "      <th>2013-03-28 18:00:00</th>\n",
       "      <td>0.0</td>\n",
       "    </tr>\n",
       "    <tr>\n",
       "      <th>2013-03-28 21:00:00</th>\n",
       "      <td>1.0</td>\n",
       "    </tr>\n",
       "    <tr>\n",
       "      <th>2013-03-30 00:00:00</th>\n",
       "      <td>0.0</td>\n",
       "    </tr>\n",
       "    <tr>\n",
       "      <th>2013-03-30 21:00:00</th>\n",
       "      <td>0.0</td>\n",
       "    </tr>\n",
       "    <tr>\n",
       "      <th>2013-03-31 06:00:00</th>\n",
       "      <td>1.0</td>\n",
       "    </tr>\n",
       "  </tbody>\n",
       "</table>\n",
       "</div>"
      ],
      "text/plain": [
       "                     STRESSED\n",
       "resp_time                    \n",
       "2013-03-28 18:00:00       0.0\n",
       "2013-03-28 21:00:00       1.0\n",
       "2013-03-30 00:00:00       0.0\n",
       "2013-03-30 21:00:00       0.0\n",
       "2013-03-31 06:00:00       1.0"
      ]
     },
     "execution_count": 52,
     "metadata": {},
     "output_type": "execute_result"
    }
   ],
   "source": [
    "labels_sampled.tail()"
   ]
  },
  {
   "cell_type": "code",
   "execution_count": 53,
   "metadata": {
    "ExecuteTime": {
     "end_time": "2019-03-15T12:07:05.446887Z",
     "start_time": "2019-03-15T12:07:05.435877Z"
    }
   },
   "outputs": [
    {
     "data": {
      "text/plain": [
       "array([[   0.,    0.,    0., ...,    0.,    0.,    0.],\n",
       "       [   0.,  118.,    0., ...,   48.,    0.,  169.],\n",
       "       [   0.,  123.,    0., ...,  900.,    0.,  900.],\n",
       "       ...,\n",
       "       [ -11.,  859.,  900., ...,  900.,    0.,  900.],\n",
       "       [  31., 1105.,  691., ...,  900.,    0.,  900.],\n",
       "       [   0., 1150.,  900., ...,  900.,    0.,  900.]])"
      ]
     },
     "execution_count": 53,
     "metadata": {},
     "output_type": "execute_result"
    }
   ],
   "source": [
    "a = df_rs_onehot[df_rs_onehot.index < labels_sampled.index[0]].values\n",
    "a"
   ]
  },
  {
   "cell_type": "code",
   "execution_count": 54,
   "metadata": {
    "ExecuteTime": {
     "end_time": "2019-03-15T12:07:06.522861Z",
     "start_time": "2019-03-15T12:07:06.511503Z"
    }
   },
   "outputs": [
    {
     "data": {
      "text/plain": [
       "0.0"
      ]
     },
     "execution_count": 54,
     "metadata": {},
     "output_type": "execute_result"
    }
   ],
   "source": [
    "b = labels_sampled.loc[labels_sampled.index[0]].values[0]\n",
    "b"
   ]
  },
  {
   "cell_type": "code",
   "execution_count": 55,
   "metadata": {
    "ExecuteTime": {
     "end_time": "2019-03-15T12:07:07.030270Z",
     "start_time": "2019-03-15T12:07:07.021970Z"
    }
   },
   "outputs": [
    {
     "data": {
      "text/plain": [
       "{'instance': array([[   0.,    0.,    0., ...,    0.,    0.,    0.],\n",
       "        [   0.,  118.,    0., ...,   48.,    0.,  169.],\n",
       "        [   0.,  123.,    0., ...,  900.,    0.,  900.],\n",
       "        ...,\n",
       "        [ -11.,  859.,  900., ...,  900.,    0.,  900.],\n",
       "        [  31., 1105.,  691., ...,  900.,    0.,  900.],\n",
       "        [   0., 1150.,  900., ...,  900.,    0.,  900.]]), 'label': 0.0}"
      ]
     },
     "execution_count": 55,
     "metadata": {},
     "output_type": "execute_result"
    }
   ],
   "source": [
    "c = {'instance': a, 'label': b}\n",
    "c"
   ]
  },
  {
   "cell_type": "code",
   "execution_count": 56,
   "metadata": {
    "ExecuteTime": {
     "end_time": "2019-03-15T12:07:07.450269Z",
     "start_time": "2019-03-15T12:07:07.445976Z"
    }
   },
   "outputs": [
    {
     "data": {
      "text/plain": [
       "{}"
      ]
     },
     "execution_count": 56,
     "metadata": {},
     "output_type": "execute_result"
    }
   ],
   "source": [
    "z = {}\n",
    "z"
   ]
  },
  {
   "cell_type": "code",
   "execution_count": 57,
   "metadata": {
    "ExecuteTime": {
     "end_time": "2019-03-15T12:07:09.209679Z",
     "start_time": "2019-03-15T12:07:09.204616Z"
    }
   },
   "outputs": [],
   "source": [
    "z[2] = c"
   ]
  },
  {
   "cell_type": "code",
   "execution_count": 58,
   "metadata": {
    "ExecuteTime": {
     "end_time": "2019-03-15T12:07:09.617872Z",
     "start_time": "2019-03-15T12:07:09.612729Z"
    }
   },
   "outputs": [
    {
     "data": {
      "text/plain": [
       "{2: {'instance': array([[   0.,    0.,    0., ...,    0.,    0.,    0.],\n",
       "         [   0.,  118.,    0., ...,   48.,    0.,  169.],\n",
       "         [   0.,  123.,    0., ...,  900.,    0.,  900.],\n",
       "         ...,\n",
       "         [ -11.,  859.,  900., ...,  900.,    0.,  900.],\n",
       "         [  31., 1105.,  691., ...,  900.,    0.,  900.],\n",
       "         [   0., 1150.,  900., ...,  900.,    0.,  900.]]), 'label': 0.0}}"
      ]
     },
     "execution_count": 58,
     "metadata": {},
     "output_type": "execute_result"
    }
   ],
   "source": [
    "z"
   ]
  },
  {
   "cell_type": "code",
   "execution_count": null,
   "metadata": {},
   "outputs": [],
   "source": []
  },
  {
   "cell_type": "code",
   "execution_count": 59,
   "metadata": {
    "ExecuteTime": {
     "end_time": "2019-03-15T12:07:21.600270Z",
     "start_time": "2019-03-15T12:07:21.593581Z"
    }
   },
   "outputs": [
    {
     "data": {
      "text/plain": [
       "Timestamp('2013-03-27 04:00:00')"
      ]
     },
     "execution_count": 59,
     "metadata": {},
     "output_type": "execute_result"
    }
   ],
   "source": [
    "df_rs_onehot.index[0]"
   ]
  },
  {
   "cell_type": "code",
   "execution_count": 60,
   "metadata": {
    "ExecuteTime": {
     "end_time": "2019-03-15T12:07:25.888263Z",
     "start_time": "2019-03-15T12:07:25.873416Z"
    }
   },
   "outputs": [],
   "source": [
    "def create_instances(df, labels):\n",
    "    starting_label_index = 0\n",
    "    \n",
    "    # Finds out the timestamp of first label that have data.\n",
    "    for i in range(len(labels)):\n",
    "        if labels.index[i] > df.index[i]:\n",
    "            starting_label_index = i\n",
    "            break\n",
    "        else:\n",
    "            continue\n",
    "        \n",
    "    all_data = {}\n",
    "    \n",
    "    # Creates first instance of dataset.\n",
    "    start = labels.index[starting_label_index]\n",
    "    instance = df[df.index <= start].values\n",
    "    output = labels.loc[start].values[0]\n",
    "    one_data = {'instance': instance, 'label': output}\n",
    "    all_data[0] = one_data\n",
    "    \n",
    "    # Counter that holds index of instances.\n",
    "    counter = 1\n",
    "    \n",
    "    # Loop to create instances.\n",
    "    for i in range(starting_label_index + 1, len(labels[starting_label_index:]), 1):\n",
    "        end = labels.index[i]\n",
    "        instance = df[(df.index > start) & (df.index <= end)].values\n",
    "        if instance.shape[0] == 0:\n",
    "            continue\n",
    "        output = labels.loc[end].values[0]\n",
    "        one_data = {'instance': instance, 'label': output}\n",
    "        all_data[counter] = one_data\n",
    "        start = end\n",
    "        counter += 1\n",
    "        \n",
    "    return all_data"
   ]
  },
  {
   "cell_type": "code",
   "execution_count": 61,
   "metadata": {
    "ExecuteTime": {
     "end_time": "2019-03-15T12:07:26.613577Z",
     "start_time": "2019-03-15T12:07:26.587398Z"
    }
   },
   "outputs": [],
   "source": [
    "uza = create_instances(df_rs_onehot, labels_sampled)"
   ]
  },
  {
   "cell_type": "code",
   "execution_count": 64,
   "metadata": {
    "ExecuteTime": {
     "end_time": "2019-03-15T12:07:37.037309Z",
     "start_time": "2019-03-15T12:07:37.030399Z"
    },
    "scrolled": false
   },
   "outputs": [
    {
     "data": {
      "text/plain": [
       "(57, 19)"
      ]
     },
     "execution_count": 64,
     "metadata": {},
     "output_type": "execute_result"
    }
   ],
   "source": [
    "uza[0]['instance'].shape"
   ]
  },
  {
   "cell_type": "code",
   "execution_count": 66,
   "metadata": {
    "ExecuteTime": {
     "end_time": "2019-03-15T12:07:55.162332Z",
     "start_time": "2019-03-15T12:07:55.154913Z"
    },
    "scrolled": false
   },
   "outputs": [
    {
     "data": {
      "text/plain": [
       "{'instance': array([[   0.,    0.,    0., ...,    0.,    0.,    0.],\n",
       "        [   0.,  118.,    0., ...,   48.,    0.,  169.],\n",
       "        [   0.,  123.,    0., ...,  900.,    0.,  900.],\n",
       "        ...,\n",
       "        [  31., 1105.,  691., ...,  900.,    0.,  900.],\n",
       "        [   0., 1150.,  900., ...,  900.,    0.,  900.],\n",
       "        [   0., 1262.,  900., ...,  900.,    0.,  900.]]), 'label': 0.0}"
      ]
     },
     "execution_count": 66,
     "metadata": {},
     "output_type": "execute_result"
    }
   ],
   "source": [
    "uza[0]"
   ]
  },
  {
   "cell_type": "code",
   "execution_count": null,
   "metadata": {},
   "outputs": [],
   "source": []
  }
 ],
 "metadata": {
  "kernelspec": {
   "display_name": "Python 3",
   "language": "python",
   "name": "python3"
  },
  "language_info": {
   "codemirror_mode": {
    "name": "ipython",
    "version": 3
   },
   "file_extension": ".py",
   "mimetype": "text/x-python",
   "name": "python",
   "nbconvert_exporter": "python",
   "pygments_lexer": "ipython3",
   "version": "3.6.7"
  },
  "toc": {
   "base_numbering": 1,
   "nav_menu": {},
   "number_sections": true,
   "sideBar": true,
   "skip_h1_title": false,
   "title_cell": "Table of Contents",
   "title_sidebar": "Contents",
   "toc_cell": false,
   "toc_position": {},
   "toc_section_display": true,
   "toc_window_display": false
  },
  "varInspector": {
   "cols": {
    "lenName": 16,
    "lenType": 16,
    "lenVar": 40
   },
   "kernels_config": {
    "python": {
     "delete_cmd_postfix": "",
     "delete_cmd_prefix": "del ",
     "library": "var_list.py",
     "varRefreshCmd": "print(var_dic_list())"
    },
    "r": {
     "delete_cmd_postfix": ") ",
     "delete_cmd_prefix": "rm(",
     "library": "var_list.r",
     "varRefreshCmd": "cat(var_dic_list()) "
    }
   },
   "types_to_exclude": [
    "module",
    "function",
    "builtin_function_or_method",
    "instance",
    "_Feature"
   ],
   "window_display": false
  }
 },
 "nbformat": 4,
 "nbformat_minor": 2
}
